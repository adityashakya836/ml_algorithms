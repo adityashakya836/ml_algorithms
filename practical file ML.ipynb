{
 "cells": [
  {
   "cell_type": "markdown",
   "metadata": {},
   "source": [
    "<h1>Data Science Tasks with Python</h1>\n",
    "\n",
    "<h2>1. Import and Export Data using Pandas</h2>\n",
    "<p>Python program to import and export data using Pandas library functions.</p>\n",
    "\n",
    "<h2>2. Dimensionality Reduction using PCA</h2>\n",
    "<p>Implementing Dimensionality Reduction using Principle Component Analysis (PCA) method.</p>\n",
    "\n",
    "<h2>3. Multiple Linear Regression Models</h2>\n",
    "<p>Implementation of Multiple Linear Regression Models.</p>\n",
    "\n",
    "<h2>4. Logistic Regression Model</h2>\n",
    "<p>Developing a Logistic Regression Model for a given dataset.</p>\n",
    "\n",
    "<h2>5. Decision Tree Classification</h2>\n",
    "<p>Developing a Decision Tree Classification model for a given dataset and using it to classify a new sample.</p>\n",
    "\n",
    "<h2>6. Naïve Bayes Classification</h2>\n",
    "<p>Implementing Naïve Bayes Classification in Python.</p>\n",
    "\n",
    "<h2>7. KNN Classification</h2>\n",
    "<p>Building a KNN Classification model for a given dataset.</p>\n",
    "\n",
    "<h2>8. Random Forest Ensemble</h2>\n",
    "<p>Implementing Random Forest ensemble method on a given dataset.</p>\n",
    "\n",
    "<h2>9. Boosting Ensemble</h2>\n",
    "<p>Implementing Boosting ensemble method on a given dataset.</p>\n",
    "\n",
    "<h2>10. K-Means Clustering Algorithm</h2>\n",
    "<p>Python program to implement K-Means clustering Algorithm.</p>\n"
   ]
  },
  {
   "cell_type": "markdown",
   "metadata": {},
   "source": [
    "# 1. Python program to import and export data using Pandas library functions."
   ]
  },
  {
   "cell_type": "code",
   "execution_count": 4,
   "metadata": {},
   "outputs": [
    {
     "data": {
      "text/html": [
       "<div>\n",
       "<style scoped>\n",
       "    .dataframe tbody tr th:only-of-type {\n",
       "        vertical-align: middle;\n",
       "    }\n",
       "\n",
       "    .dataframe tbody tr th {\n",
       "        vertical-align: top;\n",
       "    }\n",
       "\n",
       "    .dataframe thead th {\n",
       "        text-align: right;\n",
       "    }\n",
       "</style>\n",
       "<table border=\"1\" class=\"dataframe\">\n",
       "  <thead>\n",
       "    <tr style=\"text-align: right;\">\n",
       "      <th></th>\n",
       "      <th>Unnamed: 0</th>\n",
       "      <th>PAIN</th>\n",
       "      <th>PQ</th>\n",
       "      <th>OLBDQ</th>\n",
       "      <th>PW</th>\n",
       "    </tr>\n",
       "  </thead>\n",
       "  <tbody>\n",
       "    <tr>\n",
       "      <th>0</th>\n",
       "      <td>1</td>\n",
       "      <td>3.0</td>\n",
       "      <td>3.0</td>\n",
       "      <td>16.0</td>\n",
       "      <td>67.0</td>\n",
       "    </tr>\n",
       "    <tr>\n",
       "      <th>1</th>\n",
       "      <td>2</td>\n",
       "      <td>3.0</td>\n",
       "      <td>4.0</td>\n",
       "      <td>9.0</td>\n",
       "      <td>76.0</td>\n",
       "    </tr>\n",
       "    <tr>\n",
       "      <th>2</th>\n",
       "      <td>3</td>\n",
       "      <td>8.0</td>\n",
       "      <td>1.0</td>\n",
       "      <td>13.0</td>\n",
       "      <td>79.0</td>\n",
       "    </tr>\n",
       "    <tr>\n",
       "      <th>3</th>\n",
       "      <td>4</td>\n",
       "      <td>8.0</td>\n",
       "      <td>1.0</td>\n",
       "      <td>0.0</td>\n",
       "      <td>82.0</td>\n",
       "    </tr>\n",
       "    <tr>\n",
       "      <th>4</th>\n",
       "      <td>5</td>\n",
       "      <td>6.0</td>\n",
       "      <td>1.0</td>\n",
       "      <td>1.0</td>\n",
       "      <td>77.0</td>\n",
       "    </tr>\n",
       "  </tbody>\n",
       "</table>\n",
       "</div>"
      ],
      "text/plain": [
       "  Unnamed: 0  PAIN   PQ  OLBDQ    PW\n",
       "0          1   3.0  3.0   16.0  67.0\n",
       "1          2   3.0  4.0    9.0  76.0\n",
       "2          3   8.0  1.0   13.0  79.0\n",
       "3          4   8.0  1.0    0.0  82.0\n",
       "4          5   6.0  1.0    1.0  77.0"
      ]
     },
     "execution_count": 4,
     "metadata": {},
     "output_type": "execute_result"
    }
   ],
   "source": [
    "# Importing pandas library\n",
    "import pandas as pd\n",
    "\n",
    "#importing excel data using read_excel file\n",
    "df = pd.read_excel('NEW STATIC.xlsx',engine='openpyxl')\n",
    "df.head()"
   ]
  },
  {
   "cell_type": "code",
   "execution_count": null,
   "metadata": {},
   "outputs": [],
   "source": []
  }
 ],
 "metadata": {
  "kernelspec": {
   "display_name": "Python 3",
   "language": "python",
   "name": "python3"
  },
  "language_info": {
   "codemirror_mode": {
    "name": "ipython",
    "version": 3
   },
   "file_extension": ".py",
   "mimetype": "text/x-python",
   "name": "python",
   "nbconvert_exporter": "python",
   "pygments_lexer": "ipython3",
   "version": "3.9.0"
  }
 },
 "nbformat": 4,
 "nbformat_minor": 4
}

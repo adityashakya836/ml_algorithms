{
 "cells": [
  {
   "cell_type": "code",
   "execution_count": 6,
   "metadata": {},
   "outputs": [],
   "source": [
    "import numpy as np"
   ]
  },
  {
   "cell_type": "code",
   "execution_count": 7,
   "metadata": {},
   "outputs": [],
   "source": [
    "import pandas as pd"
   ]
  },
  {
   "cell_type": "code",
   "execution_count": 8,
   "metadata": {},
   "outputs": [],
   "source": [
    "import seaborn as sns"
   ]
  },
  {
   "cell_type": "code",
   "execution_count": 9,
   "metadata": {},
   "outputs": [],
   "source": [
    "import matplotlib.pyplot as plt"
   ]
  },
  {
   "cell_type": "code",
   "execution_count": 10,
   "metadata": {},
   "outputs": [],
   "source": [
    "data=pd.read_csv(r\"C:\\Users\\91871\\OneDrive\\Desktop\\crop_price_data.csv\")"
   ]
  },
  {
   "cell_type": "code",
   "execution_count": 11,
   "metadata": {},
   "outputs": [
    {
     "data": {
      "text/html": [
       "<div>\n",
       "<style scoped>\n",
       "    .dataframe tbody tr th:only-of-type {\n",
       "        vertical-align: middle;\n",
       "    }\n",
       "\n",
       "    .dataframe tbody tr th {\n",
       "        vertical-align: top;\n",
       "    }\n",
       "\n",
       "    .dataframe thead th {\n",
       "        text-align: right;\n",
       "    }\n",
       "</style>\n",
       "<table border=\"1\" class=\"dataframe\">\n",
       "  <thead>\n",
       "    <tr style=\"text-align: right;\">\n",
       "      <th></th>\n",
       "      <th>District</th>\n",
       "      <th>Crop</th>\n",
       "      <th>Market</th>\n",
       "      <th>Date</th>\n",
       "      <th>Price (INR/quintal)</th>\n",
       "    </tr>\n",
       "  </thead>\n",
       "  <tbody>\n",
       "    <tr>\n",
       "      <th>0</th>\n",
       "      <td>Alwar</td>\n",
       "      <td>Barley</td>\n",
       "      <td>Alwar APMC Mandi</td>\n",
       "      <td>2018-09-05</td>\n",
       "      <td>2490.092421</td>\n",
       "    </tr>\n",
       "    <tr>\n",
       "      <th>1</th>\n",
       "      <td>Sri Ganganagar</td>\n",
       "      <td>Pomegranate</td>\n",
       "      <td>Padampur Mandi</td>\n",
       "      <td>2018-11-20</td>\n",
       "      <td>2348.904922</td>\n",
       "    </tr>\n",
       "    <tr>\n",
       "      <th>2</th>\n",
       "      <td>Kota</td>\n",
       "      <td>Maize</td>\n",
       "      <td>Ramganj Mandi</td>\n",
       "      <td>2018-04-06</td>\n",
       "      <td>2448.287513</td>\n",
       "    </tr>\n",
       "    <tr>\n",
       "      <th>3</th>\n",
       "      <td>Nagaur</td>\n",
       "      <td>Fenugreek</td>\n",
       "      <td>Didwana Mandi</td>\n",
       "      <td>2018-09-26</td>\n",
       "      <td>2714.419518</td>\n",
       "    </tr>\n",
       "    <tr>\n",
       "      <th>4</th>\n",
       "      <td>Nagaur</td>\n",
       "      <td>Gram</td>\n",
       "      <td>Didwana Mandi</td>\n",
       "      <td>2018-10-06</td>\n",
       "      <td>2883.356997</td>\n",
       "    </tr>\n",
       "  </tbody>\n",
       "</table>\n",
       "</div>"
      ],
      "text/plain": [
       "         District         Crop            Market        Date  \\\n",
       "0           Alwar       Barley  Alwar APMC Mandi  2018-09-05   \n",
       "1  Sri Ganganagar  Pomegranate    Padampur Mandi  2018-11-20   \n",
       "2            Kota        Maize     Ramganj Mandi  2018-04-06   \n",
       "3          Nagaur    Fenugreek     Didwana Mandi  2018-09-26   \n",
       "4          Nagaur         Gram     Didwana Mandi  2018-10-06   \n",
       "\n",
       "   Price (INR/quintal)  \n",
       "0          2490.092421  \n",
       "1          2348.904922  \n",
       "2          2448.287513  \n",
       "3          2714.419518  \n",
       "4          2883.356997  "
      ]
     },
     "execution_count": 11,
     "metadata": {},
     "output_type": "execute_result"
    }
   ],
   "source": [
    "data.head()"
   ]
  },
  {
   "cell_type": "code",
   "execution_count": 12,
   "metadata": {},
   "outputs": [
    {
     "data": {
      "text/html": [
       "<div>\n",
       "<style scoped>\n",
       "    .dataframe tbody tr th:only-of-type {\n",
       "        vertical-align: middle;\n",
       "    }\n",
       "\n",
       "    .dataframe tbody tr th {\n",
       "        vertical-align: top;\n",
       "    }\n",
       "\n",
       "    .dataframe thead th {\n",
       "        text-align: right;\n",
       "    }\n",
       "</style>\n",
       "<table border=\"1\" class=\"dataframe\">\n",
       "  <thead>\n",
       "    <tr style=\"text-align: right;\">\n",
       "      <th></th>\n",
       "      <th>Price (INR/quintal)</th>\n",
       "    </tr>\n",
       "  </thead>\n",
       "  <tbody>\n",
       "    <tr>\n",
       "      <th>count</th>\n",
       "      <td>4819.000000</td>\n",
       "    </tr>\n",
       "    <tr>\n",
       "      <th>mean</th>\n",
       "      <td>2498.715360</td>\n",
       "    </tr>\n",
       "    <tr>\n",
       "      <th>std</th>\n",
       "      <td>295.651094</td>\n",
       "    </tr>\n",
       "    <tr>\n",
       "      <th>min</th>\n",
       "      <td>1323.279925</td>\n",
       "    </tr>\n",
       "    <tr>\n",
       "      <th>25%</th>\n",
       "      <td>2303.968087</td>\n",
       "    </tr>\n",
       "    <tr>\n",
       "      <th>50%</th>\n",
       "      <td>2497.697781</td>\n",
       "    </tr>\n",
       "    <tr>\n",
       "      <th>75%</th>\n",
       "      <td>2694.736166</td>\n",
       "    </tr>\n",
       "    <tr>\n",
       "      <th>max</th>\n",
       "      <td>3513.330472</td>\n",
       "    </tr>\n",
       "  </tbody>\n",
       "</table>\n",
       "</div>"
      ],
      "text/plain": [
       "       Price (INR/quintal)\n",
       "count          4819.000000\n",
       "mean           2498.715360\n",
       "std             295.651094\n",
       "min            1323.279925\n",
       "25%            2303.968087\n",
       "50%            2497.697781\n",
       "75%            2694.736166\n",
       "max            3513.330472"
      ]
     },
     "execution_count": 12,
     "metadata": {},
     "output_type": "execute_result"
    }
   ],
   "source": [
    "data.describe()"
   ]
  },
  {
   "cell_type": "code",
   "execution_count": 13,
   "metadata": {},
   "outputs": [
    {
     "data": {
      "text/plain": [
       "0"
      ]
     },
     "execution_count": 13,
     "metadata": {},
     "output_type": "execute_result"
    }
   ],
   "source": [
    "data.duplicated().sum()"
   ]
  },
  {
   "cell_type": "code",
   "execution_count": 14,
   "metadata": {},
   "outputs": [
    {
     "name": "stdout",
     "output_type": "stream",
     "text": [
      "<class 'pandas.core.frame.DataFrame'>\n",
      "RangeIndex: 4819 entries, 0 to 4818\n",
      "Data columns (total 5 columns):\n",
      " #   Column               Non-Null Count  Dtype  \n",
      "---  ------               --------------  -----  \n",
      " 0   District             4819 non-null   object \n",
      " 1   Crop                 4819 non-null   object \n",
      " 2   Market               4819 non-null   object \n",
      " 3   Date                 4819 non-null   object \n",
      " 4   Price (INR/quintal)  4819 non-null   float64\n",
      "dtypes: float64(1), object(4)\n",
      "memory usage: 188.4+ KB\n"
     ]
    }
   ],
   "source": [
    "data.info()"
   ]
  },
  {
   "cell_type": "code",
   "execution_count": 15,
   "metadata": {},
   "outputs": [
    {
     "data": {
      "text/plain": [
       "array(['Alwar', 'Sri Ganganagar', 'Kota', 'Nagaur', 'Bhilwara', 'Jodhpur',\n",
       "       'Udaipur', 'Hanumangarh', 'Jaipur', 'Ajmer'], dtype=object)"
      ]
     },
     "execution_count": 15,
     "metadata": {},
     "output_type": "execute_result"
    }
   ],
   "source": [
    "data[\"District\"].unique()"
   ]
  },
  {
   "cell_type": "code",
   "execution_count": 16,
   "metadata": {},
   "outputs": [],
   "source": [
    "arr=data[\"Date\"].unique()"
   ]
  },
  {
   "cell_type": "code",
   "execution_count": 17,
   "metadata": {},
   "outputs": [
    {
     "data": {
      "text/plain": [
       "(424,)"
      ]
     },
     "execution_count": 17,
     "metadata": {},
     "output_type": "execute_result"
    }
   ],
   "source": [
    "arr.shape"
   ]
  },
  {
   "cell_type": "code",
   "execution_count": 18,
   "metadata": {},
   "outputs": [
    {
     "data": {
      "text/plain": [
       "array(['Barley', 'Pomegranate', 'Maize', 'Fenugreek', 'Gram', 'Fennel',\n",
       "       'Pulses', 'Chilli', 'Onion', 'Tomato', 'Sugarcane', 'Cotton',\n",
       "       'Guava', 'Opium', 'Mustard', 'Cumin', 'Coriander', 'Oilseeds',\n",
       "       'Mango', 'Garlic', 'Bajra', 'Wheat', 'Citrus'], dtype=object)"
      ]
     },
     "execution_count": 18,
     "metadata": {},
     "output_type": "execute_result"
    }
   ],
   "source": [
    "data[\"Crop\"].unique()"
   ]
  },
  {
   "cell_type": "code",
   "execution_count": 19,
   "metadata": {},
   "outputs": [],
   "source": [
    "arr_1=data[\"Market\"].unique()"
   ]
  },
  {
   "cell_type": "code",
   "execution_count": 20,
   "metadata": {},
   "outputs": [
    {
     "data": {
      "text/plain": [
       "array(['Alwar APMC Mandi', 'Padampur Mandi', 'Ramganj Mandi',\n",
       "       'Didwana Mandi', 'Kota APMC Mandi', 'Mandal Mandi',\n",
       "       'Sri Ganganagar APMC Mandi', 'Sojati Gate Mandi',\n",
       "       'Nagaur APMC Mandi', 'Fatehnagar Mandi', 'Bhilwara APMC Mandi',\n",
       "       'Hanumangarh APMC Mandi', 'Tijara Mandi', 'Jodhpur APMC Mandi',\n",
       "       'Udaipur APMC Mandi', 'Kukas Mandi', 'Kishangarh Mandi',\n",
       "       'Ajmer APMC Mandi', 'Pilibanga Mandi', 'Kisan Mandi',\n",
       "       'Bassi Mandi', 'Muhana Mandi', 'Sanganer Mandi', 'Chandpole Mandi'],\n",
       "      dtype=object)"
      ]
     },
     "execution_count": 20,
     "metadata": {},
     "output_type": "execute_result"
    }
   ],
   "source": [
    "arr_1"
   ]
  },
  {
   "cell_type": "code",
   "execution_count": 21,
   "metadata": {},
   "outputs": [
    {
     "data": {
      "text/plain": [
       "(24,)"
      ]
     },
     "execution_count": 21,
     "metadata": {},
     "output_type": "execute_result"
    }
   ],
   "source": [
    "arr_1.shape"
   ]
  },
  {
   "cell_type": "code",
   "execution_count": null,
   "metadata": {},
   "outputs": [],
   "source": []
  },
  {
   "cell_type": "code",
   "execution_count": 22,
   "metadata": {},
   "outputs": [
    {
     "data": {
      "image/png": "[encoded data removed]",
      "text/plain": [
       "<Figure size 293.736x250 with 2 Axes>"
      ]
     },
     "metadata": {},
     "output_type": "display_data"
    }
   ],
   "source": [
    "sns.pairplot(data=data,hue='Crop')\n",
    "plt.show()"
   ]
  },
  {
   "cell_type": "code",
   "execution_count": 23,
   "metadata": {},
   "outputs": [
    {
     "data": {
      "text/plain": [
       "<bound method DataFrame.corr of             District         Crop            Market        Date  \\\n",
       "0              Alwar       Barley  Alwar APMC Mandi  2018-09-05   \n",
       "1     Sri Ganganagar  Pomegranate    Padampur Mandi  2018-11-20   \n",
       "2               Kota        Maize     Ramganj Mandi  2018-04-06   \n",
       "3             Nagaur    Fenugreek     Didwana Mandi  2018-09-26   \n",
       "4             Nagaur         Gram     Didwana Mandi  2018-10-06   \n",
       "...              ...          ...               ...         ...   \n",
       "4814          Jaipur  Pomegranate       Bassi Mandi  2018-12-15   \n",
       "4815        Bhilwara        Mango      Mandal Mandi  2018-04-08   \n",
       "4816     Hanumangarh       Pulses   Pilibanga Mandi  2019-04-23   \n",
       "4817          Jaipur        Guava      Muhana Mandi  2018-07-24   \n",
       "4818           Alwar  Pomegranate      Tijara Mandi  2019-05-14   \n",
       "\n",
       "      Price (INR/quintal)  \n",
       "0             2490.092421  \n",
       "1             2348.904922  \n",
       "2             2448.287513  \n",
       "3             2714.419518  \n",
       "4             2883.356997  \n",
       "...                   ...  \n",
       "4814          2666.242878  \n",
       "4815          2315.672943  \n",
       "4816          2528.913137  \n",
       "4817          2664.261946  \n",
       "4818          2161.494599  \n",
       "\n",
       "[4819 rows x 5 columns]>"
      ]
     },
     "execution_count": 23,
     "metadata": {},
     "output_type": "execute_result"
    }
   ],
   "source": [
    "data.corr"
   ]
  },
  {
   "cell_type": "code",
   "execution_count": 24,
   "metadata": {},
   "outputs": [],
   "source": [
    "from sklearn.preprocessing import LabelEncoder\n",
    "lr=LabelEncoder()\n"
   ]
  },
  {
   "cell_type": "code",
   "execution_count": 25,
   "metadata": {},
   "outputs": [],
   "source": [
    "data[\"Crop\"]=lr.fit_transform(data[\"Crop\"])"
   ]
  },
  {
   "cell_type": "code",
   "execution_count": 26,
   "metadata": {},
   "outputs": [],
   "source": [
    "data[\"Market\"]=lr.fit_transform(data[\"Market\"])"
   ]
  },
  {
   "cell_type": "code",
   "execution_count": 27,
   "metadata": {},
   "outputs": [
    {
     "data": {
      "text/html": [
       "<div>\n",
       "<style scoped>\n",
       "    .dataframe tbody tr th:only-of-type {\n",
       "        vertical-align: middle;\n",
       "    }\n",
       "\n",
       "    .dataframe tbody tr th {\n",
       "        vertical-align: top;\n",
       "    }\n",
       "\n",
       "    .dataframe thead th {\n",
       "        text-align: right;\n",
       "    }\n",
       "</style>\n",
       "<table border=\"1\" class=\"dataframe\">\n",
       "  <thead>\n",
       "    <tr style=\"text-align: right;\">\n",
       "      <th></th>\n",
       "      <th>District</th>\n",
       "      <th>Crop</th>\n",
       "      <th>Market</th>\n",
       "      <th>Date</th>\n",
       "      <th>Price (INR/quintal)</th>\n",
       "    </tr>\n",
       "  </thead>\n",
       "  <tbody>\n",
       "    <tr>\n",
       "      <th>0</th>\n",
       "      <td>Alwar</td>\n",
       "      <td>1</td>\n",
       "      <td>1</td>\n",
       "      <td>2018-09-05</td>\n",
       "      <td>2490.092421</td>\n",
       "    </tr>\n",
       "    <tr>\n",
       "      <th>1</th>\n",
       "      <td>Sri Ganganagar</td>\n",
       "      <td>18</td>\n",
       "      <td>16</td>\n",
       "      <td>2018-11-20</td>\n",
       "      <td>2348.904922</td>\n",
       "    </tr>\n",
       "    <tr>\n",
       "      <th>2</th>\n",
       "      <td>Kota</td>\n",
       "      <td>12</td>\n",
       "      <td>18</td>\n",
       "      <td>2018-04-06</td>\n",
       "      <td>2448.287513</td>\n",
       "    </tr>\n",
       "    <tr>\n",
       "      <th>3</th>\n",
       "      <td>Nagaur</td>\n",
       "      <td>8</td>\n",
       "      <td>5</td>\n",
       "      <td>2018-09-26</td>\n",
       "      <td>2714.419518</td>\n",
       "    </tr>\n",
       "    <tr>\n",
       "      <th>4</th>\n",
       "      <td>Nagaur</td>\n",
       "      <td>10</td>\n",
       "      <td>5</td>\n",
       "      <td>2018-10-06</td>\n",
       "      <td>2883.356997</td>\n",
       "    </tr>\n",
       "  </tbody>\n",
       "</table>\n",
       "</div>"
      ],
      "text/plain": [
       "         District  Crop  Market        Date  Price (INR/quintal)\n",
       "0           Alwar     1       1  2018-09-05          2490.092421\n",
       "1  Sri Ganganagar    18      16  2018-11-20          2348.904922\n",
       "2            Kota    12      18  2018-04-06          2448.287513\n",
       "3          Nagaur     8       5  2018-09-26          2714.419518\n",
       "4          Nagaur    10       5  2018-10-06          2883.356997"
      ]
     },
     "execution_count": 27,
     "metadata": {},
     "output_type": "execute_result"
    }
   ],
   "source": [
    "data.head()"
   ]
  },
  {
   "cell_type": "code",
   "execution_count": 38,
   "metadata": {},
   "outputs": [],
   "source": [
    "data=data.drop([\"Date\"],axis=1)"
   ]
  },
  {
   "cell_type": "code",
   "execution_count": 41,
   "metadata": {},
   "outputs": [],
   "source": [
    "x=data.iloc[:,1:]"
   ]
  },
  {
   "cell_type": "code",
   "execution_count": 42,
   "metadata": {},
   "outputs": [
    {
     "data": {
      "text/html": [
       "<div>\n",
       "<style scoped>\n",
       "    .dataframe tbody tr th:only-of-type {\n",
       "        vertical-align: middle;\n",
       "    }\n",
       "\n",
       "    .dataframe tbody tr th {\n",
       "        vertical-align: top;\n",
       "    }\n",
       "\n",
       "    .dataframe thead th {\n",
       "        text-align: right;\n",
       "    }\n",
       "</style>\n",
       "<table border=\"1\" class=\"dataframe\">\n",
       "  <thead>\n",
       "    <tr style=\"text-align: right;\">\n",
       "      <th></th>\n",
       "      <th>Crop</th>\n",
       "      <th>Market</th>\n",
       "      <th>Price (INR/quintal)</th>\n",
       "    </tr>\n",
       "  </thead>\n",
       "  <tbody>\n",
       "    <tr>\n",
       "      <th>0</th>\n",
       "      <td>1</td>\n",
       "      <td>1</td>\n",
       "      <td>2490.092421</td>\n",
       "    </tr>\n",
       "    <tr>\n",
       "      <th>1</th>\n",
       "      <td>18</td>\n",
       "      <td>16</td>\n",
       "      <td>2348.904922</td>\n",
       "    </tr>\n",
       "    <tr>\n",
       "      <th>2</th>\n",
       "      <td>12</td>\n",
       "      <td>18</td>\n",
       "      <td>2448.287513</td>\n",
       "    </tr>\n",
       "    <tr>\n",
       "      <th>4</th>\n",
       "      <td>10</td>\n",
       "      <td>5</td>\n",
       "      <td>2883.356997</td>\n",
       "    </tr>\n",
       "    <tr>\n",
       "      <th>5</th>\n",
       "      <td>7</td>\n",
       "      <td>11</td>\n",
       "      <td>2671.146199</td>\n",
       "    </tr>\n",
       "    <tr>\n",
       "      <th>...</th>\n",
       "      <td>...</td>\n",
       "      <td>...</td>\n",
       "      <td>...</td>\n",
       "    </tr>\n",
       "    <tr>\n",
       "      <th>4814</th>\n",
       "      <td>18</td>\n",
       "      <td>2</td>\n",
       "      <td>2666.242878</td>\n",
       "    </tr>\n",
       "    <tr>\n",
       "      <th>4815</th>\n",
       "      <td>13</td>\n",
       "      <td>13</td>\n",
       "      <td>2315.672943</td>\n",
       "    </tr>\n",
       "    <tr>\n",
       "      <th>4816</th>\n",
       "      <td>19</td>\n",
       "      <td>17</td>\n",
       "      <td>2528.913137</td>\n",
       "    </tr>\n",
       "    <tr>\n",
       "      <th>4817</th>\n",
       "      <td>11</td>\n",
       "      <td>14</td>\n",
       "      <td>2664.261946</td>\n",
       "    </tr>\n",
       "    <tr>\n",
       "      <th>4818</th>\n",
       "      <td>18</td>\n",
       "      <td>22</td>\n",
       "      <td>2161.494599</td>\n",
       "    </tr>\n",
       "  </tbody>\n",
       "</table>\n",
       "<p>4818 rows × 3 columns</p>\n",
       "</div>"
      ],
      "text/plain": [
       "      Crop  Market  Price (INR/quintal)\n",
       "0        1       1          2490.092421\n",
       "1       18      16          2348.904922\n",
       "2       12      18          2448.287513\n",
       "4       10       5          2883.356997\n",
       "5        7      11          2671.146199\n",
       "...    ...     ...                  ...\n",
       "4814    18       2          2666.242878\n",
       "4815    13      13          2315.672943\n",
       "4816    19      17          2528.913137\n",
       "4817    11      14          2664.261946\n",
       "4818    18      22          2161.494599\n",
       "\n",
       "[4818 rows x 3 columns]"
      ]
     },
     "execution_count": 42,
     "metadata": {},
     "output_type": "execute_result"
    }
   ],
   "source": [
    "x"
   ]
  },
  {
   "cell_type": "code",
   "execution_count": 45,
   "metadata": {},
   "outputs": [],
   "source": [
    "y=data.iloc[:,0]"
   ]
  },
  {
   "cell_type": "code",
   "execution_count": 46,
   "metadata": {},
   "outputs": [
    {
     "data": {
      "text/plain": [
       "0                Alwar\n",
       "1       Sri Ganganagar\n",
       "2                 Kota\n",
       "4               Nagaur\n",
       "5                 Kota\n",
       "             ...      \n",
       "4814            Jaipur\n",
       "4815          Bhilwara\n",
       "4816       Hanumangarh\n",
       "4817            Jaipur\n",
       "4818             Alwar\n",
       "Name: District, Length: 4818, dtype: object"
      ]
     },
     "execution_count": 46,
     "metadata": {},
     "output_type": "execute_result"
    }
   ],
   "source": [
    "y"
   ]
  },
  {
   "cell_type": "code",
   "execution_count": 61,
   "metadata": {},
   "outputs": [],
   "source": [
    "from sklearn.model_selection import train_test_split\n",
    "x_train,x_test,y_train,y_test=train_test_split(x,y,test_size=0.2)"
   ]
  },
  {
   "cell_type": "code",
   "execution_count": 62,
   "metadata": {},
   "outputs": [
    {
     "data": {
      "text/html": [
       "<div>\n",
       "<style scoped>\n",
       "    .dataframe tbody tr th:only-of-type {\n",
       "        vertical-align: middle;\n",
       "    }\n",
       "\n",
       "    .dataframe tbody tr th {\n",
       "        vertical-align: top;\n",
       "    }\n",
       "\n",
       "    .dataframe thead th {\n",
       "        text-align: right;\n",
       "    }\n",
       "</style>\n",
       "<table border=\"1\" class=\"dataframe\">\n",
       "  <thead>\n",
       "    <tr style=\"text-align: right;\">\n",
       "      <th></th>\n",
       "      <th>Crop</th>\n",
       "      <th>Market</th>\n",
       "      <th>Price (INR/quintal)</th>\n",
       "    </tr>\n",
       "  </thead>\n",
       "  <tbody>\n",
       "    <tr>\n",
       "      <th>2682</th>\n",
       "      <td>7</td>\n",
       "      <td>16</td>\n",
       "      <td>2446.110888</td>\n",
       "    </tr>\n",
       "    <tr>\n",
       "      <th>4703</th>\n",
       "      <td>4</td>\n",
       "      <td>9</td>\n",
       "      <td>2269.251304</td>\n",
       "    </tr>\n",
       "    <tr>\n",
       "      <th>546</th>\n",
       "      <td>17</td>\n",
       "      <td>9</td>\n",
       "      <td>2524.383150</td>\n",
       "    </tr>\n",
       "    <tr>\n",
       "      <th>380</th>\n",
       "      <td>15</td>\n",
       "      <td>23</td>\n",
       "      <td>2530.536500</td>\n",
       "    </tr>\n",
       "    <tr>\n",
       "      <th>1381</th>\n",
       "      <td>20</td>\n",
       "      <td>14</td>\n",
       "      <td>2179.769820</td>\n",
       "    </tr>\n",
       "  </tbody>\n",
       "</table>\n",
       "</div>"
      ],
      "text/plain": [
       "      Crop  Market  Price (INR/quintal)\n",
       "2682     7      16          2446.110888\n",
       "4703     4       9          2269.251304\n",
       "546     17       9          2524.383150\n",
       "380     15      23          2530.536500\n",
       "1381    20      14          2179.769820"
      ]
     },
     "execution_count": 62,
     "metadata": {},
     "output_type": "execute_result"
    }
   ],
   "source": [
    "x_train.head()"
   ]
  },
  {
   "cell_type": "code",
   "execution_count": 63,
   "metadata": {},
   "outputs": [
    {
     "data": {
      "text/plain": [
       "2682    Sri Ganganagar\n",
       "4703            Jaipur\n",
       "546             Jaipur\n",
       "380            Udaipur\n",
       "1381            Jaipur\n",
       "Name: District, dtype: object"
      ]
     },
     "execution_count": 63,
     "metadata": {},
     "output_type": "execute_result"
    }
   ],
   "source": [
    "y_train.head()"
   ]
  },
  {
   "cell_type": "code",
   "execution_count": 64,
   "metadata": {},
   "outputs": [],
   "source": [
    "from sklearn.preprocessing import StandardScaler"
   ]
  },
  {
   "cell_type": "code",
   "execution_count": 65,
   "metadata": {},
   "outputs": [],
   "source": [
    "st=StandardScaler()"
   ]
  },
  {
   "cell_type": "code",
   "execution_count": 66,
   "metadata": {},
   "outputs": [],
   "source": [
    "x_train=st.fit_transform(x_train)"
   ]
  },
  {
   "cell_type": "code",
   "execution_count": 67,
   "metadata": {
    "scrolled": true
   },
   "outputs": [
    {
     "data": {
      "text/plain": [
       "array([[-0.62025699,  0.59522746, -0.18529682],\n",
       "       [-1.07123243, -0.39387302, -0.78154764],\n",
       "       [ 0.88299445, -0.39387302,  0.07858427],\n",
       "       ...,\n",
       "       [ 0.58234416, -0.81777323, -0.23286467],\n",
       "       [ 0.58234416,  1.16042773,  1.53379696],\n",
       "       [ 0.58234416,  0.59522746,  0.23398638]])"
      ]
     },
     "execution_count": 67,
     "metadata": {},
     "output_type": "execute_result"
    }
   ],
   "source": [
    "x_train"
   ]
  },
  {
   "cell_type": "code",
   "execution_count": 69,
   "metadata": {},
   "outputs": [
    {
     "data": {
      "text/plain": [
       "558        Hanumangarh\n",
       "3309            Jaipur\n",
       "2201           Jodhpur\n",
       "574            Udaipur\n",
       "294             Jaipur\n",
       "             ...      \n",
       "262           Bhilwara\n",
       "4234    Sri Ganganagar\n",
       "2342           Jodhpur\n",
       "3427            Nagaur\n",
       "1606            Jaipur\n",
       "Name: District, Length: 964, dtype: object"
      ]
     },
     "execution_count": 69,
     "metadata": {},
     "output_type": "execute_result"
    }
   ],
   "source": [
    "y_test"
   ]
  },
  {
   "cell_type": "code",
   "execution_count": 68,
   "metadata": {},
   "outputs": [
    {
     "data": {
      "text/html": [
       "<div>\n",
       "<style scoped>\n",
       "    .dataframe tbody tr th:only-of-type {\n",
       "        vertical-align: middle;\n",
       "    }\n",
       "\n",
       "    .dataframe tbody tr th {\n",
       "        vertical-align: top;\n",
       "    }\n",
       "\n",
       "    .dataframe thead th {\n",
       "        text-align: right;\n",
       "    }\n",
       "</style>\n",
       "<table border=\"1\" class=\"dataframe\">\n",
       "  <thead>\n",
       "    <tr style=\"text-align: right;\">\n",
       "      <th></th>\n",
       "      <th>Crop</th>\n",
       "      <th>Market</th>\n",
       "      <th>Price (INR/quintal)</th>\n",
       "    </tr>\n",
       "  </thead>\n",
       "  <tbody>\n",
       "    <tr>\n",
       "      <th>558</th>\n",
       "      <td>11</td>\n",
       "      <td>7</td>\n",
       "      <td>2471.828929</td>\n",
       "    </tr>\n",
       "    <tr>\n",
       "      <th>3309</th>\n",
       "      <td>15</td>\n",
       "      <td>4</td>\n",
       "      <td>2160.703783</td>\n",
       "    </tr>\n",
       "    <tr>\n",
       "      <th>2201</th>\n",
       "      <td>2</td>\n",
       "      <td>8</td>\n",
       "      <td>2564.233295</td>\n",
       "    </tr>\n",
       "    <tr>\n",
       "      <th>574</th>\n",
       "      <td>11</td>\n",
       "      <td>23</td>\n",
       "      <td>2456.539973</td>\n",
       "    </tr>\n",
       "    <tr>\n",
       "      <th>294</th>\n",
       "      <td>5</td>\n",
       "      <td>19</td>\n",
       "      <td>2764.719127</td>\n",
       "    </tr>\n",
       "    <tr>\n",
       "      <th>...</th>\n",
       "      <td>...</td>\n",
       "      <td>...</td>\n",
       "      <td>...</td>\n",
       "    </tr>\n",
       "    <tr>\n",
       "      <th>262</th>\n",
       "      <td>13</td>\n",
       "      <td>3</td>\n",
       "      <td>2443.242946</td>\n",
       "    </tr>\n",
       "    <tr>\n",
       "      <th>4234</th>\n",
       "      <td>12</td>\n",
       "      <td>21</td>\n",
       "      <td>2453.048851</td>\n",
       "    </tr>\n",
       "    <tr>\n",
       "      <th>2342</th>\n",
       "      <td>18</td>\n",
       "      <td>8</td>\n",
       "      <td>2304.613761</td>\n",
       "    </tr>\n",
       "    <tr>\n",
       "      <th>3427</th>\n",
       "      <td>2</td>\n",
       "      <td>5</td>\n",
       "      <td>2322.933410</td>\n",
       "    </tr>\n",
       "    <tr>\n",
       "      <th>1606</th>\n",
       "      <td>10</td>\n",
       "      <td>4</td>\n",
       "      <td>1659.426529</td>\n",
       "    </tr>\n",
       "  </tbody>\n",
       "</table>\n",
       "<p>964 rows × 3 columns</p>\n",
       "</div>"
      ],
      "text/plain": [
       "      Crop  Market  Price (INR/quintal)\n",
       "558     11       7          2471.828929\n",
       "3309    15       4          2160.703783\n",
       "2201     2       8          2564.233295\n",
       "574     11      23          2456.539973\n",
       "294      5      19          2764.719127\n",
       "...    ...     ...                  ...\n",
       "262     13       3          2443.242946\n",
       "4234    12      21          2453.048851\n",
       "2342    18       8          2304.613761\n",
       "3427     2       5          2322.933410\n",
       "1606    10       4          1659.426529\n",
       "\n",
       "[964 rows x 3 columns]"
      ]
     },
     "execution_count": 68,
     "metadata": {},
     "output_type": "execute_result"
    }
   ],
   "source": [
    "x_test"
   ]
  },
  {
   "cell_type": "code",
   "execution_count": 70,
   "metadata": {},
   "outputs": [],
   "source": [
    "x_test=st.transform(x_test)"
   ]
  },
  {
   "cell_type": "code",
   "execution_count": 72,
   "metadata": {},
   "outputs": [
    {
     "data": {
      "text/plain": [
       "array([[-0.01895641, -0.67647316, -0.09859299],\n",
       "       [ 0.58234416, -1.10037337, -1.14749642],\n",
       "       [-1.37188272, -0.53517309,  0.21293199],\n",
       "       ...,\n",
       "       [ 1.0333196 , -0.53517309, -0.66232937],\n",
       "       [-1.37188272, -0.9590733 , -0.60056791],\n",
       "       [-0.16928156, -1.10037337, -2.83746406]])"
      ]
     },
     "execution_count": 72,
     "metadata": {},
     "output_type": "execute_result"
    }
   ],
   "source": [
    "x_test"
   ]
  },
  {
   "cell_type": "code",
   "execution_count": 73,
   "metadata": {},
   "outputs": [],
   "source": [
    "from sklearn.linear_model import LogisticRegression"
   ]
  },
  {
   "cell_type": "code",
   "execution_count": 74,
   "metadata": {},
   "outputs": [],
   "source": [
    "lr_1=LogisticRegression()"
   ]
  },
  {
   "cell_type": "code",
   "execution_count": 75,
   "metadata": {},
   "outputs": [
    {
     "data": {
      "text/html": [
       "<style>#sk-container-id-1 {color: black;background-color: white;}#sk-container-id-1 pre{padding: 0;}#sk-container-id-1 div.sk-toggleable {background-color: white;}#sk-container-id-1 label.sk-toggleable__label {cursor: pointer;display: block;width: 100%;margin-bottom: 0;padding: 0.3em;box-sizing: border-box;text-align: center;}#sk-container-id-1 label.sk-toggleable__label-arrow:before {content: \"▸\";float: left;margin-right: 0.25em;color: #696969;}#sk-container-id-1 label.sk-toggleable__label-arrow:hover:before {color: black;}#sk-container-id-1 div.sk-estimator:hover label.sk-toggleable__label-arrow:before {color: black;}#sk-container-id-1 div.sk-toggleable__content {max-height: 0;max-width: 0;overflow: hidden;text-align: left;background-color: #f0f8ff;}#sk-container-id-1 div.sk-toggleable__content pre {margin: 0.2em;color: black;border-radius: 0.25em;background-color: #f0f8ff;}#sk-container-id-1 input.sk-toggleable__control:checked~div.sk-toggleable__content {max-height: 200px;max-width: 100%;overflow: auto;}#sk-container-id-1 input.sk-toggleable__control:checked~label.sk-toggleable__label-arrow:before {content: \"▾\";}#sk-container-id-1 div.sk-estimator input.sk-toggleable__control:checked~label.sk-toggleable__label {background-color: #d4ebff;}#sk-container-id-1 div.sk-label input.sk-toggleable__control:checked~label.sk-toggleable__label {background-color: #d4ebff;}#sk-container-id-1 input.sk-hidden--visually {border: 0;clip: rect(1px 1px 1px 1px);clip: rect(1px, 1px, 1px, 1px);height: 1px;margin: -1px;overflow: hidden;padding: 0;position: absolute;width: 1px;}#sk-container-id-1 div.sk-estimator {font-family: monospace;background-color: #f0f8ff;border: 1px dotted black;border-radius: 0.25em;box-sizing: border-box;margin-bottom: 0.5em;}#sk-container-id-1 div.sk-estimator:hover {background-color: #d4ebff;}#sk-container-id-1 div.sk-parallel-item::after {content: \"\";width: 100%;border-bottom: 1px solid gray;flex-grow: 1;}#sk-container-id-1 div.sk-label:hover label.sk-toggleable__label {background-color: #d4ebff;}#sk-container-id-1 div.sk-serial::before {content: \"\";position: absolute;border-left: 1px solid gray;box-sizing: border-box;top: 0;bottom: 0;left: 50%;z-index: 0;}#sk-container-id-1 div.sk-serial {display: flex;flex-direction: column;align-items: center;background-color: white;padding-right: 0.2em;padding-left: 0.2em;position: relative;}#sk-container-id-1 div.sk-item {position: relative;z-index: 1;}#sk-container-id-1 div.sk-parallel {display: flex;align-items: stretch;justify-content: center;background-color: white;position: relative;}#sk-container-id-1 div.sk-item::before, #sk-container-id-1 div.sk-parallel-item::before {content: \"\";position: absolute;border-left: 1px solid gray;box-sizing: border-box;top: 0;bottom: 0;left: 50%;z-index: -1;}#sk-container-id-1 div.sk-parallel-item {display: flex;flex-direction: column;z-index: 1;position: relative;background-color: white;}#sk-container-id-1 div.sk-parallel-item:first-child::after {align-self: flex-end;width: 50%;}#sk-container-id-1 div.sk-parallel-item:last-child::after {align-self: flex-start;width: 50%;}#sk-container-id-1 div.sk-parallel-item:only-child::after {width: 0;}#sk-container-id-1 div.sk-dashed-wrapped {border: 1px dashed gray;margin: 0 0.4em 0.5em 0.4em;box-sizing: border-box;padding-bottom: 0.4em;background-color: white;}#sk-container-id-1 div.sk-label label {font-family: monospace;font-weight: bold;display: inline-block;line-height: 1.2em;}#sk-container-id-1 div.sk-label-container {text-align: center;}#sk-container-id-1 div.sk-container {/* jupyter's `normalize.less` sets `[hidden] { display: none; }` but bootstrap.min.css set `[hidden] { display: none !important; }` so we also need the `!important` here to be able to override the default hidden behavior on the sphinx rendered scikit-learn.org. See: https://github.com/scikit-learn/scikit-learn/issues/21755 */display: inline-block !important;position: relative;}#sk-container-id-1 div.sk-text-repr-fallback {display: none;}</style><div id=\"sk-container-id-1\" class=\"sk-top-container\"><div class=\"sk-text-repr-fallback\"><pre>LogisticRegression()</pre><b>In a Jupyter environment, please rerun this cell to show the HTML representation or trust the notebook. <br />On GitHub, the HTML representation is unable to render, please try loading this page with nbviewer.org.</b></div><div class=\"sk-container\" hidden><div class=\"sk-item\"><div class=\"sk-estimator sk-toggleable\"><input class=\"sk-toggleable__control sk-hidden--visually\" id=\"sk-estimator-id-1\" type=\"checkbox\" checked><label for=\"sk-estimator-id-1\" class=\"sk-toggleable__label sk-toggleable__label-arrow\">LogisticRegression</label><div class=\"sk-toggleable__content\"><pre>LogisticRegression()</pre></div></div></div></div></div>"
      ],
      "text/plain": [
       "LogisticRegression()"
      ]
     },
     "execution_count": 75,
     "metadata": {},
     "output_type": "execute_result"
    }
   ],
   "source": [
    "lr_1.fit(x_train,y_train)"
   ]
  },
  {
   "cell_type": "code",
   "execution_count": 76,
   "metadata": {},
   "outputs": [],
   "source": [
    "y_pre=lr_1.predict(x_test)"
   ]
  },
  {
   "cell_type": "code",
   "execution_count": 77,
   "metadata": {},
   "outputs": [
    {
     "data": {
      "text/plain": [
       "array(['Ajmer', 'Ajmer', 'Nagaur', 'Sri Ganganagar', 'Sri Ganganagar',\n",
       "       'Alwar', 'Udaipur', 'Ajmer', 'Ajmer', 'Alwar', 'Alwar',\n",
       "       'Sri Ganganagar', 'Sri Ganganagar', 'Sri Ganganagar', 'Ajmer',\n",
       "       'Sri Ganganagar', 'Nagaur', 'Bhilwara', 'Sri Ganganagar',\n",
       "       'Sri Ganganagar', 'Alwar', 'Nagaur', 'Ajmer', 'Alwar', 'Udaipur',\n",
       "       'Ajmer', 'Kota', 'Kota', 'Nagaur', 'Kota', 'Nagaur', 'Ajmer',\n",
       "       'Ajmer', 'Kota', 'Sri Ganganagar', 'Alwar', 'Ajmer',\n",
       "       'Sri Ganganagar', 'Jaipur', 'Ajmer', 'Sri Ganganagar', 'Kota',\n",
       "       'Ajmer', 'Jodhpur', 'Ajmer', 'Bhilwara', 'Sri Ganganagar',\n",
       "       'Sri Ganganagar', 'Sri Ganganagar', 'Sri Ganganagar', 'Bhilwara',\n",
       "       'Alwar', 'Ajmer', 'Udaipur', 'Nagaur', 'Nagaur', 'Kota', 'Kota',\n",
       "       'Ajmer', 'Kota', 'Sri Ganganagar', 'Udaipur', 'Sri Ganganagar',\n",
       "       'Sri Ganganagar', 'Sri Ganganagar', 'Alwar', 'Kota', 'Kota',\n",
       "       'Sri Ganganagar', 'Ajmer', 'Nagaur', 'Alwar', 'Kota', 'Ajmer',\n",
       "       'Bhilwara', 'Udaipur', 'Kota', 'Alwar', 'Kota', 'Sri Ganganagar',\n",
       "       'Alwar', 'Sri Ganganagar', 'Sri Ganganagar', 'Bhilwara', 'Kota',\n",
       "       'Ajmer', 'Ajmer', 'Alwar', 'Udaipur', 'Sri Ganganagar', 'Udaipur',\n",
       "       'Nagaur', 'Kota', 'Kota', 'Ajmer', 'Ajmer', 'Ajmer', 'Kota',\n",
       "       'Kota', 'Ajmer', 'Nagaur', 'Sri Ganganagar', 'Ajmer', 'Ajmer',\n",
       "       'Ajmer', 'Alwar', 'Sri Ganganagar', 'Alwar', 'Kota', 'Ajmer',\n",
       "       'Bhilwara', 'Sri Ganganagar', 'Ajmer', 'Sri Ganganagar', 'Ajmer',\n",
       "       'Ajmer', 'Kota', 'Alwar', 'Ajmer', 'Kota', 'Ajmer',\n",
       "       'Sri Ganganagar', 'Sri Ganganagar', 'Alwar', 'Ajmer',\n",
       "       'Sri Ganganagar', 'Ajmer', 'Sri Ganganagar', 'Ajmer', 'Jodhpur',\n",
       "       'Ajmer', 'Alwar', 'Kota', 'Ajmer', 'Jaipur', 'Ajmer', 'Bhilwara',\n",
       "       'Kota', 'Kota', 'Sri Ganganagar', 'Ajmer', 'Kota', 'Kota', 'Kota',\n",
       "       'Bhilwara', 'Alwar', 'Ajmer', 'Ajmer', 'Kota', 'Sri Ganganagar',\n",
       "       'Sri Ganganagar', 'Sri Ganganagar', 'Alwar', 'Ajmer', 'Alwar',\n",
       "       'Kota', 'Kota', 'Udaipur', 'Ajmer', 'Nagaur', 'Ajmer', 'Ajmer',\n",
       "       'Ajmer', 'Udaipur', 'Ajmer', 'Ajmer', 'Ajmer', 'Ajmer', 'Kota',\n",
       "       'Alwar', 'Alwar', 'Sri Ganganagar', 'Kota', 'Ajmer', 'Alwar',\n",
       "       'Nagaur', 'Nagaur', 'Kota', 'Nagaur', 'Sri Ganganagar', 'Kota',\n",
       "       'Bhilwara', 'Alwar', 'Sri Ganganagar', 'Sri Ganganagar', 'Alwar',\n",
       "       'Sri Ganganagar', 'Ajmer', 'Alwar', 'Ajmer', 'Sri Ganganagar',\n",
       "       'Kota', 'Udaipur', 'Kota', 'Ajmer', 'Ajmer', 'Sri Ganganagar',\n",
       "       'Ajmer', 'Ajmer', 'Nagaur', 'Sri Ganganagar', 'Ajmer', 'Ajmer',\n",
       "       'Kota', 'Kota', 'Alwar', 'Nagaur', 'Sri Ganganagar', 'Ajmer',\n",
       "       'Bhilwara', 'Jodhpur', 'Nagaur', 'Jodhpur', 'Kota', 'Kota',\n",
       "       'Udaipur', 'Ajmer', 'Alwar', 'Udaipur', 'Alwar', 'Nagaur',\n",
       "       'Sri Ganganagar', 'Ajmer', 'Sri Ganganagar', 'Sri Ganganagar',\n",
       "       'Sri Ganganagar', 'Alwar', 'Sri Ganganagar', 'Sri Ganganagar',\n",
       "       'Sri Ganganagar', 'Sri Ganganagar', 'Ajmer', 'Ajmer',\n",
       "       'Sri Ganganagar', 'Ajmer', 'Ajmer', 'Alwar', 'Nagaur',\n",
       "       'Sri Ganganagar', 'Kota', 'Udaipur', 'Bhilwara', 'Sri Ganganagar',\n",
       "       'Sri Ganganagar', 'Sri Ganganagar', 'Nagaur', 'Kota', 'Ajmer',\n",
       "       'Ajmer', 'Nagaur', 'Alwar', 'Sri Ganganagar', 'Kota', 'Kota',\n",
       "       'Nagaur', 'Kota', 'Kota', 'Sri Ganganagar', 'Nagaur', 'Alwar',\n",
       "       'Alwar', 'Ajmer', 'Ajmer', 'Udaipur', 'Kota', 'Kota',\n",
       "       'Sri Ganganagar', 'Sri Ganganagar', 'Ajmer', 'Ajmer', 'Kota',\n",
       "       'Ajmer', 'Udaipur', 'Ajmer', 'Ajmer', 'Kota', 'Sri Ganganagar',\n",
       "       'Ajmer', 'Sri Ganganagar', 'Ajmer', 'Ajmer', 'Kota', 'Nagaur',\n",
       "       'Alwar', 'Nagaur', 'Ajmer', 'Ajmer', 'Alwar', 'Kota', 'Ajmer',\n",
       "       'Ajmer', 'Ajmer', 'Alwar', 'Ajmer', 'Bhilwara', 'Kota', 'Kota',\n",
       "       'Ajmer', 'Ajmer', 'Sri Ganganagar', 'Kota', 'Alwar', 'Ajmer',\n",
       "       'Ajmer', 'Ajmer', 'Ajmer', 'Kota', 'Alwar', 'Sri Ganganagar',\n",
       "       'Sri Ganganagar', 'Kota', 'Bhilwara', 'Kota', 'Sri Ganganagar',\n",
       "       'Sri Ganganagar', 'Alwar', 'Sri Ganganagar', 'Ajmer', 'Ajmer',\n",
       "       'Sri Ganganagar', 'Alwar', 'Ajmer', 'Ajmer', 'Ajmer', 'Ajmer',\n",
       "       'Kota', 'Sri Ganganagar', 'Ajmer', 'Ajmer', 'Ajmer',\n",
       "       'Sri Ganganagar', 'Kota', 'Kota', 'Ajmer', 'Ajmer', 'Nagaur',\n",
       "       'Sri Ganganagar', 'Bhilwara', 'Kota', 'Ajmer', 'Sri Ganganagar',\n",
       "       'Ajmer', 'Kota', 'Kota', 'Udaipur', 'Alwar', 'Ajmer', 'Nagaur',\n",
       "       'Sri Ganganagar', 'Udaipur', 'Sri Ganganagar', 'Kota', 'Kota',\n",
       "       'Sri Ganganagar', 'Kota', 'Ajmer', 'Ajmer', 'Udaipur', 'Ajmer',\n",
       "       'Ajmer', 'Bhilwara', 'Nagaur', 'Kota', 'Nagaur', 'Ajmer', 'Alwar',\n",
       "       'Udaipur', 'Kota', 'Ajmer', 'Nagaur', 'Sri Ganganagar', 'Ajmer',\n",
       "       'Kota', 'Sri Ganganagar', 'Alwar', 'Ajmer', 'Kota', 'Bhilwara',\n",
       "       'Sri Ganganagar', 'Alwar', 'Ajmer', 'Ajmer', 'Ajmer', 'Ajmer',\n",
       "       'Sri Ganganagar', 'Sri Ganganagar', 'Kota', 'Kota', 'Ajmer',\n",
       "       'Ajmer', 'Sri Ganganagar', 'Alwar', 'Alwar', 'Kota',\n",
       "       'Sri Ganganagar', 'Udaipur', 'Nagaur', 'Ajmer', 'Sri Ganganagar',\n",
       "       'Sri Ganganagar', 'Ajmer', 'Sri Ganganagar', 'Sri Ganganagar',\n",
       "       'Alwar', 'Ajmer', 'Nagaur', 'Ajmer', 'Nagaur', 'Alwar',\n",
       "       'Sri Ganganagar', 'Sri Ganganagar', 'Sri Ganganagar', 'Ajmer',\n",
       "       'Kota', 'Ajmer', 'Sri Ganganagar', 'Kota', 'Sri Ganganagar',\n",
       "       'Ajmer', 'Alwar', 'Kota', 'Sri Ganganagar', 'Ajmer', 'Ajmer',\n",
       "       'Sri Ganganagar', 'Kota', 'Kota', 'Ajmer', 'Nagaur', 'Alwar',\n",
       "       'Alwar', 'Alwar', 'Kota', 'Kota', 'Nagaur', 'Ajmer', 'Ajmer',\n",
       "       'Udaipur', 'Ajmer', 'Kota', 'Nagaur', 'Udaipur', 'Ajmer',\n",
       "       'Sri Ganganagar', 'Ajmer', 'Ajmer', 'Ajmer', 'Sri Ganganagar',\n",
       "       'Udaipur', 'Udaipur', 'Ajmer', 'Nagaur', 'Ajmer', 'Ajmer', 'Alwar',\n",
       "       'Sri Ganganagar', 'Sri Ganganagar', 'Ajmer', 'Ajmer', 'Ajmer',\n",
       "       'Kota', 'Alwar', 'Sri Ganganagar', 'Ajmer', 'Ajmer', 'Ajmer',\n",
       "       'Sri Ganganagar', 'Kota', 'Ajmer', 'Sri Ganganagar', 'Nagaur',\n",
       "       'Nagaur', 'Ajmer', 'Kota', 'Kota', 'Nagaur', 'Sri Ganganagar',\n",
       "       'Sri Ganganagar', 'Kota', 'Kota', 'Ajmer', 'Nagaur',\n",
       "       'Sri Ganganagar', 'Kota', 'Nagaur', 'Kota', 'Sri Ganganagar',\n",
       "       'Kota', 'Kota', 'Alwar', 'Nagaur', 'Kota', 'Ajmer', 'Alwar',\n",
       "       'Kota', 'Ajmer', 'Ajmer', 'Kota', 'Ajmer', 'Alwar',\n",
       "       'Sri Ganganagar', 'Bhilwara', 'Ajmer', 'Kota', 'Bhilwara',\n",
       "       'Bhilwara', 'Bhilwara', 'Kota', 'Sri Ganganagar', 'Ajmer', 'Ajmer',\n",
       "       'Nagaur', 'Ajmer', 'Bhilwara', 'Ajmer', 'Ajmer', 'Ajmer', 'Nagaur',\n",
       "       'Alwar', 'Ajmer', 'Sri Ganganagar', 'Nagaur', 'Bhilwara', 'Kota',\n",
       "       'Kota', 'Alwar', 'Sri Ganganagar', 'Sri Ganganagar',\n",
       "       'Sri Ganganagar', 'Ajmer', 'Udaipur', 'Ajmer', 'Ajmer', 'Kota',\n",
       "       'Alwar', 'Bhilwara', 'Alwar', 'Nagaur', 'Sri Ganganagar', 'Ajmer',\n",
       "       'Bhilwara', 'Sri Ganganagar', 'Nagaur', 'Nagaur', 'Ajmer', 'Ajmer',\n",
       "       'Ajmer', 'Sri Ganganagar', 'Ajmer', 'Ajmer', 'Sri Ganganagar',\n",
       "       'Sri Ganganagar', 'Alwar', 'Ajmer', 'Sri Ganganagar', 'Kota',\n",
       "       'Nagaur', 'Kota', 'Sri Ganganagar', 'Ajmer', 'Sri Ganganagar',\n",
       "       'Sri Ganganagar', 'Sri Ganganagar', 'Kota', 'Kota', 'Alwar',\n",
       "       'Ajmer', 'Kota', 'Ajmer', 'Ajmer', 'Alwar', 'Ajmer', 'Kota',\n",
       "       'Ajmer', 'Sri Ganganagar', 'Ajmer', 'Nagaur', 'Ajmer', 'Ajmer',\n",
       "       'Sri Ganganagar', 'Ajmer', 'Kota', 'Udaipur', 'Ajmer', 'Ajmer',\n",
       "       'Sri Ganganagar', 'Bhilwara', 'Ajmer', 'Kota', 'Ajmer',\n",
       "       'Sri Ganganagar', 'Nagaur', 'Sri Ganganagar', 'Ajmer', 'Ajmer',\n",
       "       'Ajmer', 'Nagaur', 'Alwar', 'Nagaur', 'Sri Ganganagar', 'Alwar',\n",
       "       'Kota', 'Kota', 'Ajmer', 'Kota', 'Sri Ganganagar', 'Kota', 'Alwar',\n",
       "       'Bhilwara', 'Kota', 'Ajmer', 'Sri Ganganagar', 'Ajmer',\n",
       "       'Sri Ganganagar', 'Ajmer', 'Ajmer', 'Sri Ganganagar',\n",
       "       'Sri Ganganagar', 'Sri Ganganagar', 'Sri Ganganagar', 'Kota',\n",
       "       'Nagaur', 'Ajmer', 'Sri Ganganagar', 'Ajmer', 'Kota',\n",
       "       'Sri Ganganagar', 'Kota', 'Kota', 'Udaipur', 'Sri Ganganagar',\n",
       "       'Udaipur', 'Ajmer', 'Alwar', 'Sri Ganganagar', 'Sri Ganganagar',\n",
       "       'Ajmer', 'Sri Ganganagar', 'Alwar', 'Kota', 'Sri Ganganagar',\n",
       "       'Udaipur', 'Sri Ganganagar', 'Ajmer', 'Alwar', 'Sri Ganganagar',\n",
       "       'Sri Ganganagar', 'Nagaur', 'Kota', 'Alwar', 'Ajmer', 'Kota',\n",
       "       'Udaipur', 'Ajmer', 'Ajmer', 'Sri Ganganagar', 'Sri Ganganagar',\n",
       "       'Sri Ganganagar', 'Kota', 'Sri Ganganagar', 'Ajmer', 'Ajmer',\n",
       "       'Sri Ganganagar', 'Ajmer', 'Sri Ganganagar', 'Ajmer', 'Ajmer',\n",
       "       'Kota', 'Sri Ganganagar', 'Kota', 'Alwar', 'Kota', 'Ajmer',\n",
       "       'Alwar', 'Alwar', 'Sri Ganganagar', 'Bhilwara', 'Sri Ganganagar',\n",
       "       'Alwar', 'Kota', 'Ajmer', 'Sri Ganganagar', 'Sri Ganganagar',\n",
       "       'Kota', 'Kota', 'Ajmer', 'Kota', 'Nagaur', 'Sri Ganganagar',\n",
       "       'Kota', 'Ajmer', 'Jodhpur', 'Kota', 'Kota', 'Ajmer',\n",
       "       'Sri Ganganagar', 'Nagaur', 'Ajmer', 'Ajmer', 'Sri Ganganagar',\n",
       "       'Bhilwara', 'Sri Ganganagar', 'Alwar', 'Ajmer', 'Alwar',\n",
       "       'Sri Ganganagar', 'Ajmer', 'Kota', 'Nagaur', 'Ajmer', 'Kota',\n",
       "       'Ajmer', 'Nagaur', 'Ajmer', 'Udaipur', 'Alwar', 'Ajmer',\n",
       "       'Sri Ganganagar', 'Ajmer', 'Ajmer', 'Sri Ganganagar', 'Ajmer',\n",
       "       'Ajmer', 'Alwar', 'Kota', 'Ajmer', 'Sri Ganganagar', 'Ajmer',\n",
       "       'Ajmer', 'Ajmer', 'Ajmer', 'Kota', 'Udaipur', 'Alwar', 'Nagaur',\n",
       "       'Ajmer', 'Kota', 'Bhilwara', 'Nagaur', 'Kota', 'Alwar', 'Kota',\n",
       "       'Kota', 'Udaipur', 'Sri Ganganagar', 'Nagaur', 'Kota', 'Nagaur',\n",
       "       'Ajmer', 'Sri Ganganagar', 'Kota', 'Kota', 'Kota',\n",
       "       'Sri Ganganagar', 'Ajmer', 'Alwar', 'Nagaur', 'Alwar', 'Ajmer',\n",
       "       'Ajmer', 'Alwar', 'Ajmer', 'Ajmer', 'Kota', 'Kota', 'Alwar',\n",
       "       'Kota', 'Sri Ganganagar', 'Ajmer', 'Kota', 'Alwar',\n",
       "       'Sri Ganganagar', 'Alwar', 'Kota', 'Udaipur', 'Alwar',\n",
       "       'Sri Ganganagar', 'Alwar', 'Ajmer', 'Ajmer', 'Nagaur',\n",
       "       'Sri Ganganagar', 'Kota', 'Ajmer', 'Kota', 'Sri Ganganagar',\n",
       "       'Ajmer', 'Alwar', 'Bhilwara', 'Alwar', 'Ajmer', 'Kota', 'Ajmer',\n",
       "       'Nagaur', 'Alwar', 'Ajmer', 'Sri Ganganagar', 'Nagaur', 'Alwar',\n",
       "       'Ajmer', 'Sri Ganganagar', 'Ajmer', 'Sri Ganganagar', 'Udaipur',\n",
       "       'Sri Ganganagar', 'Ajmer', 'Kota', 'Kota', 'Bhilwara', 'Ajmer',\n",
       "       'Sri Ganganagar', 'Alwar', 'Ajmer', 'Ajmer', 'Udaipur', 'Ajmer',\n",
       "       'Ajmer', 'Kota', 'Kota', 'Alwar', 'Alwar', 'Ajmer',\n",
       "       'Sri Ganganagar', 'Kota', 'Sri Ganganagar', 'Alwar', 'Nagaur',\n",
       "       'Sri Ganganagar', 'Nagaur', 'Ajmer', 'Sri Ganganagar', 'Bhilwara',\n",
       "       'Sri Ganganagar', 'Kota', 'Ajmer', 'Kota', 'Ajmer',\n",
       "       'Sri Ganganagar', 'Sri Ganganagar', 'Kota', 'Sri Ganganagar',\n",
       "       'Sri Ganganagar', 'Ajmer', 'Sri Ganganagar', 'Ajmer', 'Ajmer',\n",
       "       'Nagaur', 'Alwar', 'Alwar', 'Nagaur', 'Ajmer', 'Ajmer',\n",
       "       'Sri Ganganagar', 'Sri Ganganagar', 'Ajmer', 'Sri Ganganagar',\n",
       "       'Ajmer', 'Ajmer', 'Nagaur', 'Sri Ganganagar', 'Sri Ganganagar',\n",
       "       'Kota', 'Sri Ganganagar', 'Nagaur', 'Ajmer', 'Sri Ganganagar',\n",
       "       'Nagaur', 'Kota', 'Alwar', 'Ajmer', 'Ajmer', 'Ajmer',\n",
       "       'Sri Ganganagar', 'Ajmer', 'Sri Ganganagar', 'Ajmer',\n",
       "       'Sri Ganganagar', 'Kota', 'Ajmer', 'Ajmer', 'Ajmer', 'Ajmer',\n",
       "       'Ajmer', 'Ajmer', 'Kota', 'Kota', 'Kota', 'Ajmer', 'Ajmer',\n",
       "       'Alwar', 'Alwar', 'Ajmer', 'Sri Ganganagar', 'Kota',\n",
       "       'Sri Ganganagar', 'Kota', 'Nagaur', 'Kota', 'Ajmer',\n",
       "       'Sri Ganganagar', 'Nagaur', 'Sri Ganganagar', 'Kota', 'Nagaur',\n",
       "       'Kota', 'Sri Ganganagar', 'Alwar', 'Bhilwara', 'Alwar', 'Kota',\n",
       "       'Sri Ganganagar', 'Ajmer', 'Bhilwara', 'Alwar', 'Kota', 'Kota',\n",
       "       'Kota', 'Ajmer', 'Kota', 'Sri Ganganagar', 'Ajmer', 'Alwar',\n",
       "       'Sri Ganganagar', 'Nagaur', 'Udaipur', 'Sri Ganganagar', 'Ajmer',\n",
       "       'Kota', 'Alwar', 'Nagaur', 'Alwar', 'Ajmer', 'Sri Ganganagar',\n",
       "       'Bhilwara', 'Sri Ganganagar', 'Ajmer', 'Kota', 'Kota', 'Ajmer',\n",
       "       'Alwar', 'Ajmer', 'Kota', 'Ajmer', 'Sri Ganganagar', 'Alwar',\n",
       "       'Ajmer', 'Ajmer', 'Sri Ganganagar', 'Ajmer', 'Kota', 'Nagaur',\n",
       "       'Sri Ganganagar', 'Ajmer', 'Nagaur', 'Ajmer', 'Ajmer', 'Ajmer',\n",
       "       'Sri Ganganagar', 'Nagaur', 'Ajmer', 'Sri Ganganagar', 'Alwar',\n",
       "       'Ajmer', 'Ajmer'], dtype=object)"
      ]
     },
     "execution_count": 77,
     "metadata": {},
     "output_type": "execute_result"
    }
   ],
   "source": [
    "y_pre"
   ]
  },
  {
   "cell_type": "code",
   "execution_count": 80,
   "metadata": {},
   "outputs": [
    {
     "name": "stdout",
     "output_type": "stream",
     "text": [
      "0.11929460580912864\n"
     ]
    }
   ],
   "source": [
    "from sklearn.metrics import accuracy_score\n",
    "print(accuracy_score(y_pre,y_test))"
   ]
  },
  {
   "cell_type": "code",
   "execution_count": null,
   "metadata": {},
   "outputs": [],
   "source": [
    "from skelearn."
   ]
  }
 ],
 "metadata": {
  "kernelspec": {
   "display_name": "Python 3",
   "language": "python",
   "name": "python3"
  },
  "language_info": {
   "codemirror_mode": {
    "name": "ipython",
    "version": 3
   },
   "file_extension": ".py",
   "mimetype": "text/x-python",
   "name": "python",
   "nbconvert_exporter": "python",
   "pygments_lexer": "ipython3",
   "version": "3.9.0"
  }
 },
 "nbformat": 4,
 "nbformat_minor": 5
}

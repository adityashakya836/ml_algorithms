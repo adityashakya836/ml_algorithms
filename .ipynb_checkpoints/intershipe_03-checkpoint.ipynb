{
 "cells": [
  {
   "cell_type": "code",
   "execution_count": 40,
   "metadata": {},
   "outputs": [],
   "source": [
    "import numpy as np"
   ]
  },
  {
   "cell_type": "code",
   "execution_count": 41,
   "metadata": {},
   "outputs": [],
   "source": [
    "import pandas as pd"
   ]
  },
  {
   "cell_type": "code",
   "execution_count": 1,
   "metadata": {},
   "outputs": [
    {
     "name": "stdout",
     "output_type": "stream",
     "text": [
      "^C\n"
     ]
    }
   ],
   "source": [
    "!pip install dataprep"
   ]
  },
  {
   "cell_type": "code",
   "execution_count": 45,
   "metadata": {},
   "outputs": [
    {
     "name": "stderr",
     "output_type": "stream",
     "text": [
      "C:\\Users\\91871\\AppData\\Local\\Programs\\Python\\Python311\\Lib\\site-packages\\dataprep\\eda\\dtypes_v2.py:14: FutureWarning: In the future `np.bool` will be defined as the corresponding NumPy scalar.\n",
      "  CATEGORICAL_NUMPY_DTYPES = [np.bool, np.object]\n"
     ]
    },
    {
     "ename": "AttributeError",
     "evalue": "module 'numpy' has no attribute 'bool'.\n`np.bool` was a deprecated alias for the builtin `bool`. To avoid this error in existing code, use `bool` by itself. Doing this will not modify any behavior and is safe. If you specifically wanted the numpy scalar type, use `np.bool_` here.\nThe aliases was originally deprecated in NumPy 1.20; for more details and guidance see the original release note at:\n    https://numpy.org/devdocs/release/1.20.0-notes.html#deprecations",
     "output_type": "error",
     "traceback": [
      "\u001b[1;31m---------------------------------------------------------------------------\u001b[0m",
      "\u001b[1;31mAttributeError\u001b[0m                            Traceback (most recent call last)",
      "Cell \u001b[1;32mIn[45], line 1\u001b[0m\n\u001b[1;32m----> 1\u001b[0m \u001b[38;5;28;01mfrom\u001b[39;00m \u001b[38;5;21;01mdataprep\u001b[39;00m\u001b[38;5;21;01m.\u001b[39;00m\u001b[38;5;21;01meda\u001b[39;00m \u001b[38;5;28;01mimport\u001b[39;00m correlation\n",
      "File \u001b[1;32m~\\AppData\\Local\\Programs\\Python\\Python311\\Lib\\site-packages\\dataprep\\eda\\__init__.py:8\u001b[0m\n\u001b[0;32m      5\u001b[0m \u001b[38;5;28;01mfrom\u001b[39;00m \u001b[38;5;21;01mbokeh\u001b[39;00m\u001b[38;5;21;01m.\u001b[39;00m\u001b[38;5;21;01mio\u001b[39;00m \u001b[38;5;28;01mimport\u001b[39;00m output_notebook\n\u001b[0;32m      7\u001b[0m \u001b[38;5;28;01mfrom\u001b[39;00m \u001b[38;5;21;01m.\u001b[39;00m\u001b[38;5;21;01m.\u001b[39;00m\u001b[38;5;21;01mutils\u001b[39;00m \u001b[38;5;28;01mimport\u001b[39;00m is_notebook\n\u001b[1;32m----> 8\u001b[0m \u001b[38;5;28;01mfrom\u001b[39;00m \u001b[38;5;21;01m.\u001b[39;00m\u001b[38;5;21;01mcorrelation\u001b[39;00m \u001b[38;5;28;01mimport\u001b[39;00m compute_correlation, plot_correlation, render_correlation\n\u001b[0;32m      9\u001b[0m \u001b[38;5;28;01mfrom\u001b[39;00m \u001b[38;5;21;01m.\u001b[39;00m\u001b[38;5;21;01mcreate_report\u001b[39;00m \u001b[38;5;28;01mimport\u001b[39;00m create_report\n\u001b[0;32m     10\u001b[0m \u001b[38;5;28;01mfrom\u001b[39;00m \u001b[38;5;21;01m.\u001b[39;00m\u001b[38;5;21;01mcreate_diff_report\u001b[39;00m \u001b[38;5;28;01mimport\u001b[39;00m create_diff_report\n",
      "File \u001b[1;32m~\\AppData\\Local\\Programs\\Python\\Python311\\Lib\\site-packages\\dataprep\\eda\\correlation\\__init__.py:13\u001b[0m\n\u001b[0;32m     11\u001b[0m \u001b[38;5;28;01mfrom\u001b[39;00m \u001b[38;5;21;01m.\u001b[39;00m\u001b[38;5;21;01m.\u001b[39;00m\u001b[38;5;21;01mcontainer\u001b[39;00m \u001b[38;5;28;01mimport\u001b[39;00m Container\n\u001b[0;32m     12\u001b[0m \u001b[38;5;28;01mfrom\u001b[39;00m \u001b[38;5;21;01m.\u001b[39;00m\u001b[38;5;21;01m.\u001b[39;00m\u001b[38;5;21;01m.\u001b[39;00m\u001b[38;5;21;01mprogress_bar\u001b[39;00m \u001b[38;5;28;01mimport\u001b[39;00m ProgressBar\n\u001b[1;32m---> 13\u001b[0m \u001b[38;5;28;01mfrom\u001b[39;00m \u001b[38;5;21;01m.\u001b[39;00m\u001b[38;5;21;01mcompute\u001b[39;00m \u001b[38;5;28;01mimport\u001b[39;00m compute_correlation\n\u001b[0;32m     14\u001b[0m \u001b[38;5;28;01mfrom\u001b[39;00m \u001b[38;5;21;01m.\u001b[39;00m\u001b[38;5;21;01mrender\u001b[39;00m \u001b[38;5;28;01mimport\u001b[39;00m render_correlation\n\u001b[0;32m     16\u001b[0m __all__ \u001b[38;5;241m=\u001b[39m [\u001b[38;5;124m\"\u001b[39m\u001b[38;5;124mrender_correlation\u001b[39m\u001b[38;5;124m\"\u001b[39m, \u001b[38;5;124m\"\u001b[39m\u001b[38;5;124mcompute_correlation\u001b[39m\u001b[38;5;124m\"\u001b[39m, \u001b[38;5;124m\"\u001b[39m\u001b[38;5;124mplot_correlation\u001b[39m\u001b[38;5;124m\"\u001b[39m]\n",
      "File \u001b[1;32m~\\AppData\\Local\\Programs\\Python\\Python311\\Lib\\site-packages\\dataprep\\eda\\correlation\\compute\\__init__.py:8\u001b[0m\n\u001b[0;32m      5\u001b[0m \u001b[38;5;28;01mfrom\u001b[39;00m \u001b[38;5;21;01mwarnings\u001b[39;00m \u001b[38;5;28;01mimport\u001b[39;00m catch_warnings, filterwarnings\n\u001b[0;32m      7\u001b[0m \u001b[38;5;28;01mfrom\u001b[39;00m \u001b[38;5;21;01m.\u001b[39;00m\u001b[38;5;21;01m.\u001b[39;00m\u001b[38;5;21;01m.\u001b[39;00m\u001b[38;5;21;01mconfigs\u001b[39;00m \u001b[38;5;28;01mimport\u001b[39;00m Config\n\u001b[1;32m----> 8\u001b[0m \u001b[38;5;28;01mfrom\u001b[39;00m \u001b[38;5;21;01m.\u001b[39;00m\u001b[38;5;21;01m.\u001b[39;00m\u001b[38;5;21;01m.\u001b[39;00m\u001b[38;5;21;01mintermediate\u001b[39;00m \u001b[38;5;28;01mimport\u001b[39;00m Intermediate\n\u001b[0;32m      9\u001b[0m \u001b[38;5;28;01mfrom\u001b[39;00m \u001b[38;5;21;01m.\u001b[39;00m\u001b[38;5;21;01m.\u001b[39;00m\u001b[38;5;21;01m.\u001b[39;00m\u001b[38;5;21;01meda_frame\u001b[39;00m \u001b[38;5;28;01mimport\u001b[39;00m EDAFrame, DataFrame\n\u001b[0;32m     10\u001b[0m \u001b[38;5;28;01mfrom\u001b[39;00m \u001b[38;5;21;01m.\u001b[39;00m\u001b[38;5;21;01mbivariate\u001b[39;00m \u001b[38;5;28;01mimport\u001b[39;00m _calc_bivariate\n",
      "File \u001b[1;32m~\\AppData\\Local\\Programs\\Python\\Python311\\Lib\\site-packages\\dataprep\\eda\\intermediate.py:12\u001b[0m\n\u001b[0;32m      9\u001b[0m \u001b[38;5;28;01mimport\u001b[39;00m \u001b[38;5;21;01mnumpy\u001b[39;00m \u001b[38;5;28;01mas\u001b[39;00m \u001b[38;5;21;01mnp\u001b[39;00m\n\u001b[0;32m     10\u001b[0m \u001b[38;5;28;01mimport\u001b[39;00m \u001b[38;5;21;01mpandas\u001b[39;00m \u001b[38;5;28;01mas\u001b[39;00m \u001b[38;5;21;01mpd\u001b[39;00m\n\u001b[1;32m---> 12\u001b[0m \u001b[38;5;28;01mfrom\u001b[39;00m \u001b[38;5;21;01m.\u001b[39;00m\u001b[38;5;21;01mdtypes_v2\u001b[39;00m \u001b[38;5;28;01mimport\u001b[39;00m Continuous, Nominal, SmallCardNum\n\u001b[0;32m     15\u001b[0m \u001b[38;5;28;01mclass\u001b[39;00m \u001b[38;5;21;01mIntermediate\u001b[39;00m(Dict[\u001b[38;5;28mstr\u001b[39m, Any]):\n\u001b[0;32m     16\u001b[0m     \u001b[38;5;124;03m\"\"\"This class contains intermediate results.\"\"\"\u001b[39;00m\n",
      "File \u001b[1;32m~\\AppData\\Local\\Programs\\Python\\Python311\\Lib\\site-packages\\dataprep\\eda\\dtypes_v2.py:14\u001b[0m\n\u001b[0;32m     11\u001b[0m STRING_PANDAS_DTYPES \u001b[38;5;241m=\u001b[39m [pd\u001b[38;5;241m.\u001b[39mStringDtype]\n\u001b[0;32m     12\u001b[0m STRING_DTYPES \u001b[38;5;241m=\u001b[39m STRING_PANDAS_DTYPES\n\u001b[1;32m---> 14\u001b[0m CATEGORICAL_NUMPY_DTYPES \u001b[38;5;241m=\u001b[39m [np\u001b[38;5;241m.\u001b[39mbool, np\u001b[38;5;241m.\u001b[39mobject]\n\u001b[0;32m     15\u001b[0m CATEGORICAL_PANDAS_DTYPES \u001b[38;5;241m=\u001b[39m [pd\u001b[38;5;241m.\u001b[39mCategoricalDtype, pd\u001b[38;5;241m.\u001b[39mPeriodDtype]\n\u001b[0;32m     16\u001b[0m CATEGORICAL_DTYPES \u001b[38;5;241m=\u001b[39m CATEGORICAL_NUMPY_DTYPES \u001b[38;5;241m+\u001b[39m CATEGORICAL_PANDAS_DTYPES \u001b[38;5;241m+\u001b[39m STRING_DTYPES\n",
      "File \u001b[1;32m~\\AppData\\Local\\Programs\\Python\\Python311\\Lib\\site-packages\\numpy\\__init__.py:313\u001b[0m, in \u001b[0;36m__getattr__\u001b[1;34m(attr)\u001b[0m\n\u001b[0;32m    308\u001b[0m     warnings\u001b[38;5;241m.\u001b[39mwarn(\n\u001b[0;32m    309\u001b[0m         \u001b[38;5;124mf\u001b[39m\u001b[38;5;124m\"\u001b[39m\u001b[38;5;124mIn the future `np.\u001b[39m\u001b[38;5;132;01m{\u001b[39;00mattr\u001b[38;5;132;01m}\u001b[39;00m\u001b[38;5;124m` will be defined as the \u001b[39m\u001b[38;5;124m\"\u001b[39m\n\u001b[0;32m    310\u001b[0m         \u001b[38;5;124m\"\u001b[39m\u001b[38;5;124mcorresponding NumPy scalar.\u001b[39m\u001b[38;5;124m\"\u001b[39m, \u001b[38;5;167;01mFutureWarning\u001b[39;00m, stacklevel\u001b[38;5;241m=\u001b[39m\u001b[38;5;241m2\u001b[39m)\n\u001b[0;32m    312\u001b[0m \u001b[38;5;28;01mif\u001b[39;00m attr \u001b[38;5;129;01min\u001b[39;00m __former_attrs__:\n\u001b[1;32m--> 313\u001b[0m     \u001b[38;5;28;01mraise\u001b[39;00m \u001b[38;5;167;01mAttributeError\u001b[39;00m(__former_attrs__[attr])\n\u001b[0;32m    315\u001b[0m \u001b[38;5;28;01mif\u001b[39;00m attr \u001b[38;5;241m==\u001b[39m \u001b[38;5;124m'\u001b[39m\u001b[38;5;124mtesting\u001b[39m\u001b[38;5;124m'\u001b[39m:\n\u001b[0;32m    316\u001b[0m     \u001b[38;5;28;01mimport\u001b[39;00m \u001b[38;5;21;01mnumpy\u001b[39;00m\u001b[38;5;21;01m.\u001b[39;00m\u001b[38;5;21;01mtesting\u001b[39;00m \u001b[38;5;28;01mas\u001b[39;00m \u001b[38;5;21;01mtesting\u001b[39;00m\n",
      "\u001b[1;31mAttributeError\u001b[0m: module 'numpy' has no attribute 'bool'.\n`np.bool` was a deprecated alias for the builtin `bool`. To avoid this error in existing code, use `bool` by itself. Doing this will not modify any behavior and is safe. If you specifically wanted the numpy scalar type, use `np.bool_` here.\nThe aliases was originally deprecated in NumPy 1.20; for more details and guidance see the original release note at:\n    https://numpy.org/devdocs/release/1.20.0-notes.html#deprecations"
     ]
    }
   ],
   "source": [
    "from dataprep.eda import correlation"
   ]
  },
  {
   "cell_type": "code",
   "execution_count": null,
   "metadata": {},
   "outputs": [],
   "source": []
  },
  {
   "cell_type": "code",
   "execution_count": null,
   "metadata": {},
   "outputs": [],
   "source": []
  },
  {
   "cell_type": "code",
   "execution_count": 42,
   "metadata": {},
   "outputs": [],
   "source": [
    "import matplotlib.pyplot as plt"
   ]
  },
  {
   "cell_type": "code",
   "execution_count": 43,
   "metadata": {},
   "outputs": [],
   "source": [
    "df1=pd.read_csv(r\"C:\\Users\\91871\\OneDrive\\Desktop\\crop_production_data.csv\")"
   ]
  },
  {
   "cell_type": "code",
   "execution_count": 44,
   "metadata": {},
   "outputs": [
    {
     "data": {
      "text/html": [
       "<div>\n",
       "<style scoped>\n",
       "    .dataframe tbody tr th:only-of-type {\n",
       "        vertical-align: middle;\n",
       "    }\n",
       "\n",
       "    .dataframe tbody tr th {\n",
       "        vertical-align: top;\n",
       "    }\n",
       "\n",
       "    .dataframe thead th {\n",
       "        text-align: right;\n",
       "    }\n",
       "</style>\n",
       "<table border=\"1\" class=\"dataframe\">\n",
       "  <thead>\n",
       "    <tr style=\"text-align: right;\">\n",
       "      <th></th>\n",
       "      <th>District</th>\n",
       "      <th>Crop</th>\n",
       "      <th>Season</th>\n",
       "      <th>Area (hectares)</th>\n",
       "      <th>Yield (quintals)</th>\n",
       "      <th>Production (metric tons)</th>\n",
       "    </tr>\n",
       "  </thead>\n",
       "  <tbody>\n",
       "    <tr>\n",
       "      <th>0</th>\n",
       "      <td>Jodhpur</td>\n",
       "      <td>Wheat</td>\n",
       "      <td>Kharif</td>\n",
       "      <td>16490.142459</td>\n",
       "      <td>30.691986</td>\n",
       "      <td>5061.152230</td>\n",
       "    </tr>\n",
       "    <tr>\n",
       "      <th>1</th>\n",
       "      <td>Kota</td>\n",
       "      <td>Gram</td>\n",
       "      <td>Rabi</td>\n",
       "      <td>16943.065614</td>\n",
       "      <td>45.818232</td>\n",
       "      <td>7763.013072</td>\n",
       "    </tr>\n",
       "    <tr>\n",
       "      <th>2</th>\n",
       "      <td>Jaipur</td>\n",
       "      <td>Wheat</td>\n",
       "      <td>Rabi</td>\n",
       "      <td>14297.539876</td>\n",
       "      <td>29.752629</td>\n",
       "      <td>4253.893981</td>\n",
       "    </tr>\n",
       "    <tr>\n",
       "      <th>3</th>\n",
       "      <td>Hanumangarh</td>\n",
       "      <td>Coriander</td>\n",
       "      <td>Rabi</td>\n",
       "      <td>19737.638447</td>\n",
       "      <td>42.026511</td>\n",
       "      <td>8295.040749</td>\n",
       "    </tr>\n",
       "    <tr>\n",
       "      <th>4</th>\n",
       "      <td>Hanumangarh</td>\n",
       "      <td>Citrus</td>\n",
       "      <td>Rabi</td>\n",
       "      <td>13591.576842</td>\n",
       "      <td>38.195933</td>\n",
       "      <td>5191.429648</td>\n",
       "    </tr>\n",
       "  </tbody>\n",
       "</table>\n",
       "</div>"
      ],
      "text/plain": [
       "      District       Crop  Season  Area (hectares)  Yield (quintals)  \\\n",
       "0      Jodhpur      Wheat  Kharif     16490.142459         30.691986   \n",
       "1         Kota       Gram    Rabi     16943.065614         45.818232   \n",
       "2       Jaipur      Wheat    Rabi     14297.539876         29.752629   \n",
       "3  Hanumangarh  Coriander    Rabi     19737.638447         42.026511   \n",
       "4  Hanumangarh     Citrus    Rabi     13591.576842         38.195933   \n",
       "\n",
       "   Production (metric tons)  \n",
       "0               5061.152230  \n",
       "1               7763.013072  \n",
       "2               4253.893981  \n",
       "3               8295.040749  \n",
       "4               5191.429648  "
      ]
     },
     "execution_count": 44,
     "metadata": {},
     "output_type": "execute_result"
    }
   ],
   "source": [
    "df1.head()"
   ]
  },
  {
   "cell_type": "code",
   "execution_count": 15,
   "metadata": {},
   "outputs": [
    {
     "data": {
      "text/plain": [
       "(1000, 6)"
      ]
     },
     "execution_count": 15,
     "metadata": {},
     "output_type": "execute_result"
    }
   ],
   "source": [
    "df1.shape"
   ]
  },
  {
   "cell_type": "code",
   "execution_count": null,
   "metadata": {},
   "outputs": [],
   "source": []
  },
  {
   "cell_type": "code",
   "execution_count": null,
   "metadata": {},
   "outputs": [],
   "source": []
  },
  {
   "cell_type": "code",
   "execution_count": 16,
   "metadata": {},
   "outputs": [],
   "source": [
    "df3=pd.read_csv(r\"C:\\Users\\91871\\OneDrive\\Desktop\\water_usage_data.csv\")"
   ]
  },
  {
   "cell_type": "code",
   "execution_count": 17,
   "metadata": {},
   "outputs": [
    {
     "data": {
      "text/html": [
       "<div>\n",
       "<style scoped>\n",
       "    .dataframe tbody tr th:only-of-type {\n",
       "        vertical-align: middle;\n",
       "    }\n",
       "\n",
       "    .dataframe tbody tr th {\n",
       "        vertical-align: top;\n",
       "    }\n",
       "\n",
       "    .dataframe thead th {\n",
       "        text-align: right;\n",
       "    }\n",
       "</style>\n",
       "<table border=\"1\" class=\"dataframe\">\n",
       "  <thead>\n",
       "    <tr style=\"text-align: right;\">\n",
       "      <th></th>\n",
       "      <th>District</th>\n",
       "      <th>Crop</th>\n",
       "      <th>Irrigation Method</th>\n",
       "      <th>Water Consumption (liters/hectare)</th>\n",
       "      <th>Water Availability (liters/hectare)</th>\n",
       "    </tr>\n",
       "  </thead>\n",
       "  <tbody>\n",
       "    <tr>\n",
       "      <th>0</th>\n",
       "      <td>Udaipur</td>\n",
       "      <td>Garlic</td>\n",
       "      <td>Tube Well</td>\n",
       "      <td>11609.330886</td>\n",
       "      <td>11335.919980</td>\n",
       "    </tr>\n",
       "    <tr>\n",
       "      <th>1</th>\n",
       "      <td>Bhilwara</td>\n",
       "      <td>Gram</td>\n",
       "      <td>Drip Irrigation</td>\n",
       "      <td>12648.406038</td>\n",
       "      <td>12091.900254</td>\n",
       "    </tr>\n",
       "    <tr>\n",
       "      <th>2</th>\n",
       "      <td>Udaipur</td>\n",
       "      <td>Guava</td>\n",
       "      <td>Canal Irrigation</td>\n",
       "      <td>10063.162448</td>\n",
       "      <td>9810.943169</td>\n",
       "    </tr>\n",
       "    <tr>\n",
       "      <th>3</th>\n",
       "      <td>Jodhpur</td>\n",
       "      <td>Barley</td>\n",
       "      <td>Sprinkler Irrigation</td>\n",
       "      <td>10110.539993</td>\n",
       "      <td>10754.217313</td>\n",
       "    </tr>\n",
       "    <tr>\n",
       "      <th>4</th>\n",
       "      <td>Alwar</td>\n",
       "      <td>Gram</td>\n",
       "      <td>Canal Irrigation</td>\n",
       "      <td>9320.451018</td>\n",
       "      <td>8695.537819</td>\n",
       "    </tr>\n",
       "  </tbody>\n",
       "</table>\n",
       "</div>"
      ],
      "text/plain": [
       "   District    Crop     Irrigation Method  Water Consumption (liters/hectare)  \\\n",
       "0   Udaipur  Garlic             Tube Well                        11609.330886   \n",
       "1  Bhilwara    Gram       Drip Irrigation                        12648.406038   \n",
       "2   Udaipur   Guava      Canal Irrigation                        10063.162448   \n",
       "3   Jodhpur  Barley  Sprinkler Irrigation                        10110.539993   \n",
       "4     Alwar    Gram      Canal Irrigation                         9320.451018   \n",
       "\n",
       "   Water Availability (liters/hectare)  \n",
       "0                         11335.919980  \n",
       "1                         12091.900254  \n",
       "2                          9810.943169  \n",
       "3                         10754.217313  \n",
       "4                          8695.537819  "
      ]
     },
     "execution_count": 17,
     "metadata": {},
     "output_type": "execute_result"
    }
   ],
   "source": [
    "df3.head()"
   ]
  },
  {
   "cell_type": "code",
   "execution_count": 18,
   "metadata": {},
   "outputs": [
    {
     "data": {
      "text/plain": [
       "(1000, 6)"
      ]
     },
     "execution_count": 18,
     "metadata": {},
     "output_type": "execute_result"
    }
   ],
   "source": [
    "df1.shape"
   ]
  },
  {
   "cell_type": "code",
   "execution_count": null,
   "metadata": {},
   "outputs": [],
   "source": []
  },
  {
   "cell_type": "code",
   "execution_count": 19,
   "metadata": {},
   "outputs": [
    {
     "data": {
      "text/html": [
       "<div>\n",
       "<style scoped>\n",
       "    .dataframe tbody tr th:only-of-type {\n",
       "        vertical-align: middle;\n",
       "    }\n",
       "\n",
       "    .dataframe tbody tr th {\n",
       "        vertical-align: top;\n",
       "    }\n",
       "\n",
       "    .dataframe thead th {\n",
       "        text-align: right;\n",
       "    }\n",
       "</style>\n",
       "<table border=\"1\" class=\"dataframe\">\n",
       "  <thead>\n",
       "    <tr style=\"text-align: right;\">\n",
       "      <th></th>\n",
       "      <th>District</th>\n",
       "      <th>Crop</th>\n",
       "      <th>Season</th>\n",
       "      <th>Area (hectares)</th>\n",
       "      <th>Yield (quintals)</th>\n",
       "      <th>Production (metric tons)</th>\n",
       "    </tr>\n",
       "  </thead>\n",
       "  <tbody>\n",
       "    <tr>\n",
       "      <th>0</th>\n",
       "      <td>Jodhpur</td>\n",
       "      <td>Wheat</td>\n",
       "      <td>Kharif</td>\n",
       "      <td>16490.142459</td>\n",
       "      <td>30.691986</td>\n",
       "      <td>5061.152230</td>\n",
       "    </tr>\n",
       "    <tr>\n",
       "      <th>1</th>\n",
       "      <td>Kota</td>\n",
       "      <td>Gram</td>\n",
       "      <td>Rabi</td>\n",
       "      <td>16943.065614</td>\n",
       "      <td>45.818232</td>\n",
       "      <td>7763.013072</td>\n",
       "    </tr>\n",
       "    <tr>\n",
       "      <th>2</th>\n",
       "      <td>Jaipur</td>\n",
       "      <td>Wheat</td>\n",
       "      <td>Rabi</td>\n",
       "      <td>14297.539876</td>\n",
       "      <td>29.752629</td>\n",
       "      <td>4253.893981</td>\n",
       "    </tr>\n",
       "    <tr>\n",
       "      <th>3</th>\n",
       "      <td>Hanumangarh</td>\n",
       "      <td>Coriander</td>\n",
       "      <td>Rabi</td>\n",
       "      <td>19737.638447</td>\n",
       "      <td>42.026511</td>\n",
       "      <td>8295.040749</td>\n",
       "    </tr>\n",
       "    <tr>\n",
       "      <th>4</th>\n",
       "      <td>Hanumangarh</td>\n",
       "      <td>Citrus</td>\n",
       "      <td>Rabi</td>\n",
       "      <td>13591.576842</td>\n",
       "      <td>38.195933</td>\n",
       "      <td>5191.429648</td>\n",
       "    </tr>\n",
       "  </tbody>\n",
       "</table>\n",
       "</div>"
      ],
      "text/plain": [
       "      District       Crop  Season  Area (hectares)  Yield (quintals)  \\\n",
       "0      Jodhpur      Wheat  Kharif     16490.142459         30.691986   \n",
       "1         Kota       Gram    Rabi     16943.065614         45.818232   \n",
       "2       Jaipur      Wheat    Rabi     14297.539876         29.752629   \n",
       "3  Hanumangarh  Coriander    Rabi     19737.638447         42.026511   \n",
       "4  Hanumangarh     Citrus    Rabi     13591.576842         38.195933   \n",
       "\n",
       "   Production (metric tons)  \n",
       "0               5061.152230  \n",
       "1               7763.013072  \n",
       "2               4253.893981  \n",
       "3               8295.040749  \n",
       "4               5191.429648  "
      ]
     },
     "execution_count": 19,
     "metadata": {},
     "output_type": "execute_result"
    }
   ],
   "source": [
    "df1.head()"
   ]
  },
  {
   "cell_type": "code",
   "execution_count": 20,
   "metadata": {},
   "outputs": [
    {
     "name": "stdout",
     "output_type": "stream",
     "text": [
      "<class 'pandas.core.frame.DataFrame'>\n",
      "RangeIndex: 1000 entries, 0 to 999\n",
      "Data columns (total 6 columns):\n",
      " #   Column                    Non-Null Count  Dtype  \n",
      "---  ------                    --------------  -----  \n",
      " 0   District                  1000 non-null   object \n",
      " 1   Crop                      1000 non-null   object \n",
      " 2   Season                    1000 non-null   object \n",
      " 3   Area (hectares)           1000 non-null   float64\n",
      " 4   Yield (quintals)          1000 non-null   float64\n",
      " 5   Production (metric tons)  1000 non-null   float64\n",
      "dtypes: float64(3), object(3)\n",
      "memory usage: 47.0+ KB\n"
     ]
    }
   ],
   "source": [
    "df1.info()"
   ]
  },
  {
   "cell_type": "code",
   "execution_count": 21,
   "metadata": {},
   "outputs": [
    {
     "data": {
      "text/plain": [
       "District                    0\n",
       "Crop                        0\n",
       "Season                      0\n",
       "Area (hectares)             0\n",
       "Yield (quintals)            0\n",
       "Production (metric tons)    0\n",
       "dtype: int64"
      ]
     },
     "execution_count": 21,
     "metadata": {},
     "output_type": "execute_result"
    }
   ],
   "source": [
    "df1.isnull().sum()"
   ]
  },
  {
   "cell_type": "code",
   "execution_count": 22,
   "metadata": {},
   "outputs": [
    {
     "data": {
      "text/plain": [
       "District                    0\n",
       "Crop                        0\n",
       "Season                      0\n",
       "Area (hectares)             0\n",
       "Yield (quintals)            0\n",
       "Production (metric tons)    0\n",
       "dtype: int64"
      ]
     },
     "execution_count": 22,
     "metadata": {},
     "output_type": "execute_result"
    }
   ],
   "source": [
    "df1.isna().sum()"
   ]
  },
  {
   "cell_type": "code",
   "execution_count": 23,
   "metadata": {},
   "outputs": [
    {
     "data": {
      "text/plain": [
       "array(['Kharif', 'Rabi'], dtype=object)"
      ]
     },
     "execution_count": 23,
     "metadata": {},
     "output_type": "execute_result"
    }
   ],
   "source": [
    "df1[\"Season\"].unique()"
   ]
  },
  {
   "cell_type": "code",
   "execution_count": 24,
   "metadata": {},
   "outputs": [
    {
     "data": {
      "text/html": [
       "<div>\n",
       "<style scoped>\n",
       "    .dataframe tbody tr th:only-of-type {\n",
       "        vertical-align: middle;\n",
       "    }\n",
       "\n",
       "    .dataframe tbody tr th {\n",
       "        vertical-align: top;\n",
       "    }\n",
       "\n",
       "    .dataframe thead th {\n",
       "        text-align: right;\n",
       "    }\n",
       "</style>\n",
       "<table border=\"1\" class=\"dataframe\">\n",
       "  <thead>\n",
       "    <tr style=\"text-align: right;\">\n",
       "      <th></th>\n",
       "      <th>Area (hectares)</th>\n",
       "      <th>Yield (quintals)</th>\n",
       "      <th>Production (metric tons)</th>\n",
       "    </tr>\n",
       "  </thead>\n",
       "  <tbody>\n",
       "    <tr>\n",
       "      <th>count</th>\n",
       "      <td>1000.000000</td>\n",
       "      <td>1000.000000</td>\n",
       "      <td>1000.000000</td>\n",
       "    </tr>\n",
       "    <tr>\n",
       "      <th>mean</th>\n",
       "      <td>15046.881839</td>\n",
       "      <td>37.618328</td>\n",
       "      <td>5662.518485</td>\n",
       "    </tr>\n",
       "    <tr>\n",
       "      <th>std</th>\n",
       "      <td>2775.359803</td>\n",
       "      <td>8.218587</td>\n",
       "      <td>1629.922505</td>\n",
       "    </tr>\n",
       "    <tr>\n",
       "      <th>min</th>\n",
       "      <td>5276.197980</td>\n",
       "      <td>20.272936</td>\n",
       "      <td>1728.445956</td>\n",
       "    </tr>\n",
       "    <tr>\n",
       "      <th>25%</th>\n",
       "      <td>13165.258125</td>\n",
       "      <td>31.105150</td>\n",
       "      <td>4438.671582</td>\n",
       "    </tr>\n",
       "    <tr>\n",
       "      <th>50%</th>\n",
       "      <td>15108.130420</td>\n",
       "      <td>37.227050</td>\n",
       "      <td>5561.468281</td>\n",
       "    </tr>\n",
       "    <tr>\n",
       "      <th>75%</th>\n",
       "      <td>16944.950094</td>\n",
       "      <td>43.711205</td>\n",
       "      <td>6769.771692</td>\n",
       "    </tr>\n",
       "    <tr>\n",
       "      <th>max</th>\n",
       "      <td>20000.000000</td>\n",
       "      <td>60.429192</td>\n",
       "      <td>10834.530834</td>\n",
       "    </tr>\n",
       "  </tbody>\n",
       "</table>\n",
       "</div>"
      ],
      "text/plain": [
       "       Area (hectares)  Yield (quintals)  Production (metric tons)\n",
       "count      1000.000000       1000.000000               1000.000000\n",
       "mean      15046.881839         37.618328               5662.518485\n",
       "std        2775.359803          8.218587               1629.922505\n",
       "min        5276.197980         20.272936               1728.445956\n",
       "25%       13165.258125         31.105150               4438.671582\n",
       "50%       15108.130420         37.227050               5561.468281\n",
       "75%       16944.950094         43.711205               6769.771692\n",
       "max       20000.000000         60.429192              10834.530834"
      ]
     },
     "execution_count": 24,
     "metadata": {},
     "output_type": "execute_result"
    }
   ],
   "source": [
    "df1.describe()"
   ]
  },
  {
   "cell_type": "code",
   "execution_count": 25,
   "metadata": {},
   "outputs": [
    {
     "name": "stderr",
     "output_type": "stream",
     "text": [
      "C:\\Users\\91871\\AppData\\Local\\Temp\\ipykernel_25328\\473017434.py:1: FutureWarning: The default value of numeric_only in DataFrame.corr is deprecated. In a future version, it will default to False. Select only valid columns or specify the value of numeric_only to silence this warning.\n",
      "  df1.corr()\n"
     ]
    },
    {
     "data": {
      "text/html": [
       "<div>\n",
       "<style scoped>\n",
       "    .dataframe tbody tr th:only-of-type {\n",
       "        vertical-align: middle;\n",
       "    }\n",
       "\n",
       "    .dataframe tbody tr th {\n",
       "        vertical-align: top;\n",
       "    }\n",
       "\n",
       "    .dataframe thead th {\n",
       "        text-align: right;\n",
       "    }\n",
       "</style>\n",
       "<table border=\"1\" class=\"dataframe\">\n",
       "  <thead>\n",
       "    <tr style=\"text-align: right;\">\n",
       "      <th></th>\n",
       "      <th>Area (hectares)</th>\n",
       "      <th>Yield (quintals)</th>\n",
       "      <th>Production (metric tons)</th>\n",
       "    </tr>\n",
       "  </thead>\n",
       "  <tbody>\n",
       "    <tr>\n",
       "      <th>Area (hectares)</th>\n",
       "      <td>1.000000</td>\n",
       "      <td>0.009361</td>\n",
       "      <td>0.642135</td>\n",
       "    </tr>\n",
       "    <tr>\n",
       "      <th>Yield (quintals)</th>\n",
       "      <td>0.009361</td>\n",
       "      <td>1.000000</td>\n",
       "      <td>0.759973</td>\n",
       "    </tr>\n",
       "    <tr>\n",
       "      <th>Production (metric tons)</th>\n",
       "      <td>0.642135</td>\n",
       "      <td>0.759973</td>\n",
       "      <td>1.000000</td>\n",
       "    </tr>\n",
       "  </tbody>\n",
       "</table>\n",
       "</div>"
      ],
      "text/plain": [
       "                          Area (hectares)  Yield (quintals)  \\\n",
       "Area (hectares)                  1.000000          0.009361   \n",
       "Yield (quintals)                 0.009361          1.000000   \n",
       "Production (metric tons)         0.642135          0.759973   \n",
       "\n",
       "                          Production (metric tons)  \n",
       "Area (hectares)                           0.642135  \n",
       "Yield (quintals)                          0.759973  \n",
       "Production (metric tons)                  1.000000  "
      ]
     },
     "execution_count": 25,
     "metadata": {},
     "output_type": "execute_result"
    }
   ],
   "source": [
    "df1.corr()"
   ]
  },
  {
   "cell_type": "code",
   "execution_count": 26,
   "metadata": {},
   "outputs": [
    {
     "name": "stdout",
     "output_type": "stream",
     "text": [
      "Total hectares in rajasthan in 2018-2019\n"
     ]
    },
    {
     "data": {
      "text/plain": [
       "15046881.838853737"
      ]
     },
     "execution_count": 26,
     "metadata": {},
     "output_type": "execute_result"
    }
   ],
   "source": [
    "print(\"Total hectares in rajasthan in 2018-2019\")\n",
    "df1[\"Area (hectares)\"].sum()\n",
    "df1[\"Area (hectares)\"].sum()"
   ]
  },
  {
   "cell_type": "code",
   "execution_count": 27,
   "metadata": {},
   "outputs": [],
   "source": [
    "df1_Kharif=df1[df1[\"Season\"]==\"Kharif\"]"
   ]
  },
  {
   "cell_type": "code",
   "execution_count": 28,
   "metadata": {},
   "outputs": [],
   "source": [
    "df1_Rabi=df1[df1[\"Season\"]==\"Rabi\"]"
   ]
  },
  {
   "cell_type": "code",
   "execution_count": 29,
   "metadata": {},
   "outputs": [
    {
     "data": {
      "text/html": [
       "<div>\n",
       "<style scoped>\n",
       "    .dataframe tbody tr th:only-of-type {\n",
       "        vertical-align: middle;\n",
       "    }\n",
       "\n",
       "    .dataframe tbody tr th {\n",
       "        vertical-align: top;\n",
       "    }\n",
       "\n",
       "    .dataframe thead th {\n",
       "        text-align: right;\n",
       "    }\n",
       "</style>\n",
       "<table border=\"1\" class=\"dataframe\">\n",
       "  <thead>\n",
       "    <tr style=\"text-align: right;\">\n",
       "      <th></th>\n",
       "      <th>District</th>\n",
       "      <th>Crop</th>\n",
       "      <th>Season</th>\n",
       "      <th>Area (hectares)</th>\n",
       "      <th>Yield (quintals)</th>\n",
       "      <th>Production (metric tons)</th>\n",
       "    </tr>\n",
       "  </thead>\n",
       "  <tbody>\n",
       "    <tr>\n",
       "      <th>0</th>\n",
       "      <td>Jodhpur</td>\n",
       "      <td>Wheat</td>\n",
       "      <td>Kharif</td>\n",
       "      <td>16490.142459</td>\n",
       "      <td>30.691986</td>\n",
       "      <td>5061.152230</td>\n",
       "    </tr>\n",
       "    <tr>\n",
       "      <th>8</th>\n",
       "      <td>Udaipur</td>\n",
       "      <td>Guava</td>\n",
       "      <td>Kharif</td>\n",
       "      <td>11961.506639</td>\n",
       "      <td>46.597920</td>\n",
       "      <td>5573.813286</td>\n",
       "    </tr>\n",
       "    <tr>\n",
       "      <th>10</th>\n",
       "      <td>Alwar</td>\n",
       "      <td>Mustard</td>\n",
       "      <td>Kharif</td>\n",
       "      <td>19396.946307</td>\n",
       "      <td>44.702526</td>\n",
       "      <td>8670.924978</td>\n",
       "    </tr>\n",
       "    <tr>\n",
       "      <th>14</th>\n",
       "      <td>Bhilwara</td>\n",
       "      <td>Fennel</td>\n",
       "      <td>Kharif</td>\n",
       "      <td>13198.083930</td>\n",
       "      <td>28.218505</td>\n",
       "      <td>3724.301986</td>\n",
       "    </tr>\n",
       "    <tr>\n",
       "      <th>15</th>\n",
       "      <td>Udaipur</td>\n",
       "      <td>Bajra</td>\n",
       "      <td>Kharif</td>\n",
       "      <td>13194.880163</td>\n",
       "      <td>50.426119</td>\n",
       "      <td>6653.666031</td>\n",
       "    </tr>\n",
       "  </tbody>\n",
       "</table>\n",
       "</div>"
      ],
      "text/plain": [
       "    District     Crop  Season  Area (hectares)  Yield (quintals)  \\\n",
       "0    Jodhpur    Wheat  Kharif     16490.142459         30.691986   \n",
       "8    Udaipur    Guava  Kharif     11961.506639         46.597920   \n",
       "10     Alwar  Mustard  Kharif     19396.946307         44.702526   \n",
       "14  Bhilwara   Fennel  Kharif     13198.083930         28.218505   \n",
       "15   Udaipur    Bajra  Kharif     13194.880163         50.426119   \n",
       "\n",
       "    Production (metric tons)  \n",
       "0                5061.152230  \n",
       "8                5573.813286  \n",
       "10               8670.924978  \n",
       "14               3724.301986  \n",
       "15               6653.666031  "
      ]
     },
     "execution_count": 29,
     "metadata": {},
     "output_type": "execute_result"
    }
   ],
   "source": [
    "df1_Kharif.head()"
   ]
  },
  {
   "cell_type": "code",
   "execution_count": 30,
   "metadata": {},
   "outputs": [
    {
     "data": {
      "text/html": [
       "<div>\n",
       "<style scoped>\n",
       "    .dataframe tbody tr th:only-of-type {\n",
       "        vertical-align: middle;\n",
       "    }\n",
       "\n",
       "    .dataframe tbody tr th {\n",
       "        vertical-align: top;\n",
       "    }\n",
       "\n",
       "    .dataframe thead th {\n",
       "        text-align: right;\n",
       "    }\n",
       "</style>\n",
       "<table border=\"1\" class=\"dataframe\">\n",
       "  <thead>\n",
       "    <tr style=\"text-align: right;\">\n",
       "      <th></th>\n",
       "      <th>District</th>\n",
       "      <th>Crop</th>\n",
       "      <th>Season</th>\n",
       "      <th>Area (hectares)</th>\n",
       "      <th>Yield (quintals)</th>\n",
       "      <th>Production (metric tons)</th>\n",
       "    </tr>\n",
       "  </thead>\n",
       "  <tbody>\n",
       "    <tr>\n",
       "      <th>1</th>\n",
       "      <td>Kota</td>\n",
       "      <td>Gram</td>\n",
       "      <td>Rabi</td>\n",
       "      <td>16943.065614</td>\n",
       "      <td>45.818232</td>\n",
       "      <td>7763.013072</td>\n",
       "    </tr>\n",
       "    <tr>\n",
       "      <th>2</th>\n",
       "      <td>Jaipur</td>\n",
       "      <td>Wheat</td>\n",
       "      <td>Rabi</td>\n",
       "      <td>14297.539876</td>\n",
       "      <td>29.752629</td>\n",
       "      <td>4253.893981</td>\n",
       "    </tr>\n",
       "    <tr>\n",
       "      <th>3</th>\n",
       "      <td>Hanumangarh</td>\n",
       "      <td>Coriander</td>\n",
       "      <td>Rabi</td>\n",
       "      <td>19737.638447</td>\n",
       "      <td>42.026511</td>\n",
       "      <td>8295.040749</td>\n",
       "    </tr>\n",
       "    <tr>\n",
       "      <th>4</th>\n",
       "      <td>Hanumangarh</td>\n",
       "      <td>Citrus</td>\n",
       "      <td>Rabi</td>\n",
       "      <td>13591.576842</td>\n",
       "      <td>38.195933</td>\n",
       "      <td>5191.429648</td>\n",
       "    </tr>\n",
       "    <tr>\n",
       "      <th>5</th>\n",
       "      <td>Sri Ganganagar</td>\n",
       "      <td>Wheat</td>\n",
       "      <td>Rabi</td>\n",
       "      <td>13609.746922</td>\n",
       "      <td>40.476300</td>\n",
       "      <td>5508.721962</td>\n",
       "    </tr>\n",
       "  </tbody>\n",
       "</table>\n",
       "</div>"
      ],
      "text/plain": [
       "         District       Crop Season  Area (hectares)  Yield (quintals)  \\\n",
       "1            Kota       Gram   Rabi     16943.065614         45.818232   \n",
       "2          Jaipur      Wheat   Rabi     14297.539876         29.752629   \n",
       "3     Hanumangarh  Coriander   Rabi     19737.638447         42.026511   \n",
       "4     Hanumangarh     Citrus   Rabi     13591.576842         38.195933   \n",
       "5  Sri Ganganagar      Wheat   Rabi     13609.746922         40.476300   \n",
       "\n",
       "   Production (metric tons)  \n",
       "1               7763.013072  \n",
       "2               4253.893981  \n",
       "3               8295.040749  \n",
       "4               5191.429648  \n",
       "5               5508.721962  "
      ]
     },
     "execution_count": 30,
     "metadata": {},
     "output_type": "execute_result"
    }
   ],
   "source": [
    "df1_Rabi.head()"
   ]
  },
  {
   "cell_type": "code",
   "execution_count": 31,
   "metadata": {},
   "outputs": [
    {
     "data": {
      "text/plain": [
       "array(['Gram', 'Wheat', 'Coriander', 'Citrus', 'Cotton', 'Garlic',\n",
       "       'Guava', 'Fenugreek', 'Maize', 'Chilli', 'Mustard', 'Bajra',\n",
       "       'Tomato', 'Pomegranate', 'Onion', 'Mango', 'Pulses', 'Opium',\n",
       "       'Cumin', 'Fennel', 'Oilseeds', 'Sugarcane', 'Barley'], dtype=object)"
      ]
     },
     "execution_count": 31,
     "metadata": {},
     "output_type": "execute_result"
    }
   ],
   "source": [
    "df1_Rabi[\"Crop\"].unique()"
   ]
  },
  {
   "cell_type": "code",
   "execution_count": 32,
   "metadata": {},
   "outputs": [
    {
     "data": {
      "text/plain": [
       "array(['Wheat', 'Guava', 'Mustard', 'Fennel', 'Bajra', 'Oilseeds',\n",
       "       'Maize', 'Opium', 'Pomegranate', 'Cumin', 'Chilli', 'Tomato',\n",
       "       'Cotton', 'Sugarcane', 'Fenugreek', 'Barley', 'Pulses', 'Garlic',\n",
       "       'Mango', 'Citrus', 'Coriander', 'Onion', 'Gram'], dtype=object)"
      ]
     },
     "execution_count": 32,
     "metadata": {},
     "output_type": "execute_result"
    }
   ],
   "source": [
    "df1_Kharif[\"Crop\"].unique()"
   ]
  },
  {
   "cell_type": "code",
   "execution_count": 33,
   "metadata": {},
   "outputs": [
    {
     "data": {
      "text/plain": [
       "7611811.365833845"
      ]
     },
     "execution_count": 33,
     "metadata": {},
     "output_type": "execute_result"
    }
   ],
   "source": [
    "df1_Kharif[\"Area (hectares)\"].sum()"
   ]
  },
  {
   "cell_type": "code",
   "execution_count": 34,
   "metadata": {},
   "outputs": [
    {
     "data": {
      "text/plain": [
       "7435070.473019892"
      ]
     },
     "execution_count": 34,
     "metadata": {},
     "output_type": "execute_result"
    }
   ],
   "source": [
    "df1_Rabi[\"Area (hectares)\"].sum()"
   ]
  },
  {
   "cell_type": "code",
   "execution_count": 35,
   "metadata": {},
   "outputs": [],
   "source": [
    "x=[df1_Kharif[\"Area (hectares)\"].sum(),df1_Rabi[\"Area (hectares)\"].sum()]"
   ]
  },
  {
   "cell_type": "code",
   "execution_count": 36,
   "metadata": {},
   "outputs": [
    {
     "data": {
      "text/plain": [
       "([<matplotlib.patches.Wedge at 0x1d4489ee890>,\n",
       "  <matplotlib.patches.Wedge at 0x1d4489efe50>],\n",
       " [Text(-0.020294564046654424, 1.0998127707342538, 'Area_used_kharib'),\n",
       "  Text(0.020294564046654043, -1.0998127707342538, 'Area_used_Rabi')])"
      ]
     },
     "execution_count": 36,
     "metadata": {},
     "output_type": "execute_result"
    },
    {
     "data": {
      "image/png": "[encoded data removed]",
      "text/plain": [
       "<Figure size 640x480 with 1 Axes>"
      ]
     },
     "metadata": {},
     "output_type": "display_data"
    }
   ],
   "source": [
    "plt.pie(x,labels=[\"Area_used_kharib\",\"Area_used_Rabi\"])"
   ]
  },
  {
   "cell_type": "code",
   "execution_count": 37,
   "metadata": {},
   "outputs": [],
   "source": [
    "x=[df1_Kharif[\"Production (metric tons)\"].sum(),df1_Rabi[\"Production (metric tons)\"].sum()]"
   ]
  },
  {
   "cell_type": "code",
   "execution_count": 38,
   "metadata": {},
   "outputs": [
    {
     "data": {
      "text/plain": [
       "([<matplotlib.patches.Wedge at 0x1d448a5e350>,\n",
       "  <matplotlib.patches.Wedge at 0x1d448a5f150>],\n",
       " [Text(-0.013399005794815774, 1.0999183909016663, 'kharif_production'),\n",
       "  Text(0.01339890281302366, -1.0999183921561668, 'rabi_production')])"
      ]
     },
     "execution_count": 38,
     "metadata": {},
     "output_type": "execute_result"
    },
    {
     "data": {
      "image/png": "[encoded data removed]",
      "text/plain": [
       "<Figure size 640x480 with 1 Axes>"
      ]
     },
     "metadata": {},
     "output_type": "display_data"
    }
   ],
   "source": [
    "plt.pie(x,labels=[\"kharif_production\",\"rabi_production\"])"
   ]
  },
  {
   "cell_type": "code",
   "execution_count": 39,
   "metadata": {},
   "outputs": [],
   "source": [
    "### "
   ]
  },
  {
   "cell_type": "code",
   "execution_count": 40,
   "metadata": {},
   "outputs": [
    {
     "data": {
      "text/plain": [
       "10834.530833886172"
      ]
     },
     "execution_count": 40,
     "metadata": {},
     "output_type": "execute_result"
    }
   ],
   "source": [
    "df1[\"Production (metric tons)\"].max()"
   ]
  },
  {
   "cell_type": "code",
   "execution_count": 41,
   "metadata": {},
   "outputs": [
    {
     "name": "stdout",
     "output_type": "stream",
     "text": [
      "Maximum production \n"
     ]
    },
    {
     "data": {
      "text/html": [
       "<div>\n",
       "<style scoped>\n",
       "    .dataframe tbody tr th:only-of-type {\n",
       "        vertical-align: middle;\n",
       "    }\n",
       "\n",
       "    .dataframe tbody tr th {\n",
       "        vertical-align: top;\n",
       "    }\n",
       "\n",
       "    .dataframe thead th {\n",
       "        text-align: right;\n",
       "    }\n",
       "</style>\n",
       "<table border=\"1\" class=\"dataframe\">\n",
       "  <thead>\n",
       "    <tr style=\"text-align: right;\">\n",
       "      <th></th>\n",
       "      <th>District</th>\n",
       "      <th>Crop</th>\n",
       "      <th>Season</th>\n",
       "      <th>Area (hectares)</th>\n",
       "      <th>Yield (quintals)</th>\n",
       "      <th>Production (metric tons)</th>\n",
       "    </tr>\n",
       "  </thead>\n",
       "  <tbody>\n",
       "    <tr>\n",
       "      <th>369</th>\n",
       "      <td>Kota</td>\n",
       "      <td>Guava</td>\n",
       "      <td>Kharif</td>\n",
       "      <td>19996.423333</td>\n",
       "      <td>54.182344</td>\n",
       "      <td>10834.530834</td>\n",
       "    </tr>\n",
       "  </tbody>\n",
       "</table>\n",
       "</div>"
      ],
      "text/plain": [
       "    District   Crop  Season  Area (hectares)  Yield (quintals)  \\\n",
       "369     Kota  Guava  Kharif     19996.423333         54.182344   \n",
       "\n",
       "     Production (metric tons)  \n",
       "369              10834.530834  "
      ]
     },
     "execution_count": 41,
     "metadata": {},
     "output_type": "execute_result"
    }
   ],
   "source": [
    "\n",
    "print(\"Maximum production \")\n",
    "df1[df1[\"Production (metric tons)\"]==10834.530833886172]"
   ]
  },
  {
   "cell_type": "code",
   "execution_count": 42,
   "metadata": {},
   "outputs": [
    {
     "data": {
      "text/plain": [
       "1728.4459558148258"
      ]
     },
     "execution_count": 42,
     "metadata": {},
     "output_type": "execute_result"
    }
   ],
   "source": [
    "df1[\"Production (metric tons)\"].min()"
   ]
  },
  {
   "cell_type": "code",
   "execution_count": 43,
   "metadata": {},
   "outputs": [
    {
     "name": "stdout",
     "output_type": "stream",
     "text": [
      "Minimum production\n"
     ]
    },
    {
     "data": {
      "text/html": [
       "<div>\n",
       "<style scoped>\n",
       "    .dataframe tbody tr th:only-of-type {\n",
       "        vertical-align: middle;\n",
       "    }\n",
       "\n",
       "    .dataframe tbody tr th {\n",
       "        vertical-align: top;\n",
       "    }\n",
       "\n",
       "    .dataframe thead th {\n",
       "        text-align: right;\n",
       "    }\n",
       "</style>\n",
       "<table border=\"1\" class=\"dataframe\">\n",
       "  <thead>\n",
       "    <tr style=\"text-align: right;\">\n",
       "      <th></th>\n",
       "      <th>District</th>\n",
       "      <th>Crop</th>\n",
       "      <th>Season</th>\n",
       "      <th>Area (hectares)</th>\n",
       "      <th>Yield (quintals)</th>\n",
       "      <th>Production (metric tons)</th>\n",
       "    </tr>\n",
       "  </thead>\n",
       "  <tbody>\n",
       "    <tr>\n",
       "      <th>323</th>\n",
       "      <td>Sri Ganganagar</td>\n",
       "      <td>Mango</td>\n",
       "      <td>Kharif</td>\n",
       "      <td>6909.340071</td>\n",
       "      <td>25.016079</td>\n",
       "      <td>1728.445956</td>\n",
       "    </tr>\n",
       "  </tbody>\n",
       "</table>\n",
       "</div>"
      ],
      "text/plain": [
       "           District   Crop  Season  Area (hectares)  Yield (quintals)  \\\n",
       "323  Sri Ganganagar  Mango  Kharif      6909.340071         25.016079   \n",
       "\n",
       "     Production (metric tons)  \n",
       "323               1728.445956  "
      ]
     },
     "execution_count": 43,
     "metadata": {},
     "output_type": "execute_result"
    }
   ],
   "source": [
    "print(\"Minimum production\")\n",
    "df1[df1[\"Production (metric tons)\"]==1728.4459558148258]"
   ]
  },
  {
   "cell_type": "code",
   "execution_count": 44,
   "metadata": {},
   "outputs": [
    {
     "name": "stdout",
     "output_type": "stream",
     "text": [
      "Gaph Between Area and Production \n"
     ]
    },
    {
     "data": {
      "text/plain": [
       "Text(0, 0.5, 'production')"
      ]
     },
     "execution_count": 44,
     "metadata": {},
     "output_type": "execute_result"
    },
    {
     "data": {
      "image/png": "[encoded data removed]",
      "text/plain": [
       "<Figure size 640x480 with 1 Axes>"
      ]
     },
     "metadata": {},
     "output_type": "display_data"
    }
   ],
   "source": [
    "print(\"Gaph Between Area and Production \")\n",
    "plt.scatter(df1[\"Area (hectares)\"],df1[\"Production (metric tons)\"],c=\"r\")\n",
    "plt.xlabel(\"Area\")\n",
    "plt.ylabel(\"production\")"
   ]
  },
  {
   "cell_type": "code",
   "execution_count": 45,
   "metadata": {},
   "outputs": [
    {
     "data": {
      "text/plain": [
       "60.42919242071256"
      ]
     },
     "execution_count": 45,
     "metadata": {},
     "output_type": "execute_result"
    }
   ],
   "source": [
    "df1[\"Yield (quintals)\"].max()"
   ]
  },
  {
   "cell_type": "code",
   "execution_count": 46,
   "metadata": {},
   "outputs": [
    {
     "data": {
      "text/html": [
       "<div>\n",
       "<style scoped>\n",
       "    .dataframe tbody tr th:only-of-type {\n",
       "        vertical-align: middle;\n",
       "    }\n",
       "\n",
       "    .dataframe tbody tr th {\n",
       "        vertical-align: top;\n",
       "    }\n",
       "\n",
       "    .dataframe thead th {\n",
       "        text-align: right;\n",
       "    }\n",
       "</style>\n",
       "<table border=\"1\" class=\"dataframe\">\n",
       "  <thead>\n",
       "    <tr style=\"text-align: right;\">\n",
       "      <th></th>\n",
       "      <th>District</th>\n",
       "      <th>Crop</th>\n",
       "      <th>Season</th>\n",
       "      <th>Area (hectares)</th>\n",
       "      <th>Yield (quintals)</th>\n",
       "      <th>Production (metric tons)</th>\n",
       "    </tr>\n",
       "  </thead>\n",
       "  <tbody>\n",
       "    <tr>\n",
       "      <th>609</th>\n",
       "      <td>Bhilwara</td>\n",
       "      <td>Cumin</td>\n",
       "      <td>Rabi</td>\n",
       "      <td>12493.95884</td>\n",
       "      <td>60.429192</td>\n",
       "      <td>7549.998429</td>\n",
       "    </tr>\n",
       "  </tbody>\n",
       "</table>\n",
       "</div>"
      ],
      "text/plain": [
       "     District   Crop Season  Area (hectares)  Yield (quintals)  \\\n",
       "609  Bhilwara  Cumin   Rabi      12493.95884         60.429192   \n",
       "\n",
       "     Production (metric tons)  \n",
       "609               7549.998429  "
      ]
     },
     "execution_count": 46,
     "metadata": {},
     "output_type": "execute_result"
    }
   ],
   "source": [
    "df1[df1[\"Yield (quintals)\"]==60.42919242071256]"
   ]
  },
  {
   "cell_type": "code",
   "execution_count": 47,
   "metadata": {},
   "outputs": [
    {
     "data": {
      "text/plain": [
       "20.27293597251623"
      ]
     },
     "execution_count": 47,
     "metadata": {},
     "output_type": "execute_result"
    }
   ],
   "source": [
    "df1[\"Yield (quintals)\"].min()"
   ]
  },
  {
   "cell_type": "code",
   "execution_count": 48,
   "metadata": {},
   "outputs": [
    {
     "data": {
      "text/html": [
       "<div>\n",
       "<style scoped>\n",
       "    .dataframe tbody tr th:only-of-type {\n",
       "        vertical-align: middle;\n",
       "    }\n",
       "\n",
       "    .dataframe tbody tr th {\n",
       "        vertical-align: top;\n",
       "    }\n",
       "\n",
       "    .dataframe thead th {\n",
       "        text-align: right;\n",
       "    }\n",
       "</style>\n",
       "<table border=\"1\" class=\"dataframe\">\n",
       "  <thead>\n",
       "    <tr style=\"text-align: right;\">\n",
       "      <th></th>\n",
       "      <th>District</th>\n",
       "      <th>Crop</th>\n",
       "      <th>Season</th>\n",
       "      <th>Area (hectares)</th>\n",
       "      <th>Yield (quintals)</th>\n",
       "      <th>Production (metric tons)</th>\n",
       "    </tr>\n",
       "  </thead>\n",
       "  <tbody>\n",
       "    <tr>\n",
       "      <th>662</th>\n",
       "      <td>Udaipur</td>\n",
       "      <td>Citrus</td>\n",
       "      <td>Rabi</td>\n",
       "      <td>15193.423244</td>\n",
       "      <td>20.272936</td>\n",
       "      <td>3080.152966</td>\n",
       "    </tr>\n",
       "  </tbody>\n",
       "</table>\n",
       "</div>"
      ],
      "text/plain": [
       "    District    Crop Season  Area (hectares)  Yield (quintals)  \\\n",
       "662  Udaipur  Citrus   Rabi     15193.423244         20.272936   \n",
       "\n",
       "     Production (metric tons)  \n",
       "662               3080.152966  "
      ]
     },
     "execution_count": 48,
     "metadata": {},
     "output_type": "execute_result"
    }
   ],
   "source": [
    "df1[df1[\"Yield (quintals)\"]==20.27293597251623]"
   ]
  },
  {
   "cell_type": "markdown",
   "metadata": {},
   "source": [
    "### Total production of Rabi and Kharib are almost equal"
   ]
  },
  {
   "cell_type": "code",
   "execution_count": 49,
   "metadata": {},
   "outputs": [
    {
     "data": {
      "text/plain": [
       "2809303.285510824"
      ]
     },
     "execution_count": 49,
     "metadata": {},
     "output_type": "execute_result"
    }
   ],
   "source": [
    "df1_Rabi[\"Production (metric tons)\"].sum()"
   ]
  },
  {
   "cell_type": "code",
   "execution_count": 50,
   "metadata": {},
   "outputs": [
    {
     "data": {
      "text/plain": [
       "2853215.199157334"
      ]
     },
     "execution_count": 50,
     "metadata": {},
     "output_type": "execute_result"
    }
   ],
   "source": [
    "df1_Kharif[\"Production (metric tons)\"].sum()"
   ]
  },
  {
   "cell_type": "code",
   "execution_count": 51,
   "metadata": {},
   "outputs": [
    {
     "data": {
      "text/html": [
       "<div>\n",
       "<style scoped>\n",
       "    .dataframe tbody tr th:only-of-type {\n",
       "        vertical-align: middle;\n",
       "    }\n",
       "\n",
       "    .dataframe tbody tr th {\n",
       "        vertical-align: top;\n",
       "    }\n",
       "\n",
       "    .dataframe thead th {\n",
       "        text-align: right;\n",
       "    }\n",
       "</style>\n",
       "<table border=\"1\" class=\"dataframe\">\n",
       "  <thead>\n",
       "    <tr style=\"text-align: right;\">\n",
       "      <th></th>\n",
       "      <th>District</th>\n",
       "      <th>Crop</th>\n",
       "      <th>Season</th>\n",
       "      <th>Area (hectares)</th>\n",
       "      <th>Yield (quintals)</th>\n",
       "      <th>Production (metric tons)</th>\n",
       "    </tr>\n",
       "  </thead>\n",
       "  <tbody>\n",
       "    <tr>\n",
       "      <th>0</th>\n",
       "      <td>Jodhpur</td>\n",
       "      <td>Wheat</td>\n",
       "      <td>Kharif</td>\n",
       "      <td>16490.142459</td>\n",
       "      <td>30.691986</td>\n",
       "      <td>5061.152230</td>\n",
       "    </tr>\n",
       "    <tr>\n",
       "      <th>1</th>\n",
       "      <td>Kota</td>\n",
       "      <td>Gram</td>\n",
       "      <td>Rabi</td>\n",
       "      <td>16943.065614</td>\n",
       "      <td>45.818232</td>\n",
       "      <td>7763.013072</td>\n",
       "    </tr>\n",
       "    <tr>\n",
       "      <th>2</th>\n",
       "      <td>Jaipur</td>\n",
       "      <td>Wheat</td>\n",
       "      <td>Rabi</td>\n",
       "      <td>14297.539876</td>\n",
       "      <td>29.752629</td>\n",
       "      <td>4253.893981</td>\n",
       "    </tr>\n",
       "    <tr>\n",
       "      <th>3</th>\n",
       "      <td>Hanumangarh</td>\n",
       "      <td>Coriander</td>\n",
       "      <td>Rabi</td>\n",
       "      <td>19737.638447</td>\n",
       "      <td>42.026511</td>\n",
       "      <td>8295.040749</td>\n",
       "    </tr>\n",
       "    <tr>\n",
       "      <th>4</th>\n",
       "      <td>Hanumangarh</td>\n",
       "      <td>Citrus</td>\n",
       "      <td>Rabi</td>\n",
       "      <td>13591.576842</td>\n",
       "      <td>38.195933</td>\n",
       "      <td>5191.429648</td>\n",
       "    </tr>\n",
       "    <tr>\n",
       "      <th>...</th>\n",
       "      <td>...</td>\n",
       "      <td>...</td>\n",
       "      <td>...</td>\n",
       "      <td>...</td>\n",
       "      <td>...</td>\n",
       "      <td>...</td>\n",
       "    </tr>\n",
       "    <tr>\n",
       "      <th>995</th>\n",
       "      <td>Jaipur</td>\n",
       "      <td>Gram</td>\n",
       "      <td>Kharif</td>\n",
       "      <td>17401.228576</td>\n",
       "      <td>37.971750</td>\n",
       "      <td>6607.551098</td>\n",
       "    </tr>\n",
       "    <tr>\n",
       "      <th>996</th>\n",
       "      <td>Hanumangarh</td>\n",
       "      <td>Garlic</td>\n",
       "      <td>Rabi</td>\n",
       "      <td>18566.740114</td>\n",
       "      <td>48.880964</td>\n",
       "      <td>9075.601636</td>\n",
       "    </tr>\n",
       "    <tr>\n",
       "      <th>997</th>\n",
       "      <td>Nagaur</td>\n",
       "      <td>Coriander</td>\n",
       "      <td>Kharif</td>\n",
       "      <td>16054.344623</td>\n",
       "      <td>52.309529</td>\n",
       "      <td>8397.952063</td>\n",
       "    </tr>\n",
       "    <tr>\n",
       "      <th>998</th>\n",
       "      <td>Hanumangarh</td>\n",
       "      <td>Bajra</td>\n",
       "      <td>Kharif</td>\n",
       "      <td>14920.436222</td>\n",
       "      <td>44.458956</td>\n",
       "      <td>6633.470231</td>\n",
       "    </tr>\n",
       "    <tr>\n",
       "      <th>999</th>\n",
       "      <td>Udaipur</td>\n",
       "      <td>Barley</td>\n",
       "      <td>Rabi</td>\n",
       "      <td>14510.799108</td>\n",
       "      <td>42.673344</td>\n",
       "      <td>6192.243169</td>\n",
       "    </tr>\n",
       "  </tbody>\n",
       "</table>\n",
       "<p>1000 rows × 6 columns</p>\n",
       "</div>"
      ],
      "text/plain": [
       "        District       Crop  Season  Area (hectares)  Yield (quintals)  \\\n",
       "0        Jodhpur      Wheat  Kharif     16490.142459         30.691986   \n",
       "1           Kota       Gram    Rabi     16943.065614         45.818232   \n",
       "2         Jaipur      Wheat    Rabi     14297.539876         29.752629   \n",
       "3    Hanumangarh  Coriander    Rabi     19737.638447         42.026511   \n",
       "4    Hanumangarh     Citrus    Rabi     13591.576842         38.195933   \n",
       "..           ...        ...     ...              ...               ...   \n",
       "995       Jaipur       Gram  Kharif     17401.228576         37.971750   \n",
       "996  Hanumangarh     Garlic    Rabi     18566.740114         48.880964   \n",
       "997       Nagaur  Coriander  Kharif     16054.344623         52.309529   \n",
       "998  Hanumangarh      Bajra  Kharif     14920.436222         44.458956   \n",
       "999      Udaipur     Barley    Rabi     14510.799108         42.673344   \n",
       "\n",
       "     Production (metric tons)  \n",
       "0                 5061.152230  \n",
       "1                 7763.013072  \n",
       "2                 4253.893981  \n",
       "3                 8295.040749  \n",
       "4                 5191.429648  \n",
       "..                        ...  \n",
       "995               6607.551098  \n",
       "996               9075.601636  \n",
       "997               8397.952063  \n",
       "998               6633.470231  \n",
       "999               6192.243169  \n",
       "\n",
       "[1000 rows x 6 columns]"
      ]
     },
     "execution_count": 51,
     "metadata": {},
     "output_type": "execute_result"
    }
   ],
   "source": [
    "df1"
   ]
  },
  {
   "cell_type": "code",
   "execution_count": 52,
   "metadata": {},
   "outputs": [],
   "source": [
    "df1_Kharif_Jodhpur=df1_Kharif[df1_Kharif[\"District\"]==\"Jodhpur\"]"
   ]
  },
  {
   "cell_type": "code",
   "execution_count": 53,
   "metadata": {},
   "outputs": [
    {
     "data": {
      "text/plain": [
       "274246.0639241918"
      ]
     },
     "execution_count": 53,
     "metadata": {},
     "output_type": "execute_result"
    }
   ],
   "source": [
    "df1_Kharif_Jodhpur[\"Production (metric tons)\"].sum()"
   ]
  },
  {
   "cell_type": "code",
   "execution_count": 54,
   "metadata": {},
   "outputs": [
    {
     "data": {
      "text/plain": [
       "array(['Jodhpur', 'Udaipur', 'Alwar', 'Bhilwara', 'Ajmer', 'Hanumangarh',\n",
       "       'Nagaur', 'Kota', 'Jaipur', 'Sri Ganganagar'], dtype=object)"
      ]
     },
     "execution_count": 54,
     "metadata": {},
     "output_type": "execute_result"
    }
   ],
   "source": [
    "du=df1_Kharif[\"District\"].unique()\n",
    "du"
   ]
  },
  {
   "cell_type": "code",
   "execution_count": 55,
   "metadata": {},
   "outputs": [],
   "source": [
    "arr=[]\n",
    "for i in du:\n",
    "    x=df1_Kharif[df1_Kharif[\"District\"]==i]\n",
    "    sm=x[\"Production (metric tons)\"].sum()\n",
    "    arr.append(sm)\n",
    "    \n",
    "    \n",
    "    \n",
    "    "
   ]
  },
  {
   "cell_type": "code",
   "execution_count": 56,
   "metadata": {},
   "outputs": [
    {
     "data": {
      "text/plain": [
       "[274246.0639241918,\n",
       " 276201.6757634328,\n",
       " 270176.3303843365,\n",
       " 294326.0656968627,\n",
       " 345982.8321876895,\n",
       " 236093.9668884356,\n",
       " 341820.9959249818,\n",
       " 272993.91338094615,\n",
       " 261458.50084144136,\n",
       " 279914.85416501533]"
      ]
     },
     "execution_count": 56,
     "metadata": {},
     "output_type": "execute_result"
    }
   ],
   "source": [
    "arr"
   ]
  },
  {
   "cell_type": "code",
   "execution_count": 57,
   "metadata": {},
   "outputs": [
    {
     "data": {
      "text/plain": [
       "Text(0, 0.5, 'Production')"
      ]
     },
     "execution_count": 57,
     "metadata": {},
     "output_type": "execute_result"
    },
    {
     "data": {
      "image/png": "[encoded data removed]",
      "text/plain": [
       "<Figure size 1500x700 with 1 Axes>"
      ]
     },
     "metadata": {},
     "output_type": "display_data"
    }
   ],
   "source": [
    "plt.figure(figsize=(15,7))\n",
    "plt.title(\"Kharif Crop Production\",fontsize=20)\n",
    "plt.bar(du,arr,width=0.7,align=\"center\",color=\"r\")\n",
    "plt.xlabel(\"District\",color=\"b\",fontweight=\"bold\",fontsize=30)\n",
    "plt.ylabel(\"Production\",color=\"b\",fontweight=\"bold\",fontsize=30)\n"
   ]
  },
  {
   "cell_type": "code",
   "execution_count": 58,
   "metadata": {},
   "outputs": [
    {
     "data": {
      "text/plain": [
       "array(['Kota', 'Jaipur', 'Hanumangarh', 'Sri Ganganagar', 'Udaipur',\n",
       "       'Bhilwara', 'Nagaur', 'Jodhpur', 'Alwar', 'Ajmer'], dtype=object)"
      ]
     },
     "execution_count": 58,
     "metadata": {},
     "output_type": "execute_result"
    }
   ],
   "source": [
    "du1=df1_Rabi[\"District\"].unique()\n",
    "du1"
   ]
  },
  {
   "cell_type": "code",
   "execution_count": 59,
   "metadata": {},
   "outputs": [
    {
     "data": {
      "text/plain": [
       "[295172.48758403945,\n",
       " 231069.65838480828,\n",
       " 286800.21394485055,\n",
       " 267295.6818731035,\n",
       " 315045.4793054269,\n",
       " 316592.42086433247,\n",
       " 290208.97297844134,\n",
       " 259068.01479199558,\n",
       " 312716.0891773952,\n",
       " 235334.26660643093]"
      ]
     },
     "execution_count": 59,
     "metadata": {},
     "output_type": "execute_result"
    }
   ],
   "source": [
    "arr1=[]\n",
    "for i in du1:\n",
    "    x=df1_Rabi[df1_Rabi[\"District\"]==i]\n",
    "    sm=x[\"Production (metric tons)\"].sum()\n",
    "    arr1.append(sm)\n",
    "    \n",
    "    \n",
    "    \n",
    "arr1    "
   ]
  },
  {
   "cell_type": "code",
   "execution_count": 60,
   "metadata": {},
   "outputs": [
    {
     "data": {
      "text/plain": [
       "Text(0, 0.5, 'Production')"
      ]
     },
     "execution_count": 60,
     "metadata": {},
     "output_type": "execute_result"
    },
    {
     "data": {
      "image/png": "[encoded data removed]",
      "text/plain": [
       "<Figure size 1500x700 with 1 Axes>"
      ]
     },
     "metadata": {},
     "output_type": "display_data"
    }
   ],
   "source": [
    "plt.figure(figsize=(15,7))\n",
    "plt.title(\"Ravi Crop Production\",fontsize=20)\n",
    "plt.bar(du1,arr1,width=0.7,align=\"center\",color=\"r\")\n",
    "plt.xlabel(\"District\",color=\"b\",fontweight=\"bold\",fontsize=30)\n",
    "plt.ylabel(\"Production\",color=\"b\",fontweight=\"bold\",fontsize=30)\n"
   ]
  },
  {
   "cell_type": "code",
   "execution_count": null,
   "metadata": {},
   "outputs": [],
   "source": []
  },
  {
   "cell_type": "code",
   "execution_count": 61,
   "metadata": {},
   "outputs": [
    {
     "data": {
      "text/plain": [
       "array(['Wheat', 'Gram', 'Coriander', 'Citrus', 'Cotton', 'Guava',\n",
       "       'Garlic', 'Mustard', 'Fenugreek', 'Maize', 'Fennel', 'Bajra',\n",
       "       'Oilseeds', 'Opium', 'Pomegranate', 'Cumin', 'Chilli', 'Tomato',\n",
       "       'Sugarcane', 'Barley', 'Onion', 'Pulses', 'Mango'], dtype=object)"
      ]
     },
     "execution_count": 61,
     "metadata": {},
     "output_type": "execute_result"
    }
   ],
   "source": [
    "du2=df1[\"Crop\"].unique()\n",
    "du2"
   ]
  },
  {
   "cell_type": "code",
   "execution_count": null,
   "metadata": {},
   "outputs": [],
   "source": []
  },
  {
   "cell_type": "code",
   "execution_count": 62,
   "metadata": {},
   "outputs": [
    {
     "data": {
      "text/plain": [
       "[633402.1910097656,\n",
       " 498487.8698916246,\n",
       " 649466.4490591879,\n",
       " 784966.6275148417,\n",
       " 610881.4723746984,\n",
       " 601584.5791347618,\n",
       " 648217.7306148326,\n",
       " 767899.1241360178,\n",
       " 518737.6000557992,\n",
       " 716293.1309215681,\n",
       " 609036.575050463,\n",
       " 549120.4987630076,\n",
       " 714511.9056457273,\n",
       " 538434.7881298402,\n",
       " 650074.1704948746,\n",
       " 719092.373774857,\n",
       " 579535.9942846702,\n",
       " 731862.9661404664,\n",
       " 617992.2447061363,\n",
       " 714596.1765414806,\n",
       " 716223.2197601611,\n",
       " 758201.7499441551,\n",
       " 718262.4009048005]"
      ]
     },
     "execution_count": 62,
     "metadata": {},
     "output_type": "execute_result"
    }
   ],
   "source": [
    "arr2=[]\n",
    "for i in du2:\n",
    "    x=df1[df1[\"Crop\"]==i]\n",
    "    sm=x[\"Area (hectares)\"].sum()\n",
    "    arr2.append(sm)\n",
    "    \n",
    "    \n",
    "    \n",
    "arr2    "
   ]
  },
  {
   "cell_type": "code",
   "execution_count": 63,
   "metadata": {},
   "outputs": [
    {
     "data": {
      "text/plain": [
       "Text(0, 0.5, 'area(in hactares)')"
      ]
     },
     "execution_count": 63,
     "metadata": {},
     "output_type": "execute_result"
    },
    {
     "data": {
      "image/png": "[encoded data removed]",
      "text/plain": [
       "<Figure size 2500x700 with 1 Axes>"
      ]
     },
     "metadata": {},
     "output_type": "display_data"
    }
   ],
   "source": [
    "plt.figure(figsize=(25,7))\n",
    "plt.title(\"Crop vs Area\",fontsize=30)\n",
    "plt.bar(du2,arr2,width=0.7,align=\"center\",color=\"g\")\n",
    "plt.xlabel(\"crop\",color=\"b\",fontweight=\"bold\",fontsize=40)\n",
    "plt.ylabel(\"area(in hactares)\",color=\"b\",fontweight=\"bold\",fontsize=30)"
   ]
  },
  {
   "cell_type": "code",
   "execution_count": 64,
   "metadata": {},
   "outputs": [
    {
     "data": {
      "text/html": [
       "<div>\n",
       "<style scoped>\n",
       "    .dataframe tbody tr th:only-of-type {\n",
       "        vertical-align: middle;\n",
       "    }\n",
       "\n",
       "    .dataframe tbody tr th {\n",
       "        vertical-align: top;\n",
       "    }\n",
       "\n",
       "    .dataframe thead th {\n",
       "        text-align: right;\n",
       "    }\n",
       "</style>\n",
       "<table border=\"1\" class=\"dataframe\">\n",
       "  <thead>\n",
       "    <tr style=\"text-align: right;\">\n",
       "      <th></th>\n",
       "      <th>District</th>\n",
       "      <th>Crop</th>\n",
       "      <th>Season</th>\n",
       "      <th>Area (hectares)</th>\n",
       "      <th>Yield (quintals)</th>\n",
       "      <th>Production (metric tons)</th>\n",
       "    </tr>\n",
       "  </thead>\n",
       "  <tbody>\n",
       "    <tr>\n",
       "      <th>0</th>\n",
       "      <td>Jodhpur</td>\n",
       "      <td>Wheat</td>\n",
       "      <td>Kharif</td>\n",
       "      <td>16490.142459</td>\n",
       "      <td>30.691986</td>\n",
       "      <td>5061.152230</td>\n",
       "    </tr>\n",
       "    <tr>\n",
       "      <th>1</th>\n",
       "      <td>Kota</td>\n",
       "      <td>Gram</td>\n",
       "      <td>Rabi</td>\n",
       "      <td>16943.065614</td>\n",
       "      <td>45.818232</td>\n",
       "      <td>7763.013072</td>\n",
       "    </tr>\n",
       "    <tr>\n",
       "      <th>2</th>\n",
       "      <td>Jaipur</td>\n",
       "      <td>Wheat</td>\n",
       "      <td>Rabi</td>\n",
       "      <td>14297.539876</td>\n",
       "      <td>29.752629</td>\n",
       "      <td>4253.893981</td>\n",
       "    </tr>\n",
       "    <tr>\n",
       "      <th>3</th>\n",
       "      <td>Hanumangarh</td>\n",
       "      <td>Coriander</td>\n",
       "      <td>Rabi</td>\n",
       "      <td>19737.638447</td>\n",
       "      <td>42.026511</td>\n",
       "      <td>8295.040749</td>\n",
       "    </tr>\n",
       "    <tr>\n",
       "      <th>4</th>\n",
       "      <td>Hanumangarh</td>\n",
       "      <td>Citrus</td>\n",
       "      <td>Rabi</td>\n",
       "      <td>13591.576842</td>\n",
       "      <td>38.195933</td>\n",
       "      <td>5191.429648</td>\n",
       "    </tr>\n",
       "    <tr>\n",
       "      <th>...</th>\n",
       "      <td>...</td>\n",
       "      <td>...</td>\n",
       "      <td>...</td>\n",
       "      <td>...</td>\n",
       "      <td>...</td>\n",
       "      <td>...</td>\n",
       "    </tr>\n",
       "    <tr>\n",
       "      <th>995</th>\n",
       "      <td>Jaipur</td>\n",
       "      <td>Gram</td>\n",
       "      <td>Kharif</td>\n",
       "      <td>17401.228576</td>\n",
       "      <td>37.971750</td>\n",
       "      <td>6607.551098</td>\n",
       "    </tr>\n",
       "    <tr>\n",
       "      <th>996</th>\n",
       "      <td>Hanumangarh</td>\n",
       "      <td>Garlic</td>\n",
       "      <td>Rabi</td>\n",
       "      <td>18566.740114</td>\n",
       "      <td>48.880964</td>\n",
       "      <td>9075.601636</td>\n",
       "    </tr>\n",
       "    <tr>\n",
       "      <th>997</th>\n",
       "      <td>Nagaur</td>\n",
       "      <td>Coriander</td>\n",
       "      <td>Kharif</td>\n",
       "      <td>16054.344623</td>\n",
       "      <td>52.309529</td>\n",
       "      <td>8397.952063</td>\n",
       "    </tr>\n",
       "    <tr>\n",
       "      <th>998</th>\n",
       "      <td>Hanumangarh</td>\n",
       "      <td>Bajra</td>\n",
       "      <td>Kharif</td>\n",
       "      <td>14920.436222</td>\n",
       "      <td>44.458956</td>\n",
       "      <td>6633.470231</td>\n",
       "    </tr>\n",
       "    <tr>\n",
       "      <th>999</th>\n",
       "      <td>Udaipur</td>\n",
       "      <td>Barley</td>\n",
       "      <td>Rabi</td>\n",
       "      <td>14510.799108</td>\n",
       "      <td>42.673344</td>\n",
       "      <td>6192.243169</td>\n",
       "    </tr>\n",
       "  </tbody>\n",
       "</table>\n",
       "<p>1000 rows × 6 columns</p>\n",
       "</div>"
      ],
      "text/plain": [
       "        District       Crop  Season  Area (hectares)  Yield (quintals)  \\\n",
       "0        Jodhpur      Wheat  Kharif     16490.142459         30.691986   \n",
       "1           Kota       Gram    Rabi     16943.065614         45.818232   \n",
       "2         Jaipur      Wheat    Rabi     14297.539876         29.752629   \n",
       "3    Hanumangarh  Coriander    Rabi     19737.638447         42.026511   \n",
       "4    Hanumangarh     Citrus    Rabi     13591.576842         38.195933   \n",
       "..           ...        ...     ...              ...               ...   \n",
       "995       Jaipur       Gram  Kharif     17401.228576         37.971750   \n",
       "996  Hanumangarh     Garlic    Rabi     18566.740114         48.880964   \n",
       "997       Nagaur  Coriander  Kharif     16054.344623         52.309529   \n",
       "998  Hanumangarh      Bajra  Kharif     14920.436222         44.458956   \n",
       "999      Udaipur     Barley    Rabi     14510.799108         42.673344   \n",
       "\n",
       "     Production (metric tons)  \n",
       "0                 5061.152230  \n",
       "1                 7763.013072  \n",
       "2                 4253.893981  \n",
       "3                 8295.040749  \n",
       "4                 5191.429648  \n",
       "..                        ...  \n",
       "995               6607.551098  \n",
       "996               9075.601636  \n",
       "997               8397.952063  \n",
       "998               6633.470231  \n",
       "999               6192.243169  \n",
       "\n",
       "[1000 rows x 6 columns]"
      ]
     },
     "execution_count": 64,
     "metadata": {},
     "output_type": "execute_result"
    }
   ],
   "source": [
    "df1"
   ]
  },
  {
   "cell_type": "code",
   "execution_count": 65,
   "metadata": {},
   "outputs": [
    {
     "data": {
      "text/plain": [
       "[3531.5577069107503,\n",
       " 3980.9535292813366,\n",
       " 3914.300644161477,\n",
       " 4001.981173639331,\n",
       " 3885.9165080042344,\n",
       " 3476.2618651380462,\n",
       " 4280.24679095113,\n",
       " 3680.1895511387784,\n",
       " 3149.1854763556244,\n",
       " 3717.734422754221]"
      ]
     },
     "execution_count": 65,
     "metadata": {},
     "output_type": "execute_result"
    }
   ],
   "source": [
    "arr3=[]\n",
    "for i in du:\n",
    "    x=df1[df1[\"District\"]==i]\n",
    "    sm=x[\"Yield (quintals)\"].sum()\n",
    "    arr3.append(sm)\n",
    "    \n",
    "    \n",
    "    \n",
    "arr3   "
   ]
  },
  {
   "cell_type": "code",
   "execution_count": 66,
   "metadata": {},
   "outputs": [
    {
     "data": {
      "text/plain": [
       "Text(0, 0.5, 'yield(quintals)')"
      ]
     },
     "execution_count": 66,
     "metadata": {},
     "output_type": "execute_result"
    },
    {
     "data": {
      "image/png": "[encoded data removed]",
      "text/plain": [
       "<Figure size 2500x700 with 1 Axes>"
      ]
     },
     "metadata": {},
     "output_type": "display_data"
    }
   ],
   "source": [
    "plt.figure(figsize=(25,7))\n",
    "plt.title(\"District vs Yield\",fontsize=30)\n",
    "plt.bar(du,arr3,width=0.7,align=\"center\",color=\"g\")\n",
    "plt.xlabel(\"District\",color=\"b\",fontweight=\"bold\",fontsize=40)\n",
    "plt.ylabel(\"yield(quintals)\",color=\"b\",fontweight=\"bold\",fontsize=30)\n"
   ]
  },
  {
   "cell_type": "code",
   "execution_count": 67,
   "metadata": {},
   "outputs": [
    {
     "data": {
      "text/html": [
       "<div>\n",
       "<style scoped>\n",
       "    .dataframe tbody tr th:only-of-type {\n",
       "        vertical-align: middle;\n",
       "    }\n",
       "\n",
       "    .dataframe tbody tr th {\n",
       "        vertical-align: top;\n",
       "    }\n",
       "\n",
       "    .dataframe thead th {\n",
       "        text-align: right;\n",
       "    }\n",
       "</style>\n",
       "<table border=\"1\" class=\"dataframe\">\n",
       "  <thead>\n",
       "    <tr style=\"text-align: right;\">\n",
       "      <th></th>\n",
       "      <th>District</th>\n",
       "      <th>Crop</th>\n",
       "      <th>Irrigation Method</th>\n",
       "      <th>Water Consumption (liters/hectare)</th>\n",
       "      <th>Water Availability (liters/hectare)</th>\n",
       "    </tr>\n",
       "  </thead>\n",
       "  <tbody>\n",
       "    <tr>\n",
       "      <th>0</th>\n",
       "      <td>Udaipur</td>\n",
       "      <td>Garlic</td>\n",
       "      <td>Tube Well</td>\n",
       "      <td>11609.330886</td>\n",
       "      <td>11335.919980</td>\n",
       "    </tr>\n",
       "    <tr>\n",
       "      <th>1</th>\n",
       "      <td>Bhilwara</td>\n",
       "      <td>Gram</td>\n",
       "      <td>Drip Irrigation</td>\n",
       "      <td>12648.406038</td>\n",
       "      <td>12091.900254</td>\n",
       "    </tr>\n",
       "    <tr>\n",
       "      <th>2</th>\n",
       "      <td>Udaipur</td>\n",
       "      <td>Guava</td>\n",
       "      <td>Canal Irrigation</td>\n",
       "      <td>10063.162448</td>\n",
       "      <td>9810.943169</td>\n",
       "    </tr>\n",
       "    <tr>\n",
       "      <th>3</th>\n",
       "      <td>Jodhpur</td>\n",
       "      <td>Barley</td>\n",
       "      <td>Sprinkler Irrigation</td>\n",
       "      <td>10110.539993</td>\n",
       "      <td>10754.217313</td>\n",
       "    </tr>\n",
       "    <tr>\n",
       "      <th>4</th>\n",
       "      <td>Alwar</td>\n",
       "      <td>Gram</td>\n",
       "      <td>Canal Irrigation</td>\n",
       "      <td>9320.451018</td>\n",
       "      <td>8695.537819</td>\n",
       "    </tr>\n",
       "    <tr>\n",
       "      <th>...</th>\n",
       "      <td>...</td>\n",
       "      <td>...</td>\n",
       "      <td>...</td>\n",
       "      <td>...</td>\n",
       "      <td>...</td>\n",
       "    </tr>\n",
       "    <tr>\n",
       "      <th>995</th>\n",
       "      <td>Udaipur</td>\n",
       "      <td>Oilseeds</td>\n",
       "      <td>Sprinkler Irrigation</td>\n",
       "      <td>7842.481531</td>\n",
       "      <td>7206.450194</td>\n",
       "    </tr>\n",
       "    <tr>\n",
       "      <th>996</th>\n",
       "      <td>Jodhpur</td>\n",
       "      <td>Tomato</td>\n",
       "      <td>Sprinkler Irrigation</td>\n",
       "      <td>7868.457709</td>\n",
       "      <td>6986.421839</td>\n",
       "    </tr>\n",
       "    <tr>\n",
       "      <th>997</th>\n",
       "      <td>Kota</td>\n",
       "      <td>Bajra</td>\n",
       "      <td>Canal Irrigation</td>\n",
       "      <td>13002.941293</td>\n",
       "      <td>13746.172387</td>\n",
       "    </tr>\n",
       "    <tr>\n",
       "      <th>998</th>\n",
       "      <td>Bhilwara</td>\n",
       "      <td>Fennel</td>\n",
       "      <td>Drip Irrigation</td>\n",
       "      <td>14276.931267</td>\n",
       "      <td>13609.183532</td>\n",
       "    </tr>\n",
       "    <tr>\n",
       "      <th>999</th>\n",
       "      <td>Sri Ganganagar</td>\n",
       "      <td>Mustard</td>\n",
       "      <td>Tube Well</td>\n",
       "      <td>7011.556634</td>\n",
       "      <td>6140.081509</td>\n",
       "    </tr>\n",
       "  </tbody>\n",
       "</table>\n",
       "<p>1000 rows × 5 columns</p>\n",
       "</div>"
      ],
      "text/plain": [
       "           District      Crop     Irrigation Method  \\\n",
       "0           Udaipur    Garlic             Tube Well   \n",
       "1          Bhilwara      Gram       Drip Irrigation   \n",
       "2           Udaipur     Guava      Canal Irrigation   \n",
       "3           Jodhpur    Barley  Sprinkler Irrigation   \n",
       "4             Alwar      Gram      Canal Irrigation   \n",
       "..              ...       ...                   ...   \n",
       "995         Udaipur  Oilseeds  Sprinkler Irrigation   \n",
       "996         Jodhpur    Tomato  Sprinkler Irrigation   \n",
       "997            Kota     Bajra      Canal Irrigation   \n",
       "998        Bhilwara    Fennel       Drip Irrigation   \n",
       "999  Sri Ganganagar   Mustard             Tube Well   \n",
       "\n",
       "     Water Consumption (liters/hectare)  Water Availability (liters/hectare)  \n",
       "0                          11609.330886                         11335.919980  \n",
       "1                          12648.406038                         12091.900254  \n",
       "2                          10063.162448                          9810.943169  \n",
       "3                          10110.539993                         10754.217313  \n",
       "4                           9320.451018                          8695.537819  \n",
       "..                                  ...                                  ...  \n",
       "995                         7842.481531                          7206.450194  \n",
       "996                         7868.457709                          6986.421839  \n",
       "997                        13002.941293                         13746.172387  \n",
       "998                        14276.931267                         13609.183532  \n",
       "999                         7011.556634                          6140.081509  \n",
       "\n",
       "[1000 rows x 5 columns]"
      ]
     },
     "execution_count": 67,
     "metadata": {},
     "output_type": "execute_result"
    }
   ],
   "source": [
    "df3"
   ]
  },
  {
   "cell_type": "code",
   "execution_count": 68,
   "metadata": {},
   "outputs": [
    {
     "name": "stdout",
     "output_type": "stream",
     "text": [
      "<class 'pandas.core.frame.DataFrame'>\n",
      "RangeIndex: 1000 entries, 0 to 999\n",
      "Data columns (total 5 columns):\n",
      " #   Column                               Non-Null Count  Dtype  \n",
      "---  ------                               --------------  -----  \n",
      " 0   District                             1000 non-null   object \n",
      " 1   Crop                                 1000 non-null   object \n",
      " 2   Irrigation Method                    1000 non-null   object \n",
      " 3   Water Consumption (liters/hectare)   1000 non-null   float64\n",
      " 4   Water Availability (liters/hectare)  1000 non-null   float64\n",
      "dtypes: float64(2), object(3)\n",
      "memory usage: 39.2+ KB\n"
     ]
    }
   ],
   "source": [
    "df3.info()"
   ]
  },
  {
   "cell_type": "code",
   "execution_count": 69,
   "metadata": {},
   "outputs": [
    {
     "data": {
      "text/html": [
       "<div>\n",
       "<style scoped>\n",
       "    .dataframe tbody tr th:only-of-type {\n",
       "        vertical-align: middle;\n",
       "    }\n",
       "\n",
       "    .dataframe tbody tr th {\n",
       "        vertical-align: top;\n",
       "    }\n",
       "\n",
       "    .dataframe thead th {\n",
       "        text-align: right;\n",
       "    }\n",
       "</style>\n",
       "<table border=\"1\" class=\"dataframe\">\n",
       "  <thead>\n",
       "    <tr style=\"text-align: right;\">\n",
       "      <th></th>\n",
       "      <th>Water Consumption (liters/hectare)</th>\n",
       "      <th>Water Availability (liters/hectare)</th>\n",
       "    </tr>\n",
       "  </thead>\n",
       "  <tbody>\n",
       "    <tr>\n",
       "      <th>count</th>\n",
       "      <td>1000.000000</td>\n",
       "      <td>1000.000000</td>\n",
       "    </tr>\n",
       "    <tr>\n",
       "      <th>mean</th>\n",
       "      <td>10557.110759</td>\n",
       "      <td>10543.621287</td>\n",
       "    </tr>\n",
       "    <tr>\n",
       "      <th>std</th>\n",
       "      <td>2835.083841</td>\n",
       "      <td>2905.372578</td>\n",
       "    </tr>\n",
       "    <tr>\n",
       "      <th>min</th>\n",
       "      <td>4673.530139</td>\n",
       "      <td>4505.257189</td>\n",
       "    </tr>\n",
       "    <tr>\n",
       "      <th>25%</th>\n",
       "      <td>8238.226672</td>\n",
       "      <td>8142.359044</td>\n",
       "    </tr>\n",
       "    <tr>\n",
       "      <th>50%</th>\n",
       "      <td>10422.656935</td>\n",
       "      <td>10524.479417</td>\n",
       "    </tr>\n",
       "    <tr>\n",
       "      <th>75%</th>\n",
       "      <td>12808.359361</td>\n",
       "      <td>12879.893934</td>\n",
       "    </tr>\n",
       "    <tr>\n",
       "      <th>max</th>\n",
       "      <td>18631.091327</td>\n",
       "      <td>18489.171266</td>\n",
       "    </tr>\n",
       "  </tbody>\n",
       "</table>\n",
       "</div>"
      ],
      "text/plain": [
       "       Water Consumption (liters/hectare)  Water Availability (liters/hectare)\n",
       "count                         1000.000000                          1000.000000\n",
       "mean                         10557.110759                         10543.621287\n",
       "std                           2835.083841                          2905.372578\n",
       "min                           4673.530139                          4505.257189\n",
       "25%                           8238.226672                          8142.359044\n",
       "50%                          10422.656935                         10524.479417\n",
       "75%                          12808.359361                         12879.893934\n",
       "max                          18631.091327                         18489.171266"
      ]
     },
     "execution_count": 69,
     "metadata": {},
     "output_type": "execute_result"
    }
   ],
   "source": [
    "df3.describe()"
   ]
  },
  {
   "cell_type": "code",
   "execution_count": null,
   "metadata": {},
   "outputs": [],
   "source": []
  },
  {
   "cell_type": "code",
   "execution_count": null,
   "metadata": {},
   "outputs": [],
   "source": []
  },
  {
   "cell_type": "code",
   "execution_count": 70,
   "metadata": {
    "scrolled": true
   },
   "outputs": [
    {
     "data": {
      "text/plain": [
       "18489.171266347672"
      ]
     },
     "execution_count": 70,
     "metadata": {},
     "output_type": "execute_result"
    }
   ],
   "source": [
    "df3[\"Water Availability (liters/hectare)\"].max()"
   ]
  },
  {
   "cell_type": "code",
   "execution_count": 71,
   "metadata": {},
   "outputs": [
    {
     "data": {
      "text/html": [
       "<div>\n",
       "<style scoped>\n",
       "    .dataframe tbody tr th:only-of-type {\n",
       "        vertical-align: middle;\n",
       "    }\n",
       "\n",
       "    .dataframe tbody tr th {\n",
       "        vertical-align: top;\n",
       "    }\n",
       "\n",
       "    .dataframe thead th {\n",
       "        text-align: right;\n",
       "    }\n",
       "</style>\n",
       "<table border=\"1\" class=\"dataframe\">\n",
       "  <thead>\n",
       "    <tr style=\"text-align: right;\">\n",
       "      <th></th>\n",
       "      <th>District</th>\n",
       "      <th>Crop</th>\n",
       "      <th>Irrigation Method</th>\n",
       "      <th>Water Consumption (liters/hectare)</th>\n",
       "      <th>Water Availability (liters/hectare)</th>\n",
       "    </tr>\n",
       "  </thead>\n",
       "  <tbody>\n",
       "    <tr>\n",
       "      <th>549</th>\n",
       "      <td>Sri Ganganagar</td>\n",
       "      <td>Fennel</td>\n",
       "      <td>Tube Well</td>\n",
       "      <td>17852.609677</td>\n",
       "      <td>18489.171266</td>\n",
       "    </tr>\n",
       "  </tbody>\n",
       "</table>\n",
       "</div>"
      ],
      "text/plain": [
       "           District    Crop Irrigation Method  \\\n",
       "549  Sri Ganganagar  Fennel         Tube Well   \n",
       "\n",
       "     Water Consumption (liters/hectare)  Water Availability (liters/hectare)  \n",
       "549                        17852.609677                         18489.171266  "
      ]
     },
     "execution_count": 71,
     "metadata": {},
     "output_type": "execute_result"
    }
   ],
   "source": [
    "df3[df3[\"Water Availability (liters/hectare)\"]==18489.171266347672]"
   ]
  },
  {
   "cell_type": "code",
   "execution_count": 72,
   "metadata": {},
   "outputs": [
    {
     "data": {
      "text/plain": [
       "4505.257189045351"
      ]
     },
     "execution_count": 72,
     "metadata": {},
     "output_type": "execute_result"
    }
   ],
   "source": [
    "df3[\"Water Availability (liters/hectare)\"].min()"
   ]
  },
  {
   "cell_type": "code",
   "execution_count": 73,
   "metadata": {},
   "outputs": [
    {
     "data": {
      "text/html": [
       "<div>\n",
       "<style scoped>\n",
       "    .dataframe tbody tr th:only-of-type {\n",
       "        vertical-align: middle;\n",
       "    }\n",
       "\n",
       "    .dataframe tbody tr th {\n",
       "        vertical-align: top;\n",
       "    }\n",
       "\n",
       "    .dataframe thead th {\n",
       "        text-align: right;\n",
       "    }\n",
       "</style>\n",
       "<table border=\"1\" class=\"dataframe\">\n",
       "  <thead>\n",
       "    <tr style=\"text-align: right;\">\n",
       "      <th></th>\n",
       "      <th>District</th>\n",
       "      <th>Crop</th>\n",
       "      <th>Irrigation Method</th>\n",
       "      <th>Water Consumption (liters/hectare)</th>\n",
       "      <th>Water Availability (liters/hectare)</th>\n",
       "    </tr>\n",
       "  </thead>\n",
       "  <tbody>\n",
       "    <tr>\n",
       "      <th>660</th>\n",
       "      <td>Alwar</td>\n",
       "      <td>Pomegranate</td>\n",
       "      <td>Sprinkler Irrigation</td>\n",
       "      <td>5459.317</td>\n",
       "      <td>4505.257189</td>\n",
       "    </tr>\n",
       "  </tbody>\n",
       "</table>\n",
       "</div>"
      ],
      "text/plain": [
       "    District         Crop     Irrigation Method  \\\n",
       "660    Alwar  Pomegranate  Sprinkler Irrigation   \n",
       "\n",
       "     Water Consumption (liters/hectare)  Water Availability (liters/hectare)  \n",
       "660                            5459.317                          4505.257189  "
      ]
     },
     "execution_count": 73,
     "metadata": {},
     "output_type": "execute_result"
    }
   ],
   "source": [
    "df3[df3[\"Water Availability (liters/hectare)\"]==4505.257189045351]"
   ]
  },
  {
   "cell_type": "code",
   "execution_count": 74,
   "metadata": {
    "scrolled": true
   },
   "outputs": [
    {
     "data": {
      "text/plain": [
       "18631.09132663682"
      ]
     },
     "execution_count": 74,
     "metadata": {},
     "output_type": "execute_result"
    }
   ],
   "source": [
    "df3[\"Water Consumption (liters/hectare)\"].max()"
   ]
  },
  {
   "cell_type": "code",
   "execution_count": 75,
   "metadata": {},
   "outputs": [
    {
     "data": {
      "text/html": [
       "<div>\n",
       "<style scoped>\n",
       "    .dataframe tbody tr th:only-of-type {\n",
       "        vertical-align: middle;\n",
       "    }\n",
       "\n",
       "    .dataframe tbody tr th {\n",
       "        vertical-align: top;\n",
       "    }\n",
       "\n",
       "    .dataframe thead th {\n",
       "        text-align: right;\n",
       "    }\n",
       "</style>\n",
       "<table border=\"1\" class=\"dataframe\">\n",
       "  <thead>\n",
       "    <tr style=\"text-align: right;\">\n",
       "      <th></th>\n",
       "      <th>District</th>\n",
       "      <th>Crop</th>\n",
       "      <th>Irrigation Method</th>\n",
       "      <th>Water Consumption (liters/hectare)</th>\n",
       "      <th>Water Availability (liters/hectare)</th>\n",
       "    </tr>\n",
       "  </thead>\n",
       "  <tbody>\n",
       "    <tr>\n",
       "      <th>574</th>\n",
       "      <td>Kota</td>\n",
       "      <td>Garlic</td>\n",
       "      <td>Drip Irrigation</td>\n",
       "      <td>18631.091327</td>\n",
       "      <td>17828.462764</td>\n",
       "    </tr>\n",
       "  </tbody>\n",
       "</table>\n",
       "</div>"
      ],
      "text/plain": [
       "    District    Crop Irrigation Method  Water Consumption (liters/hectare)  \\\n",
       "574     Kota  Garlic   Drip Irrigation                        18631.091327   \n",
       "\n",
       "     Water Availability (liters/hectare)  \n",
       "574                         17828.462764  "
      ]
     },
     "execution_count": 75,
     "metadata": {},
     "output_type": "execute_result"
    }
   ],
   "source": [
    "df3[df3[\"Water Consumption (liters/hectare)\"]==18631.09132663682]"
   ]
  },
  {
   "cell_type": "code",
   "execution_count": 76,
   "metadata": {},
   "outputs": [
    {
     "data": {
      "text/plain": [
       "4673.530139030418"
      ]
     },
     "execution_count": 76,
     "metadata": {},
     "output_type": "execute_result"
    }
   ],
   "source": [
    "df3[\"Water Consumption (liters/hectare)\"].min()"
   ]
  },
  {
   "cell_type": "code",
   "execution_count": 77,
   "metadata": {},
   "outputs": [
    {
     "data": {
      "text/html": [
       "<div>\n",
       "<style scoped>\n",
       "    .dataframe tbody tr th:only-of-type {\n",
       "        vertical-align: middle;\n",
       "    }\n",
       "\n",
       "    .dataframe tbody tr th {\n",
       "        vertical-align: top;\n",
       "    }\n",
       "\n",
       "    .dataframe thead th {\n",
       "        text-align: right;\n",
       "    }\n",
       "</style>\n",
       "<table border=\"1\" class=\"dataframe\">\n",
       "  <thead>\n",
       "    <tr style=\"text-align: right;\">\n",
       "      <th></th>\n",
       "      <th>District</th>\n",
       "      <th>Crop</th>\n",
       "      <th>Irrigation Method</th>\n",
       "      <th>Water Consumption (liters/hectare)</th>\n",
       "      <th>Water Availability (liters/hectare)</th>\n",
       "    </tr>\n",
       "  </thead>\n",
       "  <tbody>\n",
       "    <tr>\n",
       "      <th>184</th>\n",
       "      <td>Kota</td>\n",
       "      <td>Sugarcane</td>\n",
       "      <td>Drip Irrigation</td>\n",
       "      <td>4673.530139</td>\n",
       "      <td>5304.289717</td>\n",
       "    </tr>\n",
       "  </tbody>\n",
       "</table>\n",
       "</div>"
      ],
      "text/plain": [
       "    District       Crop Irrigation Method  Water Consumption (liters/hectare)  \\\n",
       "184     Kota  Sugarcane   Drip Irrigation                         4673.530139   \n",
       "\n",
       "     Water Availability (liters/hectare)  \n",
       "184                          5304.289717  "
      ]
     },
     "execution_count": 77,
     "metadata": {},
     "output_type": "execute_result"
    }
   ],
   "source": [
    "df3[df3[\"Water Consumption (liters/hectare)\"]==4673.530139030418]"
   ]
  },
  {
   "cell_type": "code",
   "execution_count": 78,
   "metadata": {},
   "outputs": [
    {
     "data": {
      "text/html": [
       "<div>\n",
       "<style scoped>\n",
       "    .dataframe tbody tr th:only-of-type {\n",
       "        vertical-align: middle;\n",
       "    }\n",
       "\n",
       "    .dataframe tbody tr th {\n",
       "        vertical-align: top;\n",
       "    }\n",
       "\n",
       "    .dataframe thead th {\n",
       "        text-align: right;\n",
       "    }\n",
       "</style>\n",
       "<table border=\"1\" class=\"dataframe\">\n",
       "  <thead>\n",
       "    <tr style=\"text-align: right;\">\n",
       "      <th></th>\n",
       "      <th>District</th>\n",
       "      <th>Crop</th>\n",
       "      <th>Irrigation Method</th>\n",
       "      <th>Water Consumption (liters/hectare)</th>\n",
       "      <th>Water Availability (liters/hectare)</th>\n",
       "    </tr>\n",
       "  </thead>\n",
       "  <tbody>\n",
       "    <tr>\n",
       "      <th>0</th>\n",
       "      <td>Udaipur</td>\n",
       "      <td>Garlic</td>\n",
       "      <td>Tube Well</td>\n",
       "      <td>11609.330886</td>\n",
       "      <td>11335.919980</td>\n",
       "    </tr>\n",
       "    <tr>\n",
       "      <th>1</th>\n",
       "      <td>Bhilwara</td>\n",
       "      <td>Gram</td>\n",
       "      <td>Drip Irrigation</td>\n",
       "      <td>12648.406038</td>\n",
       "      <td>12091.900254</td>\n",
       "    </tr>\n",
       "    <tr>\n",
       "      <th>2</th>\n",
       "      <td>Udaipur</td>\n",
       "      <td>Guava</td>\n",
       "      <td>Canal Irrigation</td>\n",
       "      <td>10063.162448</td>\n",
       "      <td>9810.943169</td>\n",
       "    </tr>\n",
       "    <tr>\n",
       "      <th>3</th>\n",
       "      <td>Jodhpur</td>\n",
       "      <td>Barley</td>\n",
       "      <td>Sprinkler Irrigation</td>\n",
       "      <td>10110.539993</td>\n",
       "      <td>10754.217313</td>\n",
       "    </tr>\n",
       "    <tr>\n",
       "      <th>4</th>\n",
       "      <td>Alwar</td>\n",
       "      <td>Gram</td>\n",
       "      <td>Canal Irrigation</td>\n",
       "      <td>9320.451018</td>\n",
       "      <td>8695.537819</td>\n",
       "    </tr>\n",
       "    <tr>\n",
       "      <th>...</th>\n",
       "      <td>...</td>\n",
       "      <td>...</td>\n",
       "      <td>...</td>\n",
       "      <td>...</td>\n",
       "      <td>...</td>\n",
       "    </tr>\n",
       "    <tr>\n",
       "      <th>995</th>\n",
       "      <td>Udaipur</td>\n",
       "      <td>Oilseeds</td>\n",
       "      <td>Sprinkler Irrigation</td>\n",
       "      <td>7842.481531</td>\n",
       "      <td>7206.450194</td>\n",
       "    </tr>\n",
       "    <tr>\n",
       "      <th>996</th>\n",
       "      <td>Jodhpur</td>\n",
       "      <td>Tomato</td>\n",
       "      <td>Sprinkler Irrigation</td>\n",
       "      <td>7868.457709</td>\n",
       "      <td>6986.421839</td>\n",
       "    </tr>\n",
       "    <tr>\n",
       "      <th>997</th>\n",
       "      <td>Kota</td>\n",
       "      <td>Bajra</td>\n",
       "      <td>Canal Irrigation</td>\n",
       "      <td>13002.941293</td>\n",
       "      <td>13746.172387</td>\n",
       "    </tr>\n",
       "    <tr>\n",
       "      <th>998</th>\n",
       "      <td>Bhilwara</td>\n",
       "      <td>Fennel</td>\n",
       "      <td>Drip Irrigation</td>\n",
       "      <td>14276.931267</td>\n",
       "      <td>13609.183532</td>\n",
       "    </tr>\n",
       "    <tr>\n",
       "      <th>999</th>\n",
       "      <td>Sri Ganganagar</td>\n",
       "      <td>Mustard</td>\n",
       "      <td>Tube Well</td>\n",
       "      <td>7011.556634</td>\n",
       "      <td>6140.081509</td>\n",
       "    </tr>\n",
       "  </tbody>\n",
       "</table>\n",
       "<p>1000 rows × 5 columns</p>\n",
       "</div>"
      ],
      "text/plain": [
       "           District      Crop     Irrigation Method  \\\n",
       "0           Udaipur    Garlic             Tube Well   \n",
       "1          Bhilwara      Gram       Drip Irrigation   \n",
       "2           Udaipur     Guava      Canal Irrigation   \n",
       "3           Jodhpur    Barley  Sprinkler Irrigation   \n",
       "4             Alwar      Gram      Canal Irrigation   \n",
       "..              ...       ...                   ...   \n",
       "995         Udaipur  Oilseeds  Sprinkler Irrigation   \n",
       "996         Jodhpur    Tomato  Sprinkler Irrigation   \n",
       "997            Kota     Bajra      Canal Irrigation   \n",
       "998        Bhilwara    Fennel       Drip Irrigation   \n",
       "999  Sri Ganganagar   Mustard             Tube Well   \n",
       "\n",
       "     Water Consumption (liters/hectare)  Water Availability (liters/hectare)  \n",
       "0                          11609.330886                         11335.919980  \n",
       "1                          12648.406038                         12091.900254  \n",
       "2                          10063.162448                          9810.943169  \n",
       "3                          10110.539993                         10754.217313  \n",
       "4                           9320.451018                          8695.537819  \n",
       "..                                  ...                                  ...  \n",
       "995                         7842.481531                          7206.450194  \n",
       "996                         7868.457709                          6986.421839  \n",
       "997                        13002.941293                         13746.172387  \n",
       "998                        14276.931267                         13609.183532  \n",
       "999                         7011.556634                          6140.081509  \n",
       "\n",
       "[1000 rows x 5 columns]"
      ]
     },
     "execution_count": 78,
     "metadata": {},
     "output_type": "execute_result"
    }
   ],
   "source": [
    "df3"
   ]
  },
  {
   "cell_type": "code",
   "execution_count": 79,
   "metadata": {},
   "outputs": [
    {
     "data": {
      "text/plain": [
       "array(['Udaipur', 'Bhilwara', 'Jodhpur', 'Alwar', 'Nagaur', 'Hanumangarh',\n",
       "       'Kota', 'Sri Ganganagar', 'Ajmer', 'Jaipur'], dtype=object)"
      ]
     },
     "execution_count": 79,
     "metadata": {},
     "output_type": "execute_result"
    }
   ],
   "source": [
    "du4=df3[\"District\"].unique()\n",
    "du4"
   ]
  },
  {
   "cell_type": "code",
   "execution_count": 80,
   "metadata": {},
   "outputs": [
    {
     "ename": "NameError",
     "evalue": "name 'arr6' is not defined",
     "output_type": "error",
     "traceback": [
      "\u001b[1;31m---------------------------------------------------------------------------\u001b[0m",
      "\u001b[1;31mNameError\u001b[0m                                 Traceback (most recent call last)",
      "Cell \u001b[1;32mIn[80], line 9\u001b[0m\n\u001b[0;32m      4\u001b[0m     sm\u001b[38;5;241m=\u001b[39mx[\u001b[38;5;124m\"\u001b[39m\u001b[38;5;124mWater Availability (liters/hectare)\u001b[39m\u001b[38;5;124m\"\u001b[39m]\u001b[38;5;241m.\u001b[39msum()\n\u001b[0;32m      5\u001b[0m     arr3\u001b[38;5;241m.\u001b[39mappend(sm)\n\u001b[1;32m----> 9\u001b[0m arr6\n",
      "\u001b[1;31mNameError\u001b[0m: name 'arr6' is not defined"
     ]
    }
   ],
   "source": [
    "arr3=[]\n",
    "for i in du4:\n",
    "    x=df3[df3[\"District\"]==i]\n",
    "    sm=x[\"Water Availability (liters/hectare)\"].sum()\n",
    "    arr3.append(sm)\n",
    "    \n",
    "    \n",
    "    \n",
    "arr6  "
   ]
  },
  {
   "cell_type": "code",
   "execution_count": 81,
   "metadata": {},
   "outputs": [
    {
     "data": {
      "text/plain": [
       "Text(0, 0.5, 'Water Availability(liters/hectare)')"
      ]
     },
     "execution_count": 81,
     "metadata": {},
     "output_type": "execute_result"
    },
    {
     "data": {
      "image/png": "[encoded data removed]",
      "text/plain": [
       "<Figure size 2500x700 with 1 Axes>"
      ]
     },
     "metadata": {},
     "output_type": "display_data"
    }
   ],
   "source": [
    "plt.figure(figsize=(25,7))\n",
    "plt.title(\"District vs Water Availability \",fontsize=30)\n",
    "plt.bar(du4,arr3,width=0.7,align=\"center\",color=\"pink\")\n",
    "plt.xlabel(\"District\",color=\"b\",fontweight=\"bold\",fontsize=40)\n",
    "plt.ylabel(\"Water Availability(liters/hectare)\",color=\"b\",fontweight=\"bold\",fontsize=25)\n"
   ]
  },
  {
   "cell_type": "code",
   "execution_count": 82,
   "metadata": {},
   "outputs": [
    {
     "data": {
      "text/plain": [
       "[1238384.6196241,\n",
       " 1043488.3218377313,\n",
       " 939019.4351485772,\n",
       " 1074478.3173021402,\n",
       " 1234335.4660139824,\n",
       " 1068398.3980301605,\n",
       " 1025934.2429111032,\n",
       " 971356.10620968,\n",
       " 919682.5924741226,\n",
       " 1042033.2590783439]"
      ]
     },
     "execution_count": 82,
     "metadata": {},
     "output_type": "execute_result"
    }
   ],
   "source": [
    "arr3=[]\n",
    "for i in du4:\n",
    "    x=df3[df3[\"District\"]==i]\n",
    "    sm=x[\"Water Consumption (liters/hectare)\"].sum()\n",
    "    arr3.append(sm)\n",
    "    \n",
    "    \n",
    "    \n",
    "arr3   "
   ]
  },
  {
   "cell_type": "code",
   "execution_count": 83,
   "metadata": {},
   "outputs": [
    {
     "data": {
      "text/plain": [
       "294326.0656968627"
      ]
     },
     "execution_count": 83,
     "metadata": {},
     "output_type": "execute_result"
    }
   ],
   "source": [
    "arr[3]"
   ]
  },
  {
   "cell_type": "code",
   "execution_count": 84,
   "metadata": {},
   "outputs": [
    {
     "data": {
      "text/plain": [
       "Text(0, 0.5, 'Water Consumption (liters/hectare)')"
      ]
     },
     "execution_count": 84,
     "metadata": {},
     "output_type": "execute_result"
    },
    {
     "data": {
      "image/png": "[encoded data removed]",
      "text/plain": [
       "<Figure size 2500x700 with 1 Axes>"
      ]
     },
     "metadata": {},
     "output_type": "display_data"
    }
   ],
   "source": [
    "plt.figure(figsize=(25,7))\n",
    "plt.title(\"District vs Water consumption \",fontsize=30)\n",
    "plt.bar(du4,arr3,width=0.7,align=\"center\",color=\"blue\")\n",
    "plt.xlabel(\"District\",color=\"b\",fontweight=\"bold\",fontsize=40)\n",
    "plt.ylabel(\"Water Consumption (liters/hectare)\",color=\"b\",fontweight=\"bold\",fontsize=25)\n"
   ]
  },
  {
   "cell_type": "code",
   "execution_count": null,
   "metadata": {},
   "outputs": [],
   "source": []
  },
  {
   "cell_type": "code",
   "execution_count": null,
   "metadata": {},
   "outputs": [],
   "source": []
  },
  {
   "cell_type": "code",
   "execution_count": 85,
   "metadata": {},
   "outputs": [
    {
     "data": {
      "text/plain": [
       "Text(0.5, 1.0, 'District  vs Water consumption ')"
      ]
     },
     "execution_count": 85,
     "metadata": {},
     "output_type": "execute_result"
    },
    {
     "data": {
      "image/png": "[encoded data removed]",
      "text/plain": [
       "<Figure size 1000x700 with 1 Axes>"
      ]
     },
     "metadata": {},
     "output_type": "display_data"
    }
   ],
   "source": [
    "plt.figure(figsize=(10,7))\n",
    "plt.pie(x=arr3,labels=du4,autopct='%1.1f%%')\n",
    "plt.title(\"District  vs Water consumption \")\n"
   ]
  },
  {
   "cell_type": "code",
   "execution_count": 86,
   "metadata": {},
   "outputs": [
    {
     "data": {
      "text/html": [
       "<div>\n",
       "<style scoped>\n",
       "    .dataframe tbody tr th:only-of-type {\n",
       "        vertical-align: middle;\n",
       "    }\n",
       "\n",
       "    .dataframe tbody tr th {\n",
       "        vertical-align: top;\n",
       "    }\n",
       "\n",
       "    .dataframe thead th {\n",
       "        text-align: right;\n",
       "    }\n",
       "</style>\n",
       "<table border=\"1\" class=\"dataframe\">\n",
       "  <thead>\n",
       "    <tr style=\"text-align: right;\">\n",
       "      <th></th>\n",
       "      <th>District</th>\n",
       "      <th>Crop</th>\n",
       "      <th>Irrigation Method</th>\n",
       "      <th>Water Consumption (liters/hectare)</th>\n",
       "      <th>Water Availability (liters/hectare)</th>\n",
       "    </tr>\n",
       "  </thead>\n",
       "  <tbody>\n",
       "    <tr>\n",
       "      <th>0</th>\n",
       "      <td>Udaipur</td>\n",
       "      <td>Garlic</td>\n",
       "      <td>Tube Well</td>\n",
       "      <td>11609.330886</td>\n",
       "      <td>11335.919980</td>\n",
       "    </tr>\n",
       "    <tr>\n",
       "      <th>1</th>\n",
       "      <td>Bhilwara</td>\n",
       "      <td>Gram</td>\n",
       "      <td>Drip Irrigation</td>\n",
       "      <td>12648.406038</td>\n",
       "      <td>12091.900254</td>\n",
       "    </tr>\n",
       "    <tr>\n",
       "      <th>2</th>\n",
       "      <td>Udaipur</td>\n",
       "      <td>Guava</td>\n",
       "      <td>Canal Irrigation</td>\n",
       "      <td>10063.162448</td>\n",
       "      <td>9810.943169</td>\n",
       "    </tr>\n",
       "    <tr>\n",
       "      <th>3</th>\n",
       "      <td>Jodhpur</td>\n",
       "      <td>Barley</td>\n",
       "      <td>Sprinkler Irrigation</td>\n",
       "      <td>10110.539993</td>\n",
       "      <td>10754.217313</td>\n",
       "    </tr>\n",
       "    <tr>\n",
       "      <th>4</th>\n",
       "      <td>Alwar</td>\n",
       "      <td>Gram</td>\n",
       "      <td>Canal Irrigation</td>\n",
       "      <td>9320.451018</td>\n",
       "      <td>8695.537819</td>\n",
       "    </tr>\n",
       "    <tr>\n",
       "      <th>...</th>\n",
       "      <td>...</td>\n",
       "      <td>...</td>\n",
       "      <td>...</td>\n",
       "      <td>...</td>\n",
       "      <td>...</td>\n",
       "    </tr>\n",
       "    <tr>\n",
       "      <th>995</th>\n",
       "      <td>Udaipur</td>\n",
       "      <td>Oilseeds</td>\n",
       "      <td>Sprinkler Irrigation</td>\n",
       "      <td>7842.481531</td>\n",
       "      <td>7206.450194</td>\n",
       "    </tr>\n",
       "    <tr>\n",
       "      <th>996</th>\n",
       "      <td>Jodhpur</td>\n",
       "      <td>Tomato</td>\n",
       "      <td>Sprinkler Irrigation</td>\n",
       "      <td>7868.457709</td>\n",
       "      <td>6986.421839</td>\n",
       "    </tr>\n",
       "    <tr>\n",
       "      <th>997</th>\n",
       "      <td>Kota</td>\n",
       "      <td>Bajra</td>\n",
       "      <td>Canal Irrigation</td>\n",
       "      <td>13002.941293</td>\n",
       "      <td>13746.172387</td>\n",
       "    </tr>\n",
       "    <tr>\n",
       "      <th>998</th>\n",
       "      <td>Bhilwara</td>\n",
       "      <td>Fennel</td>\n",
       "      <td>Drip Irrigation</td>\n",
       "      <td>14276.931267</td>\n",
       "      <td>13609.183532</td>\n",
       "    </tr>\n",
       "    <tr>\n",
       "      <th>999</th>\n",
       "      <td>Sri Ganganagar</td>\n",
       "      <td>Mustard</td>\n",
       "      <td>Tube Well</td>\n",
       "      <td>7011.556634</td>\n",
       "      <td>6140.081509</td>\n",
       "    </tr>\n",
       "  </tbody>\n",
       "</table>\n",
       "<p>1000 rows × 5 columns</p>\n",
       "</div>"
      ],
      "text/plain": [
       "           District      Crop     Irrigation Method  \\\n",
       "0           Udaipur    Garlic             Tube Well   \n",
       "1          Bhilwara      Gram       Drip Irrigation   \n",
       "2           Udaipur     Guava      Canal Irrigation   \n",
       "3           Jodhpur    Barley  Sprinkler Irrigation   \n",
       "4             Alwar      Gram      Canal Irrigation   \n",
       "..              ...       ...                   ...   \n",
       "995         Udaipur  Oilseeds  Sprinkler Irrigation   \n",
       "996         Jodhpur    Tomato  Sprinkler Irrigation   \n",
       "997            Kota     Bajra      Canal Irrigation   \n",
       "998        Bhilwara    Fennel       Drip Irrigation   \n",
       "999  Sri Ganganagar   Mustard             Tube Well   \n",
       "\n",
       "     Water Consumption (liters/hectare)  Water Availability (liters/hectare)  \n",
       "0                          11609.330886                         11335.919980  \n",
       "1                          12648.406038                         12091.900254  \n",
       "2                          10063.162448                          9810.943169  \n",
       "3                          10110.539993                         10754.217313  \n",
       "4                           9320.451018                          8695.537819  \n",
       "..                                  ...                                  ...  \n",
       "995                         7842.481531                          7206.450194  \n",
       "996                         7868.457709                          6986.421839  \n",
       "997                        13002.941293                         13746.172387  \n",
       "998                        14276.931267                         13609.183532  \n",
       "999                         7011.556634                          6140.081509  \n",
       "\n",
       "[1000 rows x 5 columns]"
      ]
     },
     "execution_count": 86,
     "metadata": {},
     "output_type": "execute_result"
    }
   ],
   "source": [
    "df3"
   ]
  },
  {
   "cell_type": "code",
   "execution_count": 87,
   "metadata": {},
   "outputs": [],
   "source": [
    "du5=df3[\"Crop\"].unique()\n",
    "\n"
   ]
  },
  {
   "cell_type": "code",
   "execution_count": 88,
   "metadata": {},
   "outputs": [
    {
     "data": {
      "text/plain": [
       "[10787.609412092637,\n",
       " 10129.977879680811,\n",
       " 11004.224175474139,\n",
       " 10189.883393772223,\n",
       " 10687.447467514066,\n",
       " 10386.094637171365,\n",
       " 10784.630145542107,\n",
       " 10218.779091557717,\n",
       " 11003.932206835518,\n",
       " 9438.989213645855,\n",
       " 10866.977090284938,\n",
       " 10430.705955918073,\n",
       " 11155.674255017004,\n",
       " 10028.738123274345,\n",
       " 10845.013402217763,\n",
       " 10569.711279466672,\n",
       " 10755.559520567233,\n",
       " 10418.856454404542,\n",
       " 10704.110816649372,\n",
       " 10174.856435864638,\n",
       " 10652.889139163943,\n",
       " 10522.180306840331,\n",
       " 10997.255129234627]"
      ]
     },
     "execution_count": 88,
     "metadata": {},
     "output_type": "execute_result"
    }
   ],
   "source": [
    "arr3=[]\n",
    "for i in du5:\n",
    "    x=df3[df3[\"Crop\"]==i]\n",
    "    sm=x[\"Water Consumption (liters/hectare)\"].mean()\n",
    "    arr3.append(sm)\n",
    "    \n",
    "    \n",
    "    \n",
    "arr3   "
   ]
  },
  {
   "cell_type": "code",
   "execution_count": 89,
   "metadata": {},
   "outputs": [
    {
     "data": {
      "text/plain": [
       "Text(0.5, 1.0, 'Crop  vs Water consumption ')"
      ]
     },
     "execution_count": 89,
     "metadata": {},
     "output_type": "execute_result"
    },
    {
     "data": {
      "image/png": "[encoded data removed]",
      "text/plain": [
       "<Figure size 1000x700 with 1 Axes>"
      ]
     },
     "metadata": {},
     "output_type": "display_data"
    }
   ],
   "source": [
    "plt.figure(figsize=(10,7))\n",
    "plt.pie(x=arr3,labels=du5,autopct='%1.1f%%')\n",
    "plt.title(\"Crop  vs Water consumption \")\n"
   ]
  },
  {
   "cell_type": "code",
   "execution_count": 90,
   "metadata": {},
   "outputs": [
    {
     "data": {
      "text/html": [
       "<div>\n",
       "<style scoped>\n",
       "    .dataframe tbody tr th:only-of-type {\n",
       "        vertical-align: middle;\n",
       "    }\n",
       "\n",
       "    .dataframe tbody tr th {\n",
       "        vertical-align: top;\n",
       "    }\n",
       "\n",
       "    .dataframe thead th {\n",
       "        text-align: right;\n",
       "    }\n",
       "</style>\n",
       "<table border=\"1\" class=\"dataframe\">\n",
       "  <thead>\n",
       "    <tr style=\"text-align: right;\">\n",
       "      <th></th>\n",
       "      <th>District</th>\n",
       "      <th>Crop</th>\n",
       "      <th>Irrigation Method</th>\n",
       "      <th>Water Consumption (liters/hectare)</th>\n",
       "      <th>Water Availability (liters/hectare)</th>\n",
       "    </tr>\n",
       "  </thead>\n",
       "  <tbody>\n",
       "    <tr>\n",
       "      <th>0</th>\n",
       "      <td>Udaipur</td>\n",
       "      <td>Garlic</td>\n",
       "      <td>Tube Well</td>\n",
       "      <td>11609.330886</td>\n",
       "      <td>11335.919980</td>\n",
       "    </tr>\n",
       "    <tr>\n",
       "      <th>1</th>\n",
       "      <td>Bhilwara</td>\n",
       "      <td>Gram</td>\n",
       "      <td>Drip Irrigation</td>\n",
       "      <td>12648.406038</td>\n",
       "      <td>12091.900254</td>\n",
       "    </tr>\n",
       "    <tr>\n",
       "      <th>2</th>\n",
       "      <td>Udaipur</td>\n",
       "      <td>Guava</td>\n",
       "      <td>Canal Irrigation</td>\n",
       "      <td>10063.162448</td>\n",
       "      <td>9810.943169</td>\n",
       "    </tr>\n",
       "    <tr>\n",
       "      <th>3</th>\n",
       "      <td>Jodhpur</td>\n",
       "      <td>Barley</td>\n",
       "      <td>Sprinkler Irrigation</td>\n",
       "      <td>10110.539993</td>\n",
       "      <td>10754.217313</td>\n",
       "    </tr>\n",
       "    <tr>\n",
       "      <th>4</th>\n",
       "      <td>Alwar</td>\n",
       "      <td>Gram</td>\n",
       "      <td>Canal Irrigation</td>\n",
       "      <td>9320.451018</td>\n",
       "      <td>8695.537819</td>\n",
       "    </tr>\n",
       "    <tr>\n",
       "      <th>...</th>\n",
       "      <td>...</td>\n",
       "      <td>...</td>\n",
       "      <td>...</td>\n",
       "      <td>...</td>\n",
       "      <td>...</td>\n",
       "    </tr>\n",
       "    <tr>\n",
       "      <th>995</th>\n",
       "      <td>Udaipur</td>\n",
       "      <td>Oilseeds</td>\n",
       "      <td>Sprinkler Irrigation</td>\n",
       "      <td>7842.481531</td>\n",
       "      <td>7206.450194</td>\n",
       "    </tr>\n",
       "    <tr>\n",
       "      <th>996</th>\n",
       "      <td>Jodhpur</td>\n",
       "      <td>Tomato</td>\n",
       "      <td>Sprinkler Irrigation</td>\n",
       "      <td>7868.457709</td>\n",
       "      <td>6986.421839</td>\n",
       "    </tr>\n",
       "    <tr>\n",
       "      <th>997</th>\n",
       "      <td>Kota</td>\n",
       "      <td>Bajra</td>\n",
       "      <td>Canal Irrigation</td>\n",
       "      <td>13002.941293</td>\n",
       "      <td>13746.172387</td>\n",
       "    </tr>\n",
       "    <tr>\n",
       "      <th>998</th>\n",
       "      <td>Bhilwara</td>\n",
       "      <td>Fennel</td>\n",
       "      <td>Drip Irrigation</td>\n",
       "      <td>14276.931267</td>\n",
       "      <td>13609.183532</td>\n",
       "    </tr>\n",
       "    <tr>\n",
       "      <th>999</th>\n",
       "      <td>Sri Ganganagar</td>\n",
       "      <td>Mustard</td>\n",
       "      <td>Tube Well</td>\n",
       "      <td>7011.556634</td>\n",
       "      <td>6140.081509</td>\n",
       "    </tr>\n",
       "  </tbody>\n",
       "</table>\n",
       "<p>1000 rows × 5 columns</p>\n",
       "</div>"
      ],
      "text/plain": [
       "           District      Crop     Irrigation Method  \\\n",
       "0           Udaipur    Garlic             Tube Well   \n",
       "1          Bhilwara      Gram       Drip Irrigation   \n",
       "2           Udaipur     Guava      Canal Irrigation   \n",
       "3           Jodhpur    Barley  Sprinkler Irrigation   \n",
       "4             Alwar      Gram      Canal Irrigation   \n",
       "..              ...       ...                   ...   \n",
       "995         Udaipur  Oilseeds  Sprinkler Irrigation   \n",
       "996         Jodhpur    Tomato  Sprinkler Irrigation   \n",
       "997            Kota     Bajra      Canal Irrigation   \n",
       "998        Bhilwara    Fennel       Drip Irrigation   \n",
       "999  Sri Ganganagar   Mustard             Tube Well   \n",
       "\n",
       "     Water Consumption (liters/hectare)  Water Availability (liters/hectare)  \n",
       "0                          11609.330886                         11335.919980  \n",
       "1                          12648.406038                         12091.900254  \n",
       "2                          10063.162448                          9810.943169  \n",
       "3                          10110.539993                         10754.217313  \n",
       "4                           9320.451018                          8695.537819  \n",
       "..                                  ...                                  ...  \n",
       "995                         7842.481531                          7206.450194  \n",
       "996                         7868.457709                          6986.421839  \n",
       "997                        13002.941293                         13746.172387  \n",
       "998                        14276.931267                         13609.183532  \n",
       "999                         7011.556634                          6140.081509  \n",
       "\n",
       "[1000 rows x 5 columns]"
      ]
     },
     "execution_count": 90,
     "metadata": {},
     "output_type": "execute_result"
    }
   ],
   "source": [
    "df3"
   ]
  },
  {
   "cell_type": "code",
   "execution_count": 91,
   "metadata": {},
   "outputs": [
    {
     "data": {
      "text/plain": [
       "array(['Tube Well', 'Drip Irrigation', 'Canal Irrigation',\n",
       "       'Sprinkler Irrigation'], dtype=object)"
      ]
     },
     "execution_count": 91,
     "metadata": {},
     "output_type": "execute_result"
    }
   ],
   "source": [
    "du6=df3[\"Irrigation Method\"].unique()\n",
    "du6"
   ]
  },
  {
   "cell_type": "code",
   "execution_count": 92,
   "metadata": {},
   "outputs": [
    {
     "data": {
      "text/plain": [
       "[2685830.3566357824, 2593763.698299192, 2284474.3902456756, 2993042.313449291]"
      ]
     },
     "execution_count": 92,
     "metadata": {},
     "output_type": "execute_result"
    }
   ],
   "source": [
    "arr3=[]\n",
    "for i in du6:\n",
    "    x=df3[df3[\"Irrigation Method\"]==i]\n",
    "    sm=x[\"Water Consumption (liters/hectare)\"].sum()\n",
    "    arr3.append(sm)\n",
    "    \n",
    "    \n",
    "    \n",
    "arr3   "
   ]
  },
  {
   "cell_type": "code",
   "execution_count": 93,
   "metadata": {},
   "outputs": [
    {
     "data": {
      "text/plain": [
       "Text(0.5, 1.0, 'Irrigation Methods  vs Water consumption ')"
      ]
     },
     "execution_count": 93,
     "metadata": {},
     "output_type": "execute_result"
    },
    {
     "data": {
      "image/png": "[encoded data removed]",
      "text/plain": [
       "<Figure size 1000x700 with 1 Axes>"
      ]
     },
     "metadata": {},
     "output_type": "display_data"
    }
   ],
   "source": [
    "plt.figure(figsize=(10,7))\n",
    "plt.pie(x=arr3,labels=du6,autopct='%1.1f%%')\n",
    "plt.title(\"Irrigation Methods  vs Water consumption \")\n"
   ]
  },
  {
   "cell_type": "code",
   "execution_count": null,
   "metadata": {},
   "outputs": [],
   "source": []
  },
  {
   "cell_type": "code",
   "execution_count": 94,
   "metadata": {},
   "outputs": [
    {
     "data": {
      "text/plain": [
       "Text(0, 0.5, 'Water Avaulability')"
      ]
     },
     "execution_count": 94,
     "metadata": {},
     "output_type": "execute_result"
    },
    {
     "data": {
      "image/png": "[encoded data removed]",
      "text/plain": [
       "<Figure size 1000x700 with 1 Axes>"
      ]
     },
     "metadata": {},
     "output_type": "display_data"
    }
   ],
   "source": [
    "plt.figure(figsize=(10,7))\n",
    "plt.scatter(df3[\"Water Consumption (liters/hectare)\"],df3[\"Water Availability (liters/hectare)\"],c=\"indigo\")\n",
    "plt.title(\"Water consumption vs water availability\",fontsize=25)\n",
    "plt.xlabel(\"Water consumption\",fontsize=15,c=\"r\")\n",
    "plt.ylabel(\"Water Avaulability\",fontsize=15,c=\"r\")\n",
    "\n"
   ]
  },
  {
   "cell_type": "markdown",
   "metadata": {},
   "source": [
    "### MODEL-"
   ]
  },
  {
   "cell_type": "code",
   "execution_count": 6,
   "metadata": {},
   "outputs": [
    {
     "data": {
      "text/html": [
       "<div>\n",
       "<style scoped>\n",
       "    .dataframe tbody tr th:only-of-type {\n",
       "        vertical-align: middle;\n",
       "    }\n",
       "\n",
       "    .dataframe tbody tr th {\n",
       "        vertical-align: top;\n",
       "    }\n",
       "\n",
       "    .dataframe thead th {\n",
       "        text-align: right;\n",
       "    }\n",
       "</style>\n",
       "<table border=\"1\" class=\"dataframe\">\n",
       "  <thead>\n",
       "    <tr style=\"text-align: right;\">\n",
       "      <th></th>\n",
       "      <th>District</th>\n",
       "      <th>Crop</th>\n",
       "      <th>Season</th>\n",
       "      <th>Area (hectares)</th>\n",
       "      <th>Yield (quintals)</th>\n",
       "      <th>Production (metric tons)</th>\n",
       "    </tr>\n",
       "  </thead>\n",
       "  <tbody>\n",
       "    <tr>\n",
       "      <th>0</th>\n",
       "      <td>Jodhpur</td>\n",
       "      <td>Wheat</td>\n",
       "      <td>Kharif</td>\n",
       "      <td>16490.142459</td>\n",
       "      <td>30.691986</td>\n",
       "      <td>5061.152230</td>\n",
       "    </tr>\n",
       "    <tr>\n",
       "      <th>1</th>\n",
       "      <td>Kota</td>\n",
       "      <td>Gram</td>\n",
       "      <td>Rabi</td>\n",
       "      <td>16943.065614</td>\n",
       "      <td>45.818232</td>\n",
       "      <td>7763.013072</td>\n",
       "    </tr>\n",
       "    <tr>\n",
       "      <th>2</th>\n",
       "      <td>Jaipur</td>\n",
       "      <td>Wheat</td>\n",
       "      <td>Rabi</td>\n",
       "      <td>14297.539876</td>\n",
       "      <td>29.752629</td>\n",
       "      <td>4253.893981</td>\n",
       "    </tr>\n",
       "    <tr>\n",
       "      <th>3</th>\n",
       "      <td>Hanumangarh</td>\n",
       "      <td>Coriander</td>\n",
       "      <td>Rabi</td>\n",
       "      <td>19737.638447</td>\n",
       "      <td>42.026511</td>\n",
       "      <td>8295.040749</td>\n",
       "    </tr>\n",
       "    <tr>\n",
       "      <th>4</th>\n",
       "      <td>Hanumangarh</td>\n",
       "      <td>Citrus</td>\n",
       "      <td>Rabi</td>\n",
       "      <td>13591.576842</td>\n",
       "      <td>38.195933</td>\n",
       "      <td>5191.429648</td>\n",
       "    </tr>\n",
       "    <tr>\n",
       "      <th>...</th>\n",
       "      <td>...</td>\n",
       "      <td>...</td>\n",
       "      <td>...</td>\n",
       "      <td>...</td>\n",
       "      <td>...</td>\n",
       "      <td>...</td>\n",
       "    </tr>\n",
       "    <tr>\n",
       "      <th>995</th>\n",
       "      <td>Jaipur</td>\n",
       "      <td>Gram</td>\n",
       "      <td>Kharif</td>\n",
       "      <td>17401.228576</td>\n",
       "      <td>37.971750</td>\n",
       "      <td>6607.551098</td>\n",
       "    </tr>\n",
       "    <tr>\n",
       "      <th>996</th>\n",
       "      <td>Hanumangarh</td>\n",
       "      <td>Garlic</td>\n",
       "      <td>Rabi</td>\n",
       "      <td>18566.740114</td>\n",
       "      <td>48.880964</td>\n",
       "      <td>9075.601636</td>\n",
       "    </tr>\n",
       "    <tr>\n",
       "      <th>997</th>\n",
       "      <td>Nagaur</td>\n",
       "      <td>Coriander</td>\n",
       "      <td>Kharif</td>\n",
       "      <td>16054.344623</td>\n",
       "      <td>52.309529</td>\n",
       "      <td>8397.952063</td>\n",
       "    </tr>\n",
       "    <tr>\n",
       "      <th>998</th>\n",
       "      <td>Hanumangarh</td>\n",
       "      <td>Bajra</td>\n",
       "      <td>Kharif</td>\n",
       "      <td>14920.436222</td>\n",
       "      <td>44.458956</td>\n",
       "      <td>6633.470231</td>\n",
       "    </tr>\n",
       "    <tr>\n",
       "      <th>999</th>\n",
       "      <td>Udaipur</td>\n",
       "      <td>Barley</td>\n",
       "      <td>Rabi</td>\n",
       "      <td>14510.799108</td>\n",
       "      <td>42.673344</td>\n",
       "      <td>6192.243169</td>\n",
       "    </tr>\n",
       "  </tbody>\n",
       "</table>\n",
       "<p>1000 rows × 6 columns</p>\n",
       "</div>"
      ],
      "text/plain": [
       "        District       Crop  Season  Area (hectares)  Yield (quintals)  \\\n",
       "0        Jodhpur      Wheat  Kharif     16490.142459         30.691986   \n",
       "1           Kota       Gram    Rabi     16943.065614         45.818232   \n",
       "2         Jaipur      Wheat    Rabi     14297.539876         29.752629   \n",
       "3    Hanumangarh  Coriander    Rabi     19737.638447         42.026511   \n",
       "4    Hanumangarh     Citrus    Rabi     13591.576842         38.195933   \n",
       "..           ...        ...     ...              ...               ...   \n",
       "995       Jaipur       Gram  Kharif     17401.228576         37.971750   \n",
       "996  Hanumangarh     Garlic    Rabi     18566.740114         48.880964   \n",
       "997       Nagaur  Coriander  Kharif     16054.344623         52.309529   \n",
       "998  Hanumangarh      Bajra  Kharif     14920.436222         44.458956   \n",
       "999      Udaipur     Barley    Rabi     14510.799108         42.673344   \n",
       "\n",
       "     Production (metric tons)  \n",
       "0                 5061.152230  \n",
       "1                 7763.013072  \n",
       "2                 4253.893981  \n",
       "3                 8295.040749  \n",
       "4                 5191.429648  \n",
       "..                        ...  \n",
       "995               6607.551098  \n",
       "996               9075.601636  \n",
       "997               8397.952063  \n",
       "998               6633.470231  \n",
       "999               6192.243169  \n",
       "\n",
       "[1000 rows x 6 columns]"
      ]
     },
     "execution_count": 6,
     "metadata": {},
     "output_type": "execute_result"
    }
   ],
   "source": [
    "df1"
   ]
  },
  {
   "cell_type": "code",
   "execution_count": 7,
   "metadata": {},
   "outputs": [
    {
     "name": "stdout",
     "output_type": "stream",
     "text": [
      "<class 'pandas.core.frame.DataFrame'>\n",
      "RangeIndex: 1000 entries, 0 to 999\n",
      "Data columns (total 6 columns):\n",
      " #   Column                    Non-Null Count  Dtype  \n",
      "---  ------                    --------------  -----  \n",
      " 0   District                  1000 non-null   object \n",
      " 1   Crop                      1000 non-null   object \n",
      " 2   Season                    1000 non-null   object \n",
      " 3   Area (hectares)           1000 non-null   float64\n",
      " 4   Yield (quintals)          1000 non-null   float64\n",
      " 5   Production (metric tons)  1000 non-null   float64\n",
      "dtypes: float64(3), object(3)\n",
      "memory usage: 47.0+ KB\n"
     ]
    }
   ],
   "source": [
    "df1.info()"
   ]
  },
  {
   "cell_type": "code",
   "execution_count": 8,
   "metadata": {},
   "outputs": [
    {
     "data": {
      "text/html": [
       "<div>\n",
       "<style scoped>\n",
       "    .dataframe tbody tr th:only-of-type {\n",
       "        vertical-align: middle;\n",
       "    }\n",
       "\n",
       "    .dataframe tbody tr th {\n",
       "        vertical-align: top;\n",
       "    }\n",
       "\n",
       "    .dataframe thead th {\n",
       "        text-align: right;\n",
       "    }\n",
       "</style>\n",
       "<table border=\"1\" class=\"dataframe\">\n",
       "  <thead>\n",
       "    <tr style=\"text-align: right;\">\n",
       "      <th></th>\n",
       "      <th>Area (hectares)</th>\n",
       "      <th>Yield (quintals)</th>\n",
       "      <th>Production (metric tons)</th>\n",
       "    </tr>\n",
       "  </thead>\n",
       "  <tbody>\n",
       "    <tr>\n",
       "      <th>count</th>\n",
       "      <td>1000.000000</td>\n",
       "      <td>1000.000000</td>\n",
       "      <td>1000.000000</td>\n",
       "    </tr>\n",
       "    <tr>\n",
       "      <th>mean</th>\n",
       "      <td>15046.881839</td>\n",
       "      <td>37.618328</td>\n",
       "      <td>5662.518485</td>\n",
       "    </tr>\n",
       "    <tr>\n",
       "      <th>std</th>\n",
       "      <td>2775.359803</td>\n",
       "      <td>8.218587</td>\n",
       "      <td>1629.922505</td>\n",
       "    </tr>\n",
       "    <tr>\n",
       "      <th>min</th>\n",
       "      <td>5276.197980</td>\n",
       "      <td>20.272936</td>\n",
       "      <td>1728.445956</td>\n",
       "    </tr>\n",
       "    <tr>\n",
       "      <th>25%</th>\n",
       "      <td>13165.258125</td>\n",
       "      <td>31.105150</td>\n",
       "      <td>4438.671582</td>\n",
       "    </tr>\n",
       "    <tr>\n",
       "      <th>50%</th>\n",
       "      <td>15108.130420</td>\n",
       "      <td>37.227050</td>\n",
       "      <td>5561.468281</td>\n",
       "    </tr>\n",
       "    <tr>\n",
       "      <th>75%</th>\n",
       "      <td>16944.950094</td>\n",
       "      <td>43.711205</td>\n",
       "      <td>6769.771692</td>\n",
       "    </tr>\n",
       "    <tr>\n",
       "      <th>max</th>\n",
       "      <td>20000.000000</td>\n",
       "      <td>60.429192</td>\n",
       "      <td>10834.530834</td>\n",
       "    </tr>\n",
       "  </tbody>\n",
       "</table>\n",
       "</div>"
      ],
      "text/plain": [
       "       Area (hectares)  Yield (quintals)  Production (metric tons)\n",
       "count      1000.000000       1000.000000               1000.000000\n",
       "mean      15046.881839         37.618328               5662.518485\n",
       "std        2775.359803          8.218587               1629.922505\n",
       "min        5276.197980         20.272936               1728.445956\n",
       "25%       13165.258125         31.105150               4438.671582\n",
       "50%       15108.130420         37.227050               5561.468281\n",
       "75%       16944.950094         43.711205               6769.771692\n",
       "max       20000.000000         60.429192              10834.530834"
      ]
     },
     "execution_count": 8,
     "metadata": {},
     "output_type": "execute_result"
    }
   ],
   "source": [
    "df1.describe()"
   ]
  },
  {
   "cell_type": "code",
   "execution_count": 9,
   "metadata": {},
   "outputs": [
    {
     "name": "stderr",
     "output_type": "stream",
     "text": [
      "C:\\Users\\91871\\AppData\\Local\\Temp\\ipykernel_15328\\473017434.py:1: FutureWarning: The default value of numeric_only in DataFrame.corr is deprecated. In a future version, it will default to False. Select only valid columns or specify the value of numeric_only to silence this warning.\n",
      "  df1.corr()\n"
     ]
    },
    {
     "data": {
      "text/html": [
       "<div>\n",
       "<style scoped>\n",
       "    .dataframe tbody tr th:only-of-type {\n",
       "        vertical-align: middle;\n",
       "    }\n",
       "\n",
       "    .dataframe tbody tr th {\n",
       "        vertical-align: top;\n",
       "    }\n",
       "\n",
       "    .dataframe thead th {\n",
       "        text-align: right;\n",
       "    }\n",
       "</style>\n",
       "<table border=\"1\" class=\"dataframe\">\n",
       "  <thead>\n",
       "    <tr style=\"text-align: right;\">\n",
       "      <th></th>\n",
       "      <th>Area (hectares)</th>\n",
       "      <th>Yield (quintals)</th>\n",
       "      <th>Production (metric tons)</th>\n",
       "    </tr>\n",
       "  </thead>\n",
       "  <tbody>\n",
       "    <tr>\n",
       "      <th>Area (hectares)</th>\n",
       "      <td>1.000000</td>\n",
       "      <td>0.009361</td>\n",
       "      <td>0.642135</td>\n",
       "    </tr>\n",
       "    <tr>\n",
       "      <th>Yield (quintals)</th>\n",
       "      <td>0.009361</td>\n",
       "      <td>1.000000</td>\n",
       "      <td>0.759973</td>\n",
       "    </tr>\n",
       "    <tr>\n",
       "      <th>Production (metric tons)</th>\n",
       "      <td>0.642135</td>\n",
       "      <td>0.759973</td>\n",
       "      <td>1.000000</td>\n",
       "    </tr>\n",
       "  </tbody>\n",
       "</table>\n",
       "</div>"
      ],
      "text/plain": [
       "                          Area (hectares)  Yield (quintals)  \\\n",
       "Area (hectares)                  1.000000          0.009361   \n",
       "Yield (quintals)                 0.009361          1.000000   \n",
       "Production (metric tons)         0.642135          0.759973   \n",
       "\n",
       "                          Production (metric tons)  \n",
       "Area (hectares)                           0.642135  \n",
       "Yield (quintals)                          0.759973  \n",
       "Production (metric tons)                  1.000000  "
      ]
     },
     "execution_count": 9,
     "metadata": {},
     "output_type": "execute_result"
    }
   ],
   "source": [
    "df1.corr()"
   ]
  },
  {
   "cell_type": "code",
   "execution_count": 10,
   "metadata": {},
   "outputs": [
    {
     "data": {
      "text/html": [
       "<div>\n",
       "<style scoped>\n",
       "    .dataframe tbody tr th:only-of-type {\n",
       "        vertical-align: middle;\n",
       "    }\n",
       "\n",
       "    .dataframe tbody tr th {\n",
       "        vertical-align: top;\n",
       "    }\n",
       "\n",
       "    .dataframe thead th {\n",
       "        text-align: right;\n",
       "    }\n",
       "</style>\n",
       "<table border=\"1\" class=\"dataframe\">\n",
       "  <thead>\n",
       "    <tr style=\"text-align: right;\">\n",
       "      <th></th>\n",
       "      <th>District</th>\n",
       "      <th>Crop</th>\n",
       "      <th>Season</th>\n",
       "      <th>Area (hectares)</th>\n",
       "      <th>Yield (quintals)</th>\n",
       "      <th>Production (metric tons)</th>\n",
       "    </tr>\n",
       "  </thead>\n",
       "  <tbody>\n",
       "    <tr>\n",
       "      <th>0</th>\n",
       "      <td>Jodhpur</td>\n",
       "      <td>Wheat</td>\n",
       "      <td>Kharif</td>\n",
       "      <td>16490.142459</td>\n",
       "      <td>30.691986</td>\n",
       "      <td>5061.152230</td>\n",
       "    </tr>\n",
       "    <tr>\n",
       "      <th>1</th>\n",
       "      <td>Kota</td>\n",
       "      <td>Gram</td>\n",
       "      <td>Rabi</td>\n",
       "      <td>16943.065614</td>\n",
       "      <td>45.818232</td>\n",
       "      <td>7763.013072</td>\n",
       "    </tr>\n",
       "    <tr>\n",
       "      <th>2</th>\n",
       "      <td>Jaipur</td>\n",
       "      <td>Wheat</td>\n",
       "      <td>Rabi</td>\n",
       "      <td>14297.539876</td>\n",
       "      <td>29.752629</td>\n",
       "      <td>4253.893981</td>\n",
       "    </tr>\n",
       "    <tr>\n",
       "      <th>3</th>\n",
       "      <td>Hanumangarh</td>\n",
       "      <td>Coriander</td>\n",
       "      <td>Rabi</td>\n",
       "      <td>19737.638447</td>\n",
       "      <td>42.026511</td>\n",
       "      <td>8295.040749</td>\n",
       "    </tr>\n",
       "    <tr>\n",
       "      <th>4</th>\n",
       "      <td>Hanumangarh</td>\n",
       "      <td>Citrus</td>\n",
       "      <td>Rabi</td>\n",
       "      <td>13591.576842</td>\n",
       "      <td>38.195933</td>\n",
       "      <td>5191.429648</td>\n",
       "    </tr>\n",
       "  </tbody>\n",
       "</table>\n",
       "</div>"
      ],
      "text/plain": [
       "      District       Crop  Season  Area (hectares)  Yield (quintals)  \\\n",
       "0      Jodhpur      Wheat  Kharif     16490.142459         30.691986   \n",
       "1         Kota       Gram    Rabi     16943.065614         45.818232   \n",
       "2       Jaipur      Wheat    Rabi     14297.539876         29.752629   \n",
       "3  Hanumangarh  Coriander    Rabi     19737.638447         42.026511   \n",
       "4  Hanumangarh     Citrus    Rabi     13591.576842         38.195933   \n",
       "\n",
       "   Production (metric tons)  \n",
       "0               5061.152230  \n",
       "1               7763.013072  \n",
       "2               4253.893981  \n",
       "3               8295.040749  \n",
       "4               5191.429648  "
      ]
     },
     "execution_count": 10,
     "metadata": {},
     "output_type": "execute_result"
    }
   ],
   "source": [
    "df1.head()"
   ]
  },
  {
   "cell_type": "code",
   "execution_count": 11,
   "metadata": {},
   "outputs": [],
   "source": [
    "from sklearn.preprocessing import LabelEncoder\n",
    "el=LabelEncoder()"
   ]
  },
  {
   "cell_type": "code",
   "execution_count": 12,
   "metadata": {},
   "outputs": [],
   "source": [
    "df1[\"District\"]=el.fit_transform(df1[\"District\"])"
   ]
  },
  {
   "cell_type": "code",
   "execution_count": 13,
   "metadata": {},
   "outputs": [],
   "source": [
    "df1[\"Crop\"]=el.fit_transform(df1[\"Crop\"])"
   ]
  },
  {
   "cell_type": "code",
   "execution_count": 14,
   "metadata": {},
   "outputs": [],
   "source": [
    "df1[\"Season\"]=el.fit_transform(df1[\"Crop\"])"
   ]
  },
  {
   "cell_type": "code",
   "execution_count": 15,
   "metadata": {},
   "outputs": [
    {
     "data": {
      "text/html": [
       "<div>\n",
       "<style scoped>\n",
       "    .dataframe tbody tr th:only-of-type {\n",
       "        vertical-align: middle;\n",
       "    }\n",
       "\n",
       "    .dataframe tbody tr th {\n",
       "        vertical-align: top;\n",
       "    }\n",
       "\n",
       "    .dataframe thead th {\n",
       "        text-align: right;\n",
       "    }\n",
       "</style>\n",
       "<table border=\"1\" class=\"dataframe\">\n",
       "  <thead>\n",
       "    <tr style=\"text-align: right;\">\n",
       "      <th></th>\n",
       "      <th>District</th>\n",
       "      <th>Crop</th>\n",
       "      <th>Season</th>\n",
       "      <th>Area (hectares)</th>\n",
       "      <th>Yield (quintals)</th>\n",
       "      <th>Production (metric tons)</th>\n",
       "    </tr>\n",
       "  </thead>\n",
       "  <tbody>\n",
       "    <tr>\n",
       "      <th>0</th>\n",
       "      <td>5</td>\n",
       "      <td>22</td>\n",
       "      <td>22</td>\n",
       "      <td>16490.142459</td>\n",
       "      <td>30.691986</td>\n",
       "      <td>5061.152230</td>\n",
       "    </tr>\n",
       "    <tr>\n",
       "      <th>1</th>\n",
       "      <td>6</td>\n",
       "      <td>10</td>\n",
       "      <td>10</td>\n",
       "      <td>16943.065614</td>\n",
       "      <td>45.818232</td>\n",
       "      <td>7763.013072</td>\n",
       "    </tr>\n",
       "    <tr>\n",
       "      <th>2</th>\n",
       "      <td>4</td>\n",
       "      <td>22</td>\n",
       "      <td>22</td>\n",
       "      <td>14297.539876</td>\n",
       "      <td>29.752629</td>\n",
       "      <td>4253.893981</td>\n",
       "    </tr>\n",
       "    <tr>\n",
       "      <th>3</th>\n",
       "      <td>3</td>\n",
       "      <td>4</td>\n",
       "      <td>4</td>\n",
       "      <td>19737.638447</td>\n",
       "      <td>42.026511</td>\n",
       "      <td>8295.040749</td>\n",
       "    </tr>\n",
       "    <tr>\n",
       "      <th>4</th>\n",
       "      <td>3</td>\n",
       "      <td>3</td>\n",
       "      <td>3</td>\n",
       "      <td>13591.576842</td>\n",
       "      <td>38.195933</td>\n",
       "      <td>5191.429648</td>\n",
       "    </tr>\n",
       "  </tbody>\n",
       "</table>\n",
       "</div>"
      ],
      "text/plain": [
       "   District  Crop  Season  Area (hectares)  Yield (quintals)  \\\n",
       "0         5    22      22     16490.142459         30.691986   \n",
       "1         6    10      10     16943.065614         45.818232   \n",
       "2         4    22      22     14297.539876         29.752629   \n",
       "3         3     4       4     19737.638447         42.026511   \n",
       "4         3     3       3     13591.576842         38.195933   \n",
       "\n",
       "   Production (metric tons)  \n",
       "0               5061.152230  \n",
       "1               7763.013072  \n",
       "2               4253.893981  \n",
       "3               8295.040749  \n",
       "4               5191.429648  "
      ]
     },
     "execution_count": 15,
     "metadata": {},
     "output_type": "execute_result"
    }
   ],
   "source": [
    "df1.head()"
   ]
  },
  {
   "cell_type": "code",
   "execution_count": 16,
   "metadata": {},
   "outputs": [],
   "source": [
    "x=df1.iloc[:,:-1]"
   ]
  },
  {
   "cell_type": "code",
   "execution_count": 17,
   "metadata": {},
   "outputs": [
    {
     "data": {
      "text/html": [
       "<div>\n",
       "<style scoped>\n",
       "    .dataframe tbody tr th:only-of-type {\n",
       "        vertical-align: middle;\n",
       "    }\n",
       "\n",
       "    .dataframe tbody tr th {\n",
       "        vertical-align: top;\n",
       "    }\n",
       "\n",
       "    .dataframe thead th {\n",
       "        text-align: right;\n",
       "    }\n",
       "</style>\n",
       "<table border=\"1\" class=\"dataframe\">\n",
       "  <thead>\n",
       "    <tr style=\"text-align: right;\">\n",
       "      <th></th>\n",
       "      <th>District</th>\n",
       "      <th>Crop</th>\n",
       "      <th>Season</th>\n",
       "      <th>Area (hectares)</th>\n",
       "      <th>Yield (quintals)</th>\n",
       "    </tr>\n",
       "  </thead>\n",
       "  <tbody>\n",
       "    <tr>\n",
       "      <th>0</th>\n",
       "      <td>5</td>\n",
       "      <td>22</td>\n",
       "      <td>22</td>\n",
       "      <td>16490.142459</td>\n",
       "      <td>30.691986</td>\n",
       "    </tr>\n",
       "    <tr>\n",
       "      <th>1</th>\n",
       "      <td>6</td>\n",
       "      <td>10</td>\n",
       "      <td>10</td>\n",
       "      <td>16943.065614</td>\n",
       "      <td>45.818232</td>\n",
       "    </tr>\n",
       "    <tr>\n",
       "      <th>2</th>\n",
       "      <td>4</td>\n",
       "      <td>22</td>\n",
       "      <td>22</td>\n",
       "      <td>14297.539876</td>\n",
       "      <td>29.752629</td>\n",
       "    </tr>\n",
       "    <tr>\n",
       "      <th>3</th>\n",
       "      <td>3</td>\n",
       "      <td>4</td>\n",
       "      <td>4</td>\n",
       "      <td>19737.638447</td>\n",
       "      <td>42.026511</td>\n",
       "    </tr>\n",
       "    <tr>\n",
       "      <th>4</th>\n",
       "      <td>3</td>\n",
       "      <td>3</td>\n",
       "      <td>3</td>\n",
       "      <td>13591.576842</td>\n",
       "      <td>38.195933</td>\n",
       "    </tr>\n",
       "  </tbody>\n",
       "</table>\n",
       "</div>"
      ],
      "text/plain": [
       "   District  Crop  Season  Area (hectares)  Yield (quintals)\n",
       "0         5    22      22     16490.142459         30.691986\n",
       "1         6    10      10     16943.065614         45.818232\n",
       "2         4    22      22     14297.539876         29.752629\n",
       "3         3     4       4     19737.638447         42.026511\n",
       "4         3     3       3     13591.576842         38.195933"
      ]
     },
     "execution_count": 17,
     "metadata": {},
     "output_type": "execute_result"
    }
   ],
   "source": [
    "x.head()"
   ]
  },
  {
   "cell_type": "code",
   "execution_count": 18,
   "metadata": {},
   "outputs": [],
   "source": [
    "y=df1.iloc[:,-1]"
   ]
  },
  {
   "cell_type": "code",
   "execution_count": 19,
   "metadata": {},
   "outputs": [
    {
     "data": {
      "text/plain": [
       "0    5061.152230\n",
       "1    7763.013072\n",
       "2    4253.893981\n",
       "3    8295.040749\n",
       "4    5191.429648\n",
       "Name: Production (metric tons), dtype: float64"
      ]
     },
     "execution_count": 19,
     "metadata": {},
     "output_type": "execute_result"
    }
   ],
   "source": [
    "y.head()"
   ]
  },
  {
   "cell_type": "code",
   "execution_count": 20,
   "metadata": {},
   "outputs": [],
   "source": [
    "from sklearn.model_selection import train_test_split\n",
    "x_train,x_test,y_train,y_test=train_test_split(x,y,test_size=0.2)"
   ]
  },
  {
   "cell_type": "code",
   "execution_count": 21,
   "metadata": {},
   "outputs": [
    {
     "data": {
      "text/html": [
       "<div>\n",
       "<style scoped>\n",
       "    .dataframe tbody tr th:only-of-type {\n",
       "        vertical-align: middle;\n",
       "    }\n",
       "\n",
       "    .dataframe tbody tr th {\n",
       "        vertical-align: top;\n",
       "    }\n",
       "\n",
       "    .dataframe thead th {\n",
       "        text-align: right;\n",
       "    }\n",
       "</style>\n",
       "<table border=\"1\" class=\"dataframe\">\n",
       "  <thead>\n",
       "    <tr style=\"text-align: right;\">\n",
       "      <th></th>\n",
       "      <th>District</th>\n",
       "      <th>Crop</th>\n",
       "      <th>Season</th>\n",
       "      <th>Area (hectares)</th>\n",
       "      <th>Yield (quintals)</th>\n",
       "    </tr>\n",
       "  </thead>\n",
       "  <tbody>\n",
       "    <tr>\n",
       "      <th>911</th>\n",
       "      <td>7</td>\n",
       "      <td>22</td>\n",
       "      <td>22</td>\n",
       "      <td>14325.432055</td>\n",
       "      <td>29.274618</td>\n",
       "    </tr>\n",
       "    <tr>\n",
       "      <th>882</th>\n",
       "      <td>3</td>\n",
       "      <td>21</td>\n",
       "      <td>21</td>\n",
       "      <td>14261.812536</td>\n",
       "      <td>40.897509</td>\n",
       "    </tr>\n",
       "    <tr>\n",
       "      <th>206</th>\n",
       "      <td>7</td>\n",
       "      <td>6</td>\n",
       "      <td>6</td>\n",
       "      <td>10397.657488</td>\n",
       "      <td>56.376329</td>\n",
       "    </tr>\n",
       "    <tr>\n",
       "      <th>181</th>\n",
       "      <td>6</td>\n",
       "      <td>7</td>\n",
       "      <td>7</td>\n",
       "      <td>14673.719555</td>\n",
       "      <td>28.671997</td>\n",
       "    </tr>\n",
       "    <tr>\n",
       "      <th>201</th>\n",
       "      <td>8</td>\n",
       "      <td>4</td>\n",
       "      <td>4</td>\n",
       "      <td>15015.731099</td>\n",
       "      <td>36.147867</td>\n",
       "    </tr>\n",
       "  </tbody>\n",
       "</table>\n",
       "</div>"
      ],
      "text/plain": [
       "     District  Crop  Season  Area (hectares)  Yield (quintals)\n",
       "911         7    22      22     14325.432055         29.274618\n",
       "882         3    21      21     14261.812536         40.897509\n",
       "206         7     6       6     10397.657488         56.376329\n",
       "181         6     7       7     14673.719555         28.671997\n",
       "201         8     4       4     15015.731099         36.147867"
      ]
     },
     "execution_count": 21,
     "metadata": {},
     "output_type": "execute_result"
    }
   ],
   "source": [
    "x_train.head()"
   ]
  },
  {
   "cell_type": "code",
   "execution_count": 22,
   "metadata": {},
   "outputs": [
    {
     "data": {
      "text/html": [
       "<div>\n",
       "<style scoped>\n",
       "    .dataframe tbody tr th:only-of-type {\n",
       "        vertical-align: middle;\n",
       "    }\n",
       "\n",
       "    .dataframe tbody tr th {\n",
       "        vertical-align: top;\n",
       "    }\n",
       "\n",
       "    .dataframe thead th {\n",
       "        text-align: right;\n",
       "    }\n",
       "</style>\n",
       "<table border=\"1\" class=\"dataframe\">\n",
       "  <thead>\n",
       "    <tr style=\"text-align: right;\">\n",
       "      <th></th>\n",
       "      <th>District</th>\n",
       "      <th>Crop</th>\n",
       "      <th>Season</th>\n",
       "      <th>Area (hectares)</th>\n",
       "      <th>Yield (quintals)</th>\n",
       "    </tr>\n",
       "  </thead>\n",
       "  <tbody>\n",
       "    <tr>\n",
       "      <th>415</th>\n",
       "      <td>3</td>\n",
       "      <td>16</td>\n",
       "      <td>16</td>\n",
       "      <td>10966.648467</td>\n",
       "      <td>23.534785</td>\n",
       "    </tr>\n",
       "    <tr>\n",
       "      <th>682</th>\n",
       "      <td>2</td>\n",
       "      <td>4</td>\n",
       "      <td>4</td>\n",
       "      <td>18589.714505</td>\n",
       "      <td>44.624628</td>\n",
       "    </tr>\n",
       "    <tr>\n",
       "      <th>994</th>\n",
       "      <td>2</td>\n",
       "      <td>13</td>\n",
       "      <td>13</td>\n",
       "      <td>13075.555214</td>\n",
       "      <td>51.655509</td>\n",
       "    </tr>\n",
       "    <tr>\n",
       "      <th>416</th>\n",
       "      <td>0</td>\n",
       "      <td>20</td>\n",
       "      <td>20</td>\n",
       "      <td>11987.577700</td>\n",
       "      <td>42.979100</td>\n",
       "    </tr>\n",
       "    <tr>\n",
       "      <th>192</th>\n",
       "      <td>0</td>\n",
       "      <td>7</td>\n",
       "      <td>7</td>\n",
       "      <td>12722.602015</td>\n",
       "      <td>32.091640</td>\n",
       "    </tr>\n",
       "  </tbody>\n",
       "</table>\n",
       "</div>"
      ],
      "text/plain": [
       "     District  Crop  Season  Area (hectares)  Yield (quintals)\n",
       "415         3    16      16     10966.648467         23.534785\n",
       "682         2     4       4     18589.714505         44.624628\n",
       "994         2    13      13     13075.555214         51.655509\n",
       "416         0    20      20     11987.577700         42.979100\n",
       "192         0     7       7     12722.602015         32.091640"
      ]
     },
     "execution_count": 22,
     "metadata": {},
     "output_type": "execute_result"
    }
   ],
   "source": [
    "x_test.head()"
   ]
  },
  {
   "cell_type": "code",
   "execution_count": 23,
   "metadata": {},
   "outputs": [
    {
     "data": {
      "text/plain": [
       "911    4193.715580\n",
       "882    5832.726081\n",
       "206    5861.817567\n",
       "181    4207.248449\n",
       "201    5427.866496\n",
       "Name: Production (metric tons), dtype: float64"
      ]
     },
     "execution_count": 23,
     "metadata": {},
     "output_type": "execute_result"
    }
   ],
   "source": [
    "y_train.head()"
   ]
  },
  {
   "cell_type": "code",
   "execution_count": 24,
   "metadata": {},
   "outputs": [],
   "source": [
    "from sklearn.preprocessing import StandardScaler\n",
    "st=StandardScaler()"
   ]
  },
  {
   "cell_type": "code",
   "execution_count": 25,
   "metadata": {},
   "outputs": [],
   "source": [
    "x_train=st.fit_transform(x_train)\n",
    "x_test=st.transform(x_test)"
   ]
  },
  {
   "cell_type": "code",
   "execution_count": 26,
   "metadata": {},
   "outputs": [
    {
     "data": {
      "text/plain": [
       "array([[ 0.80842952,  1.67267365,  1.67267365, -0.24966569, -1.02094514],\n",
       "       [-0.55672851,  1.52270851,  1.52270851, -0.27269951,  0.39537668],\n",
       "       [ 0.80842952, -0.72676855, -0.72676855, -1.67173968,  2.28156754],\n",
       "       ...,\n",
       "       [-0.89801801, -0.27687314, -0.27687314, -0.52977481, -1.57119541],\n",
       "       [-1.58059702,  1.37274338,  1.37274338,  0.49417252, -0.96772614],\n",
       "       [-0.215439  ,  0.47295255,  0.47295255,  1.80484516,  0.07651328]])"
      ]
     },
     "execution_count": 26,
     "metadata": {},
     "output_type": "execute_result"
    }
   ],
   "source": [
    "x_train"
   ]
  },
  {
   "cell_type": "code",
   "execution_count": 27,
   "metadata": {},
   "outputs": [],
   "source": [
    "from sklearn.tree import DecisionTreeRegressor\n",
    "lg=DecisionTreeRegressor()"
   ]
  },
  {
   "cell_type": "code",
   "execution_count": 28,
   "metadata": {},
   "outputs": [
    {
     "data": {
      "text/html": [
       "<style>#sk-container-id-1 {color: black;background-color: white;}#sk-container-id-1 pre{padding: 0;}#sk-container-id-1 div.sk-toggleable {background-color: white;}#sk-container-id-1 label.sk-toggleable__label {cursor: pointer;display: block;width: 100%;margin-bottom: 0;padding: 0.3em;box-sizing: border-box;text-align: center;}#sk-container-id-1 label.sk-toggleable__label-arrow:before {content: \"▸\";float: left;margin-right: 0.25em;color: #696969;}#sk-container-id-1 label.sk-toggleable__label-arrow:hover:before {color: black;}#sk-container-id-1 div.sk-estimator:hover label.sk-toggleable__label-arrow:before {color: black;}#sk-container-id-1 div.sk-toggleable__content {max-height: 0;max-width: 0;overflow: hidden;text-align: left;background-color: #f0f8ff;}#sk-container-id-1 div.sk-toggleable__content pre {margin: 0.2em;color: black;border-radius: 0.25em;background-color: #f0f8ff;}#sk-container-id-1 input.sk-toggleable__control:checked~div.sk-toggleable__content {max-height: 200px;max-width: 100%;overflow: auto;}#sk-container-id-1 input.sk-toggleable__control:checked~label.sk-toggleable__label-arrow:before {content: \"▾\";}#sk-container-id-1 div.sk-estimator input.sk-toggleable__control:checked~label.sk-toggleable__label {background-color: #d4ebff;}#sk-container-id-1 div.sk-label input.sk-toggleable__control:checked~label.sk-toggleable__label {background-color: #d4ebff;}#sk-container-id-1 input.sk-hidden--visually {border: 0;clip: rect(1px 1px 1px 1px);clip: rect(1px, 1px, 1px, 1px);height: 1px;margin: -1px;overflow: hidden;padding: 0;position: absolute;width: 1px;}#sk-container-id-1 div.sk-estimator {font-family: monospace;background-color: #f0f8ff;border: 1px dotted black;border-radius: 0.25em;box-sizing: border-box;margin-bottom: 0.5em;}#sk-container-id-1 div.sk-estimator:hover {background-color: #d4ebff;}#sk-container-id-1 div.sk-parallel-item::after {content: \"\";width: 100%;border-bottom: 1px solid gray;flex-grow: 1;}#sk-container-id-1 div.sk-label:hover label.sk-toggleable__label {background-color: #d4ebff;}#sk-container-id-1 div.sk-serial::before {content: \"\";position: absolute;border-left: 1px solid gray;box-sizing: border-box;top: 0;bottom: 0;left: 50%;z-index: 0;}#sk-container-id-1 div.sk-serial {display: flex;flex-direction: column;align-items: center;background-color: white;padding-right: 0.2em;padding-left: 0.2em;position: relative;}#sk-container-id-1 div.sk-item {position: relative;z-index: 1;}#sk-container-id-1 div.sk-parallel {display: flex;align-items: stretch;justify-content: center;background-color: white;position: relative;}#sk-container-id-1 div.sk-item::before, #sk-container-id-1 div.sk-parallel-item::before {content: \"\";position: absolute;border-left: 1px solid gray;box-sizing: border-box;top: 0;bottom: 0;left: 50%;z-index: -1;}#sk-container-id-1 div.sk-parallel-item {display: flex;flex-direction: column;z-index: 1;position: relative;background-color: white;}#sk-container-id-1 div.sk-parallel-item:first-child::after {align-self: flex-end;width: 50%;}#sk-container-id-1 div.sk-parallel-item:last-child::after {align-self: flex-start;width: 50%;}#sk-container-id-1 div.sk-parallel-item:only-child::after {width: 0;}#sk-container-id-1 div.sk-dashed-wrapped {border: 1px dashed gray;margin: 0 0.4em 0.5em 0.4em;box-sizing: border-box;padding-bottom: 0.4em;background-color: white;}#sk-container-id-1 div.sk-label label {font-family: monospace;font-weight: bold;display: inline-block;line-height: 1.2em;}#sk-container-id-1 div.sk-label-container {text-align: center;}#sk-container-id-1 div.sk-container {/* jupyter's `normalize.less` sets `[hidden] { display: none; }` but bootstrap.min.css set `[hidden] { display: none !important; }` so we also need the `!important` here to be able to override the default hidden behavior on the sphinx rendered scikit-learn.org. See: https://github.com/scikit-learn/scikit-learn/issues/21755 */display: inline-block !important;position: relative;}#sk-container-id-1 div.sk-text-repr-fallback {display: none;}</style><div id=\"sk-container-id-1\" class=\"sk-top-container\"><div class=\"sk-text-repr-fallback\"><pre>DecisionTreeRegressor()</pre><b>In a Jupyter environment, please rerun this cell to show the HTML representation or trust the notebook. <br />On GitHub, the HTML representation is unable to render, please try loading this page with nbviewer.org.</b></div><div class=\"sk-container\" hidden><div class=\"sk-item\"><div class=\"sk-estimator sk-toggleable\"><input class=\"sk-toggleable__control sk-hidden--visually\" id=\"sk-estimator-id-1\" type=\"checkbox\" checked><label for=\"sk-estimator-id-1\" class=\"sk-toggleable__label sk-toggleable__label-arrow\">DecisionTreeRegressor</label><div class=\"sk-toggleable__content\"><pre>DecisionTreeRegressor()</pre></div></div></div></div></div>"
      ],
      "text/plain": [
       "DecisionTreeRegressor()"
      ]
     },
     "execution_count": 28,
     "metadata": {},
     "output_type": "execute_result"
    }
   ],
   "source": [
    "lg.fit(x_train,y_train)"
   ]
  },
  {
   "cell_type": "code",
   "execution_count": 29,
   "metadata": {},
   "outputs": [],
   "source": [
    "y_pre=lg.predict(x_test)"
   ]
  },
  {
   "cell_type": "code",
   "execution_count": 30,
   "metadata": {},
   "outputs": [
    {
     "data": {
      "text/plain": [
       "array([2659.09115315, 7963.96547056, 6683.00642962, 5573.81328614,\n",
       "       4322.77850579, 7656.15827418, 3332.85817625, 3359.76329593,\n",
       "       4320.30480444, 5544.35445542, 3771.63581299, 5717.65750106,\n",
       "       6633.47023097, 8303.68945175, 4126.62345301, 4138.77205987,\n",
       "       7963.96547056, 3332.85817625, 5865.1690662 , 5626.12451285,\n",
       "       4350.57228535, 6681.73865732, 2875.48597864, 4937.6425369 ,\n",
       "       5717.65750106, 5612.76430783, 7858.15662084, 6199.06119328,\n",
       "       7651.73903965, 4047.09398467, 6549.04812074, 5132.03469093,\n",
       "       5634.50465302, 9216.75520068, 5833.62474801, 4126.62345301,\n",
       "       7963.96547056, 4788.06662833, 4253.89398144, 4828.60095164,\n",
       "       9883.43792542, 6747.7973896 , 7144.2703444 , 6979.27075374,\n",
       "       3072.37373972, 4323.47817293, 5341.82176559, 5027.47682387,\n",
       "       5747.53031464, 5149.22317023, 4322.77850579, 4973.34777609,\n",
       "       3772.19271238, 7411.4147777 , 9883.43792542, 5027.47682387,\n",
       "       4821.43925328, 3949.62577507, 4178.768284  , 5106.23164824,\n",
       "       8376.67532096, 3180.3989108 , 7804.24886475, 7500.15755642,\n",
       "       6401.92023189, 7332.27026653, 6427.90571674, 5634.5506775 ,\n",
       "       8084.30522568, 7713.17702621, 6571.52220206, 4396.8673341 ,\n",
       "       7858.15662084, 7720.03052551, 8373.05117428, 3626.30528477,\n",
       "       5828.98145595, 5747.53031464, 3552.60331167, 4243.34708938,\n",
       "       3474.03169426, 7341.39088578, 5144.62884916, 5759.66796239,\n",
       "       4956.45093635, 7598.86655856, 5149.22317023, 3380.18156167,\n",
       "       9025.26796336, 6840.75049136, 7922.87082954, 5964.48822311,\n",
       "       4666.14853236, 6747.7973896 , 4492.91428592, 7305.36331111,\n",
       "       7713.17702621, 5431.57419119, 7021.09731334, 3198.94234344,\n",
       "       5032.33118685, 4155.21042271, 6000.74331798, 4038.58853595,\n",
       "       7411.4147777 , 6647.05743501, 5663.22613372, 2563.11853498,\n",
       "       6647.05743501, 8084.30522568, 4038.97535282, 7617.74950654,\n",
       "       7096.93839563, 2382.99621936, 4138.77205987, 4234.35879031,\n",
       "       4780.29711829, 6944.41586743, 5663.22613372, 5752.48545135,\n",
       "       5288.52511124, 4934.74574869, 4775.85201681, 8666.06342487,\n",
       "       6084.63209751, 7096.93839563, 4873.29860078, 6345.17261405,\n",
       "       4597.52312927, 4713.99062902, 3771.68690318, 5055.28448332,\n",
       "       5625.29731631, 5763.29783847, 4177.24545451, 9216.75520068,\n",
       "       4231.08395219, 4692.59652397, 7016.92036223, 6846.96935513,\n",
       "       7713.17702621, 5744.21278963, 5164.06981703, 4973.34777609,\n",
       "       8303.68945175, 6352.79969874, 5483.34911202, 4963.57882919,\n",
       "       7858.15662084, 7016.92036223, 6952.00486208, 4661.89397553,\n",
       "       6380.29586667, 3479.83952409, 5769.07827254, 3928.90282449,\n",
       "       3771.68690318, 5759.66796239, 2623.6763187 , 6238.77051169,\n",
       "       8416.72025   , 6739.03413274, 4541.82034929, 6245.54238753,\n",
       "       5663.22613372, 6683.00642962, 5240.14700564, 4495.25873814,\n",
       "       4815.19828688, 6571.62146457, 5162.27440302, 5276.1417733 ,\n",
       "       7144.2703444 , 4389.60121012, 2875.48597864, 7489.88029493,\n",
       "       4171.78462123, 3339.00949401, 5027.47682387, 7341.39088578,\n",
       "       8014.92609923, 6455.21797737, 5483.34911202, 5125.72561161,\n",
       "       4541.82034929, 4912.34417949, 3332.31900307, 7713.17702621,\n",
       "       4492.91428592, 5895.58453971, 6405.86517889, 5763.29783847,\n",
       "       3141.38997305, 6957.39536318, 4937.6425369 , 7025.22565091,\n",
       "       3724.30198638, 6476.45965274, 5573.81328614, 3145.72735439])"
      ]
     },
     "execution_count": 30,
     "metadata": {},
     "output_type": "execute_result"
    }
   ],
   "source": [
    "y_pre"
   ]
  },
  {
   "cell_type": "code",
   "execution_count": 31,
   "metadata": {},
   "outputs": [
    {
     "data": {
      "text/plain": [
       "415    2580.977145\n",
       "682    8295.591033\n",
       "994    6754.244645\n",
       "416    5152.152970\n",
       "192    4082.891692\n",
       "          ...     \n",
       "586    7282.896971\n",
       "257    3646.297461\n",
       "796    6506.027313\n",
       "739    5790.507964\n",
       "769    3013.419066\n",
       "Name: Production (metric tons), Length: 200, dtype: float64"
      ]
     },
     "execution_count": 31,
     "metadata": {},
     "output_type": "execute_result"
    }
   ],
   "source": [
    "y_test"
   ]
  },
  {
   "cell_type": "code",
   "execution_count": 32,
   "metadata": {},
   "outputs": [],
   "source": [
    "from sklearn.metrics import r2_score,mean_absolute_error"
   ]
  },
  {
   "cell_type": "code",
   "execution_count": 33,
   "metadata": {},
   "outputs": [
    {
     "name": "stdout",
     "output_type": "stream",
     "text": [
      "0.9846722025312514\n"
     ]
    }
   ],
   "source": [
    "print(r2_score(y_pre,y_test))"
   ]
  },
  {
   "cell_type": "code",
   "execution_count": null,
   "metadata": {},
   "outputs": [],
   "source": []
  },
  {
   "cell_type": "code",
   "execution_count": 34,
   "metadata": {},
   "outputs": [],
   "source": [
    "from sklearn.linear_model import LinearRegression\n",
    "lr=LinearRegression()"
   ]
  },
  {
   "cell_type": "code",
   "execution_count": 35,
   "metadata": {},
   "outputs": [
    {
     "data": {
      "text/html": [
       "<style>#sk-container-id-2 {color: black;background-color: white;}#sk-container-id-2 pre{padding: 0;}#sk-container-id-2 div.sk-toggleable {background-color: white;}#sk-container-id-2 label.sk-toggleable__label {cursor: pointer;display: block;width: 100%;margin-bottom: 0;padding: 0.3em;box-sizing: border-box;text-align: center;}#sk-container-id-2 label.sk-toggleable__label-arrow:before {content: \"▸\";float: left;margin-right: 0.25em;color: #696969;}#sk-container-id-2 label.sk-toggleable__label-arrow:hover:before {color: black;}#sk-container-id-2 div.sk-estimator:hover label.sk-toggleable__label-arrow:before {color: black;}#sk-container-id-2 div.sk-toggleable__content {max-height: 0;max-width: 0;overflow: hidden;text-align: left;background-color: #f0f8ff;}#sk-container-id-2 div.sk-toggleable__content pre {margin: 0.2em;color: black;border-radius: 0.25em;background-color: #f0f8ff;}#sk-container-id-2 input.sk-toggleable__control:checked~div.sk-toggleable__content {max-height: 200px;max-width: 100%;overflow: auto;}#sk-container-id-2 input.sk-toggleable__control:checked~label.sk-toggleable__label-arrow:before {content: \"▾\";}#sk-container-id-2 div.sk-estimator input.sk-toggleable__control:checked~label.sk-toggleable__label {background-color: #d4ebff;}#sk-container-id-2 div.sk-label input.sk-toggleable__control:checked~label.sk-toggleable__label {background-color: #d4ebff;}#sk-container-id-2 input.sk-hidden--visually {border: 0;clip: rect(1px 1px 1px 1px);clip: rect(1px, 1px, 1px, 1px);height: 1px;margin: -1px;overflow: hidden;padding: 0;position: absolute;width: 1px;}#sk-container-id-2 div.sk-estimator {font-family: monospace;background-color: #f0f8ff;border: 1px dotted black;border-radius: 0.25em;box-sizing: border-box;margin-bottom: 0.5em;}#sk-container-id-2 div.sk-estimator:hover {background-color: #d4ebff;}#sk-container-id-2 div.sk-parallel-item::after {content: \"\";width: 100%;border-bottom: 1px solid gray;flex-grow: 1;}#sk-container-id-2 div.sk-label:hover label.sk-toggleable__label {background-color: #d4ebff;}#sk-container-id-2 div.sk-serial::before {content: \"\";position: absolute;border-left: 1px solid gray;box-sizing: border-box;top: 0;bottom: 0;left: 50%;z-index: 0;}#sk-container-id-2 div.sk-serial {display: flex;flex-direction: column;align-items: center;background-color: white;padding-right: 0.2em;padding-left: 0.2em;position: relative;}#sk-container-id-2 div.sk-item {position: relative;z-index: 1;}#sk-container-id-2 div.sk-parallel {display: flex;align-items: stretch;justify-content: center;background-color: white;position: relative;}#sk-container-id-2 div.sk-item::before, #sk-container-id-2 div.sk-parallel-item::before {content: \"\";position: absolute;border-left: 1px solid gray;box-sizing: border-box;top: 0;bottom: 0;left: 50%;z-index: -1;}#sk-container-id-2 div.sk-parallel-item {display: flex;flex-direction: column;z-index: 1;position: relative;background-color: white;}#sk-container-id-2 div.sk-parallel-item:first-child::after {align-self: flex-end;width: 50%;}#sk-container-id-2 div.sk-parallel-item:last-child::after {align-self: flex-start;width: 50%;}#sk-container-id-2 div.sk-parallel-item:only-child::after {width: 0;}#sk-container-id-2 div.sk-dashed-wrapped {border: 1px dashed gray;margin: 0 0.4em 0.5em 0.4em;box-sizing: border-box;padding-bottom: 0.4em;background-color: white;}#sk-container-id-2 div.sk-label label {font-family: monospace;font-weight: bold;display: inline-block;line-height: 1.2em;}#sk-container-id-2 div.sk-label-container {text-align: center;}#sk-container-id-2 div.sk-container {/* jupyter's `normalize.less` sets `[hidden] { display: none; }` but bootstrap.min.css set `[hidden] { display: none !important; }` so we also need the `!important` here to be able to override the default hidden behavior on the sphinx rendered scikit-learn.org. See: https://github.com/scikit-learn/scikit-learn/issues/21755 */display: inline-block !important;position: relative;}#sk-container-id-2 div.sk-text-repr-fallback {display: none;}</style><div id=\"sk-container-id-2\" class=\"sk-top-container\"><div class=\"sk-text-repr-fallback\"><pre>LinearRegression()</pre><b>In a Jupyter environment, please rerun this cell to show the HTML representation or trust the notebook. <br />On GitHub, the HTML representation is unable to render, please try loading this page with nbviewer.org.</b></div><div class=\"sk-container\" hidden><div class=\"sk-item\"><div class=\"sk-estimator sk-toggleable\"><input class=\"sk-toggleable__control sk-hidden--visually\" id=\"sk-estimator-id-2\" type=\"checkbox\" checked><label for=\"sk-estimator-id-2\" class=\"sk-toggleable__label sk-toggleable__label-arrow\">LinearRegression</label><div class=\"sk-toggleable__content\"><pre>LinearRegression()</pre></div></div></div></div></div>"
      ],
      "text/plain": [
       "LinearRegression()"
      ]
     },
     "execution_count": 35,
     "metadata": {},
     "output_type": "execute_result"
    }
   ],
   "source": [
    "lr.fit(x_train,y_train)"
   ]
  },
  {
   "cell_type": "code",
   "execution_count": 38,
   "metadata": {},
   "outputs": [],
   "source": [
    "p=lr.predict(x_test)"
   ]
  },
  {
   "cell_type": "code",
   "execution_count": 39,
   "metadata": {},
   "outputs": [
    {
     "name": "stdout",
     "output_type": "stream",
     "text": [
      "0.9794554952416005\n"
     ]
    }
   ],
   "source": [
    "print(r2_score(p,y_test))"
   ]
  },
  {
   "cell_type": "code",
   "execution_count": null,
   "metadata": {},
   "outputs": [],
   "source": []
  },
  {
   "cell_type": "code",
   "execution_count": null,
   "metadata": {},
   "outputs": [],
   "source": []
  },
  {
   "cell_type": "code",
   "execution_count": null,
   "metadata": {},
   "outputs": [],
   "source": []
  },
  {
   "cell_type": "code",
   "execution_count": null,
   "metadata": {},
   "outputs": [],
   "source": []
  },
  {
   "cell_type": "code",
   "execution_count": null,
   "metadata": {},
   "outputs": [],
   "source": []
  },
  {
   "cell_type": "code",
   "execution_count": null,
   "metadata": {},
   "outputs": [],
   "source": []
  },
  {
   "cell_type": "code",
   "execution_count": null,
   "metadata": {},
   "outputs": [],
   "source": []
  },
  {
   "cell_type": "code",
   "execution_count": null,
   "metadata": {},
   "outputs": [],
   "source": []
  },
  {
   "cell_type": "code",
   "execution_count": null,
   "metadata": {},
   "outputs": [],
   "source": []
  },
  {
   "cell_type": "code",
   "execution_count": null,
   "metadata": {},
   "outputs": [],
   "source": []
  },
  {
   "cell_type": "code",
   "execution_count": null,
   "metadata": {},
   "outputs": [],
   "source": []
  }
 ],
 "metadata": {
  "kernelspec": {
   "display_name": "Python 3",
   "language": "python",
   "name": "python3"
  },
  "language_info": {
   "codemirror_mode": {
    "name": "ipython",
    "version": 3
   },
   "file_extension": ".py",
   "mimetype": "text/x-python",
   "name": "python",
   "nbconvert_exporter": "python",
   "pygments_lexer": "ipython3",
   "version": "3.9.0"
  }
 },
 "nbformat": 4,
 "nbformat_minor": 5
}

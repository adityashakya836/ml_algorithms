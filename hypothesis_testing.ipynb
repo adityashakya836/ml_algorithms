{
 "cells": [
  {
   "cell_type": "code",
   "execution_count": 19,
   "metadata": {},
   "outputs": [],
   "source": [
    "import pandas as pd\n",
    "import numpy as np\n",
    "from scipy.stats import stats"
   ]
  },
  {
   "cell_type": "code",
   "execution_count": 20,
   "metadata": {},
   "outputs": [],
   "source": [
    "data = pd.read_excel('NEW STATIC.xlsx',engine = 'openpyxl')"
   ]
  },
  {
   "cell_type": "code",
   "execution_count": 21,
   "metadata": {
    "scrolled": false
   },
   "outputs": [
    {
     "data": {
      "text/html": [
       "<div>\n",
       "<style scoped>\n",
       "    .dataframe tbody tr th:only-of-type {\n",
       "        vertical-align: middle;\n",
       "    }\n",
       "\n",
       "    .dataframe tbody tr th {\n",
       "        vertical-align: top;\n",
       "    }\n",
       "\n",
       "    .dataframe thead th {\n",
       "        text-align: right;\n",
       "    }\n",
       "</style>\n",
       "<table border=\"1\" class=\"dataframe\">\n",
       "  <thead>\n",
       "    <tr style=\"text-align: right;\">\n",
       "      <th></th>\n",
       "      <th>Unnamed: 0</th>\n",
       "      <th>PAIN</th>\n",
       "      <th>PQ</th>\n",
       "      <th>OLBDQ</th>\n",
       "      <th>PW</th>\n",
       "    </tr>\n",
       "  </thead>\n",
       "  <tbody>\n",
       "    <tr>\n",
       "      <th>0</th>\n",
       "      <td>1</td>\n",
       "      <td>3.0</td>\n",
       "      <td>3.0</td>\n",
       "      <td>16.0</td>\n",
       "      <td>67.0</td>\n",
       "    </tr>\n",
       "    <tr>\n",
       "      <th>1</th>\n",
       "      <td>2</td>\n",
       "      <td>3.0</td>\n",
       "      <td>4.0</td>\n",
       "      <td>9.0</td>\n",
       "      <td>76.0</td>\n",
       "    </tr>\n",
       "    <tr>\n",
       "      <th>2</th>\n",
       "      <td>3</td>\n",
       "      <td>8.0</td>\n",
       "      <td>1.0</td>\n",
       "      <td>13.0</td>\n",
       "      <td>79.0</td>\n",
       "    </tr>\n",
       "    <tr>\n",
       "      <th>3</th>\n",
       "      <td>4</td>\n",
       "      <td>8.0</td>\n",
       "      <td>1.0</td>\n",
       "      <td>0.0</td>\n",
       "      <td>82.0</td>\n",
       "    </tr>\n",
       "    <tr>\n",
       "      <th>4</th>\n",
       "      <td>5</td>\n",
       "      <td>6.0</td>\n",
       "      <td>1.0</td>\n",
       "      <td>1.0</td>\n",
       "      <td>77.0</td>\n",
       "    </tr>\n",
       "  </tbody>\n",
       "</table>\n",
       "</div>"
      ],
      "text/plain": [
       "  Unnamed: 0  PAIN   PQ  OLBDQ    PW\n",
       "0          1   3.0  3.0   16.0  67.0\n",
       "1          2   3.0  4.0    9.0  76.0\n",
       "2          3   8.0  1.0   13.0  79.0\n",
       "3          4   8.0  1.0    0.0  82.0\n",
       "4          5   6.0  1.0    1.0  77.0"
      ]
     },
     "execution_count": 21,
     "metadata": {},
     "output_type": "execute_result"
    }
   ],
   "source": [
    "data.head()"
   ]
  },
  {
   "cell_type": "code",
   "execution_count": 47,
   "metadata": {},
   "outputs": [
    {
     "data": {
      "text/html": [
       "<div>\n",
       "<style scoped>\n",
       "    .dataframe tbody tr th:only-of-type {\n",
       "        vertical-align: middle;\n",
       "    }\n",
       "\n",
       "    .dataframe tbody tr th {\n",
       "        vertical-align: top;\n",
       "    }\n",
       "\n",
       "    .dataframe thead th {\n",
       "        text-align: right;\n",
       "    }\n",
       "</style>\n",
       "<table border=\"1\" class=\"dataframe\">\n",
       "  <thead>\n",
       "    <tr style=\"text-align: right;\">\n",
       "      <th></th>\n",
       "      <th>PAIN</th>\n",
       "      <th>PQ</th>\n",
       "      <th>OLBDQ</th>\n",
       "      <th>PW</th>\n",
       "    </tr>\n",
       "  </thead>\n",
       "  <tbody>\n",
       "    <tr>\n",
       "      <th>297</th>\n",
       "      <td>6.000000</td>\n",
       "      <td>2.000000</td>\n",
       "      <td>11.00000</td>\n",
       "      <td>88.000000</td>\n",
       "    </tr>\n",
       "    <tr>\n",
       "      <th>298</th>\n",
       "      <td>7.000000</td>\n",
       "      <td>5.000000</td>\n",
       "      <td>10.00000</td>\n",
       "      <td>59.000000</td>\n",
       "    </tr>\n",
       "    <tr>\n",
       "      <th>299</th>\n",
       "      <td>7.000000</td>\n",
       "      <td>4.000000</td>\n",
       "      <td>15.00000</td>\n",
       "      <td>63.000000</td>\n",
       "    </tr>\n",
       "    <tr>\n",
       "      <th>300</th>\n",
       "      <td>5.079623</td>\n",
       "      <td>2.973333</td>\n",
       "      <td>10.95357</td>\n",
       "      <td>74.308904</td>\n",
       "    </tr>\n",
       "    <tr>\n",
       "      <th>301</th>\n",
       "      <td>-0.033614</td>\n",
       "      <td>2.973333</td>\n",
       "      <td>0.02468</td>\n",
       "      <td>-0.019975</td>\n",
       "    </tr>\n",
       "  </tbody>\n",
       "</table>\n",
       "</div>"
      ],
      "text/plain": [
       "         PAIN        PQ     OLBDQ         PW\n",
       "297  6.000000  2.000000  11.00000  88.000000\n",
       "298  7.000000  5.000000  10.00000  59.000000\n",
       "299  7.000000  4.000000  15.00000  63.000000\n",
       "300  5.079623  2.973333  10.95357  74.308904\n",
       "301 -0.033614  2.973333   0.02468  -0.019975"
      ]
     },
     "execution_count": 47,
     "metadata": {},
     "output_type": "execute_result"
    }
   ],
   "source": [
    "data.tail()"
   ]
  },
  {
   "cell_type": "markdown",
   "metadata": {},
   "source": [
    "### Check if there is any null value"
   ]
  },
  {
   "cell_type": "code",
   "execution_count": 22,
   "metadata": {
    "scrolled": true
   },
   "outputs": [
    {
     "data": {
      "text/plain": [
       "Unnamed: 0    1\n",
       "PAIN          1\n",
       "PQ            2\n",
       "OLBDQ         1\n",
       "PW            1\n",
       "dtype: int64"
      ]
     },
     "execution_count": 22,
     "metadata": {},
     "output_type": "execute_result"
    }
   ],
   "source": [
    "data.isna().sum()"
   ]
  },
  {
   "cell_type": "markdown",
   "metadata": {},
   "source": [
    "<p>There is 1 NULL Value in PAIN<br>2 NULL Values in PQ<br> 1 NULL value in OLBDQ<br>1 NULL value in PW<br>and since unnamed column is not useful we can remove this column</p>\n"
   ]
  },
  {
   "cell_type": "code",
   "execution_count": 23,
   "metadata": {},
   "outputs": [],
   "source": [
    "data.drop('Unnamed: 0',axis = 1,inplace = True)"
   ]
  },
  {
   "cell_type": "code",
   "execution_count": 24,
   "metadata": {
    "scrolled": true
   },
   "outputs": [
    {
     "data": {
      "text/html": [
       "<div>\n",
       "<style scoped>\n",
       "    .dataframe tbody tr th:only-of-type {\n",
       "        vertical-align: middle;\n",
       "    }\n",
       "\n",
       "    .dataframe tbody tr th {\n",
       "        vertical-align: top;\n",
       "    }\n",
       "\n",
       "    .dataframe thead th {\n",
       "        text-align: right;\n",
       "    }\n",
       "</style>\n",
       "<table border=\"1\" class=\"dataframe\">\n",
       "  <thead>\n",
       "    <tr style=\"text-align: right;\">\n",
       "      <th></th>\n",
       "      <th>PAIN</th>\n",
       "      <th>PQ</th>\n",
       "      <th>OLBDQ</th>\n",
       "      <th>PW</th>\n",
       "    </tr>\n",
       "  </thead>\n",
       "  <tbody>\n",
       "    <tr>\n",
       "      <th>0</th>\n",
       "      <td>3.0</td>\n",
       "      <td>3.0</td>\n",
       "      <td>16.0</td>\n",
       "      <td>67.0</td>\n",
       "    </tr>\n",
       "    <tr>\n",
       "      <th>1</th>\n",
       "      <td>3.0</td>\n",
       "      <td>4.0</td>\n",
       "      <td>9.0</td>\n",
       "      <td>76.0</td>\n",
       "    </tr>\n",
       "    <tr>\n",
       "      <th>2</th>\n",
       "      <td>8.0</td>\n",
       "      <td>1.0</td>\n",
       "      <td>13.0</td>\n",
       "      <td>79.0</td>\n",
       "    </tr>\n",
       "    <tr>\n",
       "      <th>3</th>\n",
       "      <td>8.0</td>\n",
       "      <td>1.0</td>\n",
       "      <td>0.0</td>\n",
       "      <td>82.0</td>\n",
       "    </tr>\n",
       "    <tr>\n",
       "      <th>4</th>\n",
       "      <td>6.0</td>\n",
       "      <td>1.0</td>\n",
       "      <td>1.0</td>\n",
       "      <td>77.0</td>\n",
       "    </tr>\n",
       "  </tbody>\n",
       "</table>\n",
       "</div>"
      ],
      "text/plain": [
       "   PAIN   PQ  OLBDQ    PW\n",
       "0   3.0  3.0   16.0  67.0\n",
       "1   3.0  4.0    9.0  76.0\n",
       "2   8.0  1.0   13.0  79.0\n",
       "3   8.0  1.0    0.0  82.0\n",
       "4   6.0  1.0    1.0  77.0"
      ]
     },
     "execution_count": 24,
     "metadata": {},
     "output_type": "execute_result"
    }
   ],
   "source": [
    "data.head()"
   ]
  },
  {
   "cell_type": "code",
   "execution_count": 33,
   "metadata": {},
   "outputs": [],
   "source": [
    "data['PAIN'] = data['PAIN'].fillna(data['PAIN'].mean())"
   ]
  },
  {
   "cell_type": "code",
   "execution_count": 34,
   "metadata": {},
   "outputs": [],
   "source": [
    "data['PQ'] = data['PQ'].fillna(data['PQ'].mean())"
   ]
  },
  {
   "cell_type": "code",
   "execution_count": 36,
   "metadata": {},
   "outputs": [],
   "source": [
    "data['OLBDQ'] = data['OLBDQ'].fillna(data['OLBDQ'].mean())"
   ]
  },
  {
   "cell_type": "code",
   "execution_count": 35,
   "metadata": {},
   "outputs": [],
   "source": [
    "data['PW'] = data['PW'].fillna(data['PW'].mean())"
   ]
  },
  {
   "cell_type": "code",
   "execution_count": 38,
   "metadata": {},
   "outputs": [
    {
     "data": {
      "text/plain": [
       "PAIN     0\n",
       "PQ       0\n",
       "OLBDQ    0\n",
       "PW       0\n",
       "dtype: int64"
      ]
     },
     "execution_count": 38,
     "metadata": {},
     "output_type": "execute_result"
    }
   ],
   "source": [
    "data.isna().sum()"
   ]
  },
  {
   "cell_type": "markdown",
   "metadata": {},
   "source": [
    "<h2> Descriptive Analysis</h2>"
   ]
  },
  {
   "cell_type": "code",
   "execution_count": 39,
   "metadata": {
    "scrolled": true
   },
   "outputs": [
    {
     "data": {
      "text/html": [
       "<div>\n",
       "<style scoped>\n",
       "    .dataframe tbody tr th:only-of-type {\n",
       "        vertical-align: middle;\n",
       "    }\n",
       "\n",
       "    .dataframe tbody tr th {\n",
       "        vertical-align: top;\n",
       "    }\n",
       "\n",
       "    .dataframe thead th {\n",
       "        text-align: right;\n",
       "    }\n",
       "</style>\n",
       "<table border=\"1\" class=\"dataframe\">\n",
       "  <thead>\n",
       "    <tr style=\"text-align: right;\">\n",
       "      <th></th>\n",
       "      <th>PAIN</th>\n",
       "      <th>PQ</th>\n",
       "      <th>OLBDQ</th>\n",
       "      <th>PW</th>\n",
       "    </tr>\n",
       "  </thead>\n",
       "  <tbody>\n",
       "    <tr>\n",
       "      <th>count</th>\n",
       "      <td>302.000000</td>\n",
       "      <td>302.000000</td>\n",
       "      <td>302.000000</td>\n",
       "      <td>302.000000</td>\n",
       "    </tr>\n",
       "    <tr>\n",
       "      <th>mean</th>\n",
       "      <td>5.079623</td>\n",
       "      <td>2.973333</td>\n",
       "      <td>10.953570</td>\n",
       "      <td>74.308904</td>\n",
       "    </tr>\n",
       "    <tr>\n",
       "      <th>std</th>\n",
       "      <td>1.547078</td>\n",
       "      <td>1.511623</td>\n",
       "      <td>4.239041</td>\n",
       "      <td>14.466049</td>\n",
       "    </tr>\n",
       "    <tr>\n",
       "      <th>min</th>\n",
       "      <td>-0.033614</td>\n",
       "      <td>-1.000000</td>\n",
       "      <td>0.000000</td>\n",
       "      <td>-0.019975</td>\n",
       "    </tr>\n",
       "    <tr>\n",
       "      <th>25%</th>\n",
       "      <td>4.000000</td>\n",
       "      <td>2.000000</td>\n",
       "      <td>7.250000</td>\n",
       "      <td>63.000000</td>\n",
       "    </tr>\n",
       "    <tr>\n",
       "      <th>50%</th>\n",
       "      <td>5.000000</td>\n",
       "      <td>3.000000</td>\n",
       "      <td>11.000000</td>\n",
       "      <td>75.000000</td>\n",
       "    </tr>\n",
       "    <tr>\n",
       "      <th>75%</th>\n",
       "      <td>6.000000</td>\n",
       "      <td>4.000000</td>\n",
       "      <td>14.000000</td>\n",
       "      <td>86.000000</td>\n",
       "    </tr>\n",
       "    <tr>\n",
       "      <th>max</th>\n",
       "      <td>8.000000</td>\n",
       "      <td>7.000000</td>\n",
       "      <td>19.000000</td>\n",
       "      <td>99.000000</td>\n",
       "    </tr>\n",
       "  </tbody>\n",
       "</table>\n",
       "</div>"
      ],
      "text/plain": [
       "             PAIN          PQ       OLBDQ          PW\n",
       "count  302.000000  302.000000  302.000000  302.000000\n",
       "mean     5.079623    2.973333   10.953570   74.308904\n",
       "std      1.547078    1.511623    4.239041   14.466049\n",
       "min     -0.033614   -1.000000    0.000000   -0.019975\n",
       "25%      4.000000    2.000000    7.250000   63.000000\n",
       "50%      5.000000    3.000000   11.000000   75.000000\n",
       "75%      6.000000    4.000000   14.000000   86.000000\n",
       "max      8.000000    7.000000   19.000000   99.000000"
      ]
     },
     "execution_count": 39,
     "metadata": {},
     "output_type": "execute_result"
    }
   ],
   "source": [
    "data.describe()"
   ]
  },
  {
   "cell_type": "markdown",
   "metadata": {},
   "source": [
    "### Correlation analysis"
   ]
  },
  {
   "cell_type": "code",
   "execution_count": 40,
   "metadata": {},
   "outputs": [],
   "source": [
    "corr = data.corr()"
   ]
  },
  {
   "cell_type": "code",
   "execution_count": 41,
   "metadata": {
    "scrolled": false
   },
   "outputs": [
    {
     "data": {
      "text/html": [
       "<style  type=\"text/css\" >\n",
       "#T_cefad596_28af_11ee_aae9_204ef649497erow0_col0,#T_cefad596_28af_11ee_aae9_204ef649497erow1_col1,#T_cefad596_28af_11ee_aae9_204ef649497erow2_col2,#T_cefad596_28af_11ee_aae9_204ef649497erow3_col3{\n",
       "            background-color:  #003c30;\n",
       "            color:  #f1f1f1;\n",
       "        }#T_cefad596_28af_11ee_aae9_204ef649497erow0_col1,#T_cefad596_28af_11ee_aae9_204ef649497erow1_col0,#T_cefad596_28af_11ee_aae9_204ef649497erow1_col3,#T_cefad596_28af_11ee_aae9_204ef649497erow2_col3,#T_cefad596_28af_11ee_aae9_204ef649497erow3_col1,#T_cefad596_28af_11ee_aae9_204ef649497erow3_col2{\n",
       "            background-color:  #543005;\n",
       "            color:  #f1f1f1;\n",
       "        }#T_cefad596_28af_11ee_aae9_204ef649497erow0_col2{\n",
       "            background-color:  #804a09;\n",
       "            color:  #f1f1f1;\n",
       "        }#T_cefad596_28af_11ee_aae9_204ef649497erow0_col3,#T_cefad596_28af_11ee_aae9_204ef649497erow3_col0{\n",
       "            background-color:  #794608;\n",
       "            color:  #f1f1f1;\n",
       "        }#T_cefad596_28af_11ee_aae9_204ef649497erow1_col2,#T_cefad596_28af_11ee_aae9_204ef649497erow2_col1{\n",
       "            background-color:  #6e4007;\n",
       "            color:  #f1f1f1;\n",
       "        }#T_cefad596_28af_11ee_aae9_204ef649497erow2_col0{\n",
       "            background-color:  #824b09;\n",
       "            color:  #f1f1f1;\n",
       "        }</style><table id=\"T_cefad596_28af_11ee_aae9_204ef649497e\" ><thead>    <tr>        <th class=\"blank level0\" ></th>        <th class=\"col_heading level0 col0\" >PAIN</th>        <th class=\"col_heading level0 col1\" >PQ</th>        <th class=\"col_heading level0 col2\" >OLBDQ</th>        <th class=\"col_heading level0 col3\" >PW</th>    </tr></thead><tbody>\n",
       "                <tr>\n",
       "                        <th id=\"T_cefad596_28af_11ee_aae9_204ef649497elevel0_row0\" class=\"row_heading level0 row0\" >PAIN</th>\n",
       "                        <td id=\"T_cefad596_28af_11ee_aae9_204ef649497erow0_col0\" class=\"data row0 col0\" >1.000000</td>\n",
       "                        <td id=\"T_cefad596_28af_11ee_aae9_204ef649497erow0_col1\" class=\"data row0 col1\" >-0.032996</td>\n",
       "                        <td id=\"T_cefad596_28af_11ee_aae9_204ef649497erow0_col2\" class=\"data row0 col2\" >0.052360</td>\n",
       "                        <td id=\"T_cefad596_28af_11ee_aae9_204ef649497erow0_col3\" class=\"data row0 col3\" >0.037881</td>\n",
       "            </tr>\n",
       "            <tr>\n",
       "                        <th id=\"T_cefad596_28af_11ee_aae9_204ef649497elevel0_row1\" class=\"row_heading level0 row1\" >PQ</th>\n",
       "                        <td id=\"T_cefad596_28af_11ee_aae9_204ef649497erow1_col0\" class=\"data row1 col0\" >-0.032996</td>\n",
       "                        <td id=\"T_cefad596_28af_11ee_aae9_204ef649497erow1_col1\" class=\"data row1 col1\" >1.000000</td>\n",
       "                        <td id=\"T_cefad596_28af_11ee_aae9_204ef649497erow1_col2\" class=\"data row1 col2\" >0.018105</td>\n",
       "                        <td id=\"T_cefad596_28af_11ee_aae9_204ef649497erow1_col3\" class=\"data row1 col3\" >-0.033507</td>\n",
       "            </tr>\n",
       "            <tr>\n",
       "                        <th id=\"T_cefad596_28af_11ee_aae9_204ef649497elevel0_row2\" class=\"row_heading level0 row2\" >OLBDQ</th>\n",
       "                        <td id=\"T_cefad596_28af_11ee_aae9_204ef649497erow2_col0\" class=\"data row2 col0\" >0.052360</td>\n",
       "                        <td id=\"T_cefad596_28af_11ee_aae9_204ef649497erow2_col1\" class=\"data row2 col1\" >0.018105</td>\n",
       "                        <td id=\"T_cefad596_28af_11ee_aae9_204ef649497erow2_col2\" class=\"data row2 col2\" >1.000000</td>\n",
       "                        <td id=\"T_cefad596_28af_11ee_aae9_204ef649497erow2_col3\" class=\"data row2 col3\" >-0.030572</td>\n",
       "            </tr>\n",
       "            <tr>\n",
       "                        <th id=\"T_cefad596_28af_11ee_aae9_204ef649497elevel0_row3\" class=\"row_heading level0 row3\" >PW</th>\n",
       "                        <td id=\"T_cefad596_28af_11ee_aae9_204ef649497erow3_col0\" class=\"data row3 col0\" >0.037881</td>\n",
       "                        <td id=\"T_cefad596_28af_11ee_aae9_204ef649497erow3_col1\" class=\"data row3 col1\" >-0.033507</td>\n",
       "                        <td id=\"T_cefad596_28af_11ee_aae9_204ef649497erow3_col2\" class=\"data row3 col2\" >-0.030572</td>\n",
       "                        <td id=\"T_cefad596_28af_11ee_aae9_204ef649497erow3_col3\" class=\"data row3 col3\" >1.000000</td>\n",
       "            </tr>\n",
       "    </tbody></table>"
      ],
      "text/plain": [
       "<pandas.io.formats.style.Styler at 0x2567b652610>"
      ]
     },
     "execution_count": 41,
     "metadata": {},
     "output_type": "execute_result"
    }
   ],
   "source": [
    "corr.style.background_gradient(cmap='BrBG')"
   ]
  },
  {
   "cell_type": "raw",
   "metadata": {},
   "source": [
    "# Step 3: Hypothesis Testing - Assessing the relationship between PQ, OLBDQ, and PW\n",
    "# Hypothesis: If PQ is high and OLBDQ is low, it supports the idea of neuropathic pain.\n",
    "# If PW is low, it supports the idea of psychogenic pain.\n",
    "\n",
    "# Pearson correlation coefficient between PQ and OLBDQ\n",
    "correlation_PQ_OLBDQ, p_value_PQ_OLBDQ = stats.pearsonr(data['PQ'], data['OLBDQ'])\n",
    "\n",
    "# Pearson correlation coefficient between PQ and PW\n",
    "correlation_PQ_PW, p_value_PQ_PW = stats.pearsonr(data['PQ'], data['PW'])\n",
    "\n",
    "# Pearson correlation coefficient between OLBDQ and PW\n",
    "correlation_OLBDQ_PW, p_value_OLBDQ_PW = stats.pearsonr(data['OLBDQ'], data['PW'])"
   ]
  },
  {
   "cell_type": "code",
   "execution_count": null,
   "metadata": {},
   "outputs": [],
   "source": []
  }
 ],
 "metadata": {
  "kernelspec": {
   "display_name": "Python 3",
   "language": "python",
   "name": "python3"
  },
  "language_info": {
   "codemirror_mode": {
    "name": "ipython",
    "version": 3
   },
   "file_extension": ".py",
   "mimetype": "text/x-python",
   "name": "python",
   "nbconvert_exporter": "python",
   "pygments_lexer": "ipython3",
   "version": "3.9.0"
  }
 },
 "nbformat": 4,
 "nbformat_minor": 4
}

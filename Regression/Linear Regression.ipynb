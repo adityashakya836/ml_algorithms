{
 "cells": [
  {
   "cell_type": "code",
   "execution_count": 1,
   "metadata": {},
   "outputs": [],
   "source": [
    "path = \"C:\\\\Users\\\\Aditya Shakya\\\\OneDrive\\\\Desktop\\\\datasets\\\\iphone_price.csv\""
   ]
  },
  {
   "cell_type": "code",
   "execution_count": 2,
   "metadata": {},
   "outputs": [],
   "source": [
    "import pandas as pd\n",
    "import numpy as np"
   ]
  },
  {
   "cell_type": "code",
   "execution_count": 3,
   "metadata": {},
   "outputs": [],
   "source": [
    "iphone_data = pd.read_csv(path)"
   ]
  },
  {
   "cell_type": "code",
   "execution_count": 4,
   "metadata": {},
   "outputs": [
    {
     "data": {
      "text/html": [
       "<div>\n",
       "<style scoped>\n",
       "    .dataframe tbody tr th:only-of-type {\n",
       "        vertical-align: middle;\n",
       "    }\n",
       "\n",
       "    .dataframe tbody tr th {\n",
       "        vertical-align: top;\n",
       "    }\n",
       "\n",
       "    .dataframe thead th {\n",
       "        text-align: right;\n",
       "    }\n",
       "</style>\n",
       "<table border=\"1\" class=\"dataframe\">\n",
       "  <thead>\n",
       "    <tr style=\"text-align: right;\">\n",
       "      <th></th>\n",
       "      <th>version</th>\n",
       "      <th>price</th>\n",
       "    </tr>\n",
       "  </thead>\n",
       "  <tbody>\n",
       "    <tr>\n",
       "      <th>0</th>\n",
       "      <td>1</td>\n",
       "      <td>499</td>\n",
       "    </tr>\n",
       "    <tr>\n",
       "      <th>1</th>\n",
       "      <td>2</td>\n",
       "      <td>599</td>\n",
       "    </tr>\n",
       "    <tr>\n",
       "      <th>2</th>\n",
       "      <td>3</td>\n",
       "      <td>599</td>\n",
       "    </tr>\n",
       "    <tr>\n",
       "      <th>3</th>\n",
       "      <td>4</td>\n",
       "      <td>649</td>\n",
       "    </tr>\n",
       "    <tr>\n",
       "      <th>4</th>\n",
       "      <td>5</td>\n",
       "      <td>649</td>\n",
       "    </tr>\n",
       "    <tr>\n",
       "      <th>5</th>\n",
       "      <td>6</td>\n",
       "      <td>749</td>\n",
       "    </tr>\n",
       "    <tr>\n",
       "      <th>6</th>\n",
       "      <td>7</td>\n",
       "      <td>769</td>\n",
       "    </tr>\n",
       "    <tr>\n",
       "      <th>7</th>\n",
       "      <td>8</td>\n",
       "      <td>799</td>\n",
       "    </tr>\n",
       "    <tr>\n",
       "      <th>8</th>\n",
       "      <td>9</td>\n",
       "      <td>949</td>\n",
       "    </tr>\n",
       "    <tr>\n",
       "      <th>9</th>\n",
       "      <td>10</td>\n",
       "      <td>999</td>\n",
       "    </tr>\n",
       "    <tr>\n",
       "      <th>10</th>\n",
       "      <td>11</td>\n",
       "      <td>1249</td>\n",
       "    </tr>\n",
       "    <tr>\n",
       "      <th>11</th>\n",
       "      <td>12</td>\n",
       "      <td>1399</td>\n",
       "    </tr>\n",
       "  </tbody>\n",
       "</table>\n",
       "</div>"
      ],
      "text/plain": [
       "    version  price\n",
       "0         1    499\n",
       "1         2    599\n",
       "2         3    599\n",
       "3         4    649\n",
       "4         5    649\n",
       "5         6    749\n",
       "6         7    769\n",
       "7         8    799\n",
       "8         9    949\n",
       "9        10    999\n",
       "10       11   1249\n",
       "11       12   1399"
      ]
     },
     "execution_count": 4,
     "metadata": {},
     "output_type": "execute_result"
    }
   ],
   "source": [
    "iphone_data"
   ]
  },
  {
   "cell_type": "code",
   "execution_count": 5,
   "metadata": {},
   "outputs": [],
   "source": [
    "import matplotlib.pyplot as plt"
   ]
  },
  {
   "cell_type": "code",
   "execution_count": 6,
   "metadata": {},
   "outputs": [
    {
     "data": {
      "image/png": "[encoded data removed]",
      "text/plain": [
       "<Figure size 432x288 with 1 Axes>"
      ]
     },
     "metadata": {
      "needs_background": "light"
     },
     "output_type": "display_data"
    }
   ],
   "source": [
    "plt.bar(iphone_data['version'],iphone_data['price'])\n",
    "plt.show()"
   ]
  },
  {
   "cell_type": "code",
   "execution_count": 7,
   "metadata": {},
   "outputs": [],
   "source": [
    "X = iphone_data.iloc[:,0:1]\n",
    "y = iphone_data.iloc[:,-1]"
   ]
  },
  {
   "cell_type": "code",
   "execution_count": 8,
   "metadata": {},
   "outputs": [],
   "source": [
    "from sklearn.model_selection import train_test_split\n",
    "X_train,X_test,y_train,y_test = train_test_split(X,y,random_state=2,test_size=0.2)"
   ]
  },
  {
   "cell_type": "code",
   "execution_count": 9,
   "metadata": {},
   "outputs": [
    {
     "data": {
      "text/plain": [
       "(9, 1)"
      ]
     },
     "execution_count": 9,
     "metadata": {},
     "output_type": "execute_result"
    }
   ],
   "source": [
    "X_train.shape"
   ]
  },
  {
   "cell_type": "code",
   "execution_count": 10,
   "metadata": {},
   "outputs": [
    {
     "data": {
      "text/plain": [
       "(3, 1)"
      ]
     },
     "execution_count": 10,
     "metadata": {},
     "output_type": "execute_result"
    }
   ],
   "source": [
    "X_test.shape"
   ]
  },
  {
   "cell_type": "code",
   "execution_count": 11,
   "metadata": {},
   "outputs": [],
   "source": [
    "from sklearn.linear_model import LinearRegression\n",
    "lr = LinearRegression()"
   ]
  },
  {
   "cell_type": "code",
   "execution_count": 12,
   "metadata": {},
   "outputs": [
    {
     "data": {
      "text/html": [
       "<style>#sk-container-id-1 {color: black;background-color: white;}#sk-container-id-1 pre{padding: 0;}#sk-container-id-1 div.sk-toggleable {background-color: white;}#sk-container-id-1 label.sk-toggleable__label {cursor: pointer;display: block;width: 100%;margin-bottom: 0;padding: 0.3em;box-sizing: border-box;text-align: center;}#sk-container-id-1 label.sk-toggleable__label-arrow:before {content: \"▸\";float: left;margin-right: 0.25em;color: #696969;}#sk-container-id-1 label.sk-toggleable__label-arrow:hover:before {color: black;}#sk-container-id-1 div.sk-estimator:hover label.sk-toggleable__label-arrow:before {color: black;}#sk-container-id-1 div.sk-toggleable__content {max-height: 0;max-width: 0;overflow: hidden;text-align: left;background-color: #f0f8ff;}#sk-container-id-1 div.sk-toggleable__content pre {margin: 0.2em;color: black;border-radius: 0.25em;background-color: #f0f8ff;}#sk-container-id-1 input.sk-toggleable__control:checked~div.sk-toggleable__content {max-height: 200px;max-width: 100%;overflow: auto;}#sk-container-id-1 input.sk-toggleable__control:checked~label.sk-toggleable__label-arrow:before {content: \"▾\";}#sk-container-id-1 div.sk-estimator input.sk-toggleable__control:checked~label.sk-toggleable__label {background-color: #d4ebff;}#sk-container-id-1 div.sk-label input.sk-toggleable__control:checked~label.sk-toggleable__label {background-color: #d4ebff;}#sk-container-id-1 input.sk-hidden--visually {border: 0;clip: rect(1px 1px 1px 1px);clip: rect(1px, 1px, 1px, 1px);height: 1px;margin: -1px;overflow: hidden;padding: 0;position: absolute;width: 1px;}#sk-container-id-1 div.sk-estimator {font-family: monospace;background-color: #f0f8ff;border: 1px dotted black;border-radius: 0.25em;box-sizing: border-box;margin-bottom: 0.5em;}#sk-container-id-1 div.sk-estimator:hover {background-color: #d4ebff;}#sk-container-id-1 div.sk-parallel-item::after {content: \"\";width: 100%;border-bottom: 1px solid gray;flex-grow: 1;}#sk-container-id-1 div.sk-label:hover label.sk-toggleable__label {background-color: #d4ebff;}#sk-container-id-1 div.sk-serial::before {content: \"\";position: absolute;border-left: 1px solid gray;box-sizing: border-box;top: 0;bottom: 0;left: 50%;z-index: 0;}#sk-container-id-1 div.sk-serial {display: flex;flex-direction: column;align-items: center;background-color: white;padding-right: 0.2em;padding-left: 0.2em;position: relative;}#sk-container-id-1 div.sk-item {position: relative;z-index: 1;}#sk-container-id-1 div.sk-parallel {display: flex;align-items: stretch;justify-content: center;background-color: white;position: relative;}#sk-container-id-1 div.sk-item::before, #sk-container-id-1 div.sk-parallel-item::before {content: \"\";position: absolute;border-left: 1px solid gray;box-sizing: border-box;top: 0;bottom: 0;left: 50%;z-index: -1;}#sk-container-id-1 div.sk-parallel-item {display: flex;flex-direction: column;z-index: 1;position: relative;background-color: white;}#sk-container-id-1 div.sk-parallel-item:first-child::after {align-self: flex-end;width: 50%;}#sk-container-id-1 div.sk-parallel-item:last-child::after {align-self: flex-start;width: 50%;}#sk-container-id-1 div.sk-parallel-item:only-child::after {width: 0;}#sk-container-id-1 div.sk-dashed-wrapped {border: 1px dashed gray;margin: 0 0.4em 0.5em 0.4em;box-sizing: border-box;padding-bottom: 0.4em;background-color: white;}#sk-container-id-1 div.sk-label label {font-family: monospace;font-weight: bold;display: inline-block;line-height: 1.2em;}#sk-container-id-1 div.sk-label-container {text-align: center;}#sk-container-id-1 div.sk-container {/* jupyter's `normalize.less` sets `[hidden] { display: none; }` but bootstrap.min.css set `[hidden] { display: none !important; }` so we also need the `!important` here to be able to override the default hidden behavior on the sphinx rendered scikit-learn.org. See: https://github.com/scikit-learn/scikit-learn/issues/21755 */display: inline-block !important;position: relative;}#sk-container-id-1 div.sk-text-repr-fallback {display: none;}</style><div id=\"sk-container-id-1\" class=\"sk-top-container\"><div class=\"sk-text-repr-fallback\"><pre>LinearRegression()</pre><b>In a Jupyter environment, please rerun this cell to show the HTML representation or trust the notebook. <br />On GitHub, the HTML representation is unable to render, please try loading this page with nbviewer.org.</b></div><div class=\"sk-container\" hidden><div class=\"sk-item\"><div class=\"sk-estimator sk-toggleable\"><input class=\"sk-toggleable__control sk-hidden--visually\" id=\"sk-estimator-id-1\" type=\"checkbox\" checked><label for=\"sk-estimator-id-1\" class=\"sk-toggleable__label sk-toggleable__label-arrow\">LinearRegression</label><div class=\"sk-toggleable__content\"><pre>LinearRegression()</pre></div></div></div></div></div>"
      ],
      "text/plain": [
       "LinearRegression()"
      ]
     },
     "execution_count": 12,
     "metadata": {},
     "output_type": "execute_result"
    }
   ],
   "source": [
    "lr.fit(X_train,y_train)"
   ]
  },
  {
   "cell_type": "code",
   "execution_count": 13,
   "metadata": {},
   "outputs": [],
   "source": [
    "y_pred = lr.predict(X_test)"
   ]
  },
  {
   "cell_type": "code",
   "execution_count": 14,
   "metadata": {},
   "outputs": [
    {
     "data": {
      "text/plain": [
       "array([1102.77604167,  810.171875  ,  737.02083333])"
      ]
     },
     "execution_count": 14,
     "metadata": {},
     "output_type": "execute_result"
    }
   ],
   "source": [
    "y_pred"
   ]
  },
  {
   "cell_type": "code",
   "execution_count": 15,
   "metadata": {},
   "outputs": [
    {
     "data": {
      "text/plain": [
       "[]"
      ]
     },
     "execution_count": 15,
     "metadata": {},
     "output_type": "execute_result"
    },
    {
     "data": {
      "image/png": "[encoded data removed]",
      "text/plain": [
       "<Figure size 432x288 with 1 Axes>"
      ]
     },
     "metadata": {
      "needs_background": "light"
     },
     "output_type": "display_data"
    }
   ],
   "source": [
    "plt.scatter(iphone_data['version'],iphone_data['price'])\n",
    "plt.plot(X_train,lr.predict(X_train))\n",
    "plt.xlabel(\"version\")\n",
    "plt.ylabel('price')\n",
    "plt.plot()"
   ]
  },
  {
   "cell_type": "code",
   "execution_count": 16,
   "metadata": {},
   "outputs": [],
   "source": [
    "class LinearRegression1:\n",
    "    def __init__(self):\n",
    "        self.m = None\n",
    "        self.b = None\n",
    "    def fit(self,X_train,y_train):\n",
    "    # print(X_train.shape)\n",
    "        num = 0\n",
    "        den = 0\n",
    "        for i in range(X_train.shape[0]):\n",
    "            num = num +  ((X_train[i]-X_train.mean())*(y_train[i]-y_train.mean()))\n",
    "            den = den + ((X_train[i]-X_train.mean())*(X_train[i]-X_train.mean()))\n",
    "        self.m = num/den \n",
    "        self.b = y_train.mean()-(self.m*X_train.mean())\n",
    "        print(self.m)\n",
    "        print(self.b)\n",
    "    def predict(self,x_test):\n",
    "        return self.m * X_test + self.b"
   ]
  },
  {
   "cell_type": "code",
   "execution_count": 17,
   "metadata": {},
   "outputs": [],
   "source": [
    "lr1= LinearRegression1()"
   ]
  },
  {
   "cell_type": "code",
   "execution_count": 18,
   "metadata": {},
   "outputs": [],
   "source": [
    "def predict_price():\n",
    "    version = int(input(\"Enter the version : \"))\n",
    "    return lr.predict([[version]])[0]"
   ]
  },
  {
   "cell_type": "code",
   "execution_count": 19,
   "metadata": {},
   "outputs": [
    {
     "name": "stdout",
     "output_type": "stream",
     "text": [
      "Enter the version : 6\n"
     ]
    },
    {
     "name": "stderr",
     "output_type": "stream",
     "text": [
      "c:\\users\\aditya shakya\\appdata\\local\\programs\\python\\python39\\lib\\site-packages\\sklearn\\base.py:439: UserWarning: X does not have valid feature names, but LinearRegression was fitted with feature names\n",
      "  warnings.warn(\n"
     ]
    },
    {
     "data": {
      "text/plain": [
       "810.171875"
      ]
     },
     "execution_count": 19,
     "metadata": {},
     "output_type": "execute_result"
    }
   ],
   "source": [
    "predict_price()"
   ]
  },
  {
   "cell_type": "code",
   "execution_count": 63,
   "metadata": {},
   "outputs": [],
   "source": [
    "import pandas as pd\n",
    "import numpy as np\n",
    "from sklearn.linear_model import LinearRegression\n",
    "\n",
    "# Set the random seed for reproducibility\n",
    "np.random.seed(42)\n",
    "\n",
    "# Generate random independent variables (features)\n",
    "X = np.random.rand(100, 1)"
   ]
  },
  {
   "cell_type": "code",
   "execution_count": 64,
   "metadata": {},
   "outputs": [],
   "source": [
    "y = 2*X[:,0]+np.random.randn(100)"
   ]
  },
  {
   "cell_type": "markdown",
   "metadata": {},
   "source": [
    "### Create a data frame with random values. use linear regression model on this data that predicts values"
   ]
  },
  {
   "cell_type": "code",
   "execution_count": 66,
   "metadata": {},
   "outputs": [],
   "source": [
    "import pandas as pd"
   ]
  },
  {
   "cell_type": "code",
   "execution_count": 74,
   "metadata": {},
   "outputs": [],
   "source": [
    "from sklearn.linear_model import LinearRegression\n",
    "from sklearn.model_selection import train_test_split\n",
    "from sklearn.preprocessing import StandardScaler\n",
    "scaler = StandardScaler()\n",
    "X = scaler.fit_transform(X)\n",
    "X_train,x_test,Y_train,y_test = train_test_split(X,y,test_size=0.2,random_state=2)\n",
    "lr = LinearRegression()\n"
   ]
  },
  {
   "cell_type": "code",
   "execution_count": 75,
   "metadata": {},
   "outputs": [
    {
     "data": {
      "text/html": [
       "<style>#sk-container-id-5 {color: black;background-color: white;}#sk-container-id-5 pre{padding: 0;}#sk-container-id-5 div.sk-toggleable {background-color: white;}#sk-container-id-5 label.sk-toggleable__label {cursor: pointer;display: block;width: 100%;margin-bottom: 0;padding: 0.3em;box-sizing: border-box;text-align: center;}#sk-container-id-5 label.sk-toggleable__label-arrow:before {content: \"▸\";float: left;margin-right: 0.25em;color: #696969;}#sk-container-id-5 label.sk-toggleable__label-arrow:hover:before {color: black;}#sk-container-id-5 div.sk-estimator:hover label.sk-toggleable__label-arrow:before {color: black;}#sk-container-id-5 div.sk-toggleable__content {max-height: 0;max-width: 0;overflow: hidden;text-align: left;background-color: #f0f8ff;}#sk-container-id-5 div.sk-toggleable__content pre {margin: 0.2em;color: black;border-radius: 0.25em;background-color: #f0f8ff;}#sk-container-id-5 input.sk-toggleable__control:checked~div.sk-toggleable__content {max-height: 200px;max-width: 100%;overflow: auto;}#sk-container-id-5 input.sk-toggleable__control:checked~label.sk-toggleable__label-arrow:before {content: \"▾\";}#sk-container-id-5 div.sk-estimator input.sk-toggleable__control:checked~label.sk-toggleable__label {background-color: #d4ebff;}#sk-container-id-5 div.sk-label input.sk-toggleable__control:checked~label.sk-toggleable__label {background-color: #d4ebff;}#sk-container-id-5 input.sk-hidden--visually {border: 0;clip: rect(1px 1px 1px 1px);clip: rect(1px, 1px, 1px, 1px);height: 1px;margin: -1px;overflow: hidden;padding: 0;position: absolute;width: 1px;}#sk-container-id-5 div.sk-estimator {font-family: monospace;background-color: #f0f8ff;border: 1px dotted black;border-radius: 0.25em;box-sizing: border-box;margin-bottom: 0.5em;}#sk-container-id-5 div.sk-estimator:hover {background-color: #d4ebff;}#sk-container-id-5 div.sk-parallel-item::after {content: \"\";width: 100%;border-bottom: 1px solid gray;flex-grow: 1;}#sk-container-id-5 div.sk-label:hover label.sk-toggleable__label {background-color: #d4ebff;}#sk-container-id-5 div.sk-serial::before {content: \"\";position: absolute;border-left: 1px solid gray;box-sizing: border-box;top: 0;bottom: 0;left: 50%;z-index: 0;}#sk-container-id-5 div.sk-serial {display: flex;flex-direction: column;align-items: center;background-color: white;padding-right: 0.2em;padding-left: 0.2em;position: relative;}#sk-container-id-5 div.sk-item {position: relative;z-index: 1;}#sk-container-id-5 div.sk-parallel {display: flex;align-items: stretch;justify-content: center;background-color: white;position: relative;}#sk-container-id-5 div.sk-item::before, #sk-container-id-5 div.sk-parallel-item::before {content: \"\";position: absolute;border-left: 1px solid gray;box-sizing: border-box;top: 0;bottom: 0;left: 50%;z-index: -1;}#sk-container-id-5 div.sk-parallel-item {display: flex;flex-direction: column;z-index: 1;position: relative;background-color: white;}#sk-container-id-5 div.sk-parallel-item:first-child::after {align-self: flex-end;width: 50%;}#sk-container-id-5 div.sk-parallel-item:last-child::after {align-self: flex-start;width: 50%;}#sk-container-id-5 div.sk-parallel-item:only-child::after {width: 0;}#sk-container-id-5 div.sk-dashed-wrapped {border: 1px dashed gray;margin: 0 0.4em 0.5em 0.4em;box-sizing: border-box;padding-bottom: 0.4em;background-color: white;}#sk-container-id-5 div.sk-label label {font-family: monospace;font-weight: bold;display: inline-block;line-height: 1.2em;}#sk-container-id-5 div.sk-label-container {text-align: center;}#sk-container-id-5 div.sk-container {/* jupyter's `normalize.less` sets `[hidden] { display: none; }` but bootstrap.min.css set `[hidden] { display: none !important; }` so we also need the `!important` here to be able to override the default hidden behavior on the sphinx rendered scikit-learn.org. See: https://github.com/scikit-learn/scikit-learn/issues/21755 */display: inline-block !important;position: relative;}#sk-container-id-5 div.sk-text-repr-fallback {display: none;}</style><div id=\"sk-container-id-5\" class=\"sk-top-container\"><div class=\"sk-text-repr-fallback\"><pre>LinearRegression()</pre><b>In a Jupyter environment, please rerun this cell to show the HTML representation or trust the notebook. <br />On GitHub, the HTML representation is unable to render, please try loading this page with nbviewer.org.</b></div><div class=\"sk-container\" hidden><div class=\"sk-item\"><div class=\"sk-estimator sk-toggleable\"><input class=\"sk-toggleable__control sk-hidden--visually\" id=\"sk-estimator-id-5\" type=\"checkbox\" checked><label for=\"sk-estimator-id-5\" class=\"sk-toggleable__label sk-toggleable__label-arrow\">LinearRegression</label><div class=\"sk-toggleable__content\"><pre>LinearRegression()</pre></div></div></div></div></div>"
      ],
      "text/plain": [
       "LinearRegression()"
      ]
     },
     "execution_count": 75,
     "metadata": {},
     "output_type": "execute_result"
    }
   ],
   "source": [
    "lr.fit(X_train,Y_train)"
   ]
  },
  {
   "cell_type": "code",
   "execution_count": 76,
   "metadata": {},
   "outputs": [],
   "source": [
    "y_pred = lr.predict(x_test)\n",
    "y_pred_train = lr.predict(X_train)"
   ]
  },
  {
   "cell_type": "code",
   "execution_count": 77,
   "metadata": {},
   "outputs": [
    {
     "data": {
      "text/plain": [
       "array([ 0.78367031,  3.10127561, -0.88531871, -0.50323077, -0.09356861,\n",
       "        0.49813655,  1.55574866,  0.22619161,  1.02354343,  0.93794565,\n",
       "        1.0429661 ,  1.27618198,  0.86251597,  0.46072748,  0.83612731,\n",
       "        0.54004299, -0.79025195,  0.49695168,  0.22063655, -0.4826133 ])"
      ]
     },
     "execution_count": 77,
     "metadata": {},
     "output_type": "execute_result"
    }
   ],
   "source": [
    "y_test"
   ]
  },
  {
   "cell_type": "code",
   "execution_count": 78,
   "metadata": {},
   "outputs": [],
   "source": [
    "import matplotlib.pyplot as plt"
   ]
  },
  {
   "cell_type": "code",
   "execution_count": 79,
   "metadata": {},
   "outputs": [
    {
     "name": "stdout",
     "output_type": "stream",
     "text": [
      "(80, 1)\n",
      "(20, 1)\n",
      "(80,)\n",
      "(20,)\n"
     ]
    }
   ],
   "source": [
    "print(X_train.shape)\n",
    "print(x_test.shape)\n",
    "print(Y_train.shape)\n",
    "print(y_test.shape)"
   ]
  },
  {
   "cell_type": "code",
   "execution_count": 80,
   "metadata": {},
   "outputs": [
    {
     "data": {
      "text/plain": [
       "[<matplotlib.lines.Line2D at 0x149025bc340>]"
      ]
     },
     "execution_count": 80,
     "metadata": {},
     "output_type": "execute_result"
    },
    {
     "data": {
      "image/png": "[encoded data removed]",
      "text/plain": [
       "<Figure size 432x288 with 1 Axes>"
      ]
     },
     "metadata": {
      "needs_background": "light"
     },
     "output_type": "display_data"
    }
   ],
   "source": [
    "plt.scatter(X_train,Y_train)\n",
    "plt.plot(X_train,y_pred_train,color = 'red')"
   ]
  },
  {
   "cell_type": "code",
   "execution_count": 81,
   "metadata": {},
   "outputs": [],
   "source": [
    "data = {\n",
    "    'Position':['Business Analyst','Junior Consultant','Senior Consultant','Manager','Country Manager','Region Manager','Partner','Senior Partner','C-Level','CEO'],\n",
    "    'Level(X-Variable)':[1,2,3,4,5,6,7,8,9,10],\n",
    "    'Level(Y-Variable)' : [45000,50000,60000,80000,110000,150000,200000,300000,500000,1000000]\n",
    "}"
   ]
  },
  {
   "cell_type": "code",
   "execution_count": 82,
   "metadata": {},
   "outputs": [],
   "source": [
    "df = pd.DataFrame(data)"
   ]
  },
  {
   "cell_type": "code",
   "execution_count": 83,
   "metadata": {},
   "outputs": [
    {
     "data": {
      "text/html": [
       "<div>\n",
       "<style scoped>\n",
       "    .dataframe tbody tr th:only-of-type {\n",
       "        vertical-align: middle;\n",
       "    }\n",
       "\n",
       "    .dataframe tbody tr th {\n",
       "        vertical-align: top;\n",
       "    }\n",
       "\n",
       "    .dataframe thead th {\n",
       "        text-align: right;\n",
       "    }\n",
       "</style>\n",
       "<table border=\"1\" class=\"dataframe\">\n",
       "  <thead>\n",
       "    <tr style=\"text-align: right;\">\n",
       "      <th></th>\n",
       "      <th>Position</th>\n",
       "      <th>Level(X-Variable)</th>\n",
       "      <th>Level(Y-Variable)</th>\n",
       "    </tr>\n",
       "  </thead>\n",
       "  <tbody>\n",
       "    <tr>\n",
       "      <th>0</th>\n",
       "      <td>Business Analyst</td>\n",
       "      <td>1</td>\n",
       "      <td>45000</td>\n",
       "    </tr>\n",
       "    <tr>\n",
       "      <th>1</th>\n",
       "      <td>Junior Consultant</td>\n",
       "      <td>2</td>\n",
       "      <td>50000</td>\n",
       "    </tr>\n",
       "    <tr>\n",
       "      <th>2</th>\n",
       "      <td>Senior Consultant</td>\n",
       "      <td>3</td>\n",
       "      <td>60000</td>\n",
       "    </tr>\n",
       "    <tr>\n",
       "      <th>3</th>\n",
       "      <td>Manager</td>\n",
       "      <td>4</td>\n",
       "      <td>80000</td>\n",
       "    </tr>\n",
       "    <tr>\n",
       "      <th>4</th>\n",
       "      <td>Country Manager</td>\n",
       "      <td>5</td>\n",
       "      <td>110000</td>\n",
       "    </tr>\n",
       "    <tr>\n",
       "      <th>5</th>\n",
       "      <td>Region Manager</td>\n",
       "      <td>6</td>\n",
       "      <td>150000</td>\n",
       "    </tr>\n",
       "    <tr>\n",
       "      <th>6</th>\n",
       "      <td>Partner</td>\n",
       "      <td>7</td>\n",
       "      <td>200000</td>\n",
       "    </tr>\n",
       "    <tr>\n",
       "      <th>7</th>\n",
       "      <td>Senior Partner</td>\n",
       "      <td>8</td>\n",
       "      <td>300000</td>\n",
       "    </tr>\n",
       "    <tr>\n",
       "      <th>8</th>\n",
       "      <td>C-Level</td>\n",
       "      <td>9</td>\n",
       "      <td>500000</td>\n",
       "    </tr>\n",
       "    <tr>\n",
       "      <th>9</th>\n",
       "      <td>CEO</td>\n",
       "      <td>10</td>\n",
       "      <td>1000000</td>\n",
       "    </tr>\n",
       "  </tbody>\n",
       "</table>\n",
       "</div>"
      ],
      "text/plain": [
       "            Position  Level(X-Variable)  Level(Y-Variable)\n",
       "0   Business Analyst                  1              45000\n",
       "1  Junior Consultant                  2              50000\n",
       "2  Senior Consultant                  3              60000\n",
       "3            Manager                  4              80000\n",
       "4    Country Manager                  5             110000\n",
       "5     Region Manager                  6             150000\n",
       "6            Partner                  7             200000\n",
       "7     Senior Partner                  8             300000\n",
       "8            C-Level                  9             500000\n",
       "9                CEO                 10            1000000"
      ]
     },
     "execution_count": 83,
     "metadata": {},
     "output_type": "execute_result"
    }
   ],
   "source": [
    "df"
   ]
  },
  {
   "cell_type": "code",
   "execution_count": 96,
   "metadata": {},
   "outputs": [
    {
     "data": {
      "text/plain": [
       "array([[ 1],\n",
       "       [ 2],\n",
       "       [ 3],\n",
       "       [ 4],\n",
       "       [ 5],\n",
       "       [ 6],\n",
       "       [ 7],\n",
       "       [ 8],\n",
       "       [ 9],\n",
       "       [10]], dtype=int64)"
      ]
     },
     "execution_count": 96,
     "metadata": {},
     "output_type": "execute_result"
    }
   ],
   "source": [
    "X = df.iloc[:,1].values.reshape(-1,1)\n",
    "X"
   ]
  },
  {
   "cell_type": "code",
   "execution_count": 108,
   "metadata": {},
   "outputs": [],
   "source": [
    "y = df.iloc[:,-1].values"
   ]
  },
  {
   "cell_type": "code",
   "execution_count": 109,
   "metadata": {},
   "outputs": [
    {
     "data": {
      "image/png": "[encoded data removed]",
      "text/plain": [
       "<Figure size 432x288 with 1 Axes>"
      ]
     },
     "metadata": {
      "needs_background": "light"
     },
     "output_type": "display_data"
    }
   ],
   "source": [
    "plt.scatter(X,y,color = 'red')\n",
    "plt.title('Salaries')\n",
    "plt.xlabel(\"Level(X-Variable)\")\n",
    "plt.ylabel('Level(Y-Variable)')\n",
    "plt.show()"
   ]
  },
  {
   "cell_type": "code",
   "execution_count": 100,
   "metadata": {},
   "outputs": [
    {
     "data": {
      "text/html": [
       "<style>#sk-container-id-6 {color: black;background-color: white;}#sk-container-id-6 pre{padding: 0;}#sk-container-id-6 div.sk-toggleable {background-color: white;}#sk-container-id-6 label.sk-toggleable__label {cursor: pointer;display: block;width: 100%;margin-bottom: 0;padding: 0.3em;box-sizing: border-box;text-align: center;}#sk-container-id-6 label.sk-toggleable__label-arrow:before {content: \"▸\";float: left;margin-right: 0.25em;color: #696969;}#sk-container-id-6 label.sk-toggleable__label-arrow:hover:before {color: black;}#sk-container-id-6 div.sk-estimator:hover label.sk-toggleable__label-arrow:before {color: black;}#sk-container-id-6 div.sk-toggleable__content {max-height: 0;max-width: 0;overflow: hidden;text-align: left;background-color: #f0f8ff;}#sk-container-id-6 div.sk-toggleable__content pre {margin: 0.2em;color: black;border-radius: 0.25em;background-color: #f0f8ff;}#sk-container-id-6 input.sk-toggleable__control:checked~div.sk-toggleable__content {max-height: 200px;max-width: 100%;overflow: auto;}#sk-container-id-6 input.sk-toggleable__control:checked~label.sk-toggleable__label-arrow:before {content: \"▾\";}#sk-container-id-6 div.sk-estimator input.sk-toggleable__control:checked~label.sk-toggleable__label {background-color: #d4ebff;}#sk-container-id-6 div.sk-label input.sk-toggleable__control:checked~label.sk-toggleable__label {background-color: #d4ebff;}#sk-container-id-6 input.sk-hidden--visually {border: 0;clip: rect(1px 1px 1px 1px);clip: rect(1px, 1px, 1px, 1px);height: 1px;margin: -1px;overflow: hidden;padding: 0;position: absolute;width: 1px;}#sk-container-id-6 div.sk-estimator {font-family: monospace;background-color: #f0f8ff;border: 1px dotted black;border-radius: 0.25em;box-sizing: border-box;margin-bottom: 0.5em;}#sk-container-id-6 div.sk-estimator:hover {background-color: #d4ebff;}#sk-container-id-6 div.sk-parallel-item::after {content: \"\";width: 100%;border-bottom: 1px solid gray;flex-grow: 1;}#sk-container-id-6 div.sk-label:hover label.sk-toggleable__label {background-color: #d4ebff;}#sk-container-id-6 div.sk-serial::before {content: \"\";position: absolute;border-left: 1px solid gray;box-sizing: border-box;top: 0;bottom: 0;left: 50%;z-index: 0;}#sk-container-id-6 div.sk-serial {display: flex;flex-direction: column;align-items: center;background-color: white;padding-right: 0.2em;padding-left: 0.2em;position: relative;}#sk-container-id-6 div.sk-item {position: relative;z-index: 1;}#sk-container-id-6 div.sk-parallel {display: flex;align-items: stretch;justify-content: center;background-color: white;position: relative;}#sk-container-id-6 div.sk-item::before, #sk-container-id-6 div.sk-parallel-item::before {content: \"\";position: absolute;border-left: 1px solid gray;box-sizing: border-box;top: 0;bottom: 0;left: 50%;z-index: -1;}#sk-container-id-6 div.sk-parallel-item {display: flex;flex-direction: column;z-index: 1;position: relative;background-color: white;}#sk-container-id-6 div.sk-parallel-item:first-child::after {align-self: flex-end;width: 50%;}#sk-container-id-6 div.sk-parallel-item:last-child::after {align-self: flex-start;width: 50%;}#sk-container-id-6 div.sk-parallel-item:only-child::after {width: 0;}#sk-container-id-6 div.sk-dashed-wrapped {border: 1px dashed gray;margin: 0 0.4em 0.5em 0.4em;box-sizing: border-box;padding-bottom: 0.4em;background-color: white;}#sk-container-id-6 div.sk-label label {font-family: monospace;font-weight: bold;display: inline-block;line-height: 1.2em;}#sk-container-id-6 div.sk-label-container {text-align: center;}#sk-container-id-6 div.sk-container {/* jupyter's `normalize.less` sets `[hidden] { display: none; }` but bootstrap.min.css set `[hidden] { display: none !important; }` so we also need the `!important` here to be able to override the default hidden behavior on the sphinx rendered scikit-learn.org. See: https://github.com/scikit-learn/scikit-learn/issues/21755 */display: inline-block !important;position: relative;}#sk-container-id-6 div.sk-text-repr-fallback {display: none;}</style><div id=\"sk-container-id-6\" class=\"sk-top-container\"><div class=\"sk-text-repr-fallback\"><pre>LinearRegression()</pre><b>In a Jupyter environment, please rerun this cell to show the HTML representation or trust the notebook. <br />On GitHub, the HTML representation is unable to render, please try loading this page with nbviewer.org.</b></div><div class=\"sk-container\" hidden><div class=\"sk-item\"><div class=\"sk-estimator sk-toggleable\"><input class=\"sk-toggleable__control sk-hidden--visually\" id=\"sk-estimator-id-6\" type=\"checkbox\" checked><label for=\"sk-estimator-id-6\" class=\"sk-toggleable__label sk-toggleable__label-arrow\">LinearRegression</label><div class=\"sk-toggleable__content\"><pre>LinearRegression()</pre></div></div></div></div></div>"
      ],
      "text/plain": [
       "LinearRegression()"
      ]
     },
     "execution_count": 100,
     "metadata": {},
     "output_type": "execute_result"
    }
   ],
   "source": [
    "lr = LinearRegression()\n",
    "lr.fit(X,y)"
   ]
  },
  {
   "cell_type": "code",
   "execution_count": 102,
   "metadata": {},
   "outputs": [],
   "source": [
    "y_pred = lr.predict(X)"
   ]
  },
  {
   "cell_type": "code",
   "execution_count": 105,
   "metadata": {},
   "outputs": [
    {
     "data": {
      "image/png": "[encoded data removed]",
      "text/plain": [
       "<Figure size 432x288 with 1 Axes>"
      ]
     },
     "metadata": {
      "needs_background": "light"
     },
     "output_type": "display_data"
    }
   ],
   "source": [
    "plt.title('Salaries')\n",
    "plt.xlabel(\"Level(X-Variable)\")\n",
    "plt.ylabel('Level(Y-Variable)')\n",
    "plt.scatter(X,y,color = 'red')\n",
    "plt.plot(y,y_pred,color='yellow')\n",
    "plt.show()"
   ]
  },
  {
   "cell_type": "code",
   "execution_count": 110,
   "metadata": {},
   "outputs": [],
   "source": [
    "from sklearn.preprocessing import PolynomialFeatures\n",
    "poly = PolynomialFeatures(degree=4)"
   ]
  },
  {
   "cell_type": "code",
   "execution_count": 112,
   "metadata": {},
   "outputs": [],
   "source": [
    "x_poly = poly.fit_transform(X)"
   ]
  },
  {
   "cell_type": "code",
   "execution_count": 114,
   "metadata": {},
   "outputs": [
    {
     "data": {
      "text/html": [
       "<style>#sk-container-id-8 {color: black;background-color: white;}#sk-container-id-8 pre{padding: 0;}#sk-container-id-8 div.sk-toggleable {background-color: white;}#sk-container-id-8 label.sk-toggleable__label {cursor: pointer;display: block;width: 100%;margin-bottom: 0;padding: 0.3em;box-sizing: border-box;text-align: center;}#sk-container-id-8 label.sk-toggleable__label-arrow:before {content: \"▸\";float: left;margin-right: 0.25em;color: #696969;}#sk-container-id-8 label.sk-toggleable__label-arrow:hover:before {color: black;}#sk-container-id-8 div.sk-estimator:hover label.sk-toggleable__label-arrow:before {color: black;}#sk-container-id-8 div.sk-toggleable__content {max-height: 0;max-width: 0;overflow: hidden;text-align: left;background-color: #f0f8ff;}#sk-container-id-8 div.sk-toggleable__content pre {margin: 0.2em;color: black;border-radius: 0.25em;background-color: #f0f8ff;}#sk-container-id-8 input.sk-toggleable__control:checked~div.sk-toggleable__content {max-height: 200px;max-width: 100%;overflow: auto;}#sk-container-id-8 input.sk-toggleable__control:checked~label.sk-toggleable__label-arrow:before {content: \"▾\";}#sk-container-id-8 div.sk-estimator input.sk-toggleable__control:checked~label.sk-toggleable__label {background-color: #d4ebff;}#sk-container-id-8 div.sk-label input.sk-toggleable__control:checked~label.sk-toggleable__label {background-color: #d4ebff;}#sk-container-id-8 input.sk-hidden--visually {border: 0;clip: rect(1px 1px 1px 1px);clip: rect(1px, 1px, 1px, 1px);height: 1px;margin: -1px;overflow: hidden;padding: 0;position: absolute;width: 1px;}#sk-container-id-8 div.sk-estimator {font-family: monospace;background-color: #f0f8ff;border: 1px dotted black;border-radius: 0.25em;box-sizing: border-box;margin-bottom: 0.5em;}#sk-container-id-8 div.sk-estimator:hover {background-color: #d4ebff;}#sk-container-id-8 div.sk-parallel-item::after {content: \"\";width: 100%;border-bottom: 1px solid gray;flex-grow: 1;}#sk-container-id-8 div.sk-label:hover label.sk-toggleable__label {background-color: #d4ebff;}#sk-container-id-8 div.sk-serial::before {content: \"\";position: absolute;border-left: 1px solid gray;box-sizing: border-box;top: 0;bottom: 0;left: 50%;z-index: 0;}#sk-container-id-8 div.sk-serial {display: flex;flex-direction: column;align-items: center;background-color: white;padding-right: 0.2em;padding-left: 0.2em;position: relative;}#sk-container-id-8 div.sk-item {position: relative;z-index: 1;}#sk-container-id-8 div.sk-parallel {display: flex;align-items: stretch;justify-content: center;background-color: white;position: relative;}#sk-container-id-8 div.sk-item::before, #sk-container-id-8 div.sk-parallel-item::before {content: \"\";position: absolute;border-left: 1px solid gray;box-sizing: border-box;top: 0;bottom: 0;left: 50%;z-index: -1;}#sk-container-id-8 div.sk-parallel-item {display: flex;flex-direction: column;z-index: 1;position: relative;background-color: white;}#sk-container-id-8 div.sk-parallel-item:first-child::after {align-self: flex-end;width: 50%;}#sk-container-id-8 div.sk-parallel-item:last-child::after {align-self: flex-start;width: 50%;}#sk-container-id-8 div.sk-parallel-item:only-child::after {width: 0;}#sk-container-id-8 div.sk-dashed-wrapped {border: 1px dashed gray;margin: 0 0.4em 0.5em 0.4em;box-sizing: border-box;padding-bottom: 0.4em;background-color: white;}#sk-container-id-8 div.sk-label label {font-family: monospace;font-weight: bold;display: inline-block;line-height: 1.2em;}#sk-container-id-8 div.sk-label-container {text-align: center;}#sk-container-id-8 div.sk-container {/* jupyter's `normalize.less` sets `[hidden] { display: none; }` but bootstrap.min.css set `[hidden] { display: none !important; }` so we also need the `!important` here to be able to override the default hidden behavior on the sphinx rendered scikit-learn.org. See: https://github.com/scikit-learn/scikit-learn/issues/21755 */display: inline-block !important;position: relative;}#sk-container-id-8 div.sk-text-repr-fallback {display: none;}</style><div id=\"sk-container-id-8\" class=\"sk-top-container\"><div class=\"sk-text-repr-fallback\"><pre>PolynomialFeatures(degree=4)</pre><b>In a Jupyter environment, please rerun this cell to show the HTML representation or trust the notebook. <br />On GitHub, the HTML representation is unable to render, please try loading this page with nbviewer.org.</b></div><div class=\"sk-container\" hidden><div class=\"sk-item\"><div class=\"sk-estimator sk-toggleable\"><input class=\"sk-toggleable__control sk-hidden--visually\" id=\"sk-estimator-id-8\" type=\"checkbox\" checked><label for=\"sk-estimator-id-8\" class=\"sk-toggleable__label sk-toggleable__label-arrow\">PolynomialFeatures</label><div class=\"sk-toggleable__content\"><pre>PolynomialFeatures(degree=4)</pre></div></div></div></div></div>"
      ],
      "text/plain": [
       "PolynomialFeatures(degree=4)"
      ]
     },
     "execution_count": 114,
     "metadata": {},
     "output_type": "execute_result"
    }
   ],
   "source": [
    "poly.fit(x_poly,y)"
   ]
  },
  {
   "cell_type": "code",
   "execution_count": 116,
   "metadata": {},
   "outputs": [
    {
     "data": {
      "text/html": [
       "<style>#sk-container-id-9 {color: black;background-color: white;}#sk-container-id-9 pre{padding: 0;}#sk-container-id-9 div.sk-toggleable {background-color: white;}#sk-container-id-9 label.sk-toggleable__label {cursor: pointer;display: block;width: 100%;margin-bottom: 0;padding: 0.3em;box-sizing: border-box;text-align: center;}#sk-container-id-9 label.sk-toggleable__label-arrow:before {content: \"▸\";float: left;margin-right: 0.25em;color: #696969;}#sk-container-id-9 label.sk-toggleable__label-arrow:hover:before {color: black;}#sk-container-id-9 div.sk-estimator:hover label.sk-toggleable__label-arrow:before {color: black;}#sk-container-id-9 div.sk-toggleable__content {max-height: 0;max-width: 0;overflow: hidden;text-align: left;background-color: #f0f8ff;}#sk-container-id-9 div.sk-toggleable__content pre {margin: 0.2em;color: black;border-radius: 0.25em;background-color: #f0f8ff;}#sk-container-id-9 input.sk-toggleable__control:checked~div.sk-toggleable__content {max-height: 200px;max-width: 100%;overflow: auto;}#sk-container-id-9 input.sk-toggleable__control:checked~label.sk-toggleable__label-arrow:before {content: \"▾\";}#sk-container-id-9 div.sk-estimator input.sk-toggleable__control:checked~label.sk-toggleable__label {background-color: #d4ebff;}#sk-container-id-9 div.sk-label input.sk-toggleable__control:checked~label.sk-toggleable__label {background-color: #d4ebff;}#sk-container-id-9 input.sk-hidden--visually {border: 0;clip: rect(1px 1px 1px 1px);clip: rect(1px, 1px, 1px, 1px);height: 1px;margin: -1px;overflow: hidden;padding: 0;position: absolute;width: 1px;}#sk-container-id-9 div.sk-estimator {font-family: monospace;background-color: #f0f8ff;border: 1px dotted black;border-radius: 0.25em;box-sizing: border-box;margin-bottom: 0.5em;}#sk-container-id-9 div.sk-estimator:hover {background-color: #d4ebff;}#sk-container-id-9 div.sk-parallel-item::after {content: \"\";width: 100%;border-bottom: 1px solid gray;flex-grow: 1;}#sk-container-id-9 div.sk-label:hover label.sk-toggleable__label {background-color: #d4ebff;}#sk-container-id-9 div.sk-serial::before {content: \"\";position: absolute;border-left: 1px solid gray;box-sizing: border-box;top: 0;bottom: 0;left: 50%;z-index: 0;}#sk-container-id-9 div.sk-serial {display: flex;flex-direction: column;align-items: center;background-color: white;padding-right: 0.2em;padding-left: 0.2em;position: relative;}#sk-container-id-9 div.sk-item {position: relative;z-index: 1;}#sk-container-id-9 div.sk-parallel {display: flex;align-items: stretch;justify-content: center;background-color: white;position: relative;}#sk-container-id-9 div.sk-item::before, #sk-container-id-9 div.sk-parallel-item::before {content: \"\";position: absolute;border-left: 1px solid gray;box-sizing: border-box;top: 0;bottom: 0;left: 50%;z-index: -1;}#sk-container-id-9 div.sk-parallel-item {display: flex;flex-direction: column;z-index: 1;position: relative;background-color: white;}#sk-container-id-9 div.sk-parallel-item:first-child::after {align-self: flex-end;width: 50%;}#sk-container-id-9 div.sk-parallel-item:last-child::after {align-self: flex-start;width: 50%;}#sk-container-id-9 div.sk-parallel-item:only-child::after {width: 0;}#sk-container-id-9 div.sk-dashed-wrapped {border: 1px dashed gray;margin: 0 0.4em 0.5em 0.4em;box-sizing: border-box;padding-bottom: 0.4em;background-color: white;}#sk-container-id-9 div.sk-label label {font-family: monospace;font-weight: bold;display: inline-block;line-height: 1.2em;}#sk-container-id-9 div.sk-label-container {text-align: center;}#sk-container-id-9 div.sk-container {/* jupyter's `normalize.less` sets `[hidden] { display: none; }` but bootstrap.min.css set `[hidden] { display: none !important; }` so we also need the `!important` here to be able to override the default hidden behavior on the sphinx rendered scikit-learn.org. See: https://github.com/scikit-learn/scikit-learn/issues/21755 */display: inline-block !important;position: relative;}#sk-container-id-9 div.sk-text-repr-fallback {display: none;}</style><div id=\"sk-container-id-9\" class=\"sk-top-container\"><div class=\"sk-text-repr-fallback\"><pre>LinearRegression()</pre><b>In a Jupyter environment, please rerun this cell to show the HTML representation or trust the notebook. <br />On GitHub, the HTML representation is unable to render, please try loading this page with nbviewer.org.</b></div><div class=\"sk-container\" hidden><div class=\"sk-item\"><div class=\"sk-estimator sk-toggleable\"><input class=\"sk-toggleable__control sk-hidden--visually\" id=\"sk-estimator-id-9\" type=\"checkbox\" checked><label for=\"sk-estimator-id-9\" class=\"sk-toggleable__label sk-toggleable__label-arrow\">LinearRegression</label><div class=\"sk-toggleable__content\"><pre>LinearRegression()</pre></div></div></div></div></div>"
      ],
      "text/plain": [
       "LinearRegression()"
      ]
     },
     "execution_count": 116,
     "metadata": {},
     "output_type": "execute_result"
    }
   ],
   "source": [
    "lr1 = LinearRegression()\n",
    "lr1.fit(x_poly,y)"
   ]
  },
  {
   "cell_type": "code",
   "execution_count": 119,
   "metadata": {},
   "outputs": [
    {
     "data": {
      "text/plain": [
       "[<matplotlib.lines.Line2D at 0x14901f1d940>]"
      ]
     },
     "execution_count": 119,
     "metadata": {},
     "output_type": "execute_result"
    },
    {
     "data": {
      "image/png": "[encoded data removed]",
      "text/plain": [
       "<Figure size 432x288 with 1 Axes>"
      ]
     },
     "metadata": {
      "needs_background": "light"
     },
     "output_type": "display_data"
    }
   ],
   "source": [
    "plt.scatter(X,y,color = 'y')\n",
    "plt.plot(X,lr1.predict(x_poly))"
   ]
  },
  {
   "cell_type": "code",
   "execution_count": 130,
   "metadata": {},
   "outputs": [],
   "source": [
    "from sklearn.preprocessing import PolynomialFeatures\n",
    "poly1 = PolynomialFeatures(degree=0)"
   ]
  },
  {
   "cell_type": "code",
   "execution_count": 131,
   "metadata": {},
   "outputs": [],
   "source": [
    "x_poly1 = poly.fit_transform(X)"
   ]
  },
  {
   "cell_type": "code",
   "execution_count": 132,
   "metadata": {},
   "outputs": [
    {
     "data": {
      "text/html": [
       "<style>#sk-container-id-14 {color: black;background-color: white;}#sk-container-id-14 pre{padding: 0;}#sk-container-id-14 div.sk-toggleable {background-color: white;}#sk-container-id-14 label.sk-toggleable__label {cursor: pointer;display: block;width: 100%;margin-bottom: 0;padding: 0.3em;box-sizing: border-box;text-align: center;}#sk-container-id-14 label.sk-toggleable__label-arrow:before {content: \"▸\";float: left;margin-right: 0.25em;color: #696969;}#sk-container-id-14 label.sk-toggleable__label-arrow:hover:before {color: black;}#sk-container-id-14 div.sk-estimator:hover label.sk-toggleable__label-arrow:before {color: black;}#sk-container-id-14 div.sk-toggleable__content {max-height: 0;max-width: 0;overflow: hidden;text-align: left;background-color: #f0f8ff;}#sk-container-id-14 div.sk-toggleable__content pre {margin: 0.2em;color: black;border-radius: 0.25em;background-color: #f0f8ff;}#sk-container-id-14 input.sk-toggleable__control:checked~div.sk-toggleable__content {max-height: 200px;max-width: 100%;overflow: auto;}#sk-container-id-14 input.sk-toggleable__control:checked~label.sk-toggleable__label-arrow:before {content: \"▾\";}#sk-container-id-14 div.sk-estimator input.sk-toggleable__control:checked~label.sk-toggleable__label {background-color: #d4ebff;}#sk-container-id-14 div.sk-label input.sk-toggleable__control:checked~label.sk-toggleable__label {background-color: #d4ebff;}#sk-container-id-14 input.sk-hidden--visually {border: 0;clip: rect(1px 1px 1px 1px);clip: rect(1px, 1px, 1px, 1px);height: 1px;margin: -1px;overflow: hidden;padding: 0;position: absolute;width: 1px;}#sk-container-id-14 div.sk-estimator {font-family: monospace;background-color: #f0f8ff;border: 1px dotted black;border-radius: 0.25em;box-sizing: border-box;margin-bottom: 0.5em;}#sk-container-id-14 div.sk-estimator:hover {background-color: #d4ebff;}#sk-container-id-14 div.sk-parallel-item::after {content: \"\";width: 100%;border-bottom: 1px solid gray;flex-grow: 1;}#sk-container-id-14 div.sk-label:hover label.sk-toggleable__label {background-color: #d4ebff;}#sk-container-id-14 div.sk-serial::before {content: \"\";position: absolute;border-left: 1px solid gray;box-sizing: border-box;top: 0;bottom: 0;left: 50%;z-index: 0;}#sk-container-id-14 div.sk-serial {display: flex;flex-direction: column;align-items: center;background-color: white;padding-right: 0.2em;padding-left: 0.2em;position: relative;}#sk-container-id-14 div.sk-item {position: relative;z-index: 1;}#sk-container-id-14 div.sk-parallel {display: flex;align-items: stretch;justify-content: center;background-color: white;position: relative;}#sk-container-id-14 div.sk-item::before, #sk-container-id-14 div.sk-parallel-item::before {content: \"\";position: absolute;border-left: 1px solid gray;box-sizing: border-box;top: 0;bottom: 0;left: 50%;z-index: -1;}#sk-container-id-14 div.sk-parallel-item {display: flex;flex-direction: column;z-index: 1;position: relative;background-color: white;}#sk-container-id-14 div.sk-parallel-item:first-child::after {align-self: flex-end;width: 50%;}#sk-container-id-14 div.sk-parallel-item:last-child::after {align-self: flex-start;width: 50%;}#sk-container-id-14 div.sk-parallel-item:only-child::after {width: 0;}#sk-container-id-14 div.sk-dashed-wrapped {border: 1px dashed gray;margin: 0 0.4em 0.5em 0.4em;box-sizing: border-box;padding-bottom: 0.4em;background-color: white;}#sk-container-id-14 div.sk-label label {font-family: monospace;font-weight: bold;display: inline-block;line-height: 1.2em;}#sk-container-id-14 div.sk-label-container {text-align: center;}#sk-container-id-14 div.sk-container {/* jupyter's `normalize.less` sets `[hidden] { display: none; }` but bootstrap.min.css set `[hidden] { display: none !important; }` so we also need the `!important` here to be able to override the default hidden behavior on the sphinx rendered scikit-learn.org. See: https://github.com/scikit-learn/scikit-learn/issues/21755 */display: inline-block !important;position: relative;}#sk-container-id-14 div.sk-text-repr-fallback {display: none;}</style><div id=\"sk-container-id-14\" class=\"sk-top-container\"><div class=\"sk-text-repr-fallback\"><pre>PolynomialFeatures(degree=0)</pre><b>In a Jupyter environment, please rerun this cell to show the HTML representation or trust the notebook. <br />On GitHub, the HTML representation is unable to render, please try loading this page with nbviewer.org.</b></div><div class=\"sk-container\" hidden><div class=\"sk-item\"><div class=\"sk-estimator sk-toggleable\"><input class=\"sk-toggleable__control sk-hidden--visually\" id=\"sk-estimator-id-14\" type=\"checkbox\" checked><label for=\"sk-estimator-id-14\" class=\"sk-toggleable__label sk-toggleable__label-arrow\">PolynomialFeatures</label><div class=\"sk-toggleable__content\"><pre>PolynomialFeatures(degree=0)</pre></div></div></div></div></div>"
      ],
      "text/plain": [
       "PolynomialFeatures(degree=0)"
      ]
     },
     "execution_count": 132,
     "metadata": {},
     "output_type": "execute_result"
    }
   ],
   "source": [
    "poly1.fit(x_poly1,y)"
   ]
  },
  {
   "cell_type": "code",
   "execution_count": 135,
   "metadata": {},
   "outputs": [
    {
     "data": {
      "text/html": [
       "<style>#sk-container-id-16 {color: black;background-color: white;}#sk-container-id-16 pre{padding: 0;}#sk-container-id-16 div.sk-toggleable {background-color: white;}#sk-container-id-16 label.sk-toggleable__label {cursor: pointer;display: block;width: 100%;margin-bottom: 0;padding: 0.3em;box-sizing: border-box;text-align: center;}#sk-container-id-16 label.sk-toggleable__label-arrow:before {content: \"▸\";float: left;margin-right: 0.25em;color: #696969;}#sk-container-id-16 label.sk-toggleable__label-arrow:hover:before {color: black;}#sk-container-id-16 div.sk-estimator:hover label.sk-toggleable__label-arrow:before {color: black;}#sk-container-id-16 div.sk-toggleable__content {max-height: 0;max-width: 0;overflow: hidden;text-align: left;background-color: #f0f8ff;}#sk-container-id-16 div.sk-toggleable__content pre {margin: 0.2em;color: black;border-radius: 0.25em;background-color: #f0f8ff;}#sk-container-id-16 input.sk-toggleable__control:checked~div.sk-toggleable__content {max-height: 200px;max-width: 100%;overflow: auto;}#sk-container-id-16 input.sk-toggleable__control:checked~label.sk-toggleable__label-arrow:before {content: \"▾\";}#sk-container-id-16 div.sk-estimator input.sk-toggleable__control:checked~label.sk-toggleable__label {background-color: #d4ebff;}#sk-container-id-16 div.sk-label input.sk-toggleable__control:checked~label.sk-toggleable__label {background-color: #d4ebff;}#sk-container-id-16 input.sk-hidden--visually {border: 0;clip: rect(1px 1px 1px 1px);clip: rect(1px, 1px, 1px, 1px);height: 1px;margin: -1px;overflow: hidden;padding: 0;position: absolute;width: 1px;}#sk-container-id-16 div.sk-estimator {font-family: monospace;background-color: #f0f8ff;border: 1px dotted black;border-radius: 0.25em;box-sizing: border-box;margin-bottom: 0.5em;}#sk-container-id-16 div.sk-estimator:hover {background-color: #d4ebff;}#sk-container-id-16 div.sk-parallel-item::after {content: \"\";width: 100%;border-bottom: 1px solid gray;flex-grow: 1;}#sk-container-id-16 div.sk-label:hover label.sk-toggleable__label {background-color: #d4ebff;}#sk-container-id-16 div.sk-serial::before {content: \"\";position: absolute;border-left: 1px solid gray;box-sizing: border-box;top: 0;bottom: 0;left: 50%;z-index: 0;}#sk-container-id-16 div.sk-serial {display: flex;flex-direction: column;align-items: center;background-color: white;padding-right: 0.2em;padding-left: 0.2em;position: relative;}#sk-container-id-16 div.sk-item {position: relative;z-index: 1;}#sk-container-id-16 div.sk-parallel {display: flex;align-items: stretch;justify-content: center;background-color: white;position: relative;}#sk-container-id-16 div.sk-item::before, #sk-container-id-16 div.sk-parallel-item::before {content: \"\";position: absolute;border-left: 1px solid gray;box-sizing: border-box;top: 0;bottom: 0;left: 50%;z-index: -1;}#sk-container-id-16 div.sk-parallel-item {display: flex;flex-direction: column;z-index: 1;position: relative;background-color: white;}#sk-container-id-16 div.sk-parallel-item:first-child::after {align-self: flex-end;width: 50%;}#sk-container-id-16 div.sk-parallel-item:last-child::after {align-self: flex-start;width: 50%;}#sk-container-id-16 div.sk-parallel-item:only-child::after {width: 0;}#sk-container-id-16 div.sk-dashed-wrapped {border: 1px dashed gray;margin: 0 0.4em 0.5em 0.4em;box-sizing: border-box;padding-bottom: 0.4em;background-color: white;}#sk-container-id-16 div.sk-label label {font-family: monospace;font-weight: bold;display: inline-block;line-height: 1.2em;}#sk-container-id-16 div.sk-label-container {text-align: center;}#sk-container-id-16 div.sk-container {/* jupyter's `normalize.less` sets `[hidden] { display: none; }` but bootstrap.min.css set `[hidden] { display: none !important; }` so we also need the `!important` here to be able to override the default hidden behavior on the sphinx rendered scikit-learn.org. See: https://github.com/scikit-learn/scikit-learn/issues/21755 */display: inline-block !important;position: relative;}#sk-container-id-16 div.sk-text-repr-fallback {display: none;}</style><div id=\"sk-container-id-16\" class=\"sk-top-container\"><div class=\"sk-text-repr-fallback\"><pre>LinearRegression()</pre><b>In a Jupyter environment, please rerun this cell to show the HTML representation or trust the notebook. <br />On GitHub, the HTML representation is unable to render, please try loading this page with nbviewer.org.</b></div><div class=\"sk-container\" hidden><div class=\"sk-item\"><div class=\"sk-estimator sk-toggleable\"><input class=\"sk-toggleable__control sk-hidden--visually\" id=\"sk-estimator-id-16\" type=\"checkbox\" checked><label for=\"sk-estimator-id-16\" class=\"sk-toggleable__label sk-toggleable__label-arrow\">LinearRegression</label><div class=\"sk-toggleable__content\"><pre>LinearRegression()</pre></div></div></div></div></div>"
      ],
      "text/plain": [
       "LinearRegression()"
      ]
     },
     "execution_count": 135,
     "metadata": {},
     "output_type": "execute_result"
    }
   ],
   "source": [
    "lr2 = LinearRegression()\n",
    "lr2.fit(x_poly1,y)"
   ]
  },
  {
   "cell_type": "code",
   "execution_count": 136,
   "metadata": {},
   "outputs": [
    {
     "data": {
      "text/plain": [
       "[<matplotlib.lines.Line2D at 0x149032b2940>]"
      ]
     },
     "execution_count": 136,
     "metadata": {},
     "output_type": "execute_result"
    },
    {
     "data": {
      "image/png": "[encoded data removed]",
      "text/plain": [
       "<Figure size 432x288 with 1 Axes>"
      ]
     },
     "metadata": {
      "needs_background": "light"
     },
     "output_type": "display_data"
    }
   ],
   "source": [
    "plt.scatter(X,y,color = 'y')\n",
    "plt.plot(X,lr2.predict(x_poly1))"
   ]
  },
  {
   "cell_type": "markdown",
   "metadata": {},
   "source": [
    "# EDA"
   ]
  },
  {
   "cell_type": "code",
   "execution_count": 1,
   "metadata": {},
   "outputs": [],
   "source": [
    "import numpy as np\n",
    "import pandas as pd\n",
    "import matplotlib.pyplot as  plt\n",
    "import seaborn as sns\n",
    "path = \"C:\\\\Users\\\\Aditya Shakya\\\\OneDrive\\\\Desktop\\\\datasets\\\\ds1.csv\""
   ]
  },
  {
   "cell_type": "code",
   "execution_count": 2,
   "metadata": {},
   "outputs": [],
   "source": [
    "data = pd.read_csv(path)"
   ]
  },
  {
   "cell_type": "code",
   "execution_count": 3,
   "metadata": {},
   "outputs": [
    {
     "data": {
      "text/html": [
       "<div>\n",
       "<style scoped>\n",
       "    .dataframe tbody tr th:only-of-type {\n",
       "        vertical-align: middle;\n",
       "    }\n",
       "\n",
       "    .dataframe tbody tr th {\n",
       "        vertical-align: top;\n",
       "    }\n",
       "\n",
       "    .dataframe thead th {\n",
       "        text-align: right;\n",
       "    }\n",
       "</style>\n",
       "<table border=\"1\" class=\"dataframe\">\n",
       "  <thead>\n",
       "    <tr style=\"text-align: right;\">\n",
       "      <th></th>\n",
       "      <th>identifierHash</th>\n",
       "      <th>type</th>\n",
       "      <th>country</th>\n",
       "      <th>language</th>\n",
       "      <th>socialNbFollowers</th>\n",
       "      <th>socialNbFollows</th>\n",
       "      <th>socialProductsLiked</th>\n",
       "      <th>productsListed</th>\n",
       "      <th>productsSold</th>\n",
       "      <th>productsPassRate</th>\n",
       "      <th>...</th>\n",
       "      <th>civilityTitle</th>\n",
       "      <th>hasAnyApp</th>\n",
       "      <th>hasAndroidApp</th>\n",
       "      <th>hasIosApp</th>\n",
       "      <th>hasProfilePicture</th>\n",
       "      <th>daysSinceLastLogin</th>\n",
       "      <th>seniority</th>\n",
       "      <th>seniorityAsMonths</th>\n",
       "      <th>seniorityAsYears</th>\n",
       "      <th>countryCode</th>\n",
       "    </tr>\n",
       "  </thead>\n",
       "  <tbody>\n",
       "    <tr>\n",
       "      <th>0</th>\n",
       "      <td>-7279641312655250028</td>\n",
       "      <td>user</td>\n",
       "      <td>Etats-Unis</td>\n",
       "      <td>en</td>\n",
       "      <td>3</td>\n",
       "      <td>8</td>\n",
       "      <td>0</td>\n",
       "      <td>0</td>\n",
       "      <td>0</td>\n",
       "      <td>0.0</td>\n",
       "      <td>...</td>\n",
       "      <td>mrs</td>\n",
       "      <td>False</td>\n",
       "      <td>False</td>\n",
       "      <td>False</td>\n",
       "      <td>True</td>\n",
       "      <td>709</td>\n",
       "      <td>3205</td>\n",
       "      <td>106.83</td>\n",
       "      <td>8.9</td>\n",
       "      <td>us</td>\n",
       "    </tr>\n",
       "    <tr>\n",
       "      <th>1</th>\n",
       "      <td>-1456013578740053406</td>\n",
       "      <td>user</td>\n",
       "      <td>Allemagne</td>\n",
       "      <td>de</td>\n",
       "      <td>3</td>\n",
       "      <td>8</td>\n",
       "      <td>0</td>\n",
       "      <td>0</td>\n",
       "      <td>0</td>\n",
       "      <td>0.0</td>\n",
       "      <td>...</td>\n",
       "      <td>mrs</td>\n",
       "      <td>False</td>\n",
       "      <td>False</td>\n",
       "      <td>False</td>\n",
       "      <td>True</td>\n",
       "      <td>709</td>\n",
       "      <td>3205</td>\n",
       "      <td>106.83</td>\n",
       "      <td>8.9</td>\n",
       "      <td>de</td>\n",
       "    </tr>\n",
       "    <tr>\n",
       "      <th>2</th>\n",
       "      <td>9006282053848196165</td>\n",
       "      <td>user</td>\n",
       "      <td>Suède</td>\n",
       "      <td>en</td>\n",
       "      <td>3</td>\n",
       "      <td>8</td>\n",
       "      <td>0</td>\n",
       "      <td>0</td>\n",
       "      <td>0</td>\n",
       "      <td>0.0</td>\n",
       "      <td>...</td>\n",
       "      <td>mr</td>\n",
       "      <td>True</td>\n",
       "      <td>False</td>\n",
       "      <td>True</td>\n",
       "      <td>True</td>\n",
       "      <td>689</td>\n",
       "      <td>3205</td>\n",
       "      <td>106.83</td>\n",
       "      <td>8.9</td>\n",
       "      <td>se</td>\n",
       "    </tr>\n",
       "    <tr>\n",
       "      <th>3</th>\n",
       "      <td>-7154634866120535654</td>\n",
       "      <td>user</td>\n",
       "      <td>Turquie</td>\n",
       "      <td>en</td>\n",
       "      <td>3</td>\n",
       "      <td>8</td>\n",
       "      <td>0</td>\n",
       "      <td>0</td>\n",
       "      <td>0</td>\n",
       "      <td>0.0</td>\n",
       "      <td>...</td>\n",
       "      <td>mrs</td>\n",
       "      <td>False</td>\n",
       "      <td>False</td>\n",
       "      <td>False</td>\n",
       "      <td>True</td>\n",
       "      <td>709</td>\n",
       "      <td>3205</td>\n",
       "      <td>106.83</td>\n",
       "      <td>8.9</td>\n",
       "      <td>tr</td>\n",
       "    </tr>\n",
       "    <tr>\n",
       "      <th>4</th>\n",
       "      <td>2858299215060733023</td>\n",
       "      <td>user</td>\n",
       "      <td>France</td>\n",
       "      <td>en</td>\n",
       "      <td>3</td>\n",
       "      <td>8</td>\n",
       "      <td>0</td>\n",
       "      <td>0</td>\n",
       "      <td>0</td>\n",
       "      <td>0.0</td>\n",
       "      <td>...</td>\n",
       "      <td>mr</td>\n",
       "      <td>True</td>\n",
       "      <td>False</td>\n",
       "      <td>True</td>\n",
       "      <td>True</td>\n",
       "      <td>709</td>\n",
       "      <td>3205</td>\n",
       "      <td>106.83</td>\n",
       "      <td>8.9</td>\n",
       "      <td>fr</td>\n",
       "    </tr>\n",
       "  </tbody>\n",
       "</table>\n",
       "<p>5 rows × 24 columns</p>\n",
       "</div>"
      ],
      "text/plain": [
       "        identifierHash  type     country language  socialNbFollowers  \\\n",
       "0 -7279641312655250028  user  Etats-Unis       en                  3   \n",
       "1 -1456013578740053406  user   Allemagne       de                  3   \n",
       "2  9006282053848196165  user       Suède       en                  3   \n",
       "3 -7154634866120535654  user     Turquie       en                  3   \n",
       "4  2858299215060733023  user      France       en                  3   \n",
       "\n",
       "   socialNbFollows  socialProductsLiked  productsListed  productsSold  \\\n",
       "0                8                    0               0             0   \n",
       "1                8                    0               0             0   \n",
       "2                8                    0               0             0   \n",
       "3                8                    0               0             0   \n",
       "4                8                    0               0             0   \n",
       "\n",
       "   productsPassRate  ...  civilityTitle  hasAnyApp hasAndroidApp  hasIosApp  \\\n",
       "0               0.0  ...            mrs      False         False      False   \n",
       "1               0.0  ...            mrs      False         False      False   \n",
       "2               0.0  ...             mr       True         False       True   \n",
       "3               0.0  ...            mrs      False         False      False   \n",
       "4               0.0  ...             mr       True         False       True   \n",
       "\n",
       "  hasProfilePicture  daysSinceLastLogin  seniority  seniorityAsMonths  \\\n",
       "0              True                 709       3205             106.83   \n",
       "1              True                 709       3205             106.83   \n",
       "2              True                 689       3205             106.83   \n",
       "3              True                 709       3205             106.83   \n",
       "4              True                 709       3205             106.83   \n",
       "\n",
       "   seniorityAsYears  countryCode  \n",
       "0               8.9           us  \n",
       "1               8.9           de  \n",
       "2               8.9           se  \n",
       "3               8.9           tr  \n",
       "4               8.9           fr  \n",
       "\n",
       "[5 rows x 24 columns]"
      ]
     },
     "execution_count": 3,
     "metadata": {},
     "output_type": "execute_result"
    }
   ],
   "source": [
    "data.head()"
   ]
  },
  {
   "cell_type": "markdown",
   "metadata": {},
   "source": [
    "# Get the shape of the data"
   ]
  },
  {
   "cell_type": "code",
   "execution_count": 4,
   "metadata": {},
   "outputs": [
    {
     "data": {
      "text/plain": [
       "(98913, 24)"
      ]
     },
     "execution_count": 4,
     "metadata": {},
     "output_type": "execute_result"
    }
   ],
   "source": [
    "data.shape"
   ]
  },
  {
   "cell_type": "code",
   "execution_count": 5,
   "metadata": {},
   "outputs": [
    {
     "data": {
      "text/plain": [
       "Index(['identifierHash', 'type', 'country', 'language', 'socialNbFollowers',\n",
       "       'socialNbFollows', 'socialProductsLiked', 'productsListed',\n",
       "       'productsSold', 'productsPassRate', 'productsWished', 'productsBought',\n",
       "       'gender', 'civilityGenderId', 'civilityTitle', 'hasAnyApp',\n",
       "       'hasAndroidApp', 'hasIosApp', 'hasProfilePicture', 'daysSinceLastLogin',\n",
       "       'seniority', 'seniorityAsMonths', 'seniorityAsYears', 'countryCode'],\n",
       "      dtype='object')"
      ]
     },
     "execution_count": 5,
     "metadata": {},
     "output_type": "execute_result"
    }
   ],
   "source": [
    "data.columns"
   ]
  },
  {
   "cell_type": "code",
   "execution_count": 6,
   "metadata": {},
   "outputs": [
    {
     "data": {
      "text/html": [
       "<div>\n",
       "<style scoped>\n",
       "    .dataframe tbody tr th:only-of-type {\n",
       "        vertical-align: middle;\n",
       "    }\n",
       "\n",
       "    .dataframe tbody tr th {\n",
       "        vertical-align: top;\n",
       "    }\n",
       "\n",
       "    .dataframe thead th {\n",
       "        text-align: right;\n",
       "    }\n",
       "</style>\n",
       "<table border=\"1\" class=\"dataframe\">\n",
       "  <thead>\n",
       "    <tr style=\"text-align: right;\">\n",
       "      <th></th>\n",
       "      <th>identifierHash</th>\n",
       "      <th>socialNbFollowers</th>\n",
       "      <th>socialNbFollows</th>\n",
       "      <th>socialProductsLiked</th>\n",
       "      <th>productsListed</th>\n",
       "      <th>productsSold</th>\n",
       "      <th>productsPassRate</th>\n",
       "      <th>productsWished</th>\n",
       "      <th>productsBought</th>\n",
       "      <th>civilityGenderId</th>\n",
       "      <th>hasAnyApp</th>\n",
       "      <th>hasAndroidApp</th>\n",
       "      <th>hasIosApp</th>\n",
       "      <th>hasProfilePicture</th>\n",
       "      <th>daysSinceLastLogin</th>\n",
       "      <th>seniority</th>\n",
       "      <th>seniorityAsMonths</th>\n",
       "      <th>seniorityAsYears</th>\n",
       "    </tr>\n",
       "  </thead>\n",
       "  <tbody>\n",
       "    <tr>\n",
       "      <th>identifierHash</th>\n",
       "      <td>1.000000</td>\n",
       "      <td>0.002017</td>\n",
       "      <td>0.003891</td>\n",
       "      <td>0.002188</td>\n",
       "      <td>0.004254</td>\n",
       "      <td>0.002178</td>\n",
       "      <td>0.001064</td>\n",
       "      <td>-0.003878</td>\n",
       "      <td>-0.000930</td>\n",
       "      <td>0.002614</td>\n",
       "      <td>-0.003470</td>\n",
       "      <td>0.003038</td>\n",
       "      <td>-0.005249</td>\n",
       "      <td>-0.000874</td>\n",
       "      <td>0.001322</td>\n",
       "      <td>0.002643</td>\n",
       "      <td>0.002642</td>\n",
       "      <td>0.002642</td>\n",
       "    </tr>\n",
       "    <tr>\n",
       "      <th>socialNbFollowers</th>\n",
       "      <td>0.002017</td>\n",
       "      <td>1.000000</td>\n",
       "      <td>0.702766</td>\n",
       "      <td>0.653540</td>\n",
       "      <td>0.343603</td>\n",
       "      <td>0.627167</td>\n",
       "      <td>0.351293</td>\n",
       "      <td>0.334733</td>\n",
       "      <td>0.147573</td>\n",
       "      <td>0.013622</td>\n",
       "      <td>0.088570</td>\n",
       "      <td>0.027360</td>\n",
       "      <td>0.084025</td>\n",
       "      <td>-0.286141</td>\n",
       "      <td>-0.005610</td>\n",
       "      <td>0.006034</td>\n",
       "      <td>0.006028</td>\n",
       "      <td>0.006030</td>\n",
       "    </tr>\n",
       "    <tr>\n",
       "      <th>socialNbFollows</th>\n",
       "      <td>0.003891</td>\n",
       "      <td>0.702766</td>\n",
       "      <td>1.000000</td>\n",
       "      <td>0.809462</td>\n",
       "      <td>0.091306</td>\n",
       "      <td>0.175296</td>\n",
       "      <td>0.055519</td>\n",
       "      <td>0.266589</td>\n",
       "      <td>0.006406</td>\n",
       "      <td>0.001672</td>\n",
       "      <td>0.011264</td>\n",
       "      <td>0.001590</td>\n",
       "      <td>0.011391</td>\n",
       "      <td>-0.041700</td>\n",
       "      <td>-0.000640</td>\n",
       "      <td>0.004150</td>\n",
       "      <td>0.004151</td>\n",
       "      <td>0.004168</td>\n",
       "    </tr>\n",
       "    <tr>\n",
       "      <th>socialProductsLiked</th>\n",
       "      <td>0.002188</td>\n",
       "      <td>0.653540</td>\n",
       "      <td>0.809462</td>\n",
       "      <td>1.000000</td>\n",
       "      <td>0.044845</td>\n",
       "      <td>0.181755</td>\n",
       "      <td>0.059395</td>\n",
       "      <td>0.349138</td>\n",
       "      <td>0.064741</td>\n",
       "      <td>0.005771</td>\n",
       "      <td>0.027030</td>\n",
       "      <td>0.006367</td>\n",
       "      <td>0.026401</td>\n",
       "      <td>-0.063859</td>\n",
       "      <td>-0.001801</td>\n",
       "      <td>-0.001000</td>\n",
       "      <td>-0.000999</td>\n",
       "      <td>-0.000977</td>\n",
       "    </tr>\n",
       "    <tr>\n",
       "      <th>productsListed</th>\n",
       "      <td>0.004254</td>\n",
       "      <td>0.343603</td>\n",
       "      <td>0.091306</td>\n",
       "      <td>0.044845</td>\n",
       "      <td>1.000000</td>\n",
       "      <td>0.589793</td>\n",
       "      <td>0.361279</td>\n",
       "      <td>0.066384</td>\n",
       "      <td>0.067782</td>\n",
       "      <td>0.010018</td>\n",
       "      <td>0.038778</td>\n",
       "      <td>0.007728</td>\n",
       "      <td>0.038941</td>\n",
       "      <td>-0.138434</td>\n",
       "      <td>-0.003634</td>\n",
       "      <td>-0.002707</td>\n",
       "      <td>-0.002707</td>\n",
       "      <td>-0.002733</td>\n",
       "    </tr>\n",
       "    <tr>\n",
       "      <th>productsSold</th>\n",
       "      <td>0.002178</td>\n",
       "      <td>0.627167</td>\n",
       "      <td>0.175296</td>\n",
       "      <td>0.181755</td>\n",
       "      <td>0.589793</td>\n",
       "      <td>1.000000</td>\n",
       "      <td>0.514101</td>\n",
       "      <td>0.127732</td>\n",
       "      <td>0.113755</td>\n",
       "      <td>0.006866</td>\n",
       "      <td>0.060466</td>\n",
       "      <td>0.015744</td>\n",
       "      <td>0.058859</td>\n",
       "      <td>-0.179571</td>\n",
       "      <td>-0.004483</td>\n",
       "      <td>0.003074</td>\n",
       "      <td>0.003073</td>\n",
       "      <td>0.003089</td>\n",
       "    </tr>\n",
       "    <tr>\n",
       "      <th>productsPassRate</th>\n",
       "      <td>0.001064</td>\n",
       "      <td>0.351293</td>\n",
       "      <td>0.055519</td>\n",
       "      <td>0.059395</td>\n",
       "      <td>0.361279</td>\n",
       "      <td>0.514101</td>\n",
       "      <td>1.000000</td>\n",
       "      <td>0.090998</td>\n",
       "      <td>0.126696</td>\n",
       "      <td>0.011697</td>\n",
       "      <td>0.092257</td>\n",
       "      <td>0.030102</td>\n",
       "      <td>0.087844</td>\n",
       "      <td>-0.267112</td>\n",
       "      <td>-0.007250</td>\n",
       "      <td>0.001417</td>\n",
       "      <td>0.001415</td>\n",
       "      <td>0.001434</td>\n",
       "    </tr>\n",
       "    <tr>\n",
       "      <th>productsWished</th>\n",
       "      <td>-0.003878</td>\n",
       "      <td>0.334733</td>\n",
       "      <td>0.266589</td>\n",
       "      <td>0.349138</td>\n",
       "      <td>0.066384</td>\n",
       "      <td>0.127732</td>\n",
       "      <td>0.090998</td>\n",
       "      <td>1.000000</td>\n",
       "      <td>0.391640</td>\n",
       "      <td>0.012021</td>\n",
       "      <td>0.047562</td>\n",
       "      <td>0.026736</td>\n",
       "      <td>0.040722</td>\n",
       "      <td>-0.103533</td>\n",
       "      <td>-0.004472</td>\n",
       "      <td>-0.004053</td>\n",
       "      <td>-0.004052</td>\n",
       "      <td>-0.004042</td>\n",
       "    </tr>\n",
       "    <tr>\n",
       "      <th>productsBought</th>\n",
       "      <td>-0.000930</td>\n",
       "      <td>0.147573</td>\n",
       "      <td>0.006406</td>\n",
       "      <td>0.064741</td>\n",
       "      <td>0.067782</td>\n",
       "      <td>0.113755</td>\n",
       "      <td>0.126696</td>\n",
       "      <td>0.391640</td>\n",
       "      <td>1.000000</td>\n",
       "      <td>-0.001330</td>\n",
       "      <td>0.044701</td>\n",
       "      <td>0.019118</td>\n",
       "      <td>0.041673</td>\n",
       "      <td>-0.099806</td>\n",
       "      <td>-0.005067</td>\n",
       "      <td>-0.001138</td>\n",
       "      <td>-0.001136</td>\n",
       "      <td>-0.001147</td>\n",
       "    </tr>\n",
       "    <tr>\n",
       "      <th>civilityGenderId</th>\n",
       "      <td>0.002614</td>\n",
       "      <td>0.013622</td>\n",
       "      <td>0.001672</td>\n",
       "      <td>0.005771</td>\n",
       "      <td>0.010018</td>\n",
       "      <td>0.006866</td>\n",
       "      <td>0.011697</td>\n",
       "      <td>0.012021</td>\n",
       "      <td>-0.001330</td>\n",
       "      <td>1.000000</td>\n",
       "      <td>-0.084070</td>\n",
       "      <td>-0.039205</td>\n",
       "      <td>-0.070743</td>\n",
       "      <td>-0.006586</td>\n",
       "      <td>-0.005153</td>\n",
       "      <td>-0.001969</td>\n",
       "      <td>-0.001970</td>\n",
       "      <td>-0.001956</td>\n",
       "    </tr>\n",
       "    <tr>\n",
       "      <th>hasAnyApp</th>\n",
       "      <td>-0.003470</td>\n",
       "      <td>0.088570</td>\n",
       "      <td>0.011264</td>\n",
       "      <td>0.027030</td>\n",
       "      <td>0.038778</td>\n",
       "      <td>0.060466</td>\n",
       "      <td>0.092257</td>\n",
       "      <td>0.047562</td>\n",
       "      <td>0.044701</td>\n",
       "      <td>-0.084070</td>\n",
       "      <td>1.000000</td>\n",
       "      <td>0.377265</td>\n",
       "      <td>0.879244</td>\n",
       "      <td>-0.139527</td>\n",
       "      <td>0.001572</td>\n",
       "      <td>-0.005033</td>\n",
       "      <td>-0.005036</td>\n",
       "      <td>-0.004976</td>\n",
       "    </tr>\n",
       "    <tr>\n",
       "      <th>hasAndroidApp</th>\n",
       "      <td>0.003038</td>\n",
       "      <td>0.027360</td>\n",
       "      <td>0.001590</td>\n",
       "      <td>0.006367</td>\n",
       "      <td>0.007728</td>\n",
       "      <td>0.015744</td>\n",
       "      <td>0.030102</td>\n",
       "      <td>0.026736</td>\n",
       "      <td>0.019118</td>\n",
       "      <td>-0.039205</td>\n",
       "      <td>0.377265</td>\n",
       "      <td>1.000000</td>\n",
       "      <td>-0.099785</td>\n",
       "      <td>-0.038601</td>\n",
       "      <td>0.001309</td>\n",
       "      <td>-0.007397</td>\n",
       "      <td>-0.007401</td>\n",
       "      <td>-0.007364</td>\n",
       "    </tr>\n",
       "    <tr>\n",
       "      <th>hasIosApp</th>\n",
       "      <td>-0.005249</td>\n",
       "      <td>0.084025</td>\n",
       "      <td>0.011391</td>\n",
       "      <td>0.026401</td>\n",
       "      <td>0.038941</td>\n",
       "      <td>0.058859</td>\n",
       "      <td>0.087844</td>\n",
       "      <td>0.040722</td>\n",
       "      <td>0.041673</td>\n",
       "      <td>-0.070743</td>\n",
       "      <td>0.879244</td>\n",
       "      <td>-0.099785</td>\n",
       "      <td>1.000000</td>\n",
       "      <td>-0.132722</td>\n",
       "      <td>0.000797</td>\n",
       "      <td>-0.001317</td>\n",
       "      <td>-0.001318</td>\n",
       "      <td>-0.001277</td>\n",
       "    </tr>\n",
       "    <tr>\n",
       "      <th>hasProfilePicture</th>\n",
       "      <td>-0.000874</td>\n",
       "      <td>-0.286141</td>\n",
       "      <td>-0.041700</td>\n",
       "      <td>-0.063859</td>\n",
       "      <td>-0.138434</td>\n",
       "      <td>-0.179571</td>\n",
       "      <td>-0.267112</td>\n",
       "      <td>-0.103533</td>\n",
       "      <td>-0.099806</td>\n",
       "      <td>-0.006586</td>\n",
       "      <td>-0.139527</td>\n",
       "      <td>-0.038601</td>\n",
       "      <td>-0.132722</td>\n",
       "      <td>1.000000</td>\n",
       "      <td>0.007343</td>\n",
       "      <td>-0.000780</td>\n",
       "      <td>-0.000780</td>\n",
       "      <td>-0.000800</td>\n",
       "    </tr>\n",
       "    <tr>\n",
       "      <th>daysSinceLastLogin</th>\n",
       "      <td>0.001322</td>\n",
       "      <td>-0.005610</td>\n",
       "      <td>-0.000640</td>\n",
       "      <td>-0.001801</td>\n",
       "      <td>-0.003634</td>\n",
       "      <td>-0.004483</td>\n",
       "      <td>-0.007250</td>\n",
       "      <td>-0.004472</td>\n",
       "      <td>-0.005067</td>\n",
       "      <td>-0.005153</td>\n",
       "      <td>0.001572</td>\n",
       "      <td>0.001309</td>\n",
       "      <td>0.000797</td>\n",
       "      <td>0.007343</td>\n",
       "      <td>1.000000</td>\n",
       "      <td>-0.012007</td>\n",
       "      <td>-0.012008</td>\n",
       "      <td>-0.012104</td>\n",
       "    </tr>\n",
       "    <tr>\n",
       "      <th>seniority</th>\n",
       "      <td>0.002643</td>\n",
       "      <td>0.006034</td>\n",
       "      <td>0.004150</td>\n",
       "      <td>-0.001000</td>\n",
       "      <td>-0.002707</td>\n",
       "      <td>0.003074</td>\n",
       "      <td>0.001417</td>\n",
       "      <td>-0.004053</td>\n",
       "      <td>-0.001138</td>\n",
       "      <td>-0.001969</td>\n",
       "      <td>-0.005033</td>\n",
       "      <td>-0.007397</td>\n",
       "      <td>-0.001317</td>\n",
       "      <td>-0.000780</td>\n",
       "      <td>-0.012007</td>\n",
       "      <td>1.000000</td>\n",
       "      <td>1.000000</td>\n",
       "      <td>0.999981</td>\n",
       "    </tr>\n",
       "    <tr>\n",
       "      <th>seniorityAsMonths</th>\n",
       "      <td>0.002642</td>\n",
       "      <td>0.006028</td>\n",
       "      <td>0.004151</td>\n",
       "      <td>-0.000999</td>\n",
       "      <td>-0.002707</td>\n",
       "      <td>0.003073</td>\n",
       "      <td>0.001415</td>\n",
       "      <td>-0.004052</td>\n",
       "      <td>-0.001136</td>\n",
       "      <td>-0.001970</td>\n",
       "      <td>-0.005036</td>\n",
       "      <td>-0.007401</td>\n",
       "      <td>-0.001318</td>\n",
       "      <td>-0.000780</td>\n",
       "      <td>-0.012008</td>\n",
       "      <td>1.000000</td>\n",
       "      <td>1.000000</td>\n",
       "      <td>0.999980</td>\n",
       "    </tr>\n",
       "    <tr>\n",
       "      <th>seniorityAsYears</th>\n",
       "      <td>0.002642</td>\n",
       "      <td>0.006030</td>\n",
       "      <td>0.004168</td>\n",
       "      <td>-0.000977</td>\n",
       "      <td>-0.002733</td>\n",
       "      <td>0.003089</td>\n",
       "      <td>0.001434</td>\n",
       "      <td>-0.004042</td>\n",
       "      <td>-0.001147</td>\n",
       "      <td>-0.001956</td>\n",
       "      <td>-0.004976</td>\n",
       "      <td>-0.007364</td>\n",
       "      <td>-0.001277</td>\n",
       "      <td>-0.000800</td>\n",
       "      <td>-0.012104</td>\n",
       "      <td>0.999981</td>\n",
       "      <td>0.999980</td>\n",
       "      <td>1.000000</td>\n",
       "    </tr>\n",
       "  </tbody>\n",
       "</table>\n",
       "</div>"
      ],
      "text/plain": [
       "                     identifierHash  socialNbFollowers  socialNbFollows  \\\n",
       "identifierHash             1.000000           0.002017         0.003891   \n",
       "socialNbFollowers          0.002017           1.000000         0.702766   \n",
       "socialNbFollows            0.003891           0.702766         1.000000   \n",
       "socialProductsLiked        0.002188           0.653540         0.809462   \n",
       "productsListed             0.004254           0.343603         0.091306   \n",
       "productsSold               0.002178           0.627167         0.175296   \n",
       "productsPassRate           0.001064           0.351293         0.055519   \n",
       "productsWished            -0.003878           0.334733         0.266589   \n",
       "productsBought            -0.000930           0.147573         0.006406   \n",
       "civilityGenderId           0.002614           0.013622         0.001672   \n",
       "hasAnyApp                 -0.003470           0.088570         0.011264   \n",
       "hasAndroidApp              0.003038           0.027360         0.001590   \n",
       "hasIosApp                 -0.005249           0.084025         0.011391   \n",
       "hasProfilePicture         -0.000874          -0.286141        -0.041700   \n",
       "daysSinceLastLogin         0.001322          -0.005610        -0.000640   \n",
       "seniority                  0.002643           0.006034         0.004150   \n",
       "seniorityAsMonths          0.002642           0.006028         0.004151   \n",
       "seniorityAsYears           0.002642           0.006030         0.004168   \n",
       "\n",
       "                     socialProductsLiked  productsListed  productsSold  \\\n",
       "identifierHash                  0.002188        0.004254      0.002178   \n",
       "socialNbFollowers               0.653540        0.343603      0.627167   \n",
       "socialNbFollows                 0.809462        0.091306      0.175296   \n",
       "socialProductsLiked             1.000000        0.044845      0.181755   \n",
       "productsListed                  0.044845        1.000000      0.589793   \n",
       "productsSold                    0.181755        0.589793      1.000000   \n",
       "productsPassRate                0.059395        0.361279      0.514101   \n",
       "productsWished                  0.349138        0.066384      0.127732   \n",
       "productsBought                  0.064741        0.067782      0.113755   \n",
       "civilityGenderId                0.005771        0.010018      0.006866   \n",
       "hasAnyApp                       0.027030        0.038778      0.060466   \n",
       "hasAndroidApp                   0.006367        0.007728      0.015744   \n",
       "hasIosApp                       0.026401        0.038941      0.058859   \n",
       "hasProfilePicture              -0.063859       -0.138434     -0.179571   \n",
       "daysSinceLastLogin             -0.001801       -0.003634     -0.004483   \n",
       "seniority                      -0.001000       -0.002707      0.003074   \n",
       "seniorityAsMonths              -0.000999       -0.002707      0.003073   \n",
       "seniorityAsYears               -0.000977       -0.002733      0.003089   \n",
       "\n",
       "                     productsPassRate  productsWished  productsBought  \\\n",
       "identifierHash               0.001064       -0.003878       -0.000930   \n",
       "socialNbFollowers            0.351293        0.334733        0.147573   \n",
       "socialNbFollows              0.055519        0.266589        0.006406   \n",
       "socialProductsLiked          0.059395        0.349138        0.064741   \n",
       "productsListed               0.361279        0.066384        0.067782   \n",
       "productsSold                 0.514101        0.127732        0.113755   \n",
       "productsPassRate             1.000000        0.090998        0.126696   \n",
       "productsWished               0.090998        1.000000        0.391640   \n",
       "productsBought               0.126696        0.391640        1.000000   \n",
       "civilityGenderId             0.011697        0.012021       -0.001330   \n",
       "hasAnyApp                    0.092257        0.047562        0.044701   \n",
       "hasAndroidApp                0.030102        0.026736        0.019118   \n",
       "hasIosApp                    0.087844        0.040722        0.041673   \n",
       "hasProfilePicture           -0.267112       -0.103533       -0.099806   \n",
       "daysSinceLastLogin          -0.007250       -0.004472       -0.005067   \n",
       "seniority                    0.001417       -0.004053       -0.001138   \n",
       "seniorityAsMonths            0.001415       -0.004052       -0.001136   \n",
       "seniorityAsYears             0.001434       -0.004042       -0.001147   \n",
       "\n",
       "                     civilityGenderId  hasAnyApp  hasAndroidApp  hasIosApp  \\\n",
       "identifierHash               0.002614  -0.003470       0.003038  -0.005249   \n",
       "socialNbFollowers            0.013622   0.088570       0.027360   0.084025   \n",
       "socialNbFollows              0.001672   0.011264       0.001590   0.011391   \n",
       "socialProductsLiked          0.005771   0.027030       0.006367   0.026401   \n",
       "productsListed               0.010018   0.038778       0.007728   0.038941   \n",
       "productsSold                 0.006866   0.060466       0.015744   0.058859   \n",
       "productsPassRate             0.011697   0.092257       0.030102   0.087844   \n",
       "productsWished               0.012021   0.047562       0.026736   0.040722   \n",
       "productsBought              -0.001330   0.044701       0.019118   0.041673   \n",
       "civilityGenderId             1.000000  -0.084070      -0.039205  -0.070743   \n",
       "hasAnyApp                   -0.084070   1.000000       0.377265   0.879244   \n",
       "hasAndroidApp               -0.039205   0.377265       1.000000  -0.099785   \n",
       "hasIosApp                   -0.070743   0.879244      -0.099785   1.000000   \n",
       "hasProfilePicture           -0.006586  -0.139527      -0.038601  -0.132722   \n",
       "daysSinceLastLogin          -0.005153   0.001572       0.001309   0.000797   \n",
       "seniority                   -0.001969  -0.005033      -0.007397  -0.001317   \n",
       "seniorityAsMonths           -0.001970  -0.005036      -0.007401  -0.001318   \n",
       "seniorityAsYears            -0.001956  -0.004976      -0.007364  -0.001277   \n",
       "\n",
       "                     hasProfilePicture  daysSinceLastLogin  seniority  \\\n",
       "identifierHash               -0.000874            0.001322   0.002643   \n",
       "socialNbFollowers            -0.286141           -0.005610   0.006034   \n",
       "socialNbFollows              -0.041700           -0.000640   0.004150   \n",
       "socialProductsLiked          -0.063859           -0.001801  -0.001000   \n",
       "productsListed               -0.138434           -0.003634  -0.002707   \n",
       "productsSold                 -0.179571           -0.004483   0.003074   \n",
       "productsPassRate             -0.267112           -0.007250   0.001417   \n",
       "productsWished               -0.103533           -0.004472  -0.004053   \n",
       "productsBought               -0.099806           -0.005067  -0.001138   \n",
       "civilityGenderId             -0.006586           -0.005153  -0.001969   \n",
       "hasAnyApp                    -0.139527            0.001572  -0.005033   \n",
       "hasAndroidApp                -0.038601            0.001309  -0.007397   \n",
       "hasIosApp                    -0.132722            0.000797  -0.001317   \n",
       "hasProfilePicture             1.000000            0.007343  -0.000780   \n",
       "daysSinceLastLogin            0.007343            1.000000  -0.012007   \n",
       "seniority                    -0.000780           -0.012007   1.000000   \n",
       "seniorityAsMonths            -0.000780           -0.012008   1.000000   \n",
       "seniorityAsYears             -0.000800           -0.012104   0.999981   \n",
       "\n",
       "                     seniorityAsMonths  seniorityAsYears  \n",
       "identifierHash                0.002642          0.002642  \n",
       "socialNbFollowers             0.006028          0.006030  \n",
       "socialNbFollows               0.004151          0.004168  \n",
       "socialProductsLiked          -0.000999         -0.000977  \n",
       "productsListed               -0.002707         -0.002733  \n",
       "productsSold                  0.003073          0.003089  \n",
       "productsPassRate              0.001415          0.001434  \n",
       "productsWished               -0.004052         -0.004042  \n",
       "productsBought               -0.001136         -0.001147  \n",
       "civilityGenderId             -0.001970         -0.001956  \n",
       "hasAnyApp                    -0.005036         -0.004976  \n",
       "hasAndroidApp                -0.007401         -0.007364  \n",
       "hasIosApp                    -0.001318         -0.001277  \n",
       "hasProfilePicture            -0.000780         -0.000800  \n",
       "daysSinceLastLogin           -0.012008         -0.012104  \n",
       "seniority                     1.000000          0.999981  \n",
       "seniorityAsMonths             1.000000          0.999980  \n",
       "seniorityAsYears              0.999980          1.000000  "
      ]
     },
     "execution_count": 6,
     "metadata": {},
     "output_type": "execute_result"
    }
   ],
   "source": [
    "data.corr()"
   ]
  },
  {
   "cell_type": "code",
   "execution_count": 7,
   "metadata": {},
   "outputs": [
    {
     "name": "stdout",
     "output_type": "stream",
     "text": [
      "<class 'pandas.core.frame.DataFrame'>\n",
      "RangeIndex: 98913 entries, 0 to 98912\n",
      "Data columns (total 24 columns):\n",
      " #   Column               Non-Null Count  Dtype  \n",
      "---  ------               --------------  -----  \n",
      " 0   identifierHash       98913 non-null  int64  \n",
      " 1   type                 98913 non-null  object \n",
      " 2   country              98913 non-null  object \n",
      " 3   language             98913 non-null  object \n",
      " 4   socialNbFollowers    98913 non-null  int64  \n",
      " 5   socialNbFollows      98913 non-null  int64  \n",
      " 6   socialProductsLiked  98913 non-null  int64  \n",
      " 7   productsListed       98913 non-null  int64  \n",
      " 8   productsSold         98913 non-null  int64  \n",
      " 9   productsPassRate     98913 non-null  float64\n",
      " 10  productsWished       98913 non-null  int64  \n",
      " 11  productsBought       98913 non-null  int64  \n",
      " 12  gender               98913 non-null  object \n",
      " 13  civilityGenderId     98913 non-null  int64  \n",
      " 14  civilityTitle        98913 non-null  object \n",
      " 15  hasAnyApp            98913 non-null  bool   \n",
      " 16  hasAndroidApp        98913 non-null  bool   \n",
      " 17  hasIosApp            98913 non-null  bool   \n",
      " 18  hasProfilePicture    98913 non-null  bool   \n",
      " 19  daysSinceLastLogin   98913 non-null  int64  \n",
      " 20  seniority            98913 non-null  int64  \n",
      " 21  seniorityAsMonths    98913 non-null  float64\n",
      " 22  seniorityAsYears     98913 non-null  float64\n",
      " 23  countryCode          98913 non-null  object \n",
      "dtypes: bool(4), float64(3), int64(11), object(6)\n",
      "memory usage: 15.5+ MB\n"
     ]
    }
   ],
   "source": [
    "data.info()"
   ]
  },
  {
   "cell_type": "markdown",
   "metadata": {},
   "source": [
    "# Drop the type column"
   ]
  },
  {
   "cell_type": "code",
   "execution_count": 8,
   "metadata": {},
   "outputs": [],
   "source": [
    "data.drop(['identifierHash','type'],axis = 1,inplace = True)"
   ]
  },
  {
   "cell_type": "code",
   "execution_count": 9,
   "metadata": {},
   "outputs": [
    {
     "data": {
      "text/html": [
       "<div>\n",
       "<style scoped>\n",
       "    .dataframe tbody tr th:only-of-type {\n",
       "        vertical-align: middle;\n",
       "    }\n",
       "\n",
       "    .dataframe tbody tr th {\n",
       "        vertical-align: top;\n",
       "    }\n",
       "\n",
       "    .dataframe thead th {\n",
       "        text-align: right;\n",
       "    }\n",
       "</style>\n",
       "<table border=\"1\" class=\"dataframe\">\n",
       "  <thead>\n",
       "    <tr style=\"text-align: right;\">\n",
       "      <th></th>\n",
       "      <th>country</th>\n",
       "      <th>language</th>\n",
       "      <th>socialNbFollowers</th>\n",
       "      <th>socialNbFollows</th>\n",
       "      <th>socialProductsLiked</th>\n",
       "      <th>productsListed</th>\n",
       "      <th>productsSold</th>\n",
       "      <th>productsPassRate</th>\n",
       "      <th>productsWished</th>\n",
       "      <th>productsBought</th>\n",
       "      <th>...</th>\n",
       "      <th>civilityTitle</th>\n",
       "      <th>hasAnyApp</th>\n",
       "      <th>hasAndroidApp</th>\n",
       "      <th>hasIosApp</th>\n",
       "      <th>hasProfilePicture</th>\n",
       "      <th>daysSinceLastLogin</th>\n",
       "      <th>seniority</th>\n",
       "      <th>seniorityAsMonths</th>\n",
       "      <th>seniorityAsYears</th>\n",
       "      <th>countryCode</th>\n",
       "    </tr>\n",
       "  </thead>\n",
       "  <tbody>\n",
       "    <tr>\n",
       "      <th>0</th>\n",
       "      <td>Etats-Unis</td>\n",
       "      <td>en</td>\n",
       "      <td>3</td>\n",
       "      <td>8</td>\n",
       "      <td>0</td>\n",
       "      <td>0</td>\n",
       "      <td>0</td>\n",
       "      <td>0.0</td>\n",
       "      <td>0</td>\n",
       "      <td>0</td>\n",
       "      <td>...</td>\n",
       "      <td>mrs</td>\n",
       "      <td>False</td>\n",
       "      <td>False</td>\n",
       "      <td>False</td>\n",
       "      <td>True</td>\n",
       "      <td>709</td>\n",
       "      <td>3205</td>\n",
       "      <td>106.83</td>\n",
       "      <td>8.9</td>\n",
       "      <td>us</td>\n",
       "    </tr>\n",
       "    <tr>\n",
       "      <th>1</th>\n",
       "      <td>Allemagne</td>\n",
       "      <td>de</td>\n",
       "      <td>3</td>\n",
       "      <td>8</td>\n",
       "      <td>0</td>\n",
       "      <td>0</td>\n",
       "      <td>0</td>\n",
       "      <td>0.0</td>\n",
       "      <td>0</td>\n",
       "      <td>0</td>\n",
       "      <td>...</td>\n",
       "      <td>mrs</td>\n",
       "      <td>False</td>\n",
       "      <td>False</td>\n",
       "      <td>False</td>\n",
       "      <td>True</td>\n",
       "      <td>709</td>\n",
       "      <td>3205</td>\n",
       "      <td>106.83</td>\n",
       "      <td>8.9</td>\n",
       "      <td>de</td>\n",
       "    </tr>\n",
       "    <tr>\n",
       "      <th>2</th>\n",
       "      <td>Suède</td>\n",
       "      <td>en</td>\n",
       "      <td>3</td>\n",
       "      <td>8</td>\n",
       "      <td>0</td>\n",
       "      <td>0</td>\n",
       "      <td>0</td>\n",
       "      <td>0.0</td>\n",
       "      <td>0</td>\n",
       "      <td>0</td>\n",
       "      <td>...</td>\n",
       "      <td>mr</td>\n",
       "      <td>True</td>\n",
       "      <td>False</td>\n",
       "      <td>True</td>\n",
       "      <td>True</td>\n",
       "      <td>689</td>\n",
       "      <td>3205</td>\n",
       "      <td>106.83</td>\n",
       "      <td>8.9</td>\n",
       "      <td>se</td>\n",
       "    </tr>\n",
       "    <tr>\n",
       "      <th>3</th>\n",
       "      <td>Turquie</td>\n",
       "      <td>en</td>\n",
       "      <td>3</td>\n",
       "      <td>8</td>\n",
       "      <td>0</td>\n",
       "      <td>0</td>\n",
       "      <td>0</td>\n",
       "      <td>0.0</td>\n",
       "      <td>0</td>\n",
       "      <td>0</td>\n",
       "      <td>...</td>\n",
       "      <td>mrs</td>\n",
       "      <td>False</td>\n",
       "      <td>False</td>\n",
       "      <td>False</td>\n",
       "      <td>True</td>\n",
       "      <td>709</td>\n",
       "      <td>3205</td>\n",
       "      <td>106.83</td>\n",
       "      <td>8.9</td>\n",
       "      <td>tr</td>\n",
       "    </tr>\n",
       "    <tr>\n",
       "      <th>4</th>\n",
       "      <td>France</td>\n",
       "      <td>en</td>\n",
       "      <td>3</td>\n",
       "      <td>8</td>\n",
       "      <td>0</td>\n",
       "      <td>0</td>\n",
       "      <td>0</td>\n",
       "      <td>0.0</td>\n",
       "      <td>0</td>\n",
       "      <td>0</td>\n",
       "      <td>...</td>\n",
       "      <td>mr</td>\n",
       "      <td>True</td>\n",
       "      <td>False</td>\n",
       "      <td>True</td>\n",
       "      <td>True</td>\n",
       "      <td>709</td>\n",
       "      <td>3205</td>\n",
       "      <td>106.83</td>\n",
       "      <td>8.9</td>\n",
       "      <td>fr</td>\n",
       "    </tr>\n",
       "  </tbody>\n",
       "</table>\n",
       "<p>5 rows × 22 columns</p>\n",
       "</div>"
      ],
      "text/plain": [
       "      country language  socialNbFollowers  socialNbFollows  \\\n",
       "0  Etats-Unis       en                  3                8   \n",
       "1   Allemagne       de                  3                8   \n",
       "2       Suède       en                  3                8   \n",
       "3     Turquie       en                  3                8   \n",
       "4      France       en                  3                8   \n",
       "\n",
       "   socialProductsLiked  productsListed  productsSold  productsPassRate  \\\n",
       "0                    0               0             0               0.0   \n",
       "1                    0               0             0               0.0   \n",
       "2                    0               0             0               0.0   \n",
       "3                    0               0             0               0.0   \n",
       "4                    0               0             0               0.0   \n",
       "\n",
       "   productsWished  productsBought  ... civilityTitle  hasAnyApp hasAndroidApp  \\\n",
       "0               0               0  ...           mrs      False         False   \n",
       "1               0               0  ...           mrs      False         False   \n",
       "2               0               0  ...            mr       True         False   \n",
       "3               0               0  ...           mrs      False         False   \n",
       "4               0               0  ...            mr       True         False   \n",
       "\n",
       "   hasIosApp  hasProfilePicture  daysSinceLastLogin  seniority  \\\n",
       "0      False               True                 709       3205   \n",
       "1      False               True                 709       3205   \n",
       "2       True               True                 689       3205   \n",
       "3      False               True                 709       3205   \n",
       "4       True               True                 709       3205   \n",
       "\n",
       "   seniorityAsMonths  seniorityAsYears  countryCode  \n",
       "0             106.83               8.9           us  \n",
       "1             106.83               8.9           de  \n",
       "2             106.83               8.9           se  \n",
       "3             106.83               8.9           tr  \n",
       "4             106.83               8.9           fr  \n",
       "\n",
       "[5 rows x 22 columns]"
      ]
     },
     "execution_count": 9,
     "metadata": {},
     "output_type": "execute_result"
    }
   ],
   "source": [
    "data.head()"
   ]
  },
  {
   "cell_type": "code",
   "execution_count": 10,
   "metadata": {},
   "outputs": [],
   "source": [
    "import matplotlib.pyplot as plt\n",
    "import seaborn as sns"
   ]
  },
  {
   "cell_type": "code",
   "execution_count": 11,
   "metadata": {},
   "outputs": [],
   "source": [
    "data_1 = data.groupby('country')['country'].value_counts()"
   ]
  },
  {
   "cell_type": "code",
   "execution_count": 12,
   "metadata": {},
   "outputs": [
    {
     "data": {
      "image/png": "[encoded data removed]",
      "text/plain": [
       "<Figure size 720x720 with 1 Axes>"
      ]
     },
     "metadata": {},
     "output_type": "display_data"
    }
   ],
   "source": [
    "plt.figure(figsize=(10,10))\n",
    "palette_color = sns.color_palette('bright')\n",
    "plt.pie(data_1[0:5],labels = data['country'].unique()[0:5],colors = palette_color,autopct='%.0f%%')\n",
    "plt.show()"
   ]
  },
  {
   "cell_type": "code",
   "execution_count": 13,
   "metadata": {},
   "outputs": [],
   "source": [
    "data_1 = data.groupby(['country','socialNbFollowers'])['socialNbFollowers'].value_counts()"
   ]
  },
  {
   "cell_type": "code",
   "execution_count": 14,
   "metadata": {},
   "outputs": [
    {
     "data": {
      "text/plain": [
       "country                    socialNbFollowers  socialNbFollowers\n",
       "Afghanistan                3                  3                     9\n",
       "                           5                  5                     1\n",
       "Afrique du Sud             3                  3                    81\n",
       "                           4                  4                     2\n",
       "Albanie                    3                  3                    36\n",
       "                                                                   ..\n",
       "Îles Turques-et-Caïques    3                  3                     3\n",
       "Îles Vierges (U.S.)        3                  3                     3\n",
       "Îles Vierges britanniques  3                  3                     1\n",
       "                           4                  4                     1\n",
       "                           5                  5                     1\n",
       "Name: socialNbFollowers, Length: 949, dtype: int64"
      ]
     },
     "execution_count": 14,
     "metadata": {},
     "output_type": "execute_result"
    }
   ],
   "source": [
    "data_1"
   ]
  },
  {
   "cell_type": "code",
   "execution_count": 15,
   "metadata": {},
   "outputs": [
    {
     "data": {
      "image/png": "[encoded data removed]",
      "text/plain": [
       "<Figure size 432x432 with 3 Axes>"
      ]
     },
     "metadata": {
      "needs_background": "light"
     },
     "output_type": "display_data"
    }
   ],
   "source": [
    "sns.jointplot(x = data['socialNbFollows'],y=data['socialNbFollowers'],data = data,kind = 'hex')\n",
    "plt.show()"
   ]
  },
  {
   "cell_type": "code",
   "execution_count": 20,
   "metadata": {},
   "outputs": [],
   "source": [
    "country_df = data.groupby(\"country\")['country'].value_counts()"
   ]
  },
  {
   "cell_type": "code",
   "execution_count": 21,
   "metadata": {},
   "outputs": [
    {
     "data": {
      "text/plain": [
       "country                    country                  \n",
       "Afghanistan                Afghanistan                    10\n",
       "Afrique du Sud             Afrique du Sud                 83\n",
       "Albanie                    Albanie                        37\n",
       "Algérie                    Algérie                        76\n",
       "Allemagne                  Allemagne                    6567\n",
       "                                                        ... \n",
       "Îles Féroé                 Îles Féroé                      2\n",
       "Îles Malouines             Îles Malouines                  1\n",
       "Îles Turques-et-Caïques    Îles Turques-et-Caïques         3\n",
       "Îles Vierges (U.S.)        Îles Vierges (U.S.)             3\n",
       "Îles Vierges britanniques  Îles Vierges britanniques       3\n",
       "Name: country, Length: 200, dtype: int64"
      ]
     },
     "execution_count": 21,
     "metadata": {},
     "output_type": "execute_result"
    }
   ],
   "source": [
    "country_df"
   ]
  },
  {
   "cell_type": "code",
   "execution_count": 24,
   "metadata": {},
   "outputs": [
    {
     "name": "stdout",
     "output_type": "stream",
     "text": [
      "MultiIndex([(                               'Andorre', ...),\n",
      "            (                                'Angola', ...),\n",
      "            (                              'Anguilla', ...),\n",
      "            (                           'Antarctique', ...),\n",
      "            (                    'Antigua et Barbuda', ...),\n",
      "            (                'Antilles néerlandaises', ...),\n",
      "            (                                 'Aruba', ...),\n",
      "            (                               'Bahamas', ...),\n",
      "            (                            'Bangladesh', ...),\n",
      "            (                               'Barbade', ...),\n",
      "            (                                'Belize', ...),\n",
      "            (                                 'Benin', ...),\n",
      "            (                               'Bermude', ...),\n",
      "            (                               'Bolivie', ...),\n",
      "            (                              'Botswana', ...),\n",
      "            (                          'Burkina Faso', ...),\n",
      "            (                                  'Chad', ...),\n",
      "            (                         'Corée du Nord', ...),\n",
      "            (                            'Costa Rica', ...),\n",
      "            (                                  'Cuba', ...),\n",
      "            (                              'Djibouti', ...),\n",
      "            (                             'Dominique', ...),\n",
      "            (                                 'Fidji', ...),\n",
      "            (                                'Gambie', ...),\n",
      "            (                                 'Ghana', ...),\n",
      "            (                             'Gibraltar', ...),\n",
      "            (                               'Grenade', ...),\n",
      "            (                                  'Guam', ...),\n",
      "            (                             'Guatemala', ...),\n",
      "            (                              'Guernsey', ...),\n",
      "            (                                'Guinée', ...),\n",
      "            (                                'Guyana', ...),\n",
      "            (        'Géorgie du Sud / Iles Sandwich', ...),\n",
      "            (                                 'Haiti', ...),\n",
      "            (                              'Honduras', ...),\n",
      "            (                           'Iles Cayman', ...),\n",
      "            ('Iles mineures éloignées des États-Unis', ...),\n",
      "            (                                  'Irak', ...),\n",
      "            (                              'Jamaique', ...),\n",
      "            (                          'Kirghizistan', ...),\n",
      "            (                              'Kiribati', ...),\n",
      "            (                                  'Laos', ...),\n",
      "            (                           'Le Salvador', ...),\n",
      "            (                                 'Libye', ...),\n",
      "            (                         'Liechtenstein', ...),\n",
      "            (                             'Macédoine', ...),\n",
      "            (                              'Maldives', ...),\n",
      "            (                                  'Mali', ...),\n",
      "            (                               'Maurice', ...),\n",
      "            (                            'Mauritanie', ...),\n",
      "            (                               'Mayotte', ...),\n",
      "            (                               'Namibie', ...),\n",
      "            (                                 'Nepal', ...),\n",
      "            (                             'Nicaragua', ...),\n",
      "            (                                 'Niger', ...),\n",
      "            (                                  'Oman', ...),\n",
      "            (                               'Ouganda', ...),\n",
      "            (                                 'Palau', ...),\n",
      "            (                              'Paraguay', ...),\n",
      "            (                   'Polynésie Française', ...),\n",
      "            (                                'Rwanda', ...),\n",
      "            (             'République centrafricaine', ...),\n",
      "            (                  'Saint Kitts et Nevis', ...),\n",
      "            (       'Saint Vincent et les Grenadines', ...),\n",
      "            (                          'Sainte Lucie', ...),\n",
      "            (                                 'Samoa', ...),\n",
      "            (                     'Samoa américaines', ...),\n",
      "            (                             'Sri Lanka', ...),\n",
      "            (                         'St Barthélémy', ...),\n",
      "            (                              'Suriname', ...),\n",
      "            (         'Svalbard et Jan Mayen Islands', ...),\n",
      "            (                             'Swaziland', ...),\n",
      "            (                                 'Syrie', ...),\n",
      "            (                            'Tajikistan', ...),\n",
      "            (                              'Tanzanie', ...),\n",
      "            (                                  'Togo', ...),\n",
      "            (                    'Trinidad et Tobago', ...),\n",
      "            (                               'Uruguay', ...),\n",
      "            (                            'Uzbekistan', ...),\n",
      "            (                               'Vanuatu', ...),\n",
      "            (                                 'Zaire', ...),\n",
      "            (                                'Zambie', ...),\n",
      "            (                              'Zimbabwe', ...),\n",
      "            (                              'Érythrée', ...),\n",
      "            (                              'Éthiopie', ...),\n",
      "            (                            'Île Bouvet', ...),\n",
      "            (                           'Île Norfolk', ...),\n",
      "            (                            'Île de Man', ...),\n",
      "            (                         'Îles Canaries', ...),\n",
      "            (                            'Îles Féroé', ...),\n",
      "            (                        'Îles Malouines', ...),\n",
      "            (              'Îles Turques-et-Caïques ', ...),\n",
      "            (                   'Îles Vierges (U.S.)', ...),\n",
      "            (             'Îles Vierges britanniques', ...)],\n",
      "           names=['country', 'country'])\n"
     ]
    }
   ],
   "source": [
    "threshold = 10\n",
    "infrequent_countries = country_df[country_df<threshold].index\n",
    "print(infrequent_countries)"
   ]
  },
  {
   "cell_type": "code",
   "execution_count": 25,
   "metadata": {},
   "outputs": [],
   "source": [
    "data.loc[data['country'].isin(infrequent_countries),'country'] = 'Other'"
   ]
  },
  {
   "cell_type": "code",
   "execution_count": 27,
   "metadata": {},
   "outputs": [],
   "source": [
    "countryCode_counts = data['countryCode'].value_counts()"
   ]
  },
  {
   "cell_type": "code",
   "execution_count": 28,
   "metadata": {},
   "outputs": [
    {
     "data": {
      "text/plain": [
       "fr    25135\n",
       "us    20602\n",
       "gb    11310\n",
       "it     8015\n",
       "de     6567\n",
       "      ...  \n",
       "ly        1\n",
       "im        1\n",
       "lc        1\n",
       "sr        1\n",
       "kn        1\n",
       "Name: countryCode, Length: 199, dtype: int64"
      ]
     },
     "execution_count": 28,
     "metadata": {},
     "output_type": "execute_result"
    }
   ],
   "source": [
    "countryCode_counts"
   ]
  },
  {
   "cell_type": "code",
   "execution_count": 29,
   "metadata": {},
   "outputs": [],
   "source": [
    "infrequent_countryCodes = countryCode_counts[countryCode_counts<threshold].index"
   ]
  },
  {
   "cell_type": "code",
   "execution_count": 30,
   "metadata": {},
   "outputs": [
    {
     "data": {
      "text/plain": [
       "Index(['as', 'ad', 'bd', 'om', 'hn', 'mk', 'cr', 'iq', 'pf', 'bm', 'ao', 'bj',\n",
       "       'dj', 'ml', 'mu', 'tt', 'gn', 'tz', 'zw', 'gt', 'fj', 'gh', 'bo', 'ug',\n",
       "       'uy', 'py', 'bz', 'kg', 'tj', 'tc', 'ky', 'la', 'mv', 'vg', 'ki', 'gg',\n",
       "       'bf', 'bv', 'aw', 'vi', 'ni', 'bs', 'ag', 'li', 'tg', 'sv', 'bb', 'gd',\n",
       "       'bw', 'cu', 'dm', 'gu', 'fo', 'ic', 'mr', 'ht', 'uz', 'na', 'jm', 'gm',\n",
       "       'ai', 'sy', 'rw', 'gi', 'yt', 'cd', 'bl', 'er', 'ne', 'lk', 'sj', 'an',\n",
       "       'pw', 'zm', 'sz', 'cf', 'aq', 'et', 'ws', 'vu', 'kp', 'td', 'np', 'nf',\n",
       "       'fk', 'vc', 'um', 'gs', 'ly', 'im', 'lc', 'sr', 'kn'],\n",
       "      dtype='object')"
      ]
     },
     "execution_count": 30,
     "metadata": {},
     "output_type": "execute_result"
    }
   ],
   "source": [
    "infrequent_countryCodes"
   ]
  },
  {
   "cell_type": "code",
   "execution_count": 31,
   "metadata": {},
   "outputs": [
    {
     "data": {
      "text/html": [
       "<div>\n",
       "<style scoped>\n",
       "    .dataframe tbody tr th:only-of-type {\n",
       "        vertical-align: middle;\n",
       "    }\n",
       "\n",
       "    .dataframe tbody tr th {\n",
       "        vertical-align: top;\n",
       "    }\n",
       "\n",
       "    .dataframe thead th {\n",
       "        text-align: right;\n",
       "    }\n",
       "</style>\n",
       "<table border=\"1\" class=\"dataframe\">\n",
       "  <thead>\n",
       "    <tr style=\"text-align: right;\">\n",
       "      <th></th>\n",
       "      <th>country</th>\n",
       "      <th>language</th>\n",
       "      <th>socialNbFollowers</th>\n",
       "      <th>socialNbFollows</th>\n",
       "      <th>socialProductsLiked</th>\n",
       "      <th>productsListed</th>\n",
       "      <th>productsSold</th>\n",
       "      <th>productsPassRate</th>\n",
       "      <th>productsWished</th>\n",
       "      <th>productsBought</th>\n",
       "      <th>...</th>\n",
       "      <th>civilityTitle</th>\n",
       "      <th>hasAnyApp</th>\n",
       "      <th>hasAndroidApp</th>\n",
       "      <th>hasIosApp</th>\n",
       "      <th>hasProfilePicture</th>\n",
       "      <th>daysSinceLastLogin</th>\n",
       "      <th>seniority</th>\n",
       "      <th>seniorityAsMonths</th>\n",
       "      <th>seniorityAsYears</th>\n",
       "      <th>countryCode</th>\n",
       "    </tr>\n",
       "  </thead>\n",
       "  <tbody>\n",
       "    <tr>\n",
       "      <th>0</th>\n",
       "      <td>Etats-Unis</td>\n",
       "      <td>en</td>\n",
       "      <td>3</td>\n",
       "      <td>8</td>\n",
       "      <td>0</td>\n",
       "      <td>0</td>\n",
       "      <td>0</td>\n",
       "      <td>0.0</td>\n",
       "      <td>0</td>\n",
       "      <td>0</td>\n",
       "      <td>...</td>\n",
       "      <td>mrs</td>\n",
       "      <td>False</td>\n",
       "      <td>False</td>\n",
       "      <td>False</td>\n",
       "      <td>True</td>\n",
       "      <td>709</td>\n",
       "      <td>3205</td>\n",
       "      <td>106.83</td>\n",
       "      <td>8.9</td>\n",
       "      <td>us</td>\n",
       "    </tr>\n",
       "    <tr>\n",
       "      <th>1</th>\n",
       "      <td>Allemagne</td>\n",
       "      <td>de</td>\n",
       "      <td>3</td>\n",
       "      <td>8</td>\n",
       "      <td>0</td>\n",
       "      <td>0</td>\n",
       "      <td>0</td>\n",
       "      <td>0.0</td>\n",
       "      <td>0</td>\n",
       "      <td>0</td>\n",
       "      <td>...</td>\n",
       "      <td>mrs</td>\n",
       "      <td>False</td>\n",
       "      <td>False</td>\n",
       "      <td>False</td>\n",
       "      <td>True</td>\n",
       "      <td>709</td>\n",
       "      <td>3205</td>\n",
       "      <td>106.83</td>\n",
       "      <td>8.9</td>\n",
       "      <td>de</td>\n",
       "    </tr>\n",
       "    <tr>\n",
       "      <th>2</th>\n",
       "      <td>Suède</td>\n",
       "      <td>en</td>\n",
       "      <td>3</td>\n",
       "      <td>8</td>\n",
       "      <td>0</td>\n",
       "      <td>0</td>\n",
       "      <td>0</td>\n",
       "      <td>0.0</td>\n",
       "      <td>0</td>\n",
       "      <td>0</td>\n",
       "      <td>...</td>\n",
       "      <td>mr</td>\n",
       "      <td>True</td>\n",
       "      <td>False</td>\n",
       "      <td>True</td>\n",
       "      <td>True</td>\n",
       "      <td>689</td>\n",
       "      <td>3205</td>\n",
       "      <td>106.83</td>\n",
       "      <td>8.9</td>\n",
       "      <td>se</td>\n",
       "    </tr>\n",
       "    <tr>\n",
       "      <th>3</th>\n",
       "      <td>Turquie</td>\n",
       "      <td>en</td>\n",
       "      <td>3</td>\n",
       "      <td>8</td>\n",
       "      <td>0</td>\n",
       "      <td>0</td>\n",
       "      <td>0</td>\n",
       "      <td>0.0</td>\n",
       "      <td>0</td>\n",
       "      <td>0</td>\n",
       "      <td>...</td>\n",
       "      <td>mrs</td>\n",
       "      <td>False</td>\n",
       "      <td>False</td>\n",
       "      <td>False</td>\n",
       "      <td>True</td>\n",
       "      <td>709</td>\n",
       "      <td>3205</td>\n",
       "      <td>106.83</td>\n",
       "      <td>8.9</td>\n",
       "      <td>tr</td>\n",
       "    </tr>\n",
       "    <tr>\n",
       "      <th>4</th>\n",
       "      <td>France</td>\n",
       "      <td>en</td>\n",
       "      <td>3</td>\n",
       "      <td>8</td>\n",
       "      <td>0</td>\n",
       "      <td>0</td>\n",
       "      <td>0</td>\n",
       "      <td>0.0</td>\n",
       "      <td>0</td>\n",
       "      <td>0</td>\n",
       "      <td>...</td>\n",
       "      <td>mr</td>\n",
       "      <td>True</td>\n",
       "      <td>False</td>\n",
       "      <td>True</td>\n",
       "      <td>True</td>\n",
       "      <td>709</td>\n",
       "      <td>3205</td>\n",
       "      <td>106.83</td>\n",
       "      <td>8.9</td>\n",
       "      <td>fr</td>\n",
       "    </tr>\n",
       "  </tbody>\n",
       "</table>\n",
       "<p>5 rows × 22 columns</p>\n",
       "</div>"
      ],
      "text/plain": [
       "      country language  socialNbFollowers  socialNbFollows  \\\n",
       "0  Etats-Unis       en                  3                8   \n",
       "1   Allemagne       de                  3                8   \n",
       "2       Suède       en                  3                8   \n",
       "3     Turquie       en                  3                8   \n",
       "4      France       en                  3                8   \n",
       "\n",
       "   socialProductsLiked  productsListed  productsSold  productsPassRate  \\\n",
       "0                    0               0             0               0.0   \n",
       "1                    0               0             0               0.0   \n",
       "2                    0               0             0               0.0   \n",
       "3                    0               0             0               0.0   \n",
       "4                    0               0             0               0.0   \n",
       "\n",
       "   productsWished  productsBought  ... civilityTitle  hasAnyApp hasAndroidApp  \\\n",
       "0               0               0  ...           mrs      False         False   \n",
       "1               0               0  ...           mrs      False         False   \n",
       "2               0               0  ...            mr       True         False   \n",
       "3               0               0  ...           mrs      False         False   \n",
       "4               0               0  ...            mr       True         False   \n",
       "\n",
       "   hasIosApp  hasProfilePicture  daysSinceLastLogin  seniority  \\\n",
       "0      False               True                 709       3205   \n",
       "1      False               True                 709       3205   \n",
       "2       True               True                 689       3205   \n",
       "3      False               True                 709       3205   \n",
       "4       True               True                 709       3205   \n",
       "\n",
       "   seniorityAsMonths  seniorityAsYears  countryCode  \n",
       "0             106.83               8.9           us  \n",
       "1             106.83               8.9           de  \n",
       "2             106.83               8.9           se  \n",
       "3             106.83               8.9           tr  \n",
       "4             106.83               8.9           fr  \n",
       "\n",
       "[5 rows x 22 columns]"
      ]
     },
     "execution_count": 31,
     "metadata": {},
     "output_type": "execute_result"
    }
   ],
   "source": [
    "data.head()"
   ]
  },
  {
   "cell_type": "code",
   "execution_count": 32,
   "metadata": {},
   "outputs": [
    {
     "data": {
      "text/html": [
       "<div>\n",
       "<style scoped>\n",
       "    .dataframe tbody tr th:only-of-type {\n",
       "        vertical-align: middle;\n",
       "    }\n",
       "\n",
       "    .dataframe tbody tr th {\n",
       "        vertical-align: top;\n",
       "    }\n",
       "\n",
       "    .dataframe thead th {\n",
       "        text-align: right;\n",
       "    }\n",
       "</style>\n",
       "<table border=\"1\" class=\"dataframe\">\n",
       "  <thead>\n",
       "    <tr style=\"text-align: right;\">\n",
       "      <th></th>\n",
       "      <th>socialNbFollowers</th>\n",
       "      <th>socialNbFollows</th>\n",
       "      <th>socialProductsLiked</th>\n",
       "      <th>productsListed</th>\n",
       "      <th>productsSold</th>\n",
       "      <th>productsPassRate</th>\n",
       "      <th>productsWished</th>\n",
       "      <th>productsBought</th>\n",
       "      <th>civilityGenderId</th>\n",
       "      <th>daysSinceLastLogin</th>\n",
       "      <th>seniority</th>\n",
       "      <th>seniorityAsMonths</th>\n",
       "      <th>seniorityAsYears</th>\n",
       "    </tr>\n",
       "  </thead>\n",
       "  <tbody>\n",
       "    <tr>\n",
       "      <th>count</th>\n",
       "      <td>98913.000000</td>\n",
       "      <td>98913.000000</td>\n",
       "      <td>98913.000000</td>\n",
       "      <td>98913.000000</td>\n",
       "      <td>98913.000000</td>\n",
       "      <td>98913.000000</td>\n",
       "      <td>98913.000000</td>\n",
       "      <td>98913.000000</td>\n",
       "      <td>98913.000000</td>\n",
       "      <td>98913.000000</td>\n",
       "      <td>98913.000000</td>\n",
       "      <td>98913.000000</td>\n",
       "      <td>98913.000000</td>\n",
       "    </tr>\n",
       "    <tr>\n",
       "      <th>mean</th>\n",
       "      <td>3.432269</td>\n",
       "      <td>8.425677</td>\n",
       "      <td>4.420743</td>\n",
       "      <td>0.093304</td>\n",
       "      <td>0.121592</td>\n",
       "      <td>0.812303</td>\n",
       "      <td>1.562595</td>\n",
       "      <td>0.171929</td>\n",
       "      <td>1.773993</td>\n",
       "      <td>655.732310</td>\n",
       "      <td>3063.771870</td>\n",
       "      <td>102.125583</td>\n",
       "      <td>8.510424</td>\n",
       "    </tr>\n",
       "    <tr>\n",
       "      <th>std</th>\n",
       "      <td>3.882383</td>\n",
       "      <td>52.839572</td>\n",
       "      <td>181.030569</td>\n",
       "      <td>2.050144</td>\n",
       "      <td>2.126895</td>\n",
       "      <td>8.500205</td>\n",
       "      <td>25.192793</td>\n",
       "      <td>2.332266</td>\n",
       "      <td>0.428679</td>\n",
       "      <td>7407.430369</td>\n",
       "      <td>168.298621</td>\n",
       "      <td>5.609735</td>\n",
       "      <td>0.467863</td>\n",
       "    </tr>\n",
       "    <tr>\n",
       "      <th>min</th>\n",
       "      <td>3.000000</td>\n",
       "      <td>0.000000</td>\n",
       "      <td>0.000000</td>\n",
       "      <td>0.000000</td>\n",
       "      <td>0.000000</td>\n",
       "      <td>0.000000</td>\n",
       "      <td>0.000000</td>\n",
       "      <td>0.000000</td>\n",
       "      <td>1.000000</td>\n",
       "      <td>11.000000</td>\n",
       "      <td>2852.000000</td>\n",
       "      <td>95.070000</td>\n",
       "      <td>7.920000</td>\n",
       "    </tr>\n",
       "    <tr>\n",
       "      <th>25%</th>\n",
       "      <td>3.000000</td>\n",
       "      <td>8.000000</td>\n",
       "      <td>0.000000</td>\n",
       "      <td>0.000000</td>\n",
       "      <td>0.000000</td>\n",
       "      <td>0.000000</td>\n",
       "      <td>0.000000</td>\n",
       "      <td>0.000000</td>\n",
       "      <td>2.000000</td>\n",
       "      <td>572.000000</td>\n",
       "      <td>2857.000000</td>\n",
       "      <td>95.230000</td>\n",
       "      <td>7.940000</td>\n",
       "    </tr>\n",
       "    <tr>\n",
       "      <th>50%</th>\n",
       "      <td>3.000000</td>\n",
       "      <td>8.000000</td>\n",
       "      <td>0.000000</td>\n",
       "      <td>0.000000</td>\n",
       "      <td>0.000000</td>\n",
       "      <td>0.000000</td>\n",
       "      <td>0.000000</td>\n",
       "      <td>0.000000</td>\n",
       "      <td>2.000000</td>\n",
       "      <td>694.000000</td>\n",
       "      <td>3196.000000</td>\n",
       "      <td>106.530000</td>\n",
       "      <td>8.880000</td>\n",
       "    </tr>\n",
       "    <tr>\n",
       "      <th>75%</th>\n",
       "      <td>3.000000</td>\n",
       "      <td>8.000000</td>\n",
       "      <td>0.000000</td>\n",
       "      <td>0.000000</td>\n",
       "      <td>0.000000</td>\n",
       "      <td>0.000000</td>\n",
       "      <td>0.000000</td>\n",
       "      <td>0.000000</td>\n",
       "      <td>2.000000</td>\n",
       "      <td>702.000000</td>\n",
       "      <td>3201.000000</td>\n",
       "      <td>106.700000</td>\n",
       "      <td>8.890000</td>\n",
       "    </tr>\n",
       "    <tr>\n",
       "      <th>max</th>\n",
       "      <td>744.000000</td>\n",
       "      <td>13764.000000</td>\n",
       "      <td>51671.000000</td>\n",
       "      <td>244.000000</td>\n",
       "      <td>174.000000</td>\n",
       "      <td>100.000000</td>\n",
       "      <td>2635.000000</td>\n",
       "      <td>405.000000</td>\n",
       "      <td>3.000000</td>\n",
       "      <td>737028.000000</td>\n",
       "      <td>3205.000000</td>\n",
       "      <td>106.830000</td>\n",
       "      <td>8.900000</td>\n",
       "    </tr>\n",
       "  </tbody>\n",
       "</table>\n",
       "</div>"
      ],
      "text/plain": [
       "       socialNbFollowers  socialNbFollows  socialProductsLiked  \\\n",
       "count       98913.000000     98913.000000         98913.000000   \n",
       "mean            3.432269         8.425677             4.420743   \n",
       "std             3.882383        52.839572           181.030569   \n",
       "min             3.000000         0.000000             0.000000   \n",
       "25%             3.000000         8.000000             0.000000   \n",
       "50%             3.000000         8.000000             0.000000   \n",
       "75%             3.000000         8.000000             0.000000   \n",
       "max           744.000000     13764.000000         51671.000000   \n",
       "\n",
       "       productsListed  productsSold  productsPassRate  productsWished  \\\n",
       "count    98913.000000  98913.000000      98913.000000    98913.000000   \n",
       "mean         0.093304      0.121592          0.812303        1.562595   \n",
       "std          2.050144      2.126895          8.500205       25.192793   \n",
       "min          0.000000      0.000000          0.000000        0.000000   \n",
       "25%          0.000000      0.000000          0.000000        0.000000   \n",
       "50%          0.000000      0.000000          0.000000        0.000000   \n",
       "75%          0.000000      0.000000          0.000000        0.000000   \n",
       "max        244.000000    174.000000        100.000000     2635.000000   \n",
       "\n",
       "       productsBought  civilityGenderId  daysSinceLastLogin     seniority  \\\n",
       "count    98913.000000      98913.000000        98913.000000  98913.000000   \n",
       "mean         0.171929          1.773993          655.732310   3063.771870   \n",
       "std          2.332266          0.428679         7407.430369    168.298621   \n",
       "min          0.000000          1.000000           11.000000   2852.000000   \n",
       "25%          0.000000          2.000000          572.000000   2857.000000   \n",
       "50%          0.000000          2.000000          694.000000   3196.000000   \n",
       "75%          0.000000          2.000000          702.000000   3201.000000   \n",
       "max        405.000000          3.000000       737028.000000   3205.000000   \n",
       "\n",
       "       seniorityAsMonths  seniorityAsYears  \n",
       "count       98913.000000      98913.000000  \n",
       "mean          102.125583          8.510424  \n",
       "std             5.609735          0.467863  \n",
       "min            95.070000          7.920000  \n",
       "25%            95.230000          7.940000  \n",
       "50%           106.530000          8.880000  \n",
       "75%           106.700000          8.890000  \n",
       "max           106.830000          8.900000  "
      ]
     },
     "execution_count": 32,
     "metadata": {},
     "output_type": "execute_result"
    }
   ],
   "source": [
    "data.describe()"
   ]
  },
  {
   "cell_type": "code",
   "execution_count": 40,
   "metadata": {
    "collapsed": true
   },
   "outputs": [
    {
     "ename": "AttributeError",
     "evalue": "'list' object has no attribute 'stale'",
     "output_type": "error",
     "traceback": [
      "\u001b[1;31m---------------------------------------------------------------------------\u001b[0m",
      "\u001b[1;31mAttributeError\u001b[0m                            Traceback (most recent call last)",
      "\u001b[1;32m<ipython-input-40-ca3914b4d800>\u001b[0m in \u001b[0;36m<module>\u001b[1;34m\u001b[0m\n\u001b[0;32m      1\u001b[0m \u001b[0mfig\u001b[0m\u001b[1;33m,\u001b[0m\u001b[0maxes\u001b[0m \u001b[1;33m=\u001b[0m \u001b[0mplt\u001b[0m\u001b[1;33m.\u001b[0m\u001b[0msubplots\u001b[0m\u001b[1;33m(\u001b[0m\u001b[0mnrows\u001b[0m \u001b[1;33m=\u001b[0m \u001b[1;36m4\u001b[0m\u001b[1;33m,\u001b[0m\u001b[0mncols\u001b[0m \u001b[1;33m=\u001b[0m \u001b[1;36m3\u001b[0m\u001b[1;33m,\u001b[0m\u001b[0mfigsize\u001b[0m \u001b[1;33m=\u001b[0m \u001b[1;33m(\u001b[0m\u001b[1;36m12\u001b[0m\u001b[1;33m,\u001b[0m\u001b[1;36m16\u001b[0m\u001b[1;33m)\u001b[0m\u001b[1;33m)\u001b[0m\u001b[1;33m\u001b[0m\u001b[1;33m\u001b[0m\u001b[0m\n\u001b[1;32m----> 2\u001b[1;33m \u001b[0msns\u001b[0m\u001b[1;33m.\u001b[0m\u001b[0mhistplot\u001b[0m\u001b[1;33m(\u001b[0m\u001b[0mdata\u001b[0m\u001b[1;33m[\u001b[0m\u001b[1;34m'socialNbFollowers'\u001b[0m\u001b[1;33m]\u001b[0m\u001b[1;33m,\u001b[0m\u001b[0maxes\u001b[0m \u001b[1;33m=\u001b[0m \u001b[1;33m[\u001b[0m\u001b[1;36m0\u001b[0m\u001b[1;33m,\u001b[0m\u001b[1;36m0\u001b[0m\u001b[1;33m]\u001b[0m\u001b[1;33m)\u001b[0m\u001b[1;33m\u001b[0m\u001b[1;33m\u001b[0m\u001b[0m\n\u001b[0m\u001b[0;32m      3\u001b[0m \u001b[0msns\u001b[0m\u001b[1;33m.\u001b[0m\u001b[0mhistplot\u001b[0m\u001b[1;33m(\u001b[0m\u001b[0mdata\u001b[0m\u001b[1;33m[\u001b[0m\u001b[1;34m'socialNbFollows'\u001b[0m\u001b[1;33m]\u001b[0m\u001b[1;33m,\u001b[0m\u001b[0maxes\u001b[0m \u001b[1;33m=\u001b[0m \u001b[1;33m[\u001b[0m\u001b[1;36m0\u001b[0m\u001b[1;33m,\u001b[0m\u001b[1;36m1\u001b[0m\u001b[1;33m]\u001b[0m\u001b[1;33m)\u001b[0m\u001b[1;33m\u001b[0m\u001b[1;33m\u001b[0m\u001b[0m\n\u001b[0;32m      4\u001b[0m \u001b[1;31m# sns.histplot(data['socialProductsLiked'],axes = [0,2])\u001b[0m\u001b[1;33m\u001b[0m\u001b[1;33m\u001b[0m\u001b[1;33m\u001b[0m\u001b[0m\n\u001b[0;32m      5\u001b[0m \u001b[0msns\u001b[0m\u001b[1;33m.\u001b[0m\u001b[0mhistplot\u001b[0m\u001b[1;33m(\u001b[0m\u001b[0mdata\u001b[0m\u001b[1;33m[\u001b[0m\u001b[1;34m'productsListed'\u001b[0m\u001b[1;33m]\u001b[0m\u001b[1;33m,\u001b[0m\u001b[0maxes\u001b[0m \u001b[1;33m=\u001b[0m \u001b[1;33m[\u001b[0m\u001b[1;36m0\u001b[0m\u001b[1;33m,\u001b[0m\u001b[1;36m2\u001b[0m\u001b[1;33m]\u001b[0m\u001b[1;33m)\u001b[0m\u001b[1;33m\u001b[0m\u001b[1;33m\u001b[0m\u001b[0m\n",
      "\u001b[1;32mc:\\users\\aditya shakya\\appdata\\local\\programs\\python\\python39\\lib\\site-packages\\seaborn\\distributions.py\u001b[0m in \u001b[0;36mhistplot\u001b[1;34m(data, x, y, hue, weights, stat, bins, binwidth, binrange, discrete, cumulative, common_bins, common_norm, multiple, element, fill, shrink, kde, kde_kws, line_kws, thresh, pthresh, pmax, cbar, cbar_ax, cbar_kws, palette, hue_order, hue_norm, color, log_scale, legend, ax, **kwargs)\u001b[0m\n\u001b[0;32m   1421\u001b[0m     \u001b[1;32mif\u001b[0m \u001b[0mp\u001b[0m\u001b[1;33m.\u001b[0m\u001b[0munivariate\u001b[0m\u001b[1;33m:\u001b[0m\u001b[1;33m\u001b[0m\u001b[1;33m\u001b[0m\u001b[0m\n\u001b[0;32m   1422\u001b[0m \u001b[1;33m\u001b[0m\u001b[0m\n\u001b[1;32m-> 1423\u001b[1;33m         p.plot_univariate_histogram(\n\u001b[0m\u001b[0;32m   1424\u001b[0m             \u001b[0mmultiple\u001b[0m\u001b[1;33m=\u001b[0m\u001b[0mmultiple\u001b[0m\u001b[1;33m,\u001b[0m\u001b[1;33m\u001b[0m\u001b[1;33m\u001b[0m\u001b[0m\n\u001b[0;32m   1425\u001b[0m             \u001b[0melement\u001b[0m\u001b[1;33m=\u001b[0m\u001b[0melement\u001b[0m\u001b[1;33m,\u001b[0m\u001b[1;33m\u001b[0m\u001b[1;33m\u001b[0m\u001b[0m\n",
      "\u001b[1;32mc:\\users\\aditya shakya\\appdata\\local\\programs\\python\\python39\\lib\\site-packages\\seaborn\\distributions.py\u001b[0m in \u001b[0;36mplot_univariate_histogram\u001b[1;34m(self, multiple, element, fill, common_norm, common_bins, shrink, kde, kde_kws, color, legend, line_kws, estimate_kws, **plot_kws)\u001b[0m\n\u001b[0;32m    507\u001b[0m                         \u001b[0martist\u001b[0m \u001b[1;33m=\u001b[0m \u001b[0mmpl\u001b[0m\u001b[1;33m.\u001b[0m\u001b[0mpatches\u001b[0m\u001b[1;33m.\u001b[0m\u001b[0mRectangle\u001b[0m\u001b[1;33m\u001b[0m\u001b[1;33m\u001b[0m\u001b[0m\n\u001b[0;32m    508\u001b[0m                         \u001b[0mplot_kws\u001b[0m \u001b[1;33m=\u001b[0m \u001b[0m_normalize_kwargs\u001b[0m\u001b[1;33m(\u001b[0m\u001b[0mplot_kws\u001b[0m\u001b[1;33m,\u001b[0m \u001b[0martist\u001b[0m\u001b[1;33m)\u001b[0m\u001b[1;33m\u001b[0m\u001b[1;33m\u001b[0m\u001b[0m\n\u001b[1;32m--> 509\u001b[1;33m                         \u001b[0mscout\u001b[0m \u001b[1;33m=\u001b[0m \u001b[0mself\u001b[0m\u001b[1;33m.\u001b[0m\u001b[0max\u001b[0m\u001b[1;33m.\u001b[0m\u001b[0mfill_between\u001b[0m\u001b[1;33m(\u001b[0m\u001b[1;33m[\u001b[0m\u001b[1;33m]\u001b[0m\u001b[1;33m,\u001b[0m \u001b[1;33m[\u001b[0m\u001b[1;33m]\u001b[0m\u001b[1;33m,\u001b[0m \u001b[0mcolor\u001b[0m\u001b[1;33m=\u001b[0m\u001b[0mcolor\u001b[0m\u001b[1;33m,\u001b[0m \u001b[1;33m**\u001b[0m\u001b[0mplot_kws\u001b[0m\u001b[1;33m)\u001b[0m\u001b[1;33m\u001b[0m\u001b[1;33m\u001b[0m\u001b[0m\n\u001b[0m\u001b[0;32m    510\u001b[0m                         \u001b[0mdefault_color\u001b[0m \u001b[1;33m=\u001b[0m \u001b[0mtuple\u001b[0m\u001b[1;33m(\u001b[0m\u001b[0mscout\u001b[0m\u001b[1;33m.\u001b[0m\u001b[0mget_facecolor\u001b[0m\u001b[1;33m(\u001b[0m\u001b[1;33m)\u001b[0m\u001b[1;33m.\u001b[0m\u001b[0msqueeze\u001b[0m\u001b[1;33m(\u001b[0m\u001b[1;33m)\u001b[0m\u001b[1;33m)\u001b[0m\u001b[1;33m\u001b[0m\u001b[1;33m\u001b[0m\u001b[0m\n\u001b[0;32m    511\u001b[0m                 \u001b[1;32melse\u001b[0m\u001b[1;33m:\u001b[0m\u001b[1;33m\u001b[0m\u001b[1;33m\u001b[0m\u001b[0m\n",
      "\u001b[1;32mc:\\users\\aditya shakya\\appdata\\local\\programs\\python\\python39\\lib\\site-packages\\matplotlib\\__init__.py\u001b[0m in \u001b[0;36minner\u001b[1;34m(ax, data, *args, **kwargs)\u001b[0m\n\u001b[0;32m   1445\u001b[0m     \u001b[1;32mdef\u001b[0m \u001b[0minner\u001b[0m\u001b[1;33m(\u001b[0m\u001b[0max\u001b[0m\u001b[1;33m,\u001b[0m \u001b[1;33m*\u001b[0m\u001b[0margs\u001b[0m\u001b[1;33m,\u001b[0m \u001b[0mdata\u001b[0m\u001b[1;33m=\u001b[0m\u001b[1;32mNone\u001b[0m\u001b[1;33m,\u001b[0m \u001b[1;33m**\u001b[0m\u001b[0mkwargs\u001b[0m\u001b[1;33m)\u001b[0m\u001b[1;33m:\u001b[0m\u001b[1;33m\u001b[0m\u001b[1;33m\u001b[0m\u001b[0m\n\u001b[0;32m   1446\u001b[0m         \u001b[1;32mif\u001b[0m \u001b[0mdata\u001b[0m \u001b[1;32mis\u001b[0m \u001b[1;32mNone\u001b[0m\u001b[1;33m:\u001b[0m\u001b[1;33m\u001b[0m\u001b[1;33m\u001b[0m\u001b[0m\n\u001b[1;32m-> 1447\u001b[1;33m             \u001b[1;32mreturn\u001b[0m \u001b[0mfunc\u001b[0m\u001b[1;33m(\u001b[0m\u001b[0max\u001b[0m\u001b[1;33m,\u001b[0m \u001b[1;33m*\u001b[0m\u001b[0mmap\u001b[0m\u001b[1;33m(\u001b[0m\u001b[0msanitize_sequence\u001b[0m\u001b[1;33m,\u001b[0m \u001b[0margs\u001b[0m\u001b[1;33m)\u001b[0m\u001b[1;33m,\u001b[0m \u001b[1;33m**\u001b[0m\u001b[0mkwargs\u001b[0m\u001b[1;33m)\u001b[0m\u001b[1;33m\u001b[0m\u001b[1;33m\u001b[0m\u001b[0m\n\u001b[0m\u001b[0;32m   1448\u001b[0m \u001b[1;33m\u001b[0m\u001b[0m\n\u001b[0;32m   1449\u001b[0m         \u001b[0mbound\u001b[0m \u001b[1;33m=\u001b[0m \u001b[0mnew_sig\u001b[0m\u001b[1;33m.\u001b[0m\u001b[0mbind\u001b[0m\u001b[1;33m(\u001b[0m\u001b[0max\u001b[0m\u001b[1;33m,\u001b[0m \u001b[1;33m*\u001b[0m\u001b[0margs\u001b[0m\u001b[1;33m,\u001b[0m \u001b[1;33m**\u001b[0m\u001b[0mkwargs\u001b[0m\u001b[1;33m)\u001b[0m\u001b[1;33m\u001b[0m\u001b[1;33m\u001b[0m\u001b[0m\n",
      "\u001b[1;32mc:\\users\\aditya shakya\\appdata\\local\\programs\\python\\python39\\lib\\site-packages\\matplotlib\\axes\\_axes.py\u001b[0m in \u001b[0;36mfill_between\u001b[1;34m(self, x, y1, y2, where, interpolate, step, **kwargs)\u001b[0m\n\u001b[0;32m   5299\u001b[0m     def fill_between(self, x, y1, y2=0, where=None, interpolate=False,\n\u001b[0;32m   5300\u001b[0m                      step=None, **kwargs):\n\u001b[1;32m-> 5301\u001b[1;33m         return self._fill_between_x_or_y(\n\u001b[0m\u001b[0;32m   5302\u001b[0m             \u001b[1;34m\"x\"\u001b[0m\u001b[1;33m,\u001b[0m \u001b[0mx\u001b[0m\u001b[1;33m,\u001b[0m \u001b[0my1\u001b[0m\u001b[1;33m,\u001b[0m \u001b[0my2\u001b[0m\u001b[1;33m,\u001b[0m\u001b[1;33m\u001b[0m\u001b[1;33m\u001b[0m\u001b[0m\n\u001b[0;32m   5303\u001b[0m             where=where, interpolate=interpolate, step=step, **kwargs)\n",
      "\u001b[1;32mc:\\users\\aditya shakya\\appdata\\local\\programs\\python\\python39\\lib\\site-packages\\matplotlib\\axes\\_axes.py\u001b[0m in \u001b[0;36m_fill_between_x_or_y\u001b[1;34m(self, ind_dir, ind, dep1, dep2, where, interpolate, step, **kwargs)\u001b[0m\n\u001b[0;32m   5285\u001b[0m             \u001b[0mpolys\u001b[0m\u001b[1;33m.\u001b[0m\u001b[0mappend\u001b[0m\u001b[1;33m(\u001b[0m\u001b[0mpts\u001b[0m\u001b[1;33m)\u001b[0m\u001b[1;33m\u001b[0m\u001b[1;33m\u001b[0m\u001b[0m\n\u001b[0;32m   5286\u001b[0m \u001b[1;33m\u001b[0m\u001b[0m\n\u001b[1;32m-> 5287\u001b[1;33m         \u001b[0mcollection\u001b[0m \u001b[1;33m=\u001b[0m \u001b[0mmcoll\u001b[0m\u001b[1;33m.\u001b[0m\u001b[0mPolyCollection\u001b[0m\u001b[1;33m(\u001b[0m\u001b[0mpolys\u001b[0m\u001b[1;33m,\u001b[0m \u001b[1;33m**\u001b[0m\u001b[0mkwargs\u001b[0m\u001b[1;33m)\u001b[0m\u001b[1;33m\u001b[0m\u001b[1;33m\u001b[0m\u001b[0m\n\u001b[0m\u001b[0;32m   5288\u001b[0m \u001b[1;33m\u001b[0m\u001b[0m\n\u001b[0;32m   5289\u001b[0m         \u001b[1;31m# now update the datalim and autoscale\u001b[0m\u001b[1;33m\u001b[0m\u001b[1;33m\u001b[0m\u001b[1;33m\u001b[0m\u001b[0m\n",
      "\u001b[1;32mc:\\users\\aditya shakya\\appdata\\local\\programs\\python\\python39\\lib\\site-packages\\matplotlib\\collections.py\u001b[0m in \u001b[0;36m__init__\u001b[1;34m(self, verts, sizes, closed, **kwargs)\u001b[0m\n\u001b[0;32m   1121\u001b[0m             \u001b[0mForwarded\u001b[0m \u001b[0mto\u001b[0m\u001b[0;31m \u001b[0m\u001b[0;31m`\u001b[0m\u001b[1;33m.\u001b[0m\u001b[0mCollection\u001b[0m\u001b[0;31m`\u001b[0m\u001b[1;33m.\u001b[0m\u001b[1;33m\u001b[0m\u001b[1;33m\u001b[0m\u001b[0m\n\u001b[0;32m   1122\u001b[0m         \"\"\"\n\u001b[1;32m-> 1123\u001b[1;33m         \u001b[0mCollection\u001b[0m\u001b[1;33m.\u001b[0m\u001b[0m__init__\u001b[0m\u001b[1;33m(\u001b[0m\u001b[0mself\u001b[0m\u001b[1;33m,\u001b[0m \u001b[1;33m**\u001b[0m\u001b[0mkwargs\u001b[0m\u001b[1;33m)\u001b[0m\u001b[1;33m\u001b[0m\u001b[1;33m\u001b[0m\u001b[0m\n\u001b[0m\u001b[0;32m   1124\u001b[0m         \u001b[0mself\u001b[0m\u001b[1;33m.\u001b[0m\u001b[0mset_sizes\u001b[0m\u001b[1;33m(\u001b[0m\u001b[0msizes\u001b[0m\u001b[1;33m)\u001b[0m\u001b[1;33m\u001b[0m\u001b[1;33m\u001b[0m\u001b[0m\n\u001b[0;32m   1125\u001b[0m         \u001b[0mself\u001b[0m\u001b[1;33m.\u001b[0m\u001b[0mset_verts\u001b[0m\u001b[1;33m(\u001b[0m\u001b[0mverts\u001b[0m\u001b[1;33m,\u001b[0m \u001b[0mclosed\u001b[0m\u001b[1;33m)\u001b[0m\u001b[1;33m\u001b[0m\u001b[1;33m\u001b[0m\u001b[0m\n",
      "\u001b[1;32mc:\\users\\aditya shakya\\appdata\\local\\programs\\python\\python39\\lib\\site-packages\\matplotlib\\cbook\\deprecation.py\u001b[0m in \u001b[0;36mwrapper\u001b[1;34m(*inner_args, **inner_kwargs)\u001b[0m\n\u001b[0;32m    409\u001b[0m                          \u001b[1;32melse\u001b[0m \u001b[0mdeprecation_addendum\u001b[0m\u001b[1;33m,\u001b[0m\u001b[1;33m\u001b[0m\u001b[1;33m\u001b[0m\u001b[0m\n\u001b[0;32m    410\u001b[0m                 **kwargs)\n\u001b[1;32m--> 411\u001b[1;33m         \u001b[1;32mreturn\u001b[0m \u001b[0mfunc\u001b[0m\u001b[1;33m(\u001b[0m\u001b[1;33m*\u001b[0m\u001b[0minner_args\u001b[0m\u001b[1;33m,\u001b[0m \u001b[1;33m**\u001b[0m\u001b[0minner_kwargs\u001b[0m\u001b[1;33m)\u001b[0m\u001b[1;33m\u001b[0m\u001b[1;33m\u001b[0m\u001b[0m\n\u001b[0m\u001b[0;32m    412\u001b[0m \u001b[1;33m\u001b[0m\u001b[0m\n\u001b[0;32m    413\u001b[0m     \u001b[1;32mreturn\u001b[0m \u001b[0mwrapper\u001b[0m\u001b[1;33m\u001b[0m\u001b[1;33m\u001b[0m\u001b[0m\n",
      "\u001b[1;32mc:\\users\\aditya shakya\\appdata\\local\\programs\\python\\python39\\lib\\site-packages\\matplotlib\\collections.py\u001b[0m in \u001b[0;36m__init__\u001b[1;34m(self, edgecolors, facecolors, linewidths, linestyles, capstyle, joinstyle, antialiaseds, offsets, transOffset, norm, cmap, pickradius, hatch, urls, offset_position, zorder, **kwargs)\u001b[0m\n\u001b[0;32m    211\u001b[0m \u001b[1;33m\u001b[0m\u001b[0m\n\u001b[0;32m    212\u001b[0m         \u001b[0mself\u001b[0m\u001b[1;33m.\u001b[0m\u001b[0m_path_effects\u001b[0m \u001b[1;33m=\u001b[0m \u001b[1;32mNone\u001b[0m\u001b[1;33m\u001b[0m\u001b[1;33m\u001b[0m\u001b[0m\n\u001b[1;32m--> 213\u001b[1;33m         \u001b[0mself\u001b[0m\u001b[1;33m.\u001b[0m\u001b[0mupdate\u001b[0m\u001b[1;33m(\u001b[0m\u001b[0mkwargs\u001b[0m\u001b[1;33m)\u001b[0m\u001b[1;33m\u001b[0m\u001b[1;33m\u001b[0m\u001b[0m\n\u001b[0m\u001b[0;32m    214\u001b[0m         \u001b[0mself\u001b[0m\u001b[1;33m.\u001b[0m\u001b[0m_paths\u001b[0m \u001b[1;33m=\u001b[0m \u001b[1;32mNone\u001b[0m\u001b[1;33m\u001b[0m\u001b[1;33m\u001b[0m\u001b[0m\n\u001b[0;32m    215\u001b[0m \u001b[1;33m\u001b[0m\u001b[0m\n",
      "\u001b[1;32mc:\\users\\aditya shakya\\appdata\\local\\programs\\python\\python39\\lib\\site-packages\\matplotlib\\artist.py\u001b[0m in \u001b[0;36mupdate\u001b[1;34m(self, props)\u001b[0m\n\u001b[0;32m    999\u001b[0m         \u001b[1;32mif\u001b[0m \u001b[0mret\u001b[0m\u001b[1;33m:\u001b[0m\u001b[1;33m\u001b[0m\u001b[1;33m\u001b[0m\u001b[0m\n\u001b[0;32m   1000\u001b[0m             \u001b[0mself\u001b[0m\u001b[1;33m.\u001b[0m\u001b[0mpchanged\u001b[0m\u001b[1;33m(\u001b[0m\u001b[1;33m)\u001b[0m\u001b[1;33m\u001b[0m\u001b[1;33m\u001b[0m\u001b[0m\n\u001b[1;32m-> 1001\u001b[1;33m             \u001b[0mself\u001b[0m\u001b[1;33m.\u001b[0m\u001b[0mstale\u001b[0m \u001b[1;33m=\u001b[0m \u001b[1;32mTrue\u001b[0m\u001b[1;33m\u001b[0m\u001b[1;33m\u001b[0m\u001b[0m\n\u001b[0m\u001b[0;32m   1002\u001b[0m         \u001b[1;32mreturn\u001b[0m \u001b[0mret\u001b[0m\u001b[1;33m\u001b[0m\u001b[1;33m\u001b[0m\u001b[0m\n\u001b[0;32m   1003\u001b[0m \u001b[1;33m\u001b[0m\u001b[0m\n",
      "\u001b[1;32mc:\\users\\aditya shakya\\appdata\\local\\programs\\python\\python39\\lib\\site-packages\\matplotlib\\artist.py\u001b[0m in \u001b[0;36mstale\u001b[1;34m(self, val)\u001b[0m\n\u001b[0;32m    222\u001b[0m \u001b[1;33m\u001b[0m\u001b[0m\n\u001b[0;32m    223\u001b[0m         \u001b[1;32mif\u001b[0m \u001b[0mval\u001b[0m \u001b[1;32mand\u001b[0m \u001b[0mself\u001b[0m\u001b[1;33m.\u001b[0m\u001b[0mstale_callback\u001b[0m \u001b[1;32mis\u001b[0m \u001b[1;32mnot\u001b[0m \u001b[1;32mNone\u001b[0m\u001b[1;33m:\u001b[0m\u001b[1;33m\u001b[0m\u001b[1;33m\u001b[0m\u001b[0m\n\u001b[1;32m--> 224\u001b[1;33m             \u001b[0mself\u001b[0m\u001b[1;33m.\u001b[0m\u001b[0mstale_callback\u001b[0m\u001b[1;33m(\u001b[0m\u001b[0mself\u001b[0m\u001b[1;33m,\u001b[0m \u001b[0mval\u001b[0m\u001b[1;33m)\u001b[0m\u001b[1;33m\u001b[0m\u001b[1;33m\u001b[0m\u001b[0m\n\u001b[0m\u001b[0;32m    225\u001b[0m \u001b[1;33m\u001b[0m\u001b[0m\n\u001b[0;32m    226\u001b[0m     \u001b[1;32mdef\u001b[0m \u001b[0mget_window_extent\u001b[0m\u001b[1;33m(\u001b[0m\u001b[0mself\u001b[0m\u001b[1;33m,\u001b[0m \u001b[0mrenderer\u001b[0m\u001b[1;33m)\u001b[0m\u001b[1;33m:\u001b[0m\u001b[1;33m\u001b[0m\u001b[1;33m\u001b[0m\u001b[0m\n",
      "\u001b[1;32mc:\\users\\aditya shakya\\appdata\\local\\programs\\python\\python39\\lib\\site-packages\\matplotlib\\artist.py\u001b[0m in \u001b[0;36m_stale_axes_callback\u001b[1;34m(self, val)\u001b[0m\n\u001b[0;32m     52\u001b[0m \u001b[1;32mdef\u001b[0m \u001b[0m_stale_axes_callback\u001b[0m\u001b[1;33m(\u001b[0m\u001b[0mself\u001b[0m\u001b[1;33m,\u001b[0m \u001b[0mval\u001b[0m\u001b[1;33m)\u001b[0m\u001b[1;33m:\u001b[0m\u001b[1;33m\u001b[0m\u001b[1;33m\u001b[0m\u001b[0m\n\u001b[0;32m     53\u001b[0m     \u001b[1;32mif\u001b[0m \u001b[0mself\u001b[0m\u001b[1;33m.\u001b[0m\u001b[0maxes\u001b[0m\u001b[1;33m:\u001b[0m\u001b[1;33m\u001b[0m\u001b[1;33m\u001b[0m\u001b[0m\n\u001b[1;32m---> 54\u001b[1;33m         \u001b[0mself\u001b[0m\u001b[1;33m.\u001b[0m\u001b[0maxes\u001b[0m\u001b[1;33m.\u001b[0m\u001b[0mstale\u001b[0m \u001b[1;33m=\u001b[0m \u001b[0mval\u001b[0m\u001b[1;33m\u001b[0m\u001b[1;33m\u001b[0m\u001b[0m\n\u001b[0m\u001b[0;32m     55\u001b[0m \u001b[1;33m\u001b[0m\u001b[0m\n\u001b[0;32m     56\u001b[0m \u001b[1;33m\u001b[0m\u001b[0m\n",
      "\u001b[1;31mAttributeError\u001b[0m: 'list' object has no attribute 'stale'"
     ]
    },
    {
     "data": {
      "image/png": "[encoded data removed]",
      "text/plain": [
       "<Figure size 864x1152 with 12 Axes>"
      ]
     },
     "metadata": {
      "needs_background": "light"
     },
     "output_type": "display_data"
    }
   ],
   "source": [
    "fig,axes = plt.subplots(nrows = 4,ncols = 3,figsize = (12,16))\n",
    "sns.histplot(data['socialNbFollowers'],axes = [0,0])\n",
    "sns.histplot(data['socialNbFollows'],axes = [0,1])\n",
    "# sns.histplot(data['socialProductsLiked'],axes = [0,2])\n",
    "sns.histplot(data['productsListed'],axes = [0,2])\n",
    "sns.histplot(data['productSold'],axes = [1,0])\n",
    "sns.histplot(data['prodcutsPassRate'],axes = [1,1])\n",
    "sns.histplot(data['productsWished'],axes = [1,2])\n",
    "sns.histplot(data['productsBought'],axes = [2,0])\n",
    "sns.histplot(data['civilityGenderId'],axes = [2,1])\n",
    "sns.histplot(data['daySinceLastLogin'],axes = [2,2])\n",
    "sns.histplot(data['seniority'],axes = [3,0])\n",
    "sns.histplot(data['seniorityAsMonths'],axes = [3,1])\n",
    "sns.histplot(data['seniorityAsYears'],axes = [3,1])\n",
    "axes[0, 0].set_title('socialNbFollowers')\n",
    "axes[0, 1].set_title('socialNbFollows')\n",
    "axes[0, 2].set_title('productsListed')\n",
    "axes[1, 0].set_title('productsSold')\n",
    "axes[1, 1].set_title('productsPassRate')\n",
    "axes[1, 2].set_title('productsWished')\n",
    "axes[2, 0].set_title('productsBought')\n",
    "axes[2, 1].set_title('daysSinceLastLogin')\n",
    "axes[2, 2].set_title('seniority')\n",
    "axes[3, 0].set_title('seniorityAsMonths')\n",
    "axes[3, 1].set_title('seniorityAsYears')\n",
    "plt.show()"
   ]
  },
  {
   "cell_type": "code",
   "execution_count": 45,
   "metadata": {},
   "outputs": [
    {
     "data": {
      "image/png": "[encoded data removed]",
      "text/plain": [
       "<Figure size 432x288 with 1 Axes>"
      ]
     },
     "metadata": {
      "needs_background": "light"
     },
     "output_type": "display_data"
    }
   ],
   "source": [
    "plt.scatter(data['socialNbFollowers'],data['productsListed'])\n",
    "colors = np.random.uniform(15,80)\n",
    "plt.xlabel('socialNbFollowers')\n",
    "plt.ylabel('productsListed')\n",
    "plt.title('Relationship:socialNbFollowers vs productsListed')\n",
    "plt.show()"
   ]
  },
  {
   "cell_type": "markdown",
   "metadata": {},
   "source": [
    "# Marker in scatter plot"
   ]
  },
  {
   "cell_type": "code",
   "execution_count": 48,
   "metadata": {},
   "outputs": [
    {
     "name": "stdout",
     "output_type": "stream",
     "text": [
      "_internal.classic_mode\n",
      "agg.path.chunksize\n",
      "animation.avconv_args\n",
      "animation.avconv_path\n",
      "animation.bitrate\n",
      "animation.codec\n",
      "animation.convert_args\n",
      "animation.convert_path\n",
      "animation.embed_limit\n",
      "animation.ffmpeg_args\n",
      "animation.ffmpeg_path\n",
      "animation.frame_format\n",
      "animation.html\n",
      "animation.html_args\n",
      "animation.writer\n",
      "axes.autolimit_mode\n",
      "axes.axisbelow\n",
      "axes.edgecolor\n",
      "axes.facecolor\n",
      "axes.formatter.limits\n",
      "axes.formatter.min_exponent\n",
      "axes.formatter.offset_threshold\n",
      "axes.formatter.use_locale\n",
      "axes.formatter.use_mathtext\n",
      "axes.formatter.useoffset\n",
      "axes.grid\n",
      "axes.grid.axis\n",
      "axes.grid.which\n",
      "axes.labelcolor\n",
      "axes.labelpad\n",
      "axes.labelsize\n",
      "axes.labelweight\n",
      "axes.linewidth\n",
      "axes.prop_cycle\n",
      "axes.spines.bottom\n",
      "axes.spines.left\n",
      "axes.spines.right\n",
      "axes.spines.top\n",
      "axes.titlecolor\n",
      "axes.titlelocation\n",
      "axes.titlepad\n",
      "axes.titlesize\n",
      "axes.titleweight\n",
      "axes.titley\n",
      "axes.unicode_minus\n",
      "axes.xmargin\n",
      "axes.ymargin\n",
      "axes3d.grid\n",
      "backend\n",
      "backend_fallback\n",
      "boxplot.bootstrap\n",
      "boxplot.boxprops.color\n",
      "boxplot.boxprops.linestyle\n",
      "boxplot.boxprops.linewidth\n",
      "boxplot.capprops.color\n",
      "boxplot.capprops.linestyle\n",
      "boxplot.capprops.linewidth\n",
      "boxplot.flierprops.color\n",
      "boxplot.flierprops.linestyle\n",
      "boxplot.flierprops.linewidth\n",
      "boxplot.flierprops.marker\n",
      "boxplot.flierprops.markeredgecolor\n",
      "boxplot.flierprops.markeredgewidth\n",
      "boxplot.flierprops.markerfacecolor\n",
      "boxplot.flierprops.markersize\n",
      "boxplot.meanline\n",
      "boxplot.meanprops.color\n",
      "boxplot.meanprops.linestyle\n",
      "boxplot.meanprops.linewidth\n",
      "boxplot.meanprops.marker\n",
      "boxplot.meanprops.markeredgecolor\n",
      "boxplot.meanprops.markerfacecolor\n",
      "boxplot.meanprops.markersize\n",
      "boxplot.medianprops.color\n",
      "boxplot.medianprops.linestyle\n",
      "boxplot.medianprops.linewidth\n",
      "boxplot.notch\n",
      "boxplot.patchartist\n",
      "boxplot.showbox\n",
      "boxplot.showcaps\n",
      "boxplot.showfliers\n",
      "boxplot.showmeans\n",
      "boxplot.vertical\n",
      "boxplot.whiskerprops.color\n",
      "boxplot.whiskerprops.linestyle\n",
      "boxplot.whiskerprops.linewidth\n",
      "boxplot.whiskers\n",
      "contour.corner_mask\n",
      "contour.linewidth\n",
      "contour.negative_linestyle\n",
      "date.autoformatter.day\n",
      "date.autoformatter.hour\n",
      "date.autoformatter.microsecond\n",
      "date.autoformatter.minute\n",
      "date.autoformatter.month\n",
      "date.autoformatter.second\n",
      "date.autoformatter.year\n",
      "date.epoch\n",
      "docstring.hardcopy\n",
      "errorbar.capsize\n",
      "figure.autolayout\n",
      "figure.constrained_layout.h_pad\n",
      "figure.constrained_layout.hspace\n",
      "figure.constrained_layout.use\n",
      "figure.constrained_layout.w_pad\n",
      "figure.constrained_layout.wspace\n",
      "figure.dpi\n",
      "figure.edgecolor\n",
      "figure.facecolor\n",
      "figure.figsize\n",
      "figure.frameon\n",
      "figure.max_open_warning\n",
      "figure.raise_window\n",
      "figure.subplot.bottom\n",
      "figure.subplot.hspace\n",
      "figure.subplot.left\n",
      "figure.subplot.right\n",
      "figure.subplot.top\n",
      "figure.subplot.wspace\n",
      "figure.titlesize\n",
      "figure.titleweight\n",
      "font.cursive\n",
      "font.family\n",
      "font.fantasy\n",
      "font.monospace\n",
      "font.sans-serif\n",
      "font.serif\n",
      "font.size\n",
      "font.stretch\n",
      "font.style\n",
      "font.variant\n",
      "font.weight\n",
      "grid.alpha\n",
      "grid.color\n",
      "grid.linestyle\n",
      "grid.linewidth\n",
      "hatch.color\n",
      "hatch.linewidth\n",
      "hist.bins\n",
      "image.aspect\n",
      "image.cmap\n",
      "image.composite_image\n",
      "image.interpolation\n",
      "image.lut\n",
      "image.origin\n",
      "image.resample\n",
      "interactive\n",
      "keymap.all_axes\n",
      "keymap.back\n",
      "keymap.copy\n",
      "keymap.forward\n",
      "keymap.fullscreen\n",
      "keymap.grid\n",
      "keymap.grid_minor\n",
      "keymap.help\n",
      "keymap.home\n",
      "keymap.pan\n",
      "keymap.quit\n",
      "keymap.quit_all\n",
      "keymap.save\n",
      "keymap.xscale\n",
      "keymap.yscale\n",
      "keymap.zoom\n",
      "legend.borderaxespad\n",
      "legend.borderpad\n",
      "legend.columnspacing\n",
      "legend.edgecolor\n",
      "legend.facecolor\n",
      "legend.fancybox\n",
      "legend.fontsize\n",
      "legend.framealpha\n",
      "legend.frameon\n",
      "legend.handleheight\n",
      "legend.handlelength\n",
      "legend.handletextpad\n",
      "legend.labelspacing\n",
      "legend.loc\n",
      "legend.markerscale\n",
      "legend.numpoints\n",
      "legend.scatterpoints\n",
      "legend.shadow\n",
      "legend.title_fontsize\n",
      "lines.antialiased\n",
      "lines.color\n",
      "lines.dash_capstyle\n",
      "lines.dash_joinstyle\n",
      "lines.dashdot_pattern\n",
      "lines.dashed_pattern\n",
      "lines.dotted_pattern\n",
      "lines.linestyle\n",
      "lines.linewidth\n",
      "lines.marker\n",
      "lines.markeredgecolor\n",
      "lines.markeredgewidth\n",
      "lines.markerfacecolor\n",
      "lines.markersize\n",
      "lines.scale_dashes\n",
      "lines.solid_capstyle\n",
      "lines.solid_joinstyle\n",
      "markers.fillstyle\n",
      "mathtext.bf\n",
      "mathtext.cal\n",
      "mathtext.default\n",
      "mathtext.fallback\n",
      "mathtext.fallback_to_cm\n",
      "mathtext.fontset\n",
      "mathtext.it\n",
      "mathtext.rm\n",
      "mathtext.sf\n",
      "mathtext.tt\n",
      "mpl_toolkits.legacy_colorbar\n",
      "patch.antialiased\n",
      "patch.edgecolor\n",
      "patch.facecolor\n",
      "patch.force_edgecolor\n",
      "patch.linewidth\n",
      "path.effects\n",
      "path.simplify\n",
      "path.simplify_threshold\n",
      "path.sketch\n",
      "path.snap\n",
      "pcolor.shading\n",
      "pdf.compression\n",
      "pdf.fonttype\n",
      "pdf.inheritcolor\n",
      "pdf.use14corefonts\n",
      "pgf.preamble\n",
      "pgf.rcfonts\n",
      "pgf.texsystem\n",
      "polaraxes.grid\n",
      "ps.distiller.res\n",
      "ps.fonttype\n",
      "ps.papersize\n",
      "ps.useafm\n",
      "ps.usedistiller\n",
      "savefig.bbox\n",
      "savefig.directory\n",
      "savefig.dpi\n",
      "savefig.edgecolor\n",
      "savefig.facecolor\n",
      "savefig.format\n",
      "savefig.jpeg_quality\n",
      "savefig.orientation\n",
      "savefig.pad_inches\n",
      "savefig.transparent\n",
      "scatter.edgecolors\n",
      "scatter.marker\n",
      "svg.fonttype\n",
      "svg.hashsalt\n",
      "svg.image_inline\n",
      "text.antialiased\n",
      "text.color\n",
      "text.hinting\n",
      "text.hinting_factor\n",
      "text.kerning_factor\n",
      "text.latex.preamble\n",
      "text.latex.preview\n",
      "text.usetex\n",
      "timezone\n",
      "tk.window_focus\n",
      "toolbar\n",
      "webagg.address\n",
      "webagg.open_in_browser\n",
      "webagg.port\n",
      "webagg.port_retries\n",
      "xaxis.labellocation\n",
      "xtick.alignment\n",
      "xtick.bottom\n",
      "xtick.color\n",
      "xtick.direction\n",
      "xtick.labelbottom\n",
      "xtick.labelsize\n",
      "xtick.labeltop\n",
      "xtick.major.bottom\n",
      "xtick.major.pad\n",
      "xtick.major.size\n",
      "xtick.major.top\n",
      "xtick.major.width\n",
      "xtick.minor.bottom\n",
      "xtick.minor.pad\n",
      "xtick.minor.size\n",
      "xtick.minor.top\n",
      "xtick.minor.visible\n",
      "xtick.minor.width\n",
      "xtick.top\n",
      "yaxis.labellocation\n",
      "ytick.alignment\n",
      "ytick.color\n",
      "ytick.direction\n",
      "ytick.labelleft\n",
      "ytick.labelright\n",
      "ytick.labelsize\n",
      "ytick.left\n",
      "ytick.major.left\n",
      "ytick.major.pad\n",
      "ytick.major.right\n",
      "ytick.major.size\n",
      "ytick.major.width\n",
      "ytick.minor.left\n",
      "ytick.minor.pad\n",
      "ytick.minor.right\n",
      "ytick.minor.size\n",
      "ytick.minor.visible\n",
      "ytick.minor.width\n",
      "ytick.right\n"
     ]
    }
   ],
   "source": [
    "import matplotlib.markers as mk\n",
    "for i in mk.rcParams:\n",
    "    print(i)"
   ]
  },
  {
   "cell_type": "code",
   "execution_count": 50,
   "metadata": {},
   "outputs": [
    {
     "data": {
      "image/png": "[encoded data removed]",
      "text/plain": [
       "<Figure size 432x288 with 1 Axes>"
      ]
     },
     "metadata": {
      "needs_background": "light"
     },
     "output_type": "display_data"
    }
   ],
   "source": [
    "import matplotlib.pyplot as plt\n",
    "import numpy as np\n",
    "\n",
    "# Fixing random state for reproducibility\n",
    "np.random.seed(19680801)\n",
    "\n",
    "\n",
    "rx, ry = 3., 1.\n",
    "area = rx * ry * np.pi\n",
    "theta = np.arange(0, 2 * np.pi + 0.01, 0.1)\n",
    "verts = np.column_stack([rx / area * np.cos(theta), ry / area * np.sin(theta)])\n",
    "\n",
    "x, y, s, c = np.random.rand(4, 30)\n",
    "s *= 10**2.\n",
    "\n",
    "fig, ax = plt.subplots()\n",
    "ax.scatter(x, y, s, c, marker=verts)\n",
    "\n",
    "plt.show()\n"
   ]
  },
  {
   "cell_type": "code",
   "execution_count": 51,
   "metadata": {},
   "outputs": [],
   "source": [
    "verts = np.column_stack([rx / area * np.cos(theta), ry / area * np.sin(theta)])"
   ]
  },
  {
   "cell_type": "code",
   "execution_count": 53,
   "metadata": {},
   "outputs": [
    {
     "data": {
      "image/png": "[encoded data removed]",
      "text/plain": [
       "<Figure size 432x288 with 1 Axes>"
      ]
     },
     "metadata": {
      "needs_background": "light"
     },
     "output_type": "display_data"
    }
   ],
   "source": [
    "import numpy as np\n",
    "import matplotlib.pyplot as plt\n",
    "import matplotlib.cbook as cbook\n",
    "\n",
    "# Load a numpy record array from yahoo csv data with fields date, open, high,\n",
    "# low, close, volume, adj_close from the mpl-data/sample_data directory. The\n",
    "# record array stores the date as an np.datetime64 with a day unit ('D') in\n",
    "# the date column.\n",
    "price_data = (cbook.get_sample_data('goog.npz', np_load=True)['price_data']\n",
    "              .view(np.recarray))\n",
    "price_data = price_data[-250:]  # get the most recent 250 trading days\n",
    "\n",
    "delta1 = np.diff(price_data.adj_close) / price_data.adj_close[:-1]\n",
    "\n",
    "# Marker size in units of points^2\n",
    "volume = (15 * price_data.volume[:-2] / price_data.volume[0])**2\n",
    "close = 0.003 * price_data.close[:-2] / 0.003 * price_data.open[:-2]\n",
    "\n",
    "fig, ax = plt.subplots()\n",
    "ax.scatter(delta1[:-1], delta1[1:], c=close, s=volume, alpha=0.5)\n",
    "\n",
    "ax.set_xlabel(r'$\\Delta_i$', fontsize=15)\n",
    "ax.set_ylabel(r'$\\Delta_{i+1}$', fontsize=15)\n",
    "ax.set_title('Volume and percent change')\n",
    "\n",
    "ax.grid(True)\n",
    "fig.tight_layout()\n",
    "\n",
    "plt.show()"
   ]
  },
  {
   "cell_type": "code",
   "execution_count": 54,
   "metadata": {},
   "outputs": [
    {
     "data": {
      "text/html": [
       "<div>\n",
       "<style scoped>\n",
       "    .dataframe tbody tr th:only-of-type {\n",
       "        vertical-align: middle;\n",
       "    }\n",
       "\n",
       "    .dataframe tbody tr th {\n",
       "        vertical-align: top;\n",
       "    }\n",
       "\n",
       "    .dataframe thead th {\n",
       "        text-align: right;\n",
       "    }\n",
       "</style>\n",
       "<table border=\"1\" class=\"dataframe\">\n",
       "  <thead>\n",
       "    <tr style=\"text-align: right;\">\n",
       "      <th></th>\n",
       "      <th>country</th>\n",
       "      <th>language</th>\n",
       "      <th>socialNbFollowers</th>\n",
       "      <th>socialNbFollows</th>\n",
       "      <th>socialProductsLiked</th>\n",
       "      <th>productsListed</th>\n",
       "      <th>productsSold</th>\n",
       "      <th>productsPassRate</th>\n",
       "      <th>productsWished</th>\n",
       "      <th>productsBought</th>\n",
       "      <th>...</th>\n",
       "      <th>civilityTitle</th>\n",
       "      <th>hasAnyApp</th>\n",
       "      <th>hasAndroidApp</th>\n",
       "      <th>hasIosApp</th>\n",
       "      <th>hasProfilePicture</th>\n",
       "      <th>daysSinceLastLogin</th>\n",
       "      <th>seniority</th>\n",
       "      <th>seniorityAsMonths</th>\n",
       "      <th>seniorityAsYears</th>\n",
       "      <th>countryCode</th>\n",
       "    </tr>\n",
       "  </thead>\n",
       "  <tbody>\n",
       "    <tr>\n",
       "      <th>0</th>\n",
       "      <td>Etats-Unis</td>\n",
       "      <td>en</td>\n",
       "      <td>3</td>\n",
       "      <td>8</td>\n",
       "      <td>0</td>\n",
       "      <td>0</td>\n",
       "      <td>0</td>\n",
       "      <td>0.0</td>\n",
       "      <td>0</td>\n",
       "      <td>0</td>\n",
       "      <td>...</td>\n",
       "      <td>mrs</td>\n",
       "      <td>False</td>\n",
       "      <td>False</td>\n",
       "      <td>False</td>\n",
       "      <td>True</td>\n",
       "      <td>709</td>\n",
       "      <td>3205</td>\n",
       "      <td>106.83</td>\n",
       "      <td>8.9</td>\n",
       "      <td>us</td>\n",
       "    </tr>\n",
       "    <tr>\n",
       "      <th>1</th>\n",
       "      <td>Allemagne</td>\n",
       "      <td>de</td>\n",
       "      <td>3</td>\n",
       "      <td>8</td>\n",
       "      <td>0</td>\n",
       "      <td>0</td>\n",
       "      <td>0</td>\n",
       "      <td>0.0</td>\n",
       "      <td>0</td>\n",
       "      <td>0</td>\n",
       "      <td>...</td>\n",
       "      <td>mrs</td>\n",
       "      <td>False</td>\n",
       "      <td>False</td>\n",
       "      <td>False</td>\n",
       "      <td>True</td>\n",
       "      <td>709</td>\n",
       "      <td>3205</td>\n",
       "      <td>106.83</td>\n",
       "      <td>8.9</td>\n",
       "      <td>de</td>\n",
       "    </tr>\n",
       "    <tr>\n",
       "      <th>2</th>\n",
       "      <td>Suède</td>\n",
       "      <td>en</td>\n",
       "      <td>3</td>\n",
       "      <td>8</td>\n",
       "      <td>0</td>\n",
       "      <td>0</td>\n",
       "      <td>0</td>\n",
       "      <td>0.0</td>\n",
       "      <td>0</td>\n",
       "      <td>0</td>\n",
       "      <td>...</td>\n",
       "      <td>mr</td>\n",
       "      <td>True</td>\n",
       "      <td>False</td>\n",
       "      <td>True</td>\n",
       "      <td>True</td>\n",
       "      <td>689</td>\n",
       "      <td>3205</td>\n",
       "      <td>106.83</td>\n",
       "      <td>8.9</td>\n",
       "      <td>se</td>\n",
       "    </tr>\n",
       "    <tr>\n",
       "      <th>3</th>\n",
       "      <td>Turquie</td>\n",
       "      <td>en</td>\n",
       "      <td>3</td>\n",
       "      <td>8</td>\n",
       "      <td>0</td>\n",
       "      <td>0</td>\n",
       "      <td>0</td>\n",
       "      <td>0.0</td>\n",
       "      <td>0</td>\n",
       "      <td>0</td>\n",
       "      <td>...</td>\n",
       "      <td>mrs</td>\n",
       "      <td>False</td>\n",
       "      <td>False</td>\n",
       "      <td>False</td>\n",
       "      <td>True</td>\n",
       "      <td>709</td>\n",
       "      <td>3205</td>\n",
       "      <td>106.83</td>\n",
       "      <td>8.9</td>\n",
       "      <td>tr</td>\n",
       "    </tr>\n",
       "    <tr>\n",
       "      <th>4</th>\n",
       "      <td>France</td>\n",
       "      <td>en</td>\n",
       "      <td>3</td>\n",
       "      <td>8</td>\n",
       "      <td>0</td>\n",
       "      <td>0</td>\n",
       "      <td>0</td>\n",
       "      <td>0.0</td>\n",
       "      <td>0</td>\n",
       "      <td>0</td>\n",
       "      <td>...</td>\n",
       "      <td>mr</td>\n",
       "      <td>True</td>\n",
       "      <td>False</td>\n",
       "      <td>True</td>\n",
       "      <td>True</td>\n",
       "      <td>709</td>\n",
       "      <td>3205</td>\n",
       "      <td>106.83</td>\n",
       "      <td>8.9</td>\n",
       "      <td>fr</td>\n",
       "    </tr>\n",
       "  </tbody>\n",
       "</table>\n",
       "<p>5 rows × 22 columns</p>\n",
       "</div>"
      ],
      "text/plain": [
       "      country language  socialNbFollowers  socialNbFollows  \\\n",
       "0  Etats-Unis       en                  3                8   \n",
       "1   Allemagne       de                  3                8   \n",
       "2       Suède       en                  3                8   \n",
       "3     Turquie       en                  3                8   \n",
       "4      France       en                  3                8   \n",
       "\n",
       "   socialProductsLiked  productsListed  productsSold  productsPassRate  \\\n",
       "0                    0               0             0               0.0   \n",
       "1                    0               0             0               0.0   \n",
       "2                    0               0             0               0.0   \n",
       "3                    0               0             0               0.0   \n",
       "4                    0               0             0               0.0   \n",
       "\n",
       "   productsWished  productsBought  ... civilityTitle  hasAnyApp hasAndroidApp  \\\n",
       "0               0               0  ...           mrs      False         False   \n",
       "1               0               0  ...           mrs      False         False   \n",
       "2               0               0  ...            mr       True         False   \n",
       "3               0               0  ...           mrs      False         False   \n",
       "4               0               0  ...            mr       True         False   \n",
       "\n",
       "   hasIosApp  hasProfilePicture  daysSinceLastLogin  seniority  \\\n",
       "0      False               True                 709       3205   \n",
       "1      False               True                 709       3205   \n",
       "2       True               True                 689       3205   \n",
       "3      False               True                 709       3205   \n",
       "4       True               True                 709       3205   \n",
       "\n",
       "   seniorityAsMonths  seniorityAsYears  countryCode  \n",
       "0             106.83               8.9           us  \n",
       "1             106.83               8.9           de  \n",
       "2             106.83               8.9           se  \n",
       "3             106.83               8.9           tr  \n",
       "4             106.83               8.9           fr  \n",
       "\n",
       "[5 rows x 22 columns]"
      ]
     },
     "execution_count": 54,
     "metadata": {},
     "output_type": "execute_result"
    }
   ],
   "source": [
    "data.head()"
   ]
  },
  {
   "cell_type": "code",
   "execution_count": 55,
   "metadata": {},
   "outputs": [
    {
     "data": {
      "text/html": [
       "<div>\n",
       "<style scoped>\n",
       "    .dataframe tbody tr th:only-of-type {\n",
       "        vertical-align: middle;\n",
       "    }\n",
       "\n",
       "    .dataframe tbody tr th {\n",
       "        vertical-align: top;\n",
       "    }\n",
       "\n",
       "    .dataframe thead th {\n",
       "        text-align: right;\n",
       "    }\n",
       "</style>\n",
       "<table border=\"1\" class=\"dataframe\">\n",
       "  <thead>\n",
       "    <tr style=\"text-align: right;\">\n",
       "      <th></th>\n",
       "      <th>socialNbFollowers</th>\n",
       "      <th>socialNbFollows</th>\n",
       "      <th>socialProductsLiked</th>\n",
       "      <th>productsListed</th>\n",
       "      <th>productsSold</th>\n",
       "      <th>productsPassRate</th>\n",
       "      <th>productsWished</th>\n",
       "      <th>productsBought</th>\n",
       "      <th>civilityGenderId</th>\n",
       "      <th>daysSinceLastLogin</th>\n",
       "      <th>seniority</th>\n",
       "      <th>seniorityAsMonths</th>\n",
       "      <th>seniorityAsYears</th>\n",
       "    </tr>\n",
       "  </thead>\n",
       "  <tbody>\n",
       "    <tr>\n",
       "      <th>count</th>\n",
       "      <td>98913.000000</td>\n",
       "      <td>98913.000000</td>\n",
       "      <td>98913.000000</td>\n",
       "      <td>98913.000000</td>\n",
       "      <td>98913.000000</td>\n",
       "      <td>98913.000000</td>\n",
       "      <td>98913.000000</td>\n",
       "      <td>98913.000000</td>\n",
       "      <td>98913.000000</td>\n",
       "      <td>98913.000000</td>\n",
       "      <td>98913.000000</td>\n",
       "      <td>98913.000000</td>\n",
       "      <td>98913.000000</td>\n",
       "    </tr>\n",
       "    <tr>\n",
       "      <th>mean</th>\n",
       "      <td>3.432269</td>\n",
       "      <td>8.425677</td>\n",
       "      <td>4.420743</td>\n",
       "      <td>0.093304</td>\n",
       "      <td>0.121592</td>\n",
       "      <td>0.812303</td>\n",
       "      <td>1.562595</td>\n",
       "      <td>0.171929</td>\n",
       "      <td>1.773993</td>\n",
       "      <td>655.732310</td>\n",
       "      <td>3063.771870</td>\n",
       "      <td>102.125583</td>\n",
       "      <td>8.510424</td>\n",
       "    </tr>\n",
       "    <tr>\n",
       "      <th>std</th>\n",
       "      <td>3.882383</td>\n",
       "      <td>52.839572</td>\n",
       "      <td>181.030569</td>\n",
       "      <td>2.050144</td>\n",
       "      <td>2.126895</td>\n",
       "      <td>8.500205</td>\n",
       "      <td>25.192793</td>\n",
       "      <td>2.332266</td>\n",
       "      <td>0.428679</td>\n",
       "      <td>7407.430369</td>\n",
       "      <td>168.298621</td>\n",
       "      <td>5.609735</td>\n",
       "      <td>0.467863</td>\n",
       "    </tr>\n",
       "    <tr>\n",
       "      <th>min</th>\n",
       "      <td>3.000000</td>\n",
       "      <td>0.000000</td>\n",
       "      <td>0.000000</td>\n",
       "      <td>0.000000</td>\n",
       "      <td>0.000000</td>\n",
       "      <td>0.000000</td>\n",
       "      <td>0.000000</td>\n",
       "      <td>0.000000</td>\n",
       "      <td>1.000000</td>\n",
       "      <td>11.000000</td>\n",
       "      <td>2852.000000</td>\n",
       "      <td>95.070000</td>\n",
       "      <td>7.920000</td>\n",
       "    </tr>\n",
       "    <tr>\n",
       "      <th>25%</th>\n",
       "      <td>3.000000</td>\n",
       "      <td>8.000000</td>\n",
       "      <td>0.000000</td>\n",
       "      <td>0.000000</td>\n",
       "      <td>0.000000</td>\n",
       "      <td>0.000000</td>\n",
       "      <td>0.000000</td>\n",
       "      <td>0.000000</td>\n",
       "      <td>2.000000</td>\n",
       "      <td>572.000000</td>\n",
       "      <td>2857.000000</td>\n",
       "      <td>95.230000</td>\n",
       "      <td>7.940000</td>\n",
       "    </tr>\n",
       "    <tr>\n",
       "      <th>50%</th>\n",
       "      <td>3.000000</td>\n",
       "      <td>8.000000</td>\n",
       "      <td>0.000000</td>\n",
       "      <td>0.000000</td>\n",
       "      <td>0.000000</td>\n",
       "      <td>0.000000</td>\n",
       "      <td>0.000000</td>\n",
       "      <td>0.000000</td>\n",
       "      <td>2.000000</td>\n",
       "      <td>694.000000</td>\n",
       "      <td>3196.000000</td>\n",
       "      <td>106.530000</td>\n",
       "      <td>8.880000</td>\n",
       "    </tr>\n",
       "    <tr>\n",
       "      <th>75%</th>\n",
       "      <td>3.000000</td>\n",
       "      <td>8.000000</td>\n",
       "      <td>0.000000</td>\n",
       "      <td>0.000000</td>\n",
       "      <td>0.000000</td>\n",
       "      <td>0.000000</td>\n",
       "      <td>0.000000</td>\n",
       "      <td>0.000000</td>\n",
       "      <td>2.000000</td>\n",
       "      <td>702.000000</td>\n",
       "      <td>3201.000000</td>\n",
       "      <td>106.700000</td>\n",
       "      <td>8.890000</td>\n",
       "    </tr>\n",
       "    <tr>\n",
       "      <th>max</th>\n",
       "      <td>744.000000</td>\n",
       "      <td>13764.000000</td>\n",
       "      <td>51671.000000</td>\n",
       "      <td>244.000000</td>\n",
       "      <td>174.000000</td>\n",
       "      <td>100.000000</td>\n",
       "      <td>2635.000000</td>\n",
       "      <td>405.000000</td>\n",
       "      <td>3.000000</td>\n",
       "      <td>737028.000000</td>\n",
       "      <td>3205.000000</td>\n",
       "      <td>106.830000</td>\n",
       "      <td>8.900000</td>\n",
       "    </tr>\n",
       "  </tbody>\n",
       "</table>\n",
       "</div>"
      ],
      "text/plain": [
       "       socialNbFollowers  socialNbFollows  socialProductsLiked  \\\n",
       "count       98913.000000     98913.000000         98913.000000   \n",
       "mean            3.432269         8.425677             4.420743   \n",
       "std             3.882383        52.839572           181.030569   \n",
       "min             3.000000         0.000000             0.000000   \n",
       "25%             3.000000         8.000000             0.000000   \n",
       "50%             3.000000         8.000000             0.000000   \n",
       "75%             3.000000         8.000000             0.000000   \n",
       "max           744.000000     13764.000000         51671.000000   \n",
       "\n",
       "       productsListed  productsSold  productsPassRate  productsWished  \\\n",
       "count    98913.000000  98913.000000      98913.000000    98913.000000   \n",
       "mean         0.093304      0.121592          0.812303        1.562595   \n",
       "std          2.050144      2.126895          8.500205       25.192793   \n",
       "min          0.000000      0.000000          0.000000        0.000000   \n",
       "25%          0.000000      0.000000          0.000000        0.000000   \n",
       "50%          0.000000      0.000000          0.000000        0.000000   \n",
       "75%          0.000000      0.000000          0.000000        0.000000   \n",
       "max        244.000000    174.000000        100.000000     2635.000000   \n",
       "\n",
       "       productsBought  civilityGenderId  daysSinceLastLogin     seniority  \\\n",
       "count    98913.000000      98913.000000        98913.000000  98913.000000   \n",
       "mean         0.171929          1.773993          655.732310   3063.771870   \n",
       "std          2.332266          0.428679         7407.430369    168.298621   \n",
       "min          0.000000          1.000000           11.000000   2852.000000   \n",
       "25%          0.000000          2.000000          572.000000   2857.000000   \n",
       "50%          0.000000          2.000000          694.000000   3196.000000   \n",
       "75%          0.000000          2.000000          702.000000   3201.000000   \n",
       "max        405.000000          3.000000       737028.000000   3205.000000   \n",
       "\n",
       "       seniorityAsMonths  seniorityAsYears  \n",
       "count       98913.000000      98913.000000  \n",
       "mean          102.125583          8.510424  \n",
       "std             5.609735          0.467863  \n",
       "min            95.070000          7.920000  \n",
       "25%            95.230000          7.940000  \n",
       "50%           106.530000          8.880000  \n",
       "75%           106.700000          8.890000  \n",
       "max           106.830000          8.900000  "
      ]
     },
     "execution_count": 55,
     "metadata": {},
     "output_type": "execute_result"
    }
   ],
   "source": [
    "data.describe()"
   ]
  },
  {
   "cell_type": "code",
   "execution_count": null,
   "metadata": {},
   "outputs": [],
   "source": []
  }
 ],
 "metadata": {
  "kernelspec": {
   "display_name": "Python 3",
   "language": "python",
   "name": "python3"
  },
  "language_info": {
   "codemirror_mode": {
    "name": "ipython",
    "version": 3
   },
   "file_extension": ".py",
   "mimetype": "text/x-python",
   "name": "python",
   "nbconvert_exporter": "python",
   "pygments_lexer": "ipython3",
   "version": "3.9.0"
  }
 },
 "nbformat": 4,
 "nbformat_minor": 4
}

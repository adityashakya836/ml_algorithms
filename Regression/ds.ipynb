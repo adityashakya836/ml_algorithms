{
 "cells": [
  {
   "cell_type": "code",
   "execution_count": 33,
   "metadata": {},
   "outputs": [],
   "source": [
    "path = \"C:\\\\Users\\\\Aditya Shakya\\\\OneDrive\\\\Desktop\\\\datasets\\\\ds_salaries.csv\""
   ]
  },
  {
   "cell_type": "code",
   "execution_count": 34,
   "metadata": {},
   "outputs": [
    {
     "data": {
      "text/html": [
       "<div>\n",
       "<style scoped>\n",
       "    .dataframe tbody tr th:only-of-type {\n",
       "        vertical-align: middle;\n",
       "    }\n",
       "\n",
       "    .dataframe tbody tr th {\n",
       "        vertical-align: top;\n",
       "    }\n",
       "\n",
       "    .dataframe thead th {\n",
       "        text-align: right;\n",
       "    }\n",
       "</style>\n",
       "<table border=\"1\" class=\"dataframe\">\n",
       "  <thead>\n",
       "    <tr style=\"text-align: right;\">\n",
       "      <th></th>\n",
       "      <th>work_year</th>\n",
       "      <th>experience_level</th>\n",
       "      <th>employment_type</th>\n",
       "      <th>job_title</th>\n",
       "      <th>salary</th>\n",
       "      <th>salary_currency</th>\n",
       "      <th>salary_in_usd</th>\n",
       "      <th>employee_residence</th>\n",
       "      <th>remote_ratio</th>\n",
       "      <th>company_location</th>\n",
       "      <th>company_size</th>\n",
       "    </tr>\n",
       "  </thead>\n",
       "  <tbody>\n",
       "    <tr>\n",
       "      <th>0</th>\n",
       "      <td>2023</td>\n",
       "      <td>SE</td>\n",
       "      <td>FT</td>\n",
       "      <td>Principal Data Scientist</td>\n",
       "      <td>80000</td>\n",
       "      <td>EUR</td>\n",
       "      <td>85847</td>\n",
       "      <td>ES</td>\n",
       "      <td>100</td>\n",
       "      <td>ES</td>\n",
       "      <td>L</td>\n",
       "    </tr>\n",
       "    <tr>\n",
       "      <th>1</th>\n",
       "      <td>2023</td>\n",
       "      <td>MI</td>\n",
       "      <td>CT</td>\n",
       "      <td>ML Engineer</td>\n",
       "      <td>30000</td>\n",
       "      <td>USD</td>\n",
       "      <td>30000</td>\n",
       "      <td>US</td>\n",
       "      <td>100</td>\n",
       "      <td>US</td>\n",
       "      <td>S</td>\n",
       "    </tr>\n",
       "    <tr>\n",
       "      <th>2</th>\n",
       "      <td>2023</td>\n",
       "      <td>MI</td>\n",
       "      <td>CT</td>\n",
       "      <td>ML Engineer</td>\n",
       "      <td>25500</td>\n",
       "      <td>USD</td>\n",
       "      <td>25500</td>\n",
       "      <td>US</td>\n",
       "      <td>100</td>\n",
       "      <td>US</td>\n",
       "      <td>S</td>\n",
       "    </tr>\n",
       "    <tr>\n",
       "      <th>3</th>\n",
       "      <td>2023</td>\n",
       "      <td>SE</td>\n",
       "      <td>FT</td>\n",
       "      <td>Data Scientist</td>\n",
       "      <td>175000</td>\n",
       "      <td>USD</td>\n",
       "      <td>175000</td>\n",
       "      <td>CA</td>\n",
       "      <td>100</td>\n",
       "      <td>CA</td>\n",
       "      <td>M</td>\n",
       "    </tr>\n",
       "    <tr>\n",
       "      <th>4</th>\n",
       "      <td>2023</td>\n",
       "      <td>SE</td>\n",
       "      <td>FT</td>\n",
       "      <td>Data Scientist</td>\n",
       "      <td>120000</td>\n",
       "      <td>USD</td>\n",
       "      <td>120000</td>\n",
       "      <td>CA</td>\n",
       "      <td>100</td>\n",
       "      <td>CA</td>\n",
       "      <td>M</td>\n",
       "    </tr>\n",
       "  </tbody>\n",
       "</table>\n",
       "</div>"
      ],
      "text/plain": [
       "   work_year experience_level employment_type                 job_title  \\\n",
       "0       2023               SE              FT  Principal Data Scientist   \n",
       "1       2023               MI              CT               ML Engineer   \n",
       "2       2023               MI              CT               ML Engineer   \n",
       "3       2023               SE              FT            Data Scientist   \n",
       "4       2023               SE              FT            Data Scientist   \n",
       "\n",
       "   salary salary_currency  salary_in_usd employee_residence  remote_ratio  \\\n",
       "0   80000             EUR          85847                 ES           100   \n",
       "1   30000             USD          30000                 US           100   \n",
       "2   25500             USD          25500                 US           100   \n",
       "3  175000             USD         175000                 CA           100   \n",
       "4  120000             USD         120000                 CA           100   \n",
       "\n",
       "  company_location company_size  \n",
       "0               ES            L  \n",
       "1               US            S  \n",
       "2               US            S  \n",
       "3               CA            M  \n",
       "4               CA            M  "
      ]
     },
     "execution_count": 34,
     "metadata": {},
     "output_type": "execute_result"
    }
   ],
   "source": [
    "import pandas as pd\n",
    "import numpy as np\n",
    "df = pd.read_csv(path)\n",
    "df.head()"
   ]
  },
  {
   "cell_type": "code",
   "execution_count": 35,
   "metadata": {},
   "outputs": [
    {
     "data": {
      "text/plain": [
       "Index([], dtype='object')"
      ]
     },
     "execution_count": 35,
     "metadata": {},
     "output_type": "execute_result"
    }
   ],
   "source": [
    "df.columns[df.isna().any()]"
   ]
  },
  {
   "cell_type": "code",
   "execution_count": 36,
   "metadata": {},
   "outputs": [],
   "source": [
    "target_df = df['salary_in_usd']"
   ]
  },
  {
   "cell_type": "code",
   "execution_count": 37,
   "metadata": {},
   "outputs": [],
   "source": [
    "df.drop(['work_year','salary','salary_currency','salary_in_usd','remote_ratio'],axis = 1, inplace = True)"
   ]
  },
  {
   "cell_type": "code",
   "execution_count": 38,
   "metadata": {},
   "outputs": [
    {
     "data": {
      "text/html": [
       "<div>\n",
       "<style scoped>\n",
       "    .dataframe tbody tr th:only-of-type {\n",
       "        vertical-align: middle;\n",
       "    }\n",
       "\n",
       "    .dataframe tbody tr th {\n",
       "        vertical-align: top;\n",
       "    }\n",
       "\n",
       "    .dataframe thead th {\n",
       "        text-align: right;\n",
       "    }\n",
       "</style>\n",
       "<table border=\"1\" class=\"dataframe\">\n",
       "  <thead>\n",
       "    <tr style=\"text-align: right;\">\n",
       "      <th></th>\n",
       "      <th>experience_level</th>\n",
       "      <th>employment_type</th>\n",
       "      <th>job_title</th>\n",
       "      <th>employee_residence</th>\n",
       "      <th>company_location</th>\n",
       "      <th>company_size</th>\n",
       "    </tr>\n",
       "  </thead>\n",
       "  <tbody>\n",
       "    <tr>\n",
       "      <th>0</th>\n",
       "      <td>SE</td>\n",
       "      <td>FT</td>\n",
       "      <td>Principal Data Scientist</td>\n",
       "      <td>ES</td>\n",
       "      <td>ES</td>\n",
       "      <td>L</td>\n",
       "    </tr>\n",
       "    <tr>\n",
       "      <th>1</th>\n",
       "      <td>MI</td>\n",
       "      <td>CT</td>\n",
       "      <td>ML Engineer</td>\n",
       "      <td>US</td>\n",
       "      <td>US</td>\n",
       "      <td>S</td>\n",
       "    </tr>\n",
       "    <tr>\n",
       "      <th>2</th>\n",
       "      <td>MI</td>\n",
       "      <td>CT</td>\n",
       "      <td>ML Engineer</td>\n",
       "      <td>US</td>\n",
       "      <td>US</td>\n",
       "      <td>S</td>\n",
       "    </tr>\n",
       "    <tr>\n",
       "      <th>3</th>\n",
       "      <td>SE</td>\n",
       "      <td>FT</td>\n",
       "      <td>Data Scientist</td>\n",
       "      <td>CA</td>\n",
       "      <td>CA</td>\n",
       "      <td>M</td>\n",
       "    </tr>\n",
       "    <tr>\n",
       "      <th>4</th>\n",
       "      <td>SE</td>\n",
       "      <td>FT</td>\n",
       "      <td>Data Scientist</td>\n",
       "      <td>CA</td>\n",
       "      <td>CA</td>\n",
       "      <td>M</td>\n",
       "    </tr>\n",
       "  </tbody>\n",
       "</table>\n",
       "</div>"
      ],
      "text/plain": [
       "  experience_level employment_type                 job_title  \\\n",
       "0               SE              FT  Principal Data Scientist   \n",
       "1               MI              CT               ML Engineer   \n",
       "2               MI              CT               ML Engineer   \n",
       "3               SE              FT            Data Scientist   \n",
       "4               SE              FT            Data Scientist   \n",
       "\n",
       "  employee_residence company_location company_size  \n",
       "0                 ES               ES            L  \n",
       "1                 US               US            S  \n",
       "2                 US               US            S  \n",
       "3                 CA               CA            M  \n",
       "4                 CA               CA            M  "
      ]
     },
     "execution_count": 38,
     "metadata": {},
     "output_type": "execute_result"
    }
   ],
   "source": [
    "df.head()"
   ]
  },
  {
   "cell_type": "code",
   "execution_count": 39,
   "metadata": {},
   "outputs": [],
   "source": [
    "from sklearn.preprocessing import LabelEncoder\n",
    "le_exp = LabelEncoder()\n",
    "le_emp_type = LabelEncoder()\n",
    "le_job_title = LabelEncoder()\n",
    "le_emp_resi = LabelEncoder()\n",
    "le_com_loc = LabelEncoder()\n",
    "le_com_size = LabelEncoder()"
   ]
  },
  {
   "cell_type": "code",
   "execution_count": 40,
   "metadata": {},
   "outputs": [],
   "source": [
    "df['experience_level_n'] = le_exp.fit_transform(df['experience_level'])\n",
    "df['employement_type_n'] = le_exp.fit_transform(df['employment_type'])\n",
    "df['job_title_n'] = le_exp.fit_transform(df['job_title'])\n",
    "df['employee_residence_n'] = le_exp.fit_transform(df['employee_residence'])\n",
    "df['company_location_n'] = le_exp.fit_transform(df['company_location'])\n",
    "df['company_size_n'] = le_exp.fit_transform(df['company_size'])"
   ]
  },
  {
   "cell_type": "code",
   "execution_count": 41,
   "metadata": {},
   "outputs": [
    {
     "data": {
      "text/html": [
       "<div>\n",
       "<style scoped>\n",
       "    .dataframe tbody tr th:only-of-type {\n",
       "        vertical-align: middle;\n",
       "    }\n",
       "\n",
       "    .dataframe tbody tr th {\n",
       "        vertical-align: top;\n",
       "    }\n",
       "\n",
       "    .dataframe thead th {\n",
       "        text-align: right;\n",
       "    }\n",
       "</style>\n",
       "<table border=\"1\" class=\"dataframe\">\n",
       "  <thead>\n",
       "    <tr style=\"text-align: right;\">\n",
       "      <th></th>\n",
       "      <th>experience_level</th>\n",
       "      <th>employment_type</th>\n",
       "      <th>job_title</th>\n",
       "      <th>employee_residence</th>\n",
       "      <th>company_location</th>\n",
       "      <th>company_size</th>\n",
       "      <th>experience_level_n</th>\n",
       "      <th>employement_type_n</th>\n",
       "      <th>job_title_n</th>\n",
       "      <th>employee_residence_n</th>\n",
       "      <th>company_location_n</th>\n",
       "      <th>company_size_n</th>\n",
       "    </tr>\n",
       "  </thead>\n",
       "  <tbody>\n",
       "    <tr>\n",
       "      <th>0</th>\n",
       "      <td>SE</td>\n",
       "      <td>FT</td>\n",
       "      <td>Principal Data Scientist</td>\n",
       "      <td>ES</td>\n",
       "      <td>ES</td>\n",
       "      <td>L</td>\n",
       "      <td>3</td>\n",
       "      <td>2</td>\n",
       "      <td>84</td>\n",
       "      <td>26</td>\n",
       "      <td>25</td>\n",
       "      <td>0</td>\n",
       "    </tr>\n",
       "    <tr>\n",
       "      <th>1</th>\n",
       "      <td>MI</td>\n",
       "      <td>CT</td>\n",
       "      <td>ML Engineer</td>\n",
       "      <td>US</td>\n",
       "      <td>US</td>\n",
       "      <td>S</td>\n",
       "      <td>2</td>\n",
       "      <td>0</td>\n",
       "      <td>66</td>\n",
       "      <td>75</td>\n",
       "      <td>70</td>\n",
       "      <td>2</td>\n",
       "    </tr>\n",
       "    <tr>\n",
       "      <th>2</th>\n",
       "      <td>MI</td>\n",
       "      <td>CT</td>\n",
       "      <td>ML Engineer</td>\n",
       "      <td>US</td>\n",
       "      <td>US</td>\n",
       "      <td>S</td>\n",
       "      <td>2</td>\n",
       "      <td>0</td>\n",
       "      <td>66</td>\n",
       "      <td>75</td>\n",
       "      <td>70</td>\n",
       "      <td>2</td>\n",
       "    </tr>\n",
       "    <tr>\n",
       "      <th>3</th>\n",
       "      <td>SE</td>\n",
       "      <td>FT</td>\n",
       "      <td>Data Scientist</td>\n",
       "      <td>CA</td>\n",
       "      <td>CA</td>\n",
       "      <td>M</td>\n",
       "      <td>3</td>\n",
       "      <td>2</td>\n",
       "      <td>47</td>\n",
       "      <td>11</td>\n",
       "      <td>12</td>\n",
       "      <td>1</td>\n",
       "    </tr>\n",
       "    <tr>\n",
       "      <th>4</th>\n",
       "      <td>SE</td>\n",
       "      <td>FT</td>\n",
       "      <td>Data Scientist</td>\n",
       "      <td>CA</td>\n",
       "      <td>CA</td>\n",
       "      <td>M</td>\n",
       "      <td>3</td>\n",
       "      <td>2</td>\n",
       "      <td>47</td>\n",
       "      <td>11</td>\n",
       "      <td>12</td>\n",
       "      <td>1</td>\n",
       "    </tr>\n",
       "  </tbody>\n",
       "</table>\n",
       "</div>"
      ],
      "text/plain": [
       "  experience_level employment_type                 job_title  \\\n",
       "0               SE              FT  Principal Data Scientist   \n",
       "1               MI              CT               ML Engineer   \n",
       "2               MI              CT               ML Engineer   \n",
       "3               SE              FT            Data Scientist   \n",
       "4               SE              FT            Data Scientist   \n",
       "\n",
       "  employee_residence company_location company_size  experience_level_n  \\\n",
       "0                 ES               ES            L                   3   \n",
       "1                 US               US            S                   2   \n",
       "2                 US               US            S                   2   \n",
       "3                 CA               CA            M                   3   \n",
       "4                 CA               CA            M                   3   \n",
       "\n",
       "   employement_type_n  job_title_n  employee_residence_n  company_location_n  \\\n",
       "0                   2           84                    26                  25   \n",
       "1                   0           66                    75                  70   \n",
       "2                   0           66                    75                  70   \n",
       "3                   2           47                    11                  12   \n",
       "4                   2           47                    11                  12   \n",
       "\n",
       "   company_size_n  \n",
       "0               0  \n",
       "1               2  \n",
       "2               2  \n",
       "3               1  \n",
       "4               1  "
      ]
     },
     "execution_count": 41,
     "metadata": {},
     "output_type": "execute_result"
    }
   ],
   "source": [
    "df.head()"
   ]
  },
  {
   "cell_type": "code",
   "execution_count": 42,
   "metadata": {},
   "outputs": [],
   "source": [
    "df.drop(['experience_level',\"employment_type\",'job_title','employee_residence','company_location','company_size'],axis = 1, inplace = True)"
   ]
  },
  {
   "cell_type": "code",
   "execution_count": 43,
   "metadata": {},
   "outputs": [
    {
     "data": {
      "text/html": [
       "<div>\n",
       "<style scoped>\n",
       "    .dataframe tbody tr th:only-of-type {\n",
       "        vertical-align: middle;\n",
       "    }\n",
       "\n",
       "    .dataframe tbody tr th {\n",
       "        vertical-align: top;\n",
       "    }\n",
       "\n",
       "    .dataframe thead th {\n",
       "        text-align: right;\n",
       "    }\n",
       "</style>\n",
       "<table border=\"1\" class=\"dataframe\">\n",
       "  <thead>\n",
       "    <tr style=\"text-align: right;\">\n",
       "      <th></th>\n",
       "      <th>experience_level_n</th>\n",
       "      <th>employement_type_n</th>\n",
       "      <th>job_title_n</th>\n",
       "      <th>employee_residence_n</th>\n",
       "      <th>company_location_n</th>\n",
       "      <th>company_size_n</th>\n",
       "    </tr>\n",
       "  </thead>\n",
       "  <tbody>\n",
       "    <tr>\n",
       "      <th>0</th>\n",
       "      <td>3</td>\n",
       "      <td>2</td>\n",
       "      <td>84</td>\n",
       "      <td>26</td>\n",
       "      <td>25</td>\n",
       "      <td>0</td>\n",
       "    </tr>\n",
       "    <tr>\n",
       "      <th>1</th>\n",
       "      <td>2</td>\n",
       "      <td>0</td>\n",
       "      <td>66</td>\n",
       "      <td>75</td>\n",
       "      <td>70</td>\n",
       "      <td>2</td>\n",
       "    </tr>\n",
       "    <tr>\n",
       "      <th>2</th>\n",
       "      <td>2</td>\n",
       "      <td>0</td>\n",
       "      <td>66</td>\n",
       "      <td>75</td>\n",
       "      <td>70</td>\n",
       "      <td>2</td>\n",
       "    </tr>\n",
       "    <tr>\n",
       "      <th>3</th>\n",
       "      <td>3</td>\n",
       "      <td>2</td>\n",
       "      <td>47</td>\n",
       "      <td>11</td>\n",
       "      <td>12</td>\n",
       "      <td>1</td>\n",
       "    </tr>\n",
       "    <tr>\n",
       "      <th>4</th>\n",
       "      <td>3</td>\n",
       "      <td>2</td>\n",
       "      <td>47</td>\n",
       "      <td>11</td>\n",
       "      <td>12</td>\n",
       "      <td>1</td>\n",
       "    </tr>\n",
       "  </tbody>\n",
       "</table>\n",
       "</div>"
      ],
      "text/plain": [
       "   experience_level_n  employement_type_n  job_title_n  employee_residence_n  \\\n",
       "0                   3                   2           84                    26   \n",
       "1                   2                   0           66                    75   \n",
       "2                   2                   0           66                    75   \n",
       "3                   3                   2           47                    11   \n",
       "4                   3                   2           47                    11   \n",
       "\n",
       "   company_location_n  company_size_n  \n",
       "0                  25               0  \n",
       "1                  70               2  \n",
       "2                  70               2  \n",
       "3                  12               1  \n",
       "4                  12               1  "
      ]
     },
     "execution_count": 43,
     "metadata": {},
     "output_type": "execute_result"
    }
   ],
   "source": [
    "df.head()"
   ]
  },
  {
   "cell_type": "code",
   "execution_count": 44,
   "metadata": {},
   "outputs": [],
   "source": [
    "from sklearn.feature_selection import SelectKBest\n",
    "from sklearn.feature_selection import chi2\n"
   ]
  },
  {
   "cell_type": "code",
   "execution_count": 47,
   "metadata": {},
   "outputs": [],
   "source": [
    "X = df.values\n",
    "y = target_df.values"
   ]
  },
  {
   "cell_type": "code",
   "execution_count": 49,
   "metadata": {},
   "outputs": [],
   "source": [
    "f = pd.read_csv(path)"
   ]
  },
  {
   "cell_type": "code",
   "execution_count": 50,
   "metadata": {},
   "outputs": [
    {
     "data": {
      "text/plain": [
       "Index(['work_year', 'experience_level', 'employment_type', 'job_title',\n",
       "       'salary', 'salary_currency', 'salary_in_usd', 'employee_residence',\n",
       "       'remote_ratio', 'company_location', 'company_size'],\n",
       "      dtype='object')"
      ]
     },
     "execution_count": 50,
     "metadata": {},
     "output_type": "execute_result"
    }
   ],
   "source": [
    "f.columns"
   ]
  },
  {
   "cell_type": "code",
   "execution_count": 52,
   "metadata": {},
   "outputs": [
    {
     "data": {
      "text/plain": [
       "93"
      ]
     },
     "execution_count": 52,
     "metadata": {},
     "output_type": "execute_result"
    }
   ],
   "source": [
    "len(f['job_title'].unique())"
   ]
  },
  {
   "cell_type": "code",
   "execution_count": 53,
   "metadata": {},
   "outputs": [],
   "source": [
    "df.drop([\"job_title_n\",\"employee_residence_n\",\"company_location_n\"],axis = 1,inplace = True)"
   ]
  },
  {
   "cell_type": "code",
   "execution_count": 54,
   "metadata": {},
   "outputs": [
    {
     "data": {
      "text/html": [
       "<div>\n",
       "<style scoped>\n",
       "    .dataframe tbody tr th:only-of-type {\n",
       "        vertical-align: middle;\n",
       "    }\n",
       "\n",
       "    .dataframe tbody tr th {\n",
       "        vertical-align: top;\n",
       "    }\n",
       "\n",
       "    .dataframe thead th {\n",
       "        text-align: right;\n",
       "    }\n",
       "</style>\n",
       "<table border=\"1\" class=\"dataframe\">\n",
       "  <thead>\n",
       "    <tr style=\"text-align: right;\">\n",
       "      <th></th>\n",
       "      <th>experience_level_n</th>\n",
       "      <th>employement_type_n</th>\n",
       "      <th>company_size_n</th>\n",
       "    </tr>\n",
       "  </thead>\n",
       "  <tbody>\n",
       "    <tr>\n",
       "      <th>0</th>\n",
       "      <td>3</td>\n",
       "      <td>2</td>\n",
       "      <td>0</td>\n",
       "    </tr>\n",
       "    <tr>\n",
       "      <th>1</th>\n",
       "      <td>2</td>\n",
       "      <td>0</td>\n",
       "      <td>2</td>\n",
       "    </tr>\n",
       "    <tr>\n",
       "      <th>2</th>\n",
       "      <td>2</td>\n",
       "      <td>0</td>\n",
       "      <td>2</td>\n",
       "    </tr>\n",
       "    <tr>\n",
       "      <th>3</th>\n",
       "      <td>3</td>\n",
       "      <td>2</td>\n",
       "      <td>1</td>\n",
       "    </tr>\n",
       "    <tr>\n",
       "      <th>4</th>\n",
       "      <td>3</td>\n",
       "      <td>2</td>\n",
       "      <td>1</td>\n",
       "    </tr>\n",
       "  </tbody>\n",
       "</table>\n",
       "</div>"
      ],
      "text/plain": [
       "   experience_level_n  employement_type_n  company_size_n\n",
       "0                   3                   2               0\n",
       "1                   2                   0               2\n",
       "2                   2                   0               2\n",
       "3                   3                   2               1\n",
       "4                   3                   2               1"
      ]
     },
     "execution_count": 54,
     "metadata": {},
     "output_type": "execute_result"
    }
   ],
   "source": [
    "df.head()"
   ]
  },
  {
   "cell_type": "code",
   "execution_count": 55,
   "metadata": {},
   "outputs": [
    {
     "data": {
      "text/plain": [
       "0     85847\n",
       "1     30000\n",
       "2     25500\n",
       "3    175000\n",
       "4    120000\n",
       "Name: salary_in_usd, dtype: int64"
      ]
     },
     "execution_count": 55,
     "metadata": {},
     "output_type": "execute_result"
    }
   ],
   "source": [
    "target_df.head()"
   ]
  },
  {
   "cell_type": "code",
   "execution_count": 56,
   "metadata": {},
   "outputs": [],
   "source": [
    "from sklearn.linear_model import LinearRegression\n",
    "le = LinearRegression()"
   ]
  },
  {
   "cell_type": "code",
   "execution_count": 57,
   "metadata": {},
   "outputs": [],
   "source": [
    "from sklearn.model_selection import train_test_split\n",
    "X_train,X_test,y_train,y_test = train_test_split(df.values,target_df.values,test_size=0.2, random_state=2)"
   ]
  },
  {
   "cell_type": "code",
   "execution_count": 61,
   "metadata": {},
   "outputs": [
    {
     "data": {
      "text/plain": [
       "LinearRegression()"
      ]
     },
     "execution_count": 61,
     "metadata": {},
     "output_type": "execute_result"
    }
   ],
   "source": [
    "le.fit(X_train,y_train)"
   ]
  },
  {
   "cell_type": "code",
   "execution_count": 62,
   "metadata": {
    "collapsed": true
   },
   "outputs": [
    {
     "data": {
      "text/plain": [
       "array([149784.85, 149784.85, 126978.32, 124157.93, 149784.85, 149784.85,\n",
       "       126978.32, 149784.85, 149784.85,  81365.25, 152605.24, 149784.85,\n",
       "        81365.25, 149784.85,  81365.25, 149784.85, 149784.85, 126978.32,\n",
       "       149784.85, 149784.85, 149784.85, 129798.71, 149784.85,  84185.64,\n",
       "       149784.85, 149784.85, 149784.85, 149784.85, 149784.85, 149784.85,\n",
       "       149784.85,  81365.25, 149784.85, 126978.32, 152605.24, 149784.85,\n",
       "        84185.64, 126978.32, 129798.71, 149784.85, 126978.32, 149784.85,\n",
       "       149784.85, 126978.32, 149784.85, 149784.85, 149784.85, 126978.32,\n",
       "       126978.32, 149784.85, 149784.85, 104171.79, 149784.85, 149784.85,\n",
       "       149784.85, 149784.85, 126978.32, 149784.85, 149784.85, 149784.85,\n",
       "       149784.85, 126978.32, 152605.24, 152605.24,  81365.25, 149784.85,\n",
       "       149784.85, 126978.32, 149784.85, 149784.85, 149784.85, 126978.32,\n",
       "       135640.69, 104171.79, 106992.18, 149784.85,  81365.25, 149784.85,\n",
       "       149784.85, 149784.85, 149784.85, 149784.85, 149784.85, 149784.85,\n",
       "       149784.85, 126978.32,  81365.25, 146964.46, 149784.85, 149784.85,\n",
       "       152605.24,  84185.64, 126978.32, 149784.85, 126978.32, 149784.85,\n",
       "        81365.25, 124157.93, 149784.85, 126978.32, 152605.24, 126978.32,\n",
       "       149784.85, 149784.85,  84185.64, 126978.32, 149784.85, 149784.85,\n",
       "       149784.85, 126978.32, 149784.85, 149784.85, 149784.85, 129798.71,\n",
       "       149784.85, 149784.85, 149784.85,  81365.25, 149784.85, 149784.85,\n",
       "       149784.85, 149784.85, 126978.32, 149784.85, 149784.85, 149784.85,\n",
       "       126978.32, 149784.85, 126978.32, 149784.85, 149784.85, 126978.32,\n",
       "       152605.24, 126978.32, 126978.32, 149784.85, 149784.85, 149784.85,\n",
       "       149784.85, 149784.85, 146964.46, 149784.85, 149784.85,  87207.23,\n",
       "        81365.25, 146964.46, 106992.18, 126978.32, 146964.46, 149784.85,\n",
       "       126978.32, 149784.85, 149784.85, 149784.85,  81365.25, 149784.85,\n",
       "       149784.85, 149784.85, 149784.85, 149784.85, 126978.32, 126978.32,\n",
       "       149784.85, 149784.85, 149784.85, 149784.85, 126978.32, 149784.85,\n",
       "       149784.85, 149784.85, 149784.85, 149784.85, 126978.32, 149784.85,\n",
       "       149784.85,  84185.64, 149784.85, 126978.32, 126978.32, 149784.85,\n",
       "       149784.85, 149784.85, 149784.85, 149784.85, 124157.93,  81365.25,\n",
       "       149784.85, 126978.32, 126978.32, 126978.32, 149784.85, 149784.85,\n",
       "       126978.32, 149784.85, 149784.85, 149784.85, 126978.32, 152605.24,\n",
       "       149784.85, 149784.85, 146964.46, 149784.85, 152605.24, 149784.85,\n",
       "       149784.85, 149784.85, 149784.85, 149784.85, 149784.85, 149784.85,\n",
       "       126978.32, 149784.85, 149784.85,  81365.25, 149784.85, 149784.85,\n",
       "       152605.24, 129798.71, 126978.32, 149784.85, 149784.85,  84185.64,\n",
       "       149784.85, 149784.85,  78544.86, 149784.85, 129798.71, 149784.85,\n",
       "       149784.85, 149784.85, 129798.71, 149784.85, 149784.85, 124157.93,\n",
       "       149784.85, 149784.85, 149784.85, 126978.32, 126978.32, 149784.85,\n",
       "       149784.85, 126978.32, 149784.85, 129798.71, 149784.85, 126978.32,\n",
       "       149784.85, 149784.85, 149784.85,  81365.25, 149784.85, 149784.85,\n",
       "        84185.64, 149784.85, 152605.24, 126978.32, 104171.79, 152605.24,\n",
       "       126978.32, 149784.85, 126978.32, 149784.85, 149784.85, 149784.85,\n",
       "        81365.25,  78544.86,  81365.25, 124157.93, 149784.85,  84185.64,\n",
       "       104171.79, 149784.85,  81365.25, 149784.85, 126978.32, 126978.32,\n",
       "       126978.32, 149784.85, 149784.85, 149784.85, 149784.85, 149784.85,\n",
       "       126978.32, 126978.32, 104171.79, 152605.24, 126978.32, 152605.24,\n",
       "       149784.85, 149784.85,  81365.25, 149784.85, 149784.85, 129798.71,\n",
       "       149784.85, 149784.85, 126978.32, 149784.85, 104171.79, 152605.24,\n",
       "       126978.32, 126978.32,  81365.25, 149784.85, 149784.85, 149784.85,\n",
       "       129798.71, 126978.32, 149784.85, 149784.85, 149784.85, 149784.85,\n",
       "       152605.24, 149784.85, 149784.85, 149784.85, 149784.85,  84185.64,\n",
       "       149784.85, 149784.85, 126978.32, 124157.93, 126978.32, 126978.32,\n",
       "       126978.32, 129798.71, 149784.85, 126978.32, 126978.32, 126978.32,\n",
       "       126978.32, 124157.93,  81365.25, 126978.32, 149784.85, 126978.32,\n",
       "       115294.36, 149784.85, 104171.79, 126978.32, 149784.85, 149784.85,\n",
       "       149784.85, 149784.85, 129798.71, 149784.85, 149784.85, 126978.32,\n",
       "       149784.85, 126978.32, 149784.85, 149784.85, 149784.85, 126978.32,\n",
       "        81365.25, 149784.85, 149784.85, 126978.32, 149784.85, 146964.46,\n",
       "       149784.85, 149784.85, 146964.46, 126978.32, 149784.85, 126978.32,\n",
       "       152605.24, 149784.85, 149784.85, 149784.85, 104171.79, 126978.32,\n",
       "       149784.85, 149784.85, 152605.24,  81365.25, 149784.85,  84185.64,\n",
       "        72702.89,  84185.64, 126978.32, 149784.85, 149784.85, 149784.85,\n",
       "       104171.79, 126978.32, 126978.32, 149784.85,  78544.86, 126978.32,\n",
       "       149784.85, 149784.85, 126978.32, 126978.32,  81365.25,  75523.28,\n",
       "       149784.85, 149784.85, 126978.32, 149784.85, 129798.71, 126978.32,\n",
       "       149784.85,  89667.44, 149784.85, 149784.85,  78544.86,  84185.64,\n",
       "       126978.32, 149784.85, 126978.32, 149784.85, 104171.79, 149784.85,\n",
       "       149784.85, 126978.32, 149784.85, 126978.32, 143942.88, 149784.85,\n",
       "       149784.85, 149784.85, 152605.24, 149784.85, 149784.85, 126978.32,\n",
       "       126978.32, 126978.32, 149784.85, 149784.85, 152605.24, 126978.32,\n",
       "       126978.32, 152605.24,  81365.25, 126978.32, 149784.85, 149784.85,\n",
       "        81365.25, 149784.85, 149784.85, 126978.32, 126978.32, 149784.85,\n",
       "       146964.46,  84185.64, 152605.24, 149784.85, 149784.85, 152605.24,\n",
       "       149784.85, 149784.85, 126978.32, 146964.46, 152605.24,  81365.25,\n",
       "       149784.85, 149784.85, 129798.71, 152605.24, 152605.24, 104171.79,\n",
       "       149784.85, 126978.32, 149784.85, 149784.85, 149784.85, 126978.32,\n",
       "       126978.32, 149784.85, 149784.85, 149784.85, 149784.85, 149784.85,\n",
       "       149784.85, 149784.85, 149784.85, 149784.85, 149784.85, 126978.32,\n",
       "       149784.85, 129798.71, 126978.32, 149784.85, 126978.32, 126978.32,\n",
       "       126978.32, 149784.85, 126978.32, 149784.85, 126978.32, 126978.32,\n",
       "       149784.85, 126978.32, 149784.85, 149784.85, 126978.32,  69681.3 ,\n",
       "       126978.32, 149784.85, 126978.32, 104171.79, 149784.85, 149784.85,\n",
       "       149784.85, 149784.85, 152605.24, 149784.85, 149784.85, 149784.85,\n",
       "       124157.93, 149784.85,  87207.23, 149784.85, 149784.85, 149784.85,\n",
       "       149784.85, 149784.85,  81365.25, 126978.32, 152605.24, 149784.85,\n",
       "       149784.85, 149784.85, 149784.85, 146964.46, 152605.24, 149784.85,\n",
       "       152605.24, 149784.85, 152605.24, 149784.85, 152605.24, 149784.85,\n",
       "       149784.85, 149784.85, 149784.85, 149784.85, 152605.24, 149784.85,\n",
       "       149784.85, 149784.85, 152605.24,  81365.25, 149784.85, 149784.85,\n",
       "       149784.85, 149784.85, 149784.85, 149784.85, 149784.85, 129798.71,\n",
       "       149784.85, 149784.85, 124157.93, 149784.85, 149784.85, 149784.85,\n",
       "       149784.85, 152605.24, 152605.24, 149784.85, 104171.79,  81365.25,\n",
       "       149784.85, 124157.93, 149784.85, 149784.85, 129798.71, 149784.85,\n",
       "       152605.24, 146964.46, 149784.85, 149784.85, 149784.85, 149784.85,\n",
       "       149784.85, 149784.85,  81365.25, 149784.85, 149784.85, 149784.85,\n",
       "       152605.24, 149784.85, 149784.85, 149784.85, 149784.85, 149784.85,\n",
       "       149784.85, 126978.32, 149784.85, 149784.85, 149784.85, 149784.85,\n",
       "       126978.32, 149784.85, 152605.24,  81365.25, 152605.24, 149784.85,\n",
       "       152605.24, 126978.32, 149784.85, 129798.71, 126978.32, 149784.85,\n",
       "       149784.85, 149784.85, 126978.32, 152605.24, 149784.85, 149784.85,\n",
       "       104171.79, 149784.85, 149784.85, 149784.85, 126978.32, 149784.85,\n",
       "       149784.85, 126978.32, 149784.85, 149784.85, 126978.32, 126978.32,\n",
       "       149784.85, 149784.85,  84185.64, 126978.32, 152605.24, 126978.32,\n",
       "       149784.85,  81365.25, 126978.32,  84185.64, 149784.85, 149784.85,\n",
       "       152605.24, 149784.85, 149784.85, 149784.85, 129798.71, 149784.85,\n",
       "       149784.85, 149784.85,  81365.25, 149784.85, 149784.85,  78544.86,\n",
       "       149784.85, 126978.32,  81365.25, 149784.85, 149784.85, 126978.32,\n",
       "       149784.85, 129798.71, 149784.85, 149784.85, 149784.85, 149784.85,\n",
       "       152605.24, 129798.71, 126978.32,  81365.25, 149784.85, 149784.85,\n",
       "       126978.32, 149784.85, 149784.85, 129798.71, 149784.85, 149784.85,\n",
       "        81365.25, 149784.85, 126978.32, 126978.32, 126978.32, 149784.85,\n",
       "       149784.85, 149784.85, 149784.85, 149784.85, 126978.32, 126978.32,\n",
       "        84185.64, 149784.85, 149784.85, 149784.85, 149784.85, 149784.85,\n",
       "       149784.85, 126978.32, 152605.24, 149784.85,  81365.25, 149784.85,\n",
       "       129798.71, 149784.85, 152605.24, 149784.85, 149784.85, 126978.32,\n",
       "        81365.25,  84185.64, 149784.85, 149784.85, 149784.85, 149784.85,\n",
       "       149784.85, 149784.85, 149784.85, 152605.24, 152605.24, 149784.85,\n",
       "       149784.85,  81365.25, 149784.85, 149784.85, 146964.46, 149784.85,\n",
       "       149784.85, 149784.85, 129798.71, 149784.85, 149784.85, 149784.85,\n",
       "       149784.85, 149784.85, 149784.85, 124157.93, 152605.24, 126978.32,\n",
       "       149784.85, 149784.85, 149784.85, 149784.85, 149784.85, 149784.85,\n",
       "       104171.79, 104171.79, 149784.85, 149784.85, 149784.85, 149784.85,\n",
       "       149784.85, 126978.32, 149784.85, 149784.85, 149784.85, 126978.32,\n",
       "       126978.32])"
      ]
     },
     "execution_count": 62,
     "metadata": {},
     "output_type": "execute_result"
    }
   ],
   "source": [
    "le.predict(X_test)"
   ]
  },
  {
   "cell_type": "code",
   "execution_count": 63,
   "metadata": {},
   "outputs": [
    {
     "data": {
      "text/plain": [
       "0.11142549860227557"
      ]
     },
     "execution_count": 63,
     "metadata": {},
     "output_type": "execute_result"
    }
   ],
   "source": [
    "le.score(X_test,y_test)"
   ]
  },
  {
   "cell_type": "code",
   "execution_count": 64,
   "metadata": {},
   "outputs": [
    {
     "data": {
      "text/plain": [
       "array([152605.24])"
      ]
     },
     "execution_count": 64,
     "metadata": {},
     "output_type": "execute_result"
    }
   ],
   "source": [
    "le.predict([[3,2,0]])"
   ]
  },
  {
   "cell_type": "code",
   "execution_count": 65,
   "metadata": {},
   "outputs": [
    {
     "data": {
      "text/plain": [
       "array([[2, 2, 1],\n",
       "       [3, 2, 1],\n",
       "       [0, 2, 1],\n",
       "       ...,\n",
       "       [3, 2, 1],\n",
       "       [3, 2, 1],\n",
       "       [2, 2, 1]])"
      ]
     },
     "execution_count": 65,
     "metadata": {},
     "output_type": "execute_result"
    }
   ],
   "source": [
    "X_train"
   ]
  },
  {
   "cell_type": "code",
   "execution_count": 66,
   "metadata": {},
   "outputs": [
    {
     "data": {
      "text/plain": [
       "array([141300, 153600,  22892, ...,  99000, 129300,  61566], dtype=int64)"
      ]
     },
     "execution_count": 66,
     "metadata": {},
     "output_type": "execute_result"
    }
   ],
   "source": [
    "y_train"
   ]
  },
  {
   "cell_type": "code",
   "execution_count": 71,
   "metadata": {},
   "outputs": [],
   "source": [
    "from sklearn import preprocessing\n",
    "# normalize the data attributes\n",
    "target_df_norm = preprocessing.scale(target_df.values)\n"
   ]
  },
  {
   "cell_type": "code",
   "execution_count": 72,
   "metadata": {},
   "outputs": [],
   "source": [
    "from sklearn.linear_model import LinearRegression\n",
    "le = LinearRegression()"
   ]
  },
  {
   "cell_type": "code",
   "execution_count": 75,
   "metadata": {},
   "outputs": [],
   "source": [
    "from sklearn.model_selection import train_test_split\n",
    "X_train,X_test,y_train,y_test = train_test_split(df.values,target_df_norm,test_size=0.2, random_state=2)"
   ]
  },
  {
   "cell_type": "code",
   "execution_count": 76,
   "metadata": {},
   "outputs": [
    {
     "data": {
      "text/plain": [
       "array([ 0.06,  0.25, -1.82, ..., -0.61, -0.13, -1.21])"
      ]
     },
     "execution_count": 76,
     "metadata": {},
     "output_type": "execute_result"
    }
   ],
   "source": [
    "y_train"
   ]
  },
  {
   "cell_type": "code",
   "execution_count": 77,
   "metadata": {},
   "outputs": [
    {
     "data": {
      "text/plain": [
       "LinearRegression()"
      ]
     },
     "execution_count": 77,
     "metadata": {},
     "output_type": "execute_result"
    }
   ],
   "source": [
    "le.fit(X_train,y_train)"
   ]
  },
  {
   "cell_type": "code",
   "execution_count": 78,
   "metadata": {
    "collapsed": true
   },
   "outputs": [
    {
     "data": {
      "text/plain": [
       "array([ 0.19,  0.19, -0.17, -0.21,  0.19,  0.19, -0.17,  0.19,  0.19,\n",
       "       -0.89,  0.24,  0.19, -0.89,  0.19, -0.89,  0.19,  0.19, -0.17,\n",
       "        0.19,  0.19,  0.19, -0.12,  0.19, -0.85,  0.19,  0.19,  0.19,\n",
       "        0.19,  0.19,  0.19,  0.19, -0.89,  0.19, -0.17,  0.24,  0.19,\n",
       "       -0.85, -0.17, -0.12,  0.19, -0.17,  0.19,  0.19, -0.17,  0.19,\n",
       "        0.19,  0.19, -0.17, -0.17,  0.19,  0.19, -0.53,  0.19,  0.19,\n",
       "        0.19,  0.19, -0.17,  0.19,  0.19,  0.19,  0.19, -0.17,  0.24,\n",
       "        0.24, -0.89,  0.19,  0.19, -0.17,  0.19,  0.19,  0.19, -0.17,\n",
       "       -0.03, -0.53, -0.49,  0.19, -0.89,  0.19,  0.19,  0.19,  0.19,\n",
       "        0.19,  0.19,  0.19,  0.19, -0.17, -0.89,  0.15,  0.19,  0.19,\n",
       "        0.24, -0.85, -0.17,  0.19, -0.17,  0.19, -0.89, -0.21,  0.19,\n",
       "       -0.17,  0.24, -0.17,  0.19,  0.19, -0.85, -0.17,  0.19,  0.19,\n",
       "        0.19, -0.17,  0.19,  0.19,  0.19, -0.12,  0.19,  0.19,  0.19,\n",
       "       -0.89,  0.19,  0.19,  0.19,  0.19, -0.17,  0.19,  0.19,  0.19,\n",
       "       -0.17,  0.19, -0.17,  0.19,  0.19, -0.17,  0.24, -0.17, -0.17,\n",
       "        0.19,  0.19,  0.19,  0.19,  0.19,  0.15,  0.19,  0.19, -0.8 ,\n",
       "       -0.89,  0.15, -0.49, -0.17,  0.15,  0.19, -0.17,  0.19,  0.19,\n",
       "        0.19, -0.89,  0.19,  0.19,  0.19,  0.19,  0.19, -0.17, -0.17,\n",
       "        0.19,  0.19,  0.19,  0.19, -0.17,  0.19,  0.19,  0.19,  0.19,\n",
       "        0.19, -0.17,  0.19,  0.19, -0.85,  0.19, -0.17, -0.17,  0.19,\n",
       "        0.19,  0.19,  0.19,  0.19, -0.21, -0.89,  0.19, -0.17, -0.17,\n",
       "       -0.17,  0.19,  0.19, -0.17,  0.19,  0.19,  0.19, -0.17,  0.24,\n",
       "        0.19,  0.19,  0.15,  0.19,  0.24,  0.19,  0.19,  0.19,  0.19,\n",
       "        0.19,  0.19,  0.19, -0.17,  0.19,  0.19, -0.89,  0.19,  0.19,\n",
       "        0.24, -0.12, -0.17,  0.19,  0.19, -0.85,  0.19,  0.19, -0.94,\n",
       "        0.19, -0.12,  0.19,  0.19,  0.19, -0.12,  0.19,  0.19, -0.21,\n",
       "        0.19,  0.19,  0.19, -0.17, -0.17,  0.19,  0.19, -0.17,  0.19,\n",
       "       -0.12,  0.19, -0.17,  0.19,  0.19,  0.19, -0.89,  0.19,  0.19,\n",
       "       -0.85,  0.19,  0.24, -0.17, -0.53,  0.24, -0.17,  0.19, -0.17,\n",
       "        0.19,  0.19,  0.19, -0.89, -0.94, -0.89, -0.21,  0.19, -0.85,\n",
       "       -0.53,  0.19, -0.89,  0.19, -0.17, -0.17, -0.17,  0.19,  0.19,\n",
       "        0.19,  0.19,  0.19, -0.17, -0.17, -0.53,  0.24, -0.17,  0.24,\n",
       "        0.19,  0.19, -0.89,  0.19,  0.19, -0.12,  0.19,  0.19, -0.17,\n",
       "        0.19, -0.53,  0.24, -0.17, -0.17, -0.89,  0.19,  0.19,  0.19,\n",
       "       -0.12, -0.17,  0.19,  0.19,  0.19,  0.19,  0.24,  0.19,  0.19,\n",
       "        0.19,  0.19, -0.85,  0.19,  0.19, -0.17, -0.21, -0.17, -0.17,\n",
       "       -0.17, -0.12,  0.19, -0.17, -0.17, -0.17, -0.17, -0.21, -0.89,\n",
       "       -0.17,  0.19, -0.17, -0.35,  0.19, -0.53, -0.17,  0.19,  0.19,\n",
       "        0.19,  0.19, -0.12,  0.19,  0.19, -0.17,  0.19, -0.17,  0.19,\n",
       "        0.19,  0.19, -0.17, -0.89,  0.19,  0.19, -0.17,  0.19,  0.15,\n",
       "        0.19,  0.19,  0.15, -0.17,  0.19, -0.17,  0.24,  0.19,  0.19,\n",
       "        0.19, -0.53, -0.17,  0.19,  0.19,  0.24, -0.89,  0.19, -0.85,\n",
       "       -1.03, -0.85, -0.17,  0.19,  0.19,  0.19, -0.53, -0.17, -0.17,\n",
       "        0.19, -0.94, -0.17,  0.19,  0.19, -0.17, -0.17, -0.89, -0.98,\n",
       "        0.19,  0.19, -0.17,  0.19, -0.12, -0.17,  0.19, -0.76,  0.19,\n",
       "        0.19, -0.94, -0.85, -0.17,  0.19, -0.17,  0.19, -0.53,  0.19,\n",
       "        0.19, -0.17,  0.19, -0.17,  0.1 ,  0.19,  0.19,  0.19,  0.24,\n",
       "        0.19,  0.19, -0.17, -0.17, -0.17,  0.19,  0.19,  0.24, -0.17,\n",
       "       -0.17,  0.24, -0.89, -0.17,  0.19,  0.19, -0.89,  0.19,  0.19,\n",
       "       -0.17, -0.17,  0.19,  0.15, -0.85,  0.24,  0.19,  0.19,  0.24,\n",
       "        0.19,  0.19, -0.17,  0.15,  0.24, -0.89,  0.19,  0.19, -0.12,\n",
       "        0.24,  0.24, -0.53,  0.19, -0.17,  0.19,  0.19,  0.19, -0.17,\n",
       "       -0.17,  0.19,  0.19,  0.19,  0.19,  0.19,  0.19,  0.19,  0.19,\n",
       "        0.19,  0.19, -0.17,  0.19, -0.12, -0.17,  0.19, -0.17, -0.17,\n",
       "       -0.17,  0.19, -0.17,  0.19, -0.17, -0.17,  0.19, -0.17,  0.19,\n",
       "        0.19, -0.17, -1.08, -0.17,  0.19, -0.17, -0.53,  0.19,  0.19,\n",
       "        0.19,  0.19,  0.24,  0.19,  0.19,  0.19, -0.21,  0.19, -0.8 ,\n",
       "        0.19,  0.19,  0.19,  0.19,  0.19, -0.89, -0.17,  0.24,  0.19,\n",
       "        0.19,  0.19,  0.19,  0.15,  0.24,  0.19,  0.24,  0.19,  0.24,\n",
       "        0.19,  0.24,  0.19,  0.19,  0.19,  0.19,  0.19,  0.24,  0.19,\n",
       "        0.19,  0.19,  0.24, -0.89,  0.19,  0.19,  0.19,  0.19,  0.19,\n",
       "        0.19,  0.19, -0.12,  0.19,  0.19, -0.21,  0.19,  0.19,  0.19,\n",
       "        0.19,  0.24,  0.24,  0.19, -0.53, -0.89,  0.19, -0.21,  0.19,\n",
       "        0.19, -0.12,  0.19,  0.24,  0.15,  0.19,  0.19,  0.19,  0.19,\n",
       "        0.19,  0.19, -0.89,  0.19,  0.19,  0.19,  0.24,  0.19,  0.19,\n",
       "        0.19,  0.19,  0.19,  0.19, -0.17,  0.19,  0.19,  0.19,  0.19,\n",
       "       -0.17,  0.19,  0.24, -0.89,  0.24,  0.19,  0.24, -0.17,  0.19,\n",
       "       -0.12, -0.17,  0.19,  0.19,  0.19, -0.17,  0.24,  0.19,  0.19,\n",
       "       -0.53,  0.19,  0.19,  0.19, -0.17,  0.19,  0.19, -0.17,  0.19,\n",
       "        0.19, -0.17, -0.17,  0.19,  0.19, -0.85, -0.17,  0.24, -0.17,\n",
       "        0.19, -0.89, -0.17, -0.85,  0.19,  0.19,  0.24,  0.19,  0.19,\n",
       "        0.19, -0.12,  0.19,  0.19,  0.19, -0.89,  0.19,  0.19, -0.94,\n",
       "        0.19, -0.17, -0.89,  0.19,  0.19, -0.17,  0.19, -0.12,  0.19,\n",
       "        0.19,  0.19,  0.19,  0.24, -0.12, -0.17, -0.89,  0.19,  0.19,\n",
       "       -0.17,  0.19,  0.19, -0.12,  0.19,  0.19, -0.89,  0.19, -0.17,\n",
       "       -0.17, -0.17,  0.19,  0.19,  0.19,  0.19,  0.19, -0.17, -0.17,\n",
       "       -0.85,  0.19,  0.19,  0.19,  0.19,  0.19,  0.19, -0.17,  0.24,\n",
       "        0.19, -0.89,  0.19, -0.12,  0.19,  0.24,  0.19,  0.19, -0.17,\n",
       "       -0.89, -0.85,  0.19,  0.19,  0.19,  0.19,  0.19,  0.19,  0.19,\n",
       "        0.24,  0.24,  0.19,  0.19, -0.89,  0.19,  0.19,  0.15,  0.19,\n",
       "        0.19,  0.19, -0.12,  0.19,  0.19,  0.19,  0.19,  0.19,  0.19,\n",
       "       -0.21,  0.24, -0.17,  0.19,  0.19,  0.19,  0.19,  0.19,  0.19,\n",
       "       -0.53, -0.53,  0.19,  0.19,  0.19,  0.19,  0.19, -0.17,  0.19,\n",
       "        0.19,  0.19, -0.17, -0.17])"
      ]
     },
     "execution_count": 78,
     "metadata": {},
     "output_type": "execute_result"
    }
   ],
   "source": [
    "le.predict(X_test)"
   ]
  },
  {
   "cell_type": "code",
   "execution_count": 79,
   "metadata": {},
   "outputs": [
    {
     "data": {
      "text/plain": [
       "0.1114254986022758"
      ]
     },
     "execution_count": 79,
     "metadata": {},
     "output_type": "execute_result"
    }
   ],
   "source": [
    "le.score(X_test,y_test)"
   ]
  },
  {
   "cell_type": "code",
   "execution_count": null,
   "metadata": {},
   "outputs": [],
   "source": []
  }
 ],
 "metadata": {
  "kernelspec": {
   "display_name": "Python 3",
   "language": "python",
   "name": "python3"
  },
  "language_info": {
   "codemirror_mode": {
    "name": "ipython",
    "version": 3
   },
   "file_extension": ".py",
   "mimetype": "text/x-python",
   "name": "python",
   "nbconvert_exporter": "python",
   "pygments_lexer": "ipython3",
   "version": "3.9.0"
  }
 },
 "nbformat": 4,
 "nbformat_minor": 4
}
